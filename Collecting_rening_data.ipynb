{
 "cells": [
  {
   "cell_type": "code",
   "execution_count": 1,
   "metadata": {},
   "outputs": [],
   "source": [
    "import numpy as np\n",
    "import pandas as pd \n",
    "import random\n",
    "\n",
    "# !pip install cloudscraper\n",
    "import cloudscraper\n",
    "from bs4 import BeautifulSoup as bs\n",
    "\n",
    "import re"
   ]
  },
  {
   "cell_type": "code",
   "execution_count": 2,
   "metadata": {},
   "outputs": [],
   "source": [
    "fields = [ 'Address', 'Area', 'Price','Rent type', 'Bedroom', 'Toilet', 'Floor', 'Furniture','Posting date', 'Expiry date', 'Ad type', 'Ad code']\n",
    "rent_type_rename = ['apartment', 'house', 'luxery_house', 'street_house', 'bedsit', 'shophouse', 'office']\n",
    "rent_type = ['Căn hộ chung cư', 'Nhà riêng', 'Nhà biệt thự, liền kề', 'Nhà mặt phố', 'Nhà trọ, phòng trọ', 'Shophouse nhà phố thương mại', 'Văn phòng']\n",
    "file_name = 'hcm_rental_propertiest.csv'"
   ]
  },
  {
   "cell_type": "code",
   "execution_count": 3,
   "metadata": {},
   "outputs": [],
   "source": [
    "# First page of website\n",
    "url = 'https://batdongsan.com.vn/nha-dat-ban-tp-hcm'\n",
    "\n",
    "# Scraped URL list\n",
    "url_list = []"
   ]
  },
  {
   "cell_type": "code",
   "execution_count": 19,
   "metadata": {},
   "outputs": [],
   "source": [
    "# Scrape data\n",
    "scraper = cloudscraper.create_scraper(delay=30, browser=\"chrome\") \n",
    "content = scraper.get(url)"
   ]
  },
  {
   "cell_type": "code",
   "execution_count": 22,
   "metadata": {},
   "outputs": [],
   "source": [
    "# Get number of page\n",
    "soup = bs(content.text, 'html.parser')\n",
    "num_of_page = soup.find('span', class_='re__hide js__current-page').get('data-total-page')\n",
    "\n",
    "# Get url list in first page\n",
    "a_tags_list = soup.find_all('a', class_='re__unreport')\n",
    "for a_tag in a_tags_list:\n",
    "    url_list.append('https://batdongsan.com.vn/' + a_tag.get('href'))"
   ]
  },
  {
   "cell_type": "code",
   "execution_count": 24,
   "metadata": {},
   "outputs": [
    {
     "name": "stderr",
     "output_type": "stream",
     "text": [
      "C:\\Users\\nk\\AppData\\Local\\Temp\\ipykernel_4816\\2862224655.py:5: MarkupResemblesLocatorWarning: The input looks more like a filename than markup. You may want to open this file and pass the filehandle into Beautiful Soup.\n",
      "  soup = bs(content, 'html.parser')\n"
     ]
    }
   ],
   "source": [
    "# Similarly, let's scrape the rest of the pages \n",
    "page = '/p'\n",
    "for num_page in range(2, int(num_of_page) + 1):\n",
    "    content = scraper.get(url + page + str(num_page)).text\n",
    "    soup = bs(content, 'html.parser')\n",
    "    a_tags_list = soup.find_all('a', class_='re__unreport')\n",
    "    for a_tag in a_tags_list:\n",
    "        url_list.append('https://batdongsan.com.vn/' + a_tag.get('href'))"
   ]
  },
  {
   "cell_type": "code",
   "execution_count": 25,
   "metadata": {},
   "outputs": [],
   "source": [
    "# Save scraped urls in file \n",
    "file_name = 'rental_properties_url.txt'\n",
    "\n",
    "with open(file_name, 'w') as file:\n",
    "    for line in url_list:\n",
    "        file.write(line + \"\\n\")"
   ]
  }
 ],
 "metadata": {
  "kernelspec": {
   "display_name": "min_ds-env",
   "language": "python",
   "name": "python3"
  },
  "language_info": {
   "codemirror_mode": {
    "name": "ipython",
    "version": 3
   },
   "file_extension": ".py",
   "mimetype": "text/x-python",
   "name": "python",
   "nbconvert_exporter": "python",
   "pygments_lexer": "ipython3",
   "version": "3.11.5"
  }
 },
 "nbformat": 4,
 "nbformat_minor": 2
}
