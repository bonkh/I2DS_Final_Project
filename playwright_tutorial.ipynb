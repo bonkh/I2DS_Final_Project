{
 "cells": [
  {
   "cell_type": "code",
   "execution_count": 2,
   "metadata": {},
   "outputs": [
    {
     "name": "stdout",
     "output_type": "stream",
     "text": [
      "Requirement already satisfied: playwright in c:\\users\\nk\\anaconda3\\envs\\min_ds-env\\lib\\site-packages (1.40.0)\n",
      "Requirement already satisfied: greenlet==3.0.1 in c:\\users\\nk\\anaconda3\\envs\\min_ds-env\\lib\\site-packages (from playwright) (3.0.1)\n",
      "Requirement already satisfied: pyee==11.0.1 in c:\\users\\nk\\anaconda3\\envs\\min_ds-env\\lib\\site-packages (from playwright) (11.0.1)\n",
      "Requirement already satisfied: typing-extensions in c:\\users\\nk\\anaconda3\\envs\\min_ds-env\\lib\\site-packages (from pyee==11.0.1->playwright) (4.8.0)\n",
      "Downloading Chromium 120.0.6099.28 (playwright build v1091)\u001b[2m from https://playwright.azureedge.net/builds/chromium/1091/chromium-win64.zip\u001b[22m\n",
      "|                                                                                |   0% of 122 Mb\n",
      "|■■■■■■■■                                                                        |  10% of 122 Mb\n",
      "|■■■■■■■■■■■■■■■■                                                                |  20% of 122 Mb\n",
      "|■■■■■■■■■■■■■■■■■■■■■■■■                                                        |  30% of 122 Mb\n",
      "|■■■■■■■■■■■■■■■■■■■■■■■■■■■■■■■■                                                |  40% of 122 Mb\n",
      "|■■■■■■■■■■■■■■■■■■■■■■■■■■■■■■■■■■■■■■■■                                        |  50% of 122 Mb\n",
      "|■■■■■■■■■■■■■■■■■■■■■■■■■■■■■■■■■■■■■■■■■■■■■■■■                                |  60% of 122 Mb\n",
      "|■■■■■■■■■■■■■■■■■■■■■■■■■■■■■■■■■■■■■■■■■■■■■■■■■■■■■■■■                        |  70% of 122 Mb\n",
      "|■■■■■■■■■■■■■■■■■■■■■■■■■■■■■■■■■■■■■■■■■■■■■■■■■■■■■■■■■■■■■■■■                |  80% of 122 Mb\n",
      "|■■■■■■■■■■■■■■■■■■■■■■■■■■■■■■■■■■■■■■■■■■■■■■■■■■■■■■■■■■■■■■■■■■■■■■■■        |  90% of 122 Mb\n",
      "|■■■■■■■■■■■■■■■■■■■■■■■■■■■■■■■■■■■■■■■■■■■■■■■■■■■■■■■■■■■■■■■■■■■■■■■■■■■■■■■■| 100% of 122 Mb\n",
      "Chromium 120.0.6099.28 (playwright build v1091) downloaded to C:\\Users\\nk\\AppData\\Local\\ms-playwright\\chromium-1091\n",
      "Downloading FFMPEG playwright build v1009\u001b[2m from https://playwright.azureedge.net/builds/ffmpeg/1009/ffmpeg-win64.zip\u001b[22m\n",
      "|                                                                                |   1% of 1.4 Mb\n",
      "|■■■■■■■■                                                                        |  10% of 1.4 Mb\n",
      "|■■■■■■■■■■■■■■■■                                                                |  20% of 1.4 Mb\n",
      "|■■■■■■■■■■■■■■■■■■■■■■■■                                                        |  30% of 1.4 Mb\n",
      "|■■■■■■■■■■■■■■■■■■■■■■■■■■■■■■■■                                                |  40% of 1.4 Mb\n",
      "|■■■■■■■■■■■■■■■■■■■■■■■■■■■■■■■■■■■■■■■■                                        |  50% of 1.4 Mb\n",
      "|■■■■■■■■■■■■■■■■■■■■■■■■■■■■■■■■■■■■■■■■■■■■■■■■                                |  60% of 1.4 Mb\n",
      "|■■■■■■■■■■■■■■■■■■■■■■■■■■■■■■■■■■■■■■■■■■■■■■■■■■■■■■■■                        |  70% of 1.4 Mb\n",
      "|■■■■■■■■■■■■■■■■■■■■■■■■■■■■■■■■■■■■■■■■■■■■■■■■■■■■■■■■■■■■■■■■                |  80% of 1.4 Mb\n",
      "|■■■■■■■■■■■■■■■■■■■■■■■■■■■■■■■■■■■■■■■■■■■■■■■■■■■■■■■■■■■■■■■■■■■■■■■■        |  90% of 1.4 Mb\n",
      "|■■■■■■■■■■■■■■■■■■■■■■■■■■■■■■■■■■■■■■■■■■■■■■■■■■■■■■■■■■■■■■■■■■■■■■■■■■■■■■■■| 100% of 1.4 Mb\n",
      "FFMPEG playwright build v1009 downloaded to C:\\Users\\nk\\AppData\\Local\\ms-playwright\\ffmpeg-1009\n"
     ]
    }
   ],
   "source": [
    "# install playwright\n",
    "!pip install playwright\n",
    "\n",
    "# install a browser (chromium is foundation for Chrome, Edge, Opera...)\n",
    "!playwright install chromium"
   ]
  },
  {
   "cell_type": "code",
   "execution_count": 23,
   "metadata": {},
   "outputs": [
    {
     "name": "stdout",
     "output_type": "stream",
     "text": [
      "Requirement already satisfied: ipython in c:\\users\\nk\\anaconda3\\envs\\min_ds-env\\lib\\site-packages (8.16.1)\n",
      "Collecting nest\n",
      "  Obtaining dependency information for nest from https://files.pythonhosted.org/packages/5c/26/b385f8e998d4d72d69da6ee51e05e1752c91bee04c9e8298b7c29a62c530/nest-0.4.2-py3-none-any.whl.metadata\n",
      "  Downloading nest-0.4.2-py3-none-any.whl.metadata (2.8 kB)\n",
      "Collecting asyncio\n",
      "  Downloading asyncio-3.4.3-py3-none-any.whl (101 kB)\n",
      "     ---------------------------------------- 0.0/101.8 kB ? eta -:--:--\n",
      "     ---------------------------------------- 0.0/101.8 kB ? eta -:--:--\n",
      "     ---- ----------------------------------- 10.2/101.8 kB ? eta -:--:--\n",
      "     ----------- ------------------------- 30.7/101.8 kB 330.3 kB/s eta 0:00:01\n",
      "     ---------------------- -------------- 61.4/101.8 kB 469.7 kB/s eta 0:00:01\n",
      "     ------------------------------------ 101.8/101.8 kB 586.7 kB/s eta 0:00:00\n",
      "Requirement already satisfied: backcall in c:\\users\\nk\\anaconda3\\envs\\min_ds-env\\lib\\site-packages (from ipython) (0.2.0)\n",
      "Requirement already satisfied: decorator in c:\\users\\nk\\anaconda3\\envs\\min_ds-env\\lib\\site-packages (from ipython) (5.1.1)\n",
      "Requirement already satisfied: jedi>=0.16 in c:\\users\\nk\\anaconda3\\envs\\min_ds-env\\lib\\site-packages (from ipython) (0.19.1)\n",
      "Requirement already satisfied: matplotlib-inline in c:\\users\\nk\\anaconda3\\envs\\min_ds-env\\lib\\site-packages (from ipython) (0.1.6)\n",
      "Requirement already satisfied: pickleshare in c:\\users\\nk\\anaconda3\\envs\\min_ds-env\\lib\\site-packages (from ipython) (0.7.5)\n",
      "Requirement already satisfied: prompt-toolkit!=3.0.37,<3.1.0,>=3.0.30 in c:\\users\\nk\\anaconda3\\envs\\min_ds-env\\lib\\site-packages (from ipython) (3.0.39)\n",
      "Requirement already satisfied: pygments>=2.4.0 in c:\\users\\nk\\anaconda3\\envs\\min_ds-env\\lib\\site-packages (from ipython) (2.16.1)\n",
      "Requirement already satisfied: stack-data in c:\\users\\nk\\anaconda3\\envs\\min_ds-env\\lib\\site-packages (from ipython) (0.6.2)\n",
      "Requirement already satisfied: traitlets>=5 in c:\\users\\nk\\anaconda3\\envs\\min_ds-env\\lib\\site-packages (from ipython) (5.13.0)\n",
      "Requirement already satisfied: colorama in c:\\users\\nk\\anaconda3\\envs\\min_ds-env\\lib\\site-packages (from ipython) (0.4.6)\n",
      "Requirement already satisfied: matplotlib in c:\\users\\nk\\appdata\\roaming\\python\\python311\\site-packages (from nest) (3.8.0)\n",
      "Requirement already satisfied: numpy in c:\\users\\nk\\anaconda3\\envs\\min_ds-env\\lib\\site-packages (from nest) (1.26.0)\n",
      "Requirement already satisfied: packaging in c:\\users\\nk\\anaconda3\\envs\\min_ds-env\\lib\\site-packages (from nest) (23.1)\n",
      "Requirement already satisfied: tqdm in c:\\users\\nk\\anaconda3\\envs\\min_ds-env\\lib\\site-packages (from nest) (4.66.1)\n",
      "Collecting aiocoap (from nest)\n",
      "  Downloading aiocoap-0.4.7-py3-none-any.whl (208 kB)\n",
      "     ---------------------------------------- 0.0/208.4 kB ? eta -:--:--\n",
      "     ---------------------------- --------- 153.6/208.4 kB 3.1 MB/s eta 0:00:01\n",
      "     -------------------------------------- 208.4/208.4 kB 3.2 MB/s eta 0:00:00\n",
      "Requirement already satisfied: parso<0.9.0,>=0.8.3 in c:\\users\\nk\\anaconda3\\envs\\min_ds-env\\lib\\site-packages (from jedi>=0.16->ipython) (0.8.3)\n",
      "Requirement already satisfied: wcwidth in c:\\users\\nk\\anaconda3\\envs\\min_ds-env\\lib\\site-packages (from prompt-toolkit!=3.0.37,<3.1.0,>=3.0.30->ipython) (0.2.9)\n",
      "Requirement already satisfied: contourpy>=1.0.1 in c:\\users\\nk\\anaconda3\\envs\\min_ds-env\\lib\\site-packages (from matplotlib->nest) (1.0.5)\n",
      "Requirement already satisfied: cycler>=0.10 in c:\\users\\nk\\anaconda3\\envs\\min_ds-env\\lib\\site-packages (from matplotlib->nest) (0.11.0)\n",
      "Requirement already satisfied: fonttools>=4.22.0 in c:\\users\\nk\\anaconda3\\envs\\min_ds-env\\lib\\site-packages (from matplotlib->nest) (4.25.0)\n",
      "Requirement already satisfied: kiwisolver>=1.0.1 in c:\\users\\nk\\anaconda3\\envs\\min_ds-env\\lib\\site-packages (from matplotlib->nest) (1.4.4)\n",
      "Requirement already satisfied: pillow>=6.2.0 in c:\\users\\nk\\anaconda3\\envs\\min_ds-env\\lib\\site-packages (from matplotlib->nest) (9.4.0)\n",
      "Requirement already satisfied: pyparsing>=2.3.1 in c:\\users\\nk\\anaconda3\\envs\\min_ds-env\\lib\\site-packages (from matplotlib->nest) (3.0.9)\n",
      "Requirement already satisfied: python-dateutil>=2.7 in c:\\users\\nk\\anaconda3\\envs\\min_ds-env\\lib\\site-packages (from matplotlib->nest) (2.8.2)\n",
      "Requirement already satisfied: executing>=1.2.0 in c:\\users\\nk\\anaconda3\\envs\\min_ds-env\\lib\\site-packages (from stack-data->ipython) (2.0.1)\n",
      "Requirement already satisfied: asttokens>=2.1.0 in c:\\users\\nk\\anaconda3\\envs\\min_ds-env\\lib\\site-packages (from stack-data->ipython) (2.4.1)\n",
      "Requirement already satisfied: pure-eval in c:\\users\\nk\\anaconda3\\envs\\min_ds-env\\lib\\site-packages (from stack-data->ipython) (0.2.2)\n",
      "Requirement already satisfied: six>=1.12.0 in c:\\users\\nk\\anaconda3\\envs\\min_ds-env\\lib\\site-packages (from asttokens>=2.1.0->stack-data->ipython) (1.16.0)\n",
      "Downloading nest-0.4.2-py3-none-any.whl (157 kB)\n",
      "   ---------------------------------------- 0.0/157.4 kB ? eta -:--:--\n",
      "   ---------------------------------------- 157.4/157.4 kB 4.7 MB/s eta 0:00:00\n",
      "Installing collected packages: asyncio, aiocoap, nest\n",
      "Successfully installed aiocoap-0.4.7 asyncio-3.4.3 nest-0.4.2\n",
      "^C\n"
     ]
    }
   ],
   "source": [
    "!pip install ipython nest asyncio\n",
    "!ipython"
   ]
  },
  {
   "cell_type": "code",
   "execution_count": 18,
   "metadata": {},
   "outputs": [
    {
     "ename": "TypeError",
     "evalue": "'PlaywrightContextManager' object does not support the context manager protocol",
     "output_type": "error",
     "traceback": [
      "\u001b[1;31m---------------------------------------------------------------------------\u001b[0m",
      "\u001b[1;31mTypeError\u001b[0m                                 Traceback (most recent call last)",
      "\u001b[1;32md:\\[2023-10_] Junior homeworks\\[2023-11-30] IDS - Final Project\\playwright_tutorial.ipynb Cell 4\u001b[0m line \u001b[0;36m1\n\u001b[0;32m     <a href='vscode-notebook-cell:/d%3A/%5B2023-10_%5D%20Junior%20homeworks/%5B2023-11-30%5D%20IDS%20-%20Final%20Project/playwright_tutorial.ipynb#W2sZmlsZQ%3D%3D?line=14'>15</a>\u001b[0m         \u001b[39mawait\u001b[39;00m page\u001b[39m.\u001b[39mwait_for_timeout(\u001b[39m1000\u001b[39m)\n\u001b[0;32m     <a href='vscode-notebook-cell:/d%3A/%5B2023-10_%5D%20Junior%20homeworks/%5B2023-11-30%5D%20IDS%20-%20Final%20Project/playwright_tutorial.ipynb#W2sZmlsZQ%3D%3D?line=15'>16</a>\u001b[0m         \u001b[39mawait\u001b[39;00m browser\u001b[39m.\u001b[39mclose()      \n\u001b[1;32m---> <a href='vscode-notebook-cell:/d%3A/%5B2023-10_%5D%20Junior%20homeworks/%5B2023-11-30%5D%20IDS%20-%20Final%20Project/playwright_tutorial.ipynb#W2sZmlsZQ%3D%3D?line=17'>18</a>\u001b[0m \u001b[39mawait\u001b[39;00m main()\n",
      "\u001b[1;32md:\\[2023-10_] Junior homeworks\\[2023-11-30] IDS - Final Project\\playwright_tutorial.ipynb Cell 4\u001b[0m line \u001b[0;36m1\n\u001b[0;32m      <a href='vscode-notebook-cell:/d%3A/%5B2023-10_%5D%20Junior%20homeworks/%5B2023-11-30%5D%20IDS%20-%20Final%20Project/playwright_tutorial.ipynb#W2sZmlsZQ%3D%3D?line=8'>9</a>\u001b[0m \u001b[39masync\u001b[39;00m \u001b[39mdef\u001b[39;00m \u001b[39mmain\u001b[39m():\n\u001b[1;32m---> <a href='vscode-notebook-cell:/d%3A/%5B2023-10_%5D%20Junior%20homeworks/%5B2023-11-30%5D%20IDS%20-%20Final%20Project/playwright_tutorial.ipynb#W2sZmlsZQ%3D%3D?line=9'>10</a>\u001b[0m     \u001b[39mwith\u001b[39;49;00m async_playwright() \u001b[39mas\u001b[39;49;00m p:\n\u001b[0;32m     <a href='vscode-notebook-cell:/d%3A/%5B2023-10_%5D%20Junior%20homeworks/%5B2023-11-30%5D%20IDS%20-%20Final%20Project/playwright_tutorial.ipynb#W2sZmlsZQ%3D%3D?line=10'>11</a>\u001b[0m         \u001b[39mprint\u001b[39;49m(\u001b[39m\"\u001b[39;49m\u001b[39mHellow\u001b[39;49m\u001b[39m\"\u001b[39;49m)\n\u001b[0;32m     <a href='vscode-notebook-cell:/d%3A/%5B2023-10_%5D%20Junior%20homeworks/%5B2023-11-30%5D%20IDS%20-%20Final%20Project/playwright_tutorial.ipynb#W2sZmlsZQ%3D%3D?line=11'>12</a>\u001b[0m         browser \u001b[39m=\u001b[39;49m \u001b[39mawait\u001b[39;49;00m p\u001b[39m.\u001b[39;49mchromium\u001b[39m.\u001b[39;49mlaunch()\n",
      "\u001b[1;31mTypeError\u001b[0m: 'PlaywrightContextManager' object does not support the context manager protocol"
     ]
    }
   ],
   "source": [
    "urls = ['https://en.wikipedia.org/wiki/Albert_Einstein', \n",
    "       'https://www.lazada.vn/', \n",
    "       'https://www.zillow.com/homes/for_rent/',\n",
    "       'https://batdongsan.com.vn/doanh-nghiep']\n",
    "\n",
    "# for url in urls:\n",
    "# scrape_data(url[0])\n",
    "\n",
    "async def main():\n",
    "    with async_playwright() as p:\n",
    "        print(\"Hellow\")\n",
    "        browser = await p.chromium.launch()\n",
    "        page = await browser.new_page()\n",
    "        await page.goto('https://en.wikipedia.org/wiki/Albert_Einstein')\n",
    "        await page.wait_for_timeout(1000)\n",
    "        await browser.close()      \n",
    "\n",
    "await main()"
   ]
  },
  {
   "cell_type": "code",
   "execution_count": 36,
   "metadata": {},
   "outputs": [
    {
     "ename": "RuntimeError",
     "evalue": "asyncio.run() cannot be called from a running event loop",
     "output_type": "error",
     "traceback": [
      "\u001b[1;31m---------------------------------------------------------------------------\u001b[0m",
      "\u001b[1;31mRuntimeError\u001b[0m                              Traceback (most recent call last)",
      "\u001b[1;32md:\\[2023-10_] Junior homeworks\\[2023-11-30] IDS - Final Project\\playwright_tutorial.ipynb Cell 4\u001b[0m line \u001b[0;36m4\n\u001b[0;32m     <a href='vscode-notebook-cell:/d%3A/%5B2023-10_%5D%20Junior%20homeworks/%5B2023-11-30%5D%20IDS%20-%20Final%20Project/playwright_tutorial.ipynb#W4sZmlsZQ%3D%3D?line=37'>38</a>\u001b[0m \u001b[39mif\u001b[39;00m \u001b[39m__name__\u001b[39m \u001b[39m==\u001b[39m \u001b[39m\"\u001b[39m\u001b[39m__main__\u001b[39m\u001b[39m\"\u001b[39m:\n\u001b[0;32m     <a href='vscode-notebook-cell:/d%3A/%5B2023-10_%5D%20Junior%20homeworks/%5B2023-11-30%5D%20IDS%20-%20Final%20Project/playwright_tutorial.ipynb#W4sZmlsZQ%3D%3D?line=38'>39</a>\u001b[0m     \u001b[39mimport\u001b[39;00m \u001b[39masyncio\u001b[39;00m\n\u001b[1;32m---> <a href='vscode-notebook-cell:/d%3A/%5B2023-10_%5D%20Junior%20homeworks/%5B2023-11-30%5D%20IDS%20-%20Final%20Project/playwright_tutorial.ipynb#W4sZmlsZQ%3D%3D?line=39'>40</a>\u001b[0m     asyncio\u001b[39m.\u001b[39;49mrun(main())\n",
      "File \u001b[1;32mc:\\Users\\nk\\anaconda3\\envs\\min_ds-env\\Lib\\asyncio\\runners.py:186\u001b[0m, in \u001b[0;36mrun\u001b[1;34m(main, debug)\u001b[0m\n\u001b[0;32m    161\u001b[0m \u001b[39m\u001b[39m\u001b[39m\"\"\"Execute the coroutine and return the result.\u001b[39;00m\n\u001b[0;32m    162\u001b[0m \n\u001b[0;32m    163\u001b[0m \u001b[39mThis function runs the passed coroutine, taking care of\u001b[39;00m\n\u001b[1;32m   (...)\u001b[0m\n\u001b[0;32m    182\u001b[0m \u001b[39m    asyncio.run(main())\u001b[39;00m\n\u001b[0;32m    183\u001b[0m \u001b[39m\"\"\"\u001b[39;00m\n\u001b[0;32m    184\u001b[0m \u001b[39mif\u001b[39;00m events\u001b[39m.\u001b[39m_get_running_loop() \u001b[39mis\u001b[39;00m \u001b[39mnot\u001b[39;00m \u001b[39mNone\u001b[39;00m:\n\u001b[0;32m    185\u001b[0m     \u001b[39m# fail fast with short traceback\u001b[39;00m\n\u001b[1;32m--> 186\u001b[0m     \u001b[39mraise\u001b[39;00m \u001b[39mRuntimeError\u001b[39;00m(\n\u001b[0;32m    187\u001b[0m         \u001b[39m\"\u001b[39m\u001b[39masyncio.run() cannot be called from a running event loop\u001b[39m\u001b[39m\"\u001b[39m)\n\u001b[0;32m    189\u001b[0m \u001b[39mwith\u001b[39;00m Runner(debug\u001b[39m=\u001b[39mdebug) \u001b[39mas\u001b[39;00m runner:\n\u001b[0;32m    190\u001b[0m     \u001b[39mreturn\u001b[39;00m runner\u001b[39m.\u001b[39mrun(main)\n",
      "\u001b[1;31mRuntimeError\u001b[0m: asyncio.run() cannot be called from a running event loop"
     ]
    }
   ],
   "source": [
    "from playwright.async_api import async_playwright\n",
    "\n",
    "async def main():\n",
    "    \n",
    "    async with async_playwright() as p:\n",
    "        browser = await p.chromium.launch()\n",
    "        context = await browser.new_context()\n",
    "        page = await context.new_page()\n",
    "\n",
    "        # Go to the Wikipedia page of Albert Einstein\n",
    "        await page.goto(\"https://en.wikipedia.org/wiki/Albert_Einstein\")\n",
    "\n",
    "        # Get the name\n",
    "        name = await page.query_selector(\"h1\").inner_text()\n",
    "\n",
    "        # Get the birth date and place\n",
    "        birth_date_and_place = await page.query_selector(\".infobox-data .bday\").inner_text()\n",
    "\n",
    "        # Get the fields from the infobox\n",
    "        infobox_data = {}\n",
    "        async for item in page.query_selector_all(\".infobox-row\"):\n",
    "            key = await item.query_selector(\".infobox-label\").inner_text().strip()\n",
    "            value = await item.query_selector(\".infobox-data\").inner_text().strip()\n",
    "            infobox_data[key] = value\n",
    "\n",
    "        # Get the image URL\n",
    "        image_url = await page.query_selector(\".infobox-image img\").get_attribute(\"src\")\n",
    "\n",
    "        # Print the scraped data\n",
    "        print(f\"Name: {name}\")\n",
    "        print(f\"Birth Date and Place: {birth_date_and_place}\")\n",
    "        print(f\"Infobox Data: {infobox_data}\")\n",
    "        print(f\"Image URL: {image_url}\")\n",
    "\n",
    "        # Close the browser\n",
    "        await browser.close()\n",
    "\n",
    "if __name__ == \"__main__\":\n",
    "    import asyncio\n",
    "    asyncio.run(main())"
   ]
  }
 ],
 "metadata": {
  "kernelspec": {
   "display_name": "min_ds-env",
   "language": "python",
   "name": "python3"
  },
  "language_info": {
   "codemirror_mode": {
    "name": "ipython",
    "version": 3
   },
   "file_extension": ".py",
   "mimetype": "text/x-python",
   "name": "python",
   "nbconvert_exporter": "python",
   "pygments_lexer": "ipython3",
   "version": "3.11.5"
  }
 },
 "nbformat": 4,
 "nbformat_minor": 2
}
