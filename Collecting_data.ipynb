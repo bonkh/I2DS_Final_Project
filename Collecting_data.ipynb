{
 "cells": [
  {
   "cell_type": "markdown",
   "metadata": {},
   "source": [
    "# Phase 01: Collecting data"
   ]
  },
  {
   "cell_type": "code",
   "execution_count": 4,
   "metadata": {},
   "outputs": [],
   "source": [
    "import requests\n",
    "import numpy as np\n",
    "import pandas as pd \n",
    "from bs4 import BeautifulSoup\n",
    "from selenium import webdriver\n",
    "\n",
    "from selenium.webdriver.chrome.options import Options\n",
    "import re"
   ]
  },
  {
   "cell_type": "markdown",
   "metadata": {},
   "source": [
    "### Step 01: Collect apartment links:"
   ]
  },
  {
   "cell_type": "markdown",
   "metadata": {},
   "source": [
    "##Initials:"
   ]
  },
  {
   "cell_type": "markdown",
   "metadata": {},
   "source": [
    "I create an empy data frame to store the infomation of the Real estate"
   ]
  },
  {
   "cell_type": "code",
   "execution_count": 5,
   "metadata": {},
   "outputs": [
    {
     "name": "stdout",
     "output_type": "stream",
     "text": [
      "(0, 13)\n"
     ]
    }
   ],
   "source": [
    "fields = [ 'Address', 'Area', 'Price', 'Bedroom', 'Toilet', 'Floor', 'Furniture', 'Direction','Legal', 'Posting date', 'Expiry date', 'Ad type', 'Ad code']\n",
    "\n",
    "df = pd.DataFrame(columns = fields)\n",
    "\n",
    "print(df.shape)"
   ]
  },
  {
   "cell_type": "markdown",
   "metadata": {},
   "source": [
    "I collect link from many page (each page contain many links to apartments) and store them in a text file."
   ]
  },
  {
   "cell_type": "code",
   "execution_count": 6,
   "metadata": {},
   "outputs": [],
   "source": [
    "file_name = \"apartment_links.txt\"\n",
    "\n",
    "url = 'https://batdongsan.com.vn/nha-dat-ban-tp-hcm'"
   ]
  },
  {
   "cell_type": "markdown",
   "metadata": {},
   "source": [
    "First, I get the total num page of the website."
   ]
  },
  {
   "cell_type": "code",
   "execution_count": null,
   "metadata": {},
   "outputs": [],
   "source": [
    "driver = webdriver.Chrome()\n",
    "driver.get(url)\n",
    "soup = BeautifulSoup(driver.page_source, 'html.parser')\n",
    "unprocessed_num_page = soup.find(class_ = 're__pagination-group')\n",
    "driver.quit()"
   ]
  },
  {
   "cell_type": "code",
   "execution_count": null,
   "metadata": {},
   "outputs": [],
   "source": [
    "\n",
    "regex = r'[^\\s]+'\n",
    "matchs = re.findall(regex, unprocessed_num_page.text)\n",
    "new_array = []\n",
    "for match in matchs:\n",
    "    new_array.append(int(match.replace('.', '')))\n",
    "\n",
    "total_page = max(new_array)\n",
    "print (total_page)"
   ]
  },
  {
   "cell_type": "code",
   "execution_count": null,
   "metadata": {},
   "outputs": [],
   "source": [
    "def CollectApartmentLink (url, page):\n",
    "    with open (file_name, 'w') as file:\n",
    "\n",
    "        for i in range(1, page + 1):\n",
    "            driver = webdriver.Chrome()\n",
    "            driver.get(url+'/p'+ str(i))\n",
    "            soup = BeautifulSoup(driver.page_source, 'html.parser')\n",
    "            apartment_list = soup.find_all(\"a\", class_= \"js__product-link-for-product-id\")\n",
    "\n",
    "            for apartment in apartment_list:\n",
    "                link = 'https://batdongsan.com.vn/'+ apartment['href']\n",
    "                file.write(link)\n",
    "                file.write('\\n')\n",
    "\n",
    "            driver.quit()"
   ]
  },
  {
   "cell_type": "code",
   "execution_count": null,
   "metadata": {},
   "outputs": [],
   "source": [
    "CollectApartmentLink(url, total_page)"
   ]
  },
  {
   "cell_type": "markdown",
   "metadata": {},
   "source": [
    "[TEST]Collect links from a group of page"
   ]
  },
  {
   "cell_type": "code",
   "execution_count": null,
   "metadata": {},
   "outputs": [],
   "source": [
    "with open (file_name, 'a') as file:\n",
    "    for i in range(1001, 1100 + 1):\n",
    "        driver = webdriver.Chrome()\n",
    "        driver.get(url+'/p'+ str(i))\n",
    "        soup = BeautifulSoup(driver.page_source, 'html.parser')\n",
    "        apartment_list = soup.find_all(\"a\", class_= \"js__product-link-for-product-id\")\n",
    "\n",
    "        for apartment in apartment_list:\n",
    "            link = 'https://batdongsan.com.vn/'+ apartment['href']\n",
    "            file.write(link)\n",
    "            file.write('\\n')\n",
    "\n",
    "        driver.quit()"
   ]
  },
  {
   "cell_type": "code",
   "execution_count": 7,
   "metadata": {},
   "outputs": [],
   "source": [
    "key_map = {\n",
    "    'Địa chỉ:' : 'Address',\n",
    "    'Diện tích': 'Area',\n",
    "    'Mức giá': 'Price',\n",
    "    'Hướng nhà': 'Direction',\n",
    "    'Số tầng': 'Floor',\n",
    "    'Số phòng ngủ': 'Bedroom',\n",
    "    'Số toilet': 'Toilet',\n",
    "    'Pháp lý': 'Legal',\n",
    "    'Nội thất': 'Furniture',\n",
    "    'Ngày đăng': 'Posting date',\n",
    "    'Ngày hết hạn': 'Expiry date',\n",
    "    'Loại tin': 'Ad type',\n",
    "    'Mã tin': 'Ad code'\n",
    "}"
   ]
  },
  {
   "cell_type": "markdown",
   "metadata": {},
   "source": [
    "Extract data from a link"
   ]
  },
  {
   "cell_type": "code",
   "execution_count": 8,
   "metadata": {},
   "outputs": [],
   "source": [
    "def ExtractDataFromLink(url):\n",
    "    driver = webdriver.Chrome()\n",
    "\n",
    "    try:\n",
    "        driver.get(url)\n",
    "\n",
    "        soup = BeautifulSoup(driver.page_source, 'html.parser')\n",
    "\n",
    "        #Create a dicitonary to store the feature\n",
    "        features = {}\n",
    "\n",
    "        # get the address\n",
    "        address = soup.find(class_ = \"re__pr-short-description js__pr-address\")\n",
    "        features['Address'] = address\n",
    "\n",
    "        # Get all the features\n",
    "        feature_items = soup.find_all('div', class_ = 're__pr-specs-content-item')\n",
    "        for item in feature_items:\n",
    "            title = item.find(class_ = 're__pr-specs-content-item-title').text.strip()\n",
    "            value = item.find(class_ = 're__pr-specs-content-item-value').text.strip()\n",
    "            features[title] = value\n",
    "\n",
    "        date_items = soup.find_all( 'div', class_ = \"re__pr-short-info-item js__pr-config-item\")\n",
    "        for item in date_items:\n",
    "            title = item.find('span', class_ = 'title').text.strip()\n",
    "            value = item.find('span',class_ = 'value').text.strip()\n",
    "            features[title] = value\n",
    "    \n",
    "        keys_to_change = list(features.keys())\n",
    "\n",
    "        for key in keys_to_change:\n",
    "            if key in key_map:\n",
    "                features[key_map[key]] = features[key]\n",
    "    finally:\n",
    "        driver.quit()\n",
    "\n",
    "    return features"
   ]
  },
  {
   "cell_type": "code",
   "execution_count": null,
   "metadata": {},
   "outputs": [],
   "source": [
    "# fields = [ 'Address', 'Area', 'Price', 'Bedroom', 'Toilet', 'Floor', 'Furniture', 'Direction','Legal', 'Posting date', 'Expiry date', 'Ad type', 'Ad code']\n",
    "\n",
    "urls = []\n",
    "\n",
    "with open(file_name, 'r') as file:\n",
    "        for line in file.readlines():\n",
    "                urls.append(line)"
   ]
  },
  {
   "cell_type": "code",
   "execution_count": null,
   "metadata": {},
   "outputs": [],
   "source": [
    "for url in urls[: 2]:\n",
    "        features = ExtractDataFromLink(url)\n",
    "        new_row = pd.Series(features, index = fields)\n",
    "        df = pd.concat([df, pd.DataFrame([new_row])], ignore_index = True)\n"
   ]
  },
  {
   "cell_type": "code",
   "execution_count": 9,
   "metadata": {},
   "outputs": [],
   "source": [
    "url = 'https://batdongsan.com.vn//ban-can-ho-chung-cu-duong-vo-chi-cong-phuong-phu-huu-2-prj-safira-khang-dien/-chinh-chu-ban-1pn-1-50m2-block-c2-tang-thap-nha-dep-pr38612753'\n",
    "\n",
    "features = ExtractDataFromLink(url)\n",
    "new_row = pd.Series(features, index = fields)\n",
    "df = pd.concat([df, pd.DataFrame([new_row])], ignore_index = True)"
   ]
  },
  {
   "cell_type": "code",
   "execution_count": 10,
   "metadata": {},
   "outputs": [
    {
     "data": {
      "text/html": [
       "<div>\n",
       "<style scoped>\n",
       "    .dataframe tbody tr th:only-of-type {\n",
       "        vertical-align: middle;\n",
       "    }\n",
       "\n",
       "    .dataframe tbody tr th {\n",
       "        vertical-align: top;\n",
       "    }\n",
       "\n",
       "    .dataframe thead th {\n",
       "        text-align: right;\n",
       "    }\n",
       "</style>\n",
       "<table border=\"1\" class=\"dataframe\">\n",
       "  <thead>\n",
       "    <tr style=\"text-align: right;\">\n",
       "      <th></th>\n",
       "      <th>Address</th>\n",
       "      <th>Area</th>\n",
       "      <th>Price</th>\n",
       "      <th>Bedroom</th>\n",
       "      <th>Toilet</th>\n",
       "      <th>Floor</th>\n",
       "      <th>Furniture</th>\n",
       "      <th>Direction</th>\n",
       "      <th>Legal</th>\n",
       "      <th>Posting date</th>\n",
       "      <th>Expiry date</th>\n",
       "      <th>Ad type</th>\n",
       "      <th>Ad code</th>\n",
       "    </tr>\n",
       "  </thead>\n",
       "  <tbody>\n",
       "    <tr>\n",
       "      <th>0</th>\n",
       "      <td>[Dự án Safira Khang Điền, Đường Võ Chí Công, P...</td>\n",
       "      <td>50 m²</td>\n",
       "      <td>2,27 tỷ</td>\n",
       "      <td>1 phòng</td>\n",
       "      <td>1 phòng</td>\n",
       "      <td>NaN</td>\n",
       "      <td>Đầy đủ</td>\n",
       "      <td>NaN</td>\n",
       "      <td>Sổ đỏ/ Sổ hồng</td>\n",
       "      <td>22/11/2023</td>\n",
       "      <td>29/11/2023</td>\n",
       "      <td>Tin thường</td>\n",
       "      <td>38612753</td>\n",
       "    </tr>\n",
       "  </tbody>\n",
       "</table>\n",
       "</div>"
      ],
      "text/plain": [
       "                                             Address   Area    Price  Bedroom  \\\n",
       "0  [Dự án Safira Khang Điền, Đường Võ Chí Công, P...  50 m²  2,27 tỷ  1 phòng   \n",
       "\n",
       "    Toilet Floor Furniture Direction           Legal Posting date Expiry date  \\\n",
       "0  1 phòng   NaN    Đầy đủ       NaN  Sổ đỏ/ Sổ hồng   22/11/2023  29/11/2023   \n",
       "\n",
       "      Ad type   Ad code  \n",
       "0  Tin thường  38612753  "
      ]
     },
     "execution_count": 10,
     "metadata": {},
     "output_type": "execute_result"
    }
   ],
   "source": [
    "df.head()"
   ]
  }
 ],
 "metadata": {
  "kernelspec": {
   "display_name": "Python 3",
   "language": "python",
   "name": "python3"
  },
  "language_info": {
   "codemirror_mode": {
    "name": "ipython",
    "version": 3
   },
   "file_extension": ".py",
   "mimetype": "text/x-python",
   "name": "python",
   "nbconvert_exporter": "python",
   "pygments_lexer": "ipython3",
   "version": "3.11.4"
  }
 },
 "nbformat": 4,
 "nbformat_minor": 2
}
