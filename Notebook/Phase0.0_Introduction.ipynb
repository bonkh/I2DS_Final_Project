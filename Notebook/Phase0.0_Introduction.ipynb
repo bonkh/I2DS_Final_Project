{
 "cells": [
  {
   "cell_type": "markdown",
   "metadata": {},
   "source": [
    "# <div style=\" text-align: center; font-size: 30px; font-weight: bold\">INTODUCTION TO DATA SCIENCE</div>\n",
    "\n",
    "# <div style=\" text-align: center; font-size: 30px; font-weight: bold\">FINAL PROJECT</div>"
   ]
  },
  {
   "cell_type": "markdown",
   "metadata": {},
   "source": [
    "## Team information:\n",
    "- 21120275 - Huỳnh Cao Khôi\n",
    "- 21120308 - Phạm Lê Tú Nhi\n",
    "\n",
    "## **1. Topic**\n",
    "Analize the real estate date of Ho Chi Minh City and answer meaningful questions about it.\n",
    "\n",
    "The real estate market in Viet Nam, especially in Ho Chi Minh City, is always an interest and significant subject. \n",
    "\n",
    "In this project"
   ]
  }
 ],
 "metadata": {
  "language_info": {
   "name": "python"
  }
 },
 "nbformat": 4,
 "nbformat_minor": 2
}
