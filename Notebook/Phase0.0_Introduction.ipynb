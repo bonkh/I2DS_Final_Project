{
 "cells": [
  {
   "cell_type": "markdown",
   "metadata": {},
   "source": [
    "# <div style=\" text-align: center; font-size: 30px\">INTODUCTION TO DATA SCIENCE</div>\n",
    "# <div style=\" text-align: center; font-size: 30px\">FINAL PROJECT</div>"
   ]
  },
  {
   "cell_type": "markdown",
   "metadata": {},
   "source": [
    "## Team information:\n",
    "- 21120275 - Huỳnh Cao Khôi\n",
    "- 21120308 - Phạm Lê Tú Nhi\n",
    "\n",
    "## I. Topic\n",
    "Analize the real estate date of Ho Chi Minh City and answer meaningful questions about it.\n"
   ]
  }
 ],
 "metadata": {
  "language_info": {
   "name": "python"
  }
 },
 "nbformat": 4,
 "nbformat_minor": 2
}
