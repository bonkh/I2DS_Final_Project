{
 "cells": [
  {
   "cell_type": "markdown",
   "metadata": {},
   "source": [
    "# <div style=\" text-align: center; font-size: 30px; font-weight: bold\">INTODUCTION TO DATA SCIENCE</div>\n",
    "\n",
    "# <div style=\" text-align: center; font-size: 30px; font-weight: bold\">FINAL PROJECT</div>"
   ]
  },
  {
   "cell_type": "markdown",
   "metadata": {},
   "source": [
    "## **Team information:**\n",
    "- 21120275 - Huỳnh Cao Khôi\n",
    "- 21120308 - Phạm Lê Tú Nhi\n",
    "\n",
    "## **1. Topic**\n",
    "Analize the real estate data of Ho Chi Minh City and answer meaningful questions about it.\n",
    "\n",
    "The real estate market is always an interest and significant subject. Especially in Ho Chi Minh City, with the rapid urbanization, economic growth, go along with the cost of living, understanding the market become more crucial for people who are homebuyers, investors, real estate broker or just employees and students like me, who will get struggle to find a suitable bedsit for work and living in Ho Chi Minh City. So in this project, we aims to provide more informative insights of the real estate in Ho Chi Minh City. From that, we hope everyone can get a deeper unstanding about the real estate market, also for the inform decision-making processes while we have need to find a real estate for any purpose.\n",
    "\n",
    "In this project, we tend to analize two most common aspect of the real estate market: `Real estate for sale` and `Real estate for rent`, using the data science process to find out some interesting patterns, trends, and relationship between data.\n",
    "\n",
    "## **2. Project Structure**\n",
    "\n",
    "The project is divided into two subfolders:\n",
    "- Data: Contain all the data used in this project, included the datasets and other ultilty files.\n",
    "- Notebook: Contain all the notebooks for this project, divided by phase in a Data Science process:\n",
    "    - Phase 0: Introduction\n",
    "    - Phase 1: Data collecting\n",
    "    - Phase 2: Data preprocessing\n",
    "    - Phase 3: Asking questions\n",
    "    - Phase 4: Modelling\n",
    "    - Phase 5: Conclusion and reflection.\n",
    "\n",
    "- For each phase, we will perform the process for two type of data (for sale and for rent)."
   ]
  }
 ],
 "metadata": {
  "language_info": {
   "name": "python"
  }
 },
 "nbformat": 4,
 "nbformat_minor": 2
}
