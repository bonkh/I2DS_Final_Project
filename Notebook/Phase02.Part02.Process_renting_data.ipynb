{
 "cells": [
  {
   "cell_type": "markdown",
   "metadata": {},
   "source": [
    "# Phase 02: Data preparation\n",
    "\n",
    "After collecting our data, it's time to format and clean the data."
   ]
  },
  {
   "cell_type": "markdown",
   "metadata": {},
   "source": [
    "## 1. Import necessary Python modules\n",
    "\n",
    "Let's import the library we will use for cleaning and format our numbers."
   ]
  },
  {
   "cell_type": "code",
   "execution_count": 1,
   "metadata": {},
   "outputs": [],
   "source": [
    "import pandas as pd\n",
    "import numpy as np\n",
    "import json\n",
    "import re\n",
    "\n",
    "# For NLP (furniture data)\n",
    "#!pip install underthesea\n",
    "from underthesea import pos_tag\n",
    "\n",
    "# Define the display of long decimal values\n",
    "def thousands_formatter(x):\n",
    "    if isinstance(x, str):\n",
    "        return x\n",
    "    return \"{:,}\".format(int(x))\n",
    "pd.set_option('display.float_format', thousands_formatter)"
   ]
  },
  {
   "cell_type": "markdown",
   "metadata": {},
   "source": [
    "Let's import the data we have collected."
   ]
  },
  {
   "cell_type": "code",
   "execution_count": 2,
   "metadata": {},
   "outputs": [
    {
     "data": {
      "text/html": [
       "<div>\n",
       "<style scoped>\n",
       "    .dataframe tbody tr th:only-of-type {\n",
       "        vertical-align: middle;\n",
       "    }\n",
       "\n",
       "    .dataframe tbody tr th {\n",
       "        vertical-align: top;\n",
       "    }\n",
       "\n",
       "    .dataframe thead th {\n",
       "        text-align: right;\n",
       "    }\n",
       "</style>\n",
       "<table border=\"1\" class=\"dataframe\">\n",
       "  <thead>\n",
       "    <tr style=\"text-align: right;\">\n",
       "      <th></th>\n",
       "      <th>Address</th>\n",
       "      <th>Rent type</th>\n",
       "      <th>Meta data</th>\n",
       "      <th>Post date</th>\n",
       "    </tr>\n",
       "  </thead>\n",
       "  <tbody>\n",
       "    <tr>\n",
       "      <th>0</th>\n",
       "      <td>Dự án Lumiere Riverside, Đường Xa Lộ Hà Nội, P...</td>\n",
       "      <td>Căn hộ chung cư</td>\n",
       "      <td>{'Diện tích': '50 m²', 'Mức giá': '17 triệu/th...</td>\n",
       "      <td>07/12/2023</td>\n",
       "    </tr>\n",
       "    <tr>\n",
       "      <th>1</th>\n",
       "      <td>Dự án Lumiere Riverside, Đường Xa Lộ Hà Nội, P...</td>\n",
       "      <td>Căn hộ chung cư</td>\n",
       "      <td>{'Diện tích': '50 m²', 'Mức giá': '17 triệu/th...</td>\n",
       "      <td>05/12/2023</td>\n",
       "    </tr>\n",
       "    <tr>\n",
       "      <th>2</th>\n",
       "      <td>Dự án Lumiere Riverside, Đường Xa Lộ Hà Nội, P...</td>\n",
       "      <td>Căn hộ chung cư</td>\n",
       "      <td>{'Diện tích': '77 m²', 'Mức giá': '23 triệu/th...</td>\n",
       "      <td>02/12/2023</td>\n",
       "    </tr>\n",
       "    <tr>\n",
       "      <th>3</th>\n",
       "      <td>Dự án Lumiere Riverside, Đường Xa Lộ Hà Nội, P...</td>\n",
       "      <td>Căn hộ chung cư</td>\n",
       "      <td>{'Diện tích': '50 m²', 'Mức giá': '17 triệu/th...</td>\n",
       "      <td>02/12/2023</td>\n",
       "    </tr>\n",
       "    <tr>\n",
       "      <th>4</th>\n",
       "      <td>Dự án Lumiere Riverside, Đường Xa Lộ Hà Nội, P...</td>\n",
       "      <td>Căn hộ chung cư</td>\n",
       "      <td>{'Diện tích': '52 m²', 'Mức giá': '16,9 triệu/...</td>\n",
       "      <td>05/12/2023</td>\n",
       "    </tr>\n",
       "  </tbody>\n",
       "</table>\n",
       "</div>"
      ],
      "text/plain": [
       "                                             Address        Rent type  \\\n",
       "0  Dự án Lumiere Riverside, Đường Xa Lộ Hà Nội, P...  Căn hộ chung cư   \n",
       "1  Dự án Lumiere Riverside, Đường Xa Lộ Hà Nội, P...  Căn hộ chung cư   \n",
       "2  Dự án Lumiere Riverside, Đường Xa Lộ Hà Nội, P...  Căn hộ chung cư   \n",
       "3  Dự án Lumiere Riverside, Đường Xa Lộ Hà Nội, P...  Căn hộ chung cư   \n",
       "4  Dự án Lumiere Riverside, Đường Xa Lộ Hà Nội, P...  Căn hộ chung cư   \n",
       "\n",
       "                                           Meta data   Post date  \n",
       "0  {'Diện tích': '50 m²', 'Mức giá': '17 triệu/th...  07/12/2023  \n",
       "1  {'Diện tích': '50 m²', 'Mức giá': '17 triệu/th...  05/12/2023  \n",
       "2  {'Diện tích': '77 m²', 'Mức giá': '23 triệu/th...  02/12/2023  \n",
       "3  {'Diện tích': '50 m²', 'Mức giá': '17 triệu/th...  02/12/2023  \n",
       "4  {'Diện tích': '52 m²', 'Mức giá': '16,9 triệu/...  05/12/2023  "
      ]
     },
     "execution_count": 2,
     "metadata": {},
     "output_type": "execute_result"
    }
   ],
   "source": [
    "rent_data = pd.read_csv('../Data/real_estate_for_rent.csv', index_col=0)\n",
    "rent_data.head()"
   ]
  },
  {
   "cell_type": "markdown",
   "metadata": {},
   "source": [
    "Now's let's check the columns in our dataset again."
   ]
  },
  {
   "cell_type": "code",
   "execution_count": 3,
   "metadata": {},
   "outputs": [
    {
     "data": {
      "text/plain": [
       "Index(['Address', 'Rent type', 'Meta data', 'Post date'], dtype='object')"
      ]
     },
     "execution_count": 3,
     "metadata": {},
     "output_type": "execute_result"
    }
   ],
   "source": [
    "rent_data.columns"
   ]
  },
  {
   "cell_type": "markdown",
   "metadata": {},
   "source": [
    "We see that we have deleted the unwanted column.\n",
    "\n",
    "## 2. Upacking our dataset\n",
    "\n",
    "Our dataset only have 4 columns (for now):\n",
    "- `Address`: the address of the location of the rent.\n",
    "- `Rent type`: the type of rent.\n",
    "- `Meta data`: the addition data that comes with the rent posting.\n",
    "- `Post date`: the date the rent posting was posted.\n",
    "\n",
    "The `Meta data` column includes addition data for the rent posting, which we will need for our analysis. We are going to unpack the information in the `Meta data` column."
   ]
  },
  {
   "cell_type": "markdown",
   "metadata": {},
   "source": [
    "### 2.1 Unpacking `Meta data` column\n",
    "\n",
    "There are many type of metat data types stores in `Meta data` columnn. A good way to unpack this data is to convert them into series with corresponsing index, then insert them into our dataframe then inverse our dataframe.\n",
    "\n",
    "But for now, let's deal with our `Meta data` separate to our dataset."
   ]
  },
  {
   "cell_type": "code",
   "execution_count": 4,
   "metadata": {},
   "outputs": [],
   "source": [
    "# Create a list for rows after breaking downt the Meta data\n",
    "df_list = []\n",
    "for id in range(len(rent_data['Meta data'])):\n",
    "    new_df = pd.Series(eval(rent_data.loc[id, 'Meta data']))\n",
    "    df_list.append(new_df)\n",
    "\n",
    "# Concating all rows in list of rows\n",
    "metadata_col = pd.concat(df_list, axis=1)\n",
    "\n",
    "# Transposing the data frame \n",
    "metadata_col = metadata_col.T"
   ]
  },
  {
   "cell_type": "markdown",
   "metadata": {},
   "source": [
    "Let's see what the new information we have gained from our `Meta data` column."
   ]
  },
  {
   "cell_type": "code",
   "execution_count": 5,
   "metadata": {},
   "outputs": [
    {
     "data": {
      "text/html": [
       "<div>\n",
       "<style scoped>\n",
       "    .dataframe tbody tr th:only-of-type {\n",
       "        vertical-align: middle;\n",
       "    }\n",
       "\n",
       "    .dataframe tbody tr th {\n",
       "        vertical-align: top;\n",
       "    }\n",
       "\n",
       "    .dataframe thead th {\n",
       "        text-align: right;\n",
       "    }\n",
       "</style>\n",
       "<table border=\"1\" class=\"dataframe\">\n",
       "  <thead>\n",
       "    <tr style=\"text-align: right;\">\n",
       "      <th></th>\n",
       "      <th>Diện tích</th>\n",
       "      <th>Mức giá</th>\n",
       "      <th>Số phòng ngủ</th>\n",
       "      <th>Số toilet</th>\n",
       "      <th>Nội thất</th>\n",
       "      <th>Hướng nhà</th>\n",
       "      <th>Hướng ban công</th>\n",
       "      <th>Pháp lý</th>\n",
       "      <th>Mặt tiền</th>\n",
       "      <th>Đường vào</th>\n",
       "      <th>...</th>\n",
       "      <th>Sį» phĆ²ng ngį»§</th>\n",
       "      <th>Sį» toilet</th>\n",
       "      <th>PhĆ”p lĆ½</th>\n",
       "      <th>Nį»i thįŗ„t</th>\n",
       "      <th>Mß║Ęt tiß╗ün</th>\n",
       "      <th>Sß╗æ tß║¦ng</th>\n",
       "      <th>HŲ░ß╗øng nh├Ā</th>\n",
       "      <th>HŲ░ß╗øng ban c├┤ng</th>\n",
       "      <th>Ph├Īp l├Į</th>\n",
       "      <th>Nß╗Öi thß║źt</th>\n",
       "    </tr>\n",
       "  </thead>\n",
       "  <tbody>\n",
       "    <tr>\n",
       "      <th>0</th>\n",
       "      <td>50 m²</td>\n",
       "      <td>17 triệu/tháng</td>\n",
       "      <td>1 phòng</td>\n",
       "      <td>1 phòng</td>\n",
       "      <td>NaN</td>\n",
       "      <td>NaN</td>\n",
       "      <td>NaN</td>\n",
       "      <td>NaN</td>\n",
       "      <td>NaN</td>\n",
       "      <td>NaN</td>\n",
       "      <td>...</td>\n",
       "      <td>NaN</td>\n",
       "      <td>NaN</td>\n",
       "      <td>NaN</td>\n",
       "      <td>NaN</td>\n",
       "      <td>NaN</td>\n",
       "      <td>NaN</td>\n",
       "      <td>NaN</td>\n",
       "      <td>NaN</td>\n",
       "      <td>NaN</td>\n",
       "      <td>NaN</td>\n",
       "    </tr>\n",
       "    <tr>\n",
       "      <th>1</th>\n",
       "      <td>50 m²</td>\n",
       "      <td>17 triệu/tháng</td>\n",
       "      <td>1 phòng</td>\n",
       "      <td>1 phòng</td>\n",
       "      <td>NaN</td>\n",
       "      <td>NaN</td>\n",
       "      <td>NaN</td>\n",
       "      <td>NaN</td>\n",
       "      <td>NaN</td>\n",
       "      <td>NaN</td>\n",
       "      <td>...</td>\n",
       "      <td>NaN</td>\n",
       "      <td>NaN</td>\n",
       "      <td>NaN</td>\n",
       "      <td>NaN</td>\n",
       "      <td>NaN</td>\n",
       "      <td>NaN</td>\n",
       "      <td>NaN</td>\n",
       "      <td>NaN</td>\n",
       "      <td>NaN</td>\n",
       "      <td>NaN</td>\n",
       "    </tr>\n",
       "    <tr>\n",
       "      <th>2</th>\n",
       "      <td>77 m²</td>\n",
       "      <td>23 triệu/tháng</td>\n",
       "      <td>2 phòng</td>\n",
       "      <td>2 phòng</td>\n",
       "      <td>NaN</td>\n",
       "      <td>NaN</td>\n",
       "      <td>NaN</td>\n",
       "      <td>NaN</td>\n",
       "      <td>NaN</td>\n",
       "      <td>NaN</td>\n",
       "      <td>...</td>\n",
       "      <td>NaN</td>\n",
       "      <td>NaN</td>\n",
       "      <td>NaN</td>\n",
       "      <td>NaN</td>\n",
       "      <td>NaN</td>\n",
       "      <td>NaN</td>\n",
       "      <td>NaN</td>\n",
       "      <td>NaN</td>\n",
       "      <td>NaN</td>\n",
       "      <td>NaN</td>\n",
       "    </tr>\n",
       "    <tr>\n",
       "      <th>3</th>\n",
       "      <td>50 m²</td>\n",
       "      <td>17 triệu/tháng</td>\n",
       "      <td>1 phòng</td>\n",
       "      <td>1 phòng</td>\n",
       "      <td>NaN</td>\n",
       "      <td>NaN</td>\n",
       "      <td>NaN</td>\n",
       "      <td>NaN</td>\n",
       "      <td>NaN</td>\n",
       "      <td>NaN</td>\n",
       "      <td>...</td>\n",
       "      <td>NaN</td>\n",
       "      <td>NaN</td>\n",
       "      <td>NaN</td>\n",
       "      <td>NaN</td>\n",
       "      <td>NaN</td>\n",
       "      <td>NaN</td>\n",
       "      <td>NaN</td>\n",
       "      <td>NaN</td>\n",
       "      <td>NaN</td>\n",
       "      <td>NaN</td>\n",
       "    </tr>\n",
       "    <tr>\n",
       "      <th>4</th>\n",
       "      <td>52 m²</td>\n",
       "      <td>16,9 triệu/tháng</td>\n",
       "      <td>1 phòng</td>\n",
       "      <td>1 phòng</td>\n",
       "      <td>Đầy đủ nội thất cơ bản</td>\n",
       "      <td>NaN</td>\n",
       "      <td>NaN</td>\n",
       "      <td>NaN</td>\n",
       "      <td>NaN</td>\n",
       "      <td>NaN</td>\n",
       "      <td>...</td>\n",
       "      <td>NaN</td>\n",
       "      <td>NaN</td>\n",
       "      <td>NaN</td>\n",
       "      <td>NaN</td>\n",
       "      <td>NaN</td>\n",
       "      <td>NaN</td>\n",
       "      <td>NaN</td>\n",
       "      <td>NaN</td>\n",
       "      <td>NaN</td>\n",
       "      <td>NaN</td>\n",
       "    </tr>\n",
       "  </tbody>\n",
       "</table>\n",
       "<p>5 rows × 27 columns</p>\n",
       "</div>"
      ],
      "text/plain": [
       "  Diện tích           Mức giá Số phòng ngủ Số toilet                Nội thất  \\\n",
       "0     50 m²    17 triệu/tháng      1 phòng   1 phòng                     NaN   \n",
       "1     50 m²    17 triệu/tháng      1 phòng   1 phòng                     NaN   \n",
       "2     77 m²    23 triệu/tháng      2 phòng   2 phòng                     NaN   \n",
       "3     50 m²    17 triệu/tháng      1 phòng   1 phòng                     NaN   \n",
       "4     52 m²  16,9 triệu/tháng      1 phòng   1 phòng  Đầy đủ nội thất cơ bản   \n",
       "\n",
       "  Hướng nhà Hướng ban công Pháp lý Mặt tiền Đường vào  ... Sį» phĆ²ng ngį»§  \\\n",
       "0       NaN            NaN     NaN      NaN       NaN  ...               NaN   \n",
       "1       NaN            NaN     NaN      NaN       NaN  ...               NaN   \n",
       "2       NaN            NaN     NaN      NaN       NaN  ...               NaN   \n",
       "3       NaN            NaN     NaN      NaN       NaN  ...               NaN   \n",
       "4       NaN            NaN     NaN      NaN       NaN  ...               NaN   \n",
       "\n",
       "  Sį» toilet PhĆ”p lĆ½ Nį»i thįŗ„t Mß║Ęt tiß╗ün Sß╗æ tß║¦ng HŲ░ß╗øng nh├Ā  \\\n",
       "0         NaN       NaN          NaN          NaN         NaN           NaN   \n",
       "1         NaN       NaN          NaN          NaN         NaN           NaN   \n",
       "2         NaN       NaN          NaN          NaN         NaN           NaN   \n",
       "3         NaN       NaN          NaN          NaN         NaN           NaN   \n",
       "4         NaN       NaN          NaN          NaN         NaN           NaN   \n",
       "\n",
       "  HŲ░ß╗øng ban c├┤ng Ph├Īp l├Į Nß╗Öi thß║źt  \n",
       "0                NaN       NaN          NaN  \n",
       "1                NaN       NaN          NaN  \n",
       "2                NaN       NaN          NaN  \n",
       "3                NaN       NaN          NaN  \n",
       "4                NaN       NaN          NaN  \n",
       "\n",
       "[5 rows x 27 columns]"
      ]
     },
     "execution_count": 5,
     "metadata": {},
     "output_type": "execute_result"
    }
   ],
   "source": [
    "metadata_col.head()"
   ]
  },
  {
   "cell_type": "markdown",
   "metadata": {},
   "source": [
    "At first glance, we can see that the basic data about a rent like area of the place, amount of rent money, number of bedrooms, number of toilets, furnatures provided and some other additional information like direction of the house, direction of the balconey, entry length, number of floors. \n",
    "\n",
    "Let's view all the column of the `metadata_col` to see all the data we are getting."
   ]
  },
  {
   "cell_type": "code",
   "execution_count": 6,
   "metadata": {},
   "outputs": [
    {
     "data": {
      "text/plain": [
       "Index(['Diện tích', 'Mức giá', 'Số phòng ngủ', 'Số toilet', 'Nội thất',\n",
       "       'Hướng nhà', 'Hướng ban công', 'Pháp lý', 'Mặt tiền', 'Đường vào',\n",
       "       'Số tầng', 'Diß╗ćn t├Łch', 'Mß╗®c gi├Ī', 'Sß╗æ ph├▓ng ngß╗¦',\n",
       "       'Sß╗æ toilet', 'Diį»n tĆ­ch', 'Mį»©c giĆ”', 'Sį» phĆ²ng ngį»§',\n",
       "       'Sį» toilet', 'PhĆ”p lĆ½', 'Nį»i thįŗ„t', 'Mß║Ęt tiß╗ün',\n",
       "       'Sß╗æ tß║¦ng', 'HŲ░ß╗øng nh├Ā', 'HŲ░ß╗øng ban c├┤ng', 'Ph├Īp l├Į',\n",
       "       'Nß╗Öi thß║źt'],\n",
       "      dtype='object')"
      ]
     },
     "execution_count": 6,
     "metadata": {},
     "output_type": "execute_result"
    }
   ],
   "source": [
    "metadata_col.columns"
   ]
  },
  {
   "cell_type": "markdown",
   "metadata": {},
   "source": [
    "We can see that the columns after `Số tầng` are all gibrish. Let's drop those column."
   ]
  },
  {
   "cell_type": "code",
   "execution_count": 7,
   "metadata": {},
   "outputs": [],
   "source": [
    "metadata_col = metadata_col.iloc[:, :11]\n",
    "\n",
    "# renaming the column name to English\n",
    "metadata_col.rename(columns={\n",
    "    'Diện tích': 'Area', \n",
    "    'Mức giá' : 'Price', \n",
    "    'Số phòng ngủ' : 'Bedrooms', \n",
    "    'Số toilet': 'Toilets', \n",
    "    'Nội thất': 'Furniture', \n",
    "    'Hướng nhà' : 'House direction', \n",
    "    'Hướng ban công' : 'Balcony direction', \n",
    "    'Pháp lý' : 'Legality', \n",
    "    'Mặt tiền' : 'Frontage', \n",
    "    'Đường vào' : 'Entry length', \n",
    "    'Số tầng' : 'Floors'\n",
    "}, inplace= True)"
   ]
  },
  {
   "cell_type": "markdown",
   "metadata": {},
   "source": [
    "Now, our `metadata_col` has 11 columns:\n",
    "- Area\n",
    "- Price \n",
    "- Bedrooms \n",
    "- Toilets \n",
    "- Furniture \n",
    "- House direction \n",
    "- Balcony direction \n",
    "- Legality\n",
    "- Frontage \n",
    "- Entry length \n",
    "- Floors\n",
    "\n",
    "It's time to add the new data to our dataset."
   ]
  },
  {
   "cell_type": "code",
   "execution_count": 8,
   "metadata": {},
   "outputs": [],
   "source": [
    "# Add extracted meta data to our dataset\n",
    "final_df = pd.concat([rent_data, metadata_col], axis=1)\n",
    "\n",
    "# Don't forget to drop our Meta data column\n",
    "final_df.drop(['Meta data'], axis = 1, inplace=True)"
   ]
  },
  {
   "cell_type": "markdown",
   "metadata": {},
   "source": [
    "## 3. Data overview\n",
    "\n",
    "### 3.1 Validating data columns"
   ]
  },
  {
   "cell_type": "code",
   "execution_count": 9,
   "metadata": {},
   "outputs": [
    {
     "name": "stdout",
     "output_type": "stream",
     "text": [
      "<class 'pandas.core.frame.DataFrame'>\n",
      "Index: 40599 entries, 0 to 40598\n",
      "Data columns (total 14 columns):\n",
      " #   Column             Non-Null Count  Dtype \n",
      "---  ------             --------------  ----- \n",
      " 0   Address            40599 non-null  object\n",
      " 1   Rent type          40599 non-null  object\n",
      " 2   Post date          40599 non-null  object\n",
      " 3   Area               40573 non-null  object\n",
      " 4   Price              40589 non-null  object\n",
      " 5   Bedrooms           19581 non-null  object\n",
      " 6   Toilets            21085 non-null  object\n",
      " 7   Furniture          15382 non-null  object\n",
      " 8   House direction    2880 non-null   object\n",
      " 9   Balcony direction  2228 non-null   object\n",
      " 10  Legality           4893 non-null   object\n",
      " 11  Frontage           3529 non-null   object\n",
      " 12  Entry length       2598 non-null   object\n",
      " 13  Floors             7488 non-null   object\n",
      "dtypes: object(14)\n",
      "memory usage: 5.7+ MB\n"
     ]
    }
   ],
   "source": [
    "final_df.info()"
   ]
  },
  {
   "cell_type": "markdown",
   "metadata": {},
   "source": [
    "Notice that there are a lot of missing values in the `House direction`, `Balcony direction`, `Legality`, `Frontage`, `Entry length`. The meaninng of these columns are also very ambiguous, especially for rent properties. Therefore, we are going to eliminated them from our analysis."
   ]
  },
  {
   "cell_type": "code",
   "execution_count": 10,
   "metadata": {},
   "outputs": [],
   "source": [
    "final_df.drop(['House direction', 'Balcony direction', 'Legality', 'Frontage', 'Entry length'], axis=1, inplace=True)"
   ]
  },
  {
   "cell_type": "markdown",
   "metadata": {},
   "source": [
    "### 3.2 Shape of dataset"
   ]
  },
  {
   "cell_type": "code",
   "execution_count": 11,
   "metadata": {},
   "outputs": [
    {
     "data": {
      "text/plain": [
       "(40599, 9)"
      ]
     },
     "execution_count": 11,
     "metadata": {},
     "output_type": "execute_result"
    }
   ],
   "source": [
    "final_df.shape"
   ]
  },
  {
   "cell_type": "markdown",
   "metadata": {},
   "source": [
    "We have 9 columns and 40599 rows in our dataset. It's quite a big number of data to work with."
   ]
  },
  {
   "cell_type": "markdown",
   "metadata": {},
   "source": [
    "### 3.3 Meaning of rows \n",
    "\n",
    "Each rows is a record of a property rent posting for a specific type of real estate property. \n",
    "\n",
    "#### 3.3.1 Duplicated rows\n",
    "\n",
    "Let's check for the number of duplicated rows in our dataset."
   ]
  },
  {
   "cell_type": "code",
   "execution_count": 12,
   "metadata": {},
   "outputs": [
    {
     "data": {
      "text/plain": [
       "1912"
      ]
     },
     "execution_count": 12,
     "metadata": {},
     "output_type": "execute_result"
    }
   ],
   "source": [
    "final_df.duplicated().sum()"
   ]
  },
  {
   "cell_type": "markdown",
   "metadata": {},
   "source": [
    "We have 1912 duplicated rows in our dataset. This could be due to the same seller (rent poster) tries to popularize their posting, or an error in our collection phase. Either way, let's drop the duplicated values."
   ]
  },
  {
   "cell_type": "code",
   "execution_count": 13,
   "metadata": {},
   "outputs": [
    {
     "name": "stdout",
     "output_type": "stream",
     "text": [
      "Number of duplicated rows in our data: 0\n",
      "Number of rows we are left with: 38687\n"
     ]
    }
   ],
   "source": [
    "# Droping duplicated values in our index and reset the index\n",
    "final_df = final_df.drop_duplicates().reset_index(drop=True)\n",
    "\n",
    "# Recheck duplication in our dataset\n",
    "print('Number of duplicated rows in our data:', final_df.duplicated().sum())\n",
    "print('Number of rows we are left with:', final_df.shape[0])"
   ]
  },
  {
   "cell_type": "markdown",
   "metadata": {},
   "source": [
    "\n",
    "### 3.4 Meaning of columns\n",
    "\n",
    "Let's take a closer look into our dataset's column."
   ]
  },
  {
   "cell_type": "code",
   "execution_count": 14,
   "metadata": {},
   "outputs": [
    {
     "data": {
      "text/plain": [
       "Index(['Address', 'Rent type', 'Post date', 'Area', 'Price', 'Bedrooms',\n",
       "       'Toilets', 'Furniture', 'Floors'],\n",
       "      dtype='object')"
      ]
     },
     "execution_count": 14,
     "metadata": {},
     "output_type": "execute_result"
    }
   ],
   "source": [
    "final_df.columns"
   ]
  },
  {
   "cell_type": "markdown",
   "metadata": {},
   "source": [
    "There are 9 columns in our dataset:\n",
    "- `Address`: Address of the real estate property. \n",
    "- `Rent type`: The category of real estate property.\n",
    "- `Post date`: The day that the advertisement is posted. \n",
    "- `Area`: The area of the real estate.\n",
    "- `Price`: The price of the real estate. This could be the total price (accounted for area and time duration), price per duration or even price per area. \n",
    "- `Bedrooms`: The number of bedrooms in the property.\n",
    "- `Toilets`: The number of toilets in the property. \n",
    "- `Furniture`: The furniture status of the real estate. \n",
    "- `Floors`: The number of floors in the real estate.\n",
    "\n",
    "#### 3.4.1 Columns data types"
   ]
  },
  {
   "cell_type": "code",
   "execution_count": 15,
   "metadata": {},
   "outputs": [
    {
     "data": {
      "text/plain": [
       "Address      object\n",
       "Rent type    object\n",
       "Post date    object\n",
       "Area         object\n",
       "Price        object\n",
       "Bedrooms     object\n",
       "Toilets      object\n",
       "Furniture    object\n",
       "Floors       object\n",
       "dtype: object"
      ]
     },
     "execution_count": 15,
     "metadata": {},
     "output_type": "execute_result"
    }
   ],
   "source": [
    "final_df.dtypes"
   ]
  },
  {
   "cell_type": "markdown",
   "metadata": {},
   "source": [
    "We can see that all of the column has `object` dtype, but we can see multiple columns that should have different data types. We will come back to convert them to the correct data type later in our analysis.\n",
    "\n",
    "#### 3.4.2 Ratio of mission values"
   ]
  },
  {
   "cell_type": "code",
   "execution_count": 16,
   "metadata": {},
   "outputs": [
    {
     "data": {
      "text/html": [
       "<div>\n",
       "<style scoped>\n",
       "    .dataframe tbody tr th:only-of-type {\n",
       "        vertical-align: middle;\n",
       "    }\n",
       "\n",
       "    .dataframe tbody tr th {\n",
       "        vertical-align: top;\n",
       "    }\n",
       "\n",
       "    .dataframe thead th {\n",
       "        text-align: right;\n",
       "    }\n",
       "</style>\n",
       "<table border=\"1\" class=\"dataframe\">\n",
       "  <thead>\n",
       "    <tr style=\"text-align: right;\">\n",
       "      <th></th>\n",
       "      <th>Missing ratio</th>\n",
       "    </tr>\n",
       "  </thead>\n",
       "  <tbody>\n",
       "    <tr>\n",
       "      <th>Address</th>\n",
       "      <td>0</td>\n",
       "    </tr>\n",
       "    <tr>\n",
       "      <th>Rent type</th>\n",
       "      <td>0</td>\n",
       "    </tr>\n",
       "    <tr>\n",
       "      <th>Post date</th>\n",
       "      <td>0</td>\n",
       "    </tr>\n",
       "    <tr>\n",
       "      <th>Area</th>\n",
       "      <td>0</td>\n",
       "    </tr>\n",
       "    <tr>\n",
       "      <th>Price</th>\n",
       "      <td>0</td>\n",
       "    </tr>\n",
       "    <tr>\n",
       "      <th>Bedrooms</th>\n",
       "      <td>50</td>\n",
       "    </tr>\n",
       "    <tr>\n",
       "      <th>Toilets</th>\n",
       "      <td>46</td>\n",
       "    </tr>\n",
       "    <tr>\n",
       "      <th>Furniture</th>\n",
       "      <td>60</td>\n",
       "    </tr>\n",
       "    <tr>\n",
       "      <th>Floors</th>\n",
       "      <td>80</td>\n",
       "    </tr>\n",
       "  </tbody>\n",
       "</table>\n",
       "</div>"
      ],
      "text/plain": [
       "           Missing ratio\n",
       "Address                0\n",
       "Rent type              0\n",
       "Post date              0\n",
       "Area                   0\n",
       "Price                  0\n",
       "Bedrooms              50\n",
       "Toilets               46\n",
       "Furniture             60\n",
       "Floors                80"
      ]
     },
     "execution_count": 16,
     "metadata": {},
     "output_type": "execute_result"
    }
   ],
   "source": [
    "def missing_ratio(column):\n",
    "    missing_values = column.isnull().sum()\n",
    "    total_values = len(column)\n",
    "    return (missing_values / total_values) * 100\n",
    "\n",
    "missing_ratios_df = final_df.agg(missing_ratio).to_frame()\n",
    "missing_ratios_df.columns = ['Missing ratio']\n",
    "\n",
    "missing_ratios_df"
   ]
  },
  {
   "cell_type": "markdown",
   "metadata": {},
   "source": [
    "We can see that fields `Address`, `Rent type`, `Post date`, `Area`, and `Price` doesn't have any missing data. This is easy to explain because they are the compulsory fields of a rent posting and is shared by all `Rent type`.\n",
    "\n",
    "In stark contrast, the fields `Bedrooms`, `Toilets`, `Furniture` and `Floors` have a lot of missing values. These fields are more particular than the columns mentioned above, because these fields are not compulsory for all `Rent type`, and they more common in certain `Rent type` and others. "
   ]
  },
  {
   "cell_type": "markdown",
   "metadata": {},
   "source": [
    "Now we have an overview of the dataset, let's start the preprocessing process.\n",
    "\n",
    "## 4. Preprocessing for categorical columns\n",
    "\n",
    "### 4.1 Address\n",
    "\n",
    "#### 4.1.1 Checking if address of rent posting is in Ho Chi Minh city\n",
    "\n",
    "Our data is subject to be in Ho Chi Minh city. Let's go over the dataset and see if our data is correct and make some adjustment if the data doesn't align."
   ]
  },
  {
   "cell_type": "code",
   "execution_count": 17,
   "metadata": {},
   "outputs": [
    {
     "data": {
      "text/plain": [
       "Province\n",
       " Hồ Chí Minh                                                                    37646\n",
       " Hồ Chí Minh.                                                                     975\n",
       " Tp Hồ Chí Minh                                                                    36\n",
       " Hß╗ō Ch├Ł Minh                                                                     9\n",
       "                                                                                    4\n",
       " Hồ Chí 100                                                                         1\n",
       " Huyện Nhà Bè.                                                                      1\n",
       " Quận 1                                                                             1\n",
       "Đường N9                                                                            1\n",
       " Thành phố Hồ Chí Minh.                                                             1\n",
       "2tr                                                                                 1\n",
       " Thủ Đức                                                                            1\n",
       "Đường ́ Tôn Đức Thắng Phường Bến Nghé Quận 1 Thành Phố Hồ Chí Minh        1\n",
       "Ngô Quyền Phường Hiệp Phú Quận 9                                                    1\n",
       "Bát Nàn                                                                             1\n",
       " Thành phố Hồ Chí Minh                                                              1\n",
       " Hồ Chí Minh - LH: 0969 683 ***Ms. Binh)                                            1\n",
       " Q. Bình Thạnh                                                                      1\n",
       " Quận 7                                                                             1\n",
       " (đi Lê Trọng Tấn vô)                                                               1\n",
       " Hį» ChĆ­ Minh                                                                     1\n",
       " TP. HCM                                                                            1\n",
       "Name: count, dtype: int64"
      ]
     },
     "execution_count": 17,
     "metadata": {},
     "output_type": "execute_result"
    }
   ],
   "source": [
    "# First, we are going to drop every row that isn't in HCM. \n",
    "# That is, not having the last string element being Ho Chi Minh\n",
    "# But first, let's see if every location is in Ho Chi Minh\n",
    "def get_province(x):\n",
    "    return x[-1]\n",
    "\n",
    "final_df['Province'] = final_df['Address'].str.split(',').apply(get_province)\n",
    "final_df['Province'].value_counts()"
   ]
  },
  {
   "cell_type": "markdown",
   "metadata": {},
   "source": [
    "We see that almost all values is in Ho Chi Minh, but some are in the wrong style and some doesn't include province at all. Because the number of these outliner values are quite fews, and that we will need to extract the district from `Address` later, we can drop them all and keep the rows with values oressponding to HCM city name:\n",
    "1. \"Hồ Chí Minh\"\n",
    "2. \"Hồ Chí Minh.\"\n",
    "3. \"Tp Hồ Chí Minh\"\n",
    "\n",
    "Which makes up the most of our dataset."
   ]
  },
  {
   "cell_type": "code",
   "execution_count": 18,
   "metadata": {},
   "outputs": [
    {
     "data": {
      "text/plain": [
       "Province\n",
       " Hồ Chí Minh       37646\n",
       " Hồ Chí Minh.        975\n",
       " Tp Hồ Chí Minh       36\n",
       "Name: count, dtype: int64"
      ]
     },
     "execution_count": 18,
     "metadata": {},
     "output_type": "execute_result"
    }
   ],
   "source": [
    "final_df = final_df[final_df['Province'].isin([' Hồ Chí Minh', ' Hồ Chí Minh.', ' Tp Hồ Chí Minh'])]\n",
    "final_df['Province'].value_counts()"
   ]
  },
  {
   "cell_type": "markdown",
   "metadata": {},
   "source": [
    "#### 4.1.2 Extracting district from posting address\n",
    "\n",
    "Next, let's take the data about `District` in Ho Chi Minh city. Ho Chi Minh city currently have [22 district](https://en.wikipedia.org/wiki/Ho_Chi_Minh_City#Administration):\n",
    "\n",
    "**5 rural districts:**\n",
    "- Củ Chi \n",
    "- Hóc Môn\n",
    "- Bình Chánh\n",
    "- Nhà Bè\n",
    "- Cần Giờ\n",
    "\n",
    "**16 urban districts:**\n",
    "- District 1\n",
    "- District 2 (currently Thủ Đức city)\n",
    "- District 3 \n",
    "- District 4\n",
    "- District 5 \n",
    "- District 6 \n",
    "- District 7 \n",
    "- District 8 \n",
    "- District 9 (currently Thủ Đức city) \n",
    "- District 10\n",
    "- District 11\n",
    "- District 12\n",
    "- Gò Vấp\n",
    "- Tân Bình\n",
    "- Tân Phú\n",
    "- Bình Thạnh\n",
    "- Phú Nhuận\n",
    "- Bình Tân\n",
    "- Thủ Đức (currently Thủ Đức city)\n",
    "\n",
    "In this analysis we will treat District 2 and District 9 as they are before mergint into Thủ Đức city. We will also treat Thủ Đức as a district as well. The reason is because the change isn't long and the geographical differnt between the districts (before) would be more beneficial for analysis."
   ]
  },
  {
   "cell_type": "markdown",
   "metadata": {},
   "source": [
    "Next, let's extracts the district from the address."
   ]
  },
  {
   "cell_type": "code",
   "execution_count": 19,
   "metadata": {},
   "outputs": [
    {
     "data": {
      "text/plain": [
       "array(['2', '1', 'bình thạnh', '7', 'gò vấp', 'tân bình', '9',\n",
       "       'bình chánh', 'tân phú', 'phú nhuận', '4', 'bình tân', 'thủ đức',\n",
       "       '10', '6', '3', '5', '8', '12', 'nhà bè', 'củ chi', '11',\n",
       "       'hóc môn'], dtype=object)"
      ]
     },
     "execution_count": 19,
     "metadata": {},
     "output_type": "execute_result"
    }
   ],
   "source": [
    "def get_district(x):\n",
    "    return x[-2]\n",
    "\n",
    "# Get the districts of the address\n",
    "final_df['District'] = final_df['Address'].str.split(',').apply(get_district)\n",
    "\n",
    "# Format them to lower type and strip leading white space\n",
    "final_df['District'] = final_df['District'].str.strip().str.lower()\n",
    "\n",
    "# Strim away the title words\n",
    "final_df['District'] = final_df['District'].str.replace('quận ', '').str.replace('huyện ', '').str.replace('thành phố ', '').str.replace('q. ', '')\n",
    "\n",
    "# Now we have a new column District\n",
    "final_df['District'].unique()"
   ]
  },
  {
   "cell_type": "markdown",
   "metadata": {},
   "source": [
    "Finally, let's drop the `Province` and the `Address` column."
   ]
  },
  {
   "cell_type": "code",
   "execution_count": 20,
   "metadata": {},
   "outputs": [],
   "source": [
    "final_df.drop(['Address', 'Province'], axis=1, inplace=True)"
   ]
  },
  {
   "cell_type": "markdown",
   "metadata": {},
   "source": [
    "### 4.2 Post date\n",
    "\n",
    "Let's change the data type for the `Post date` column to datetime."
   ]
  },
  {
   "cell_type": "code",
   "execution_count": 21,
   "metadata": {},
   "outputs": [
    {
     "data": {
      "text/plain": [
       "array(['07/12/2023', '05/12/2023', '02/12/2023', '01/12/2023',\n",
       "       '06/12/2023', '04/12/2023', '08/12/2023', '27/11/2023',\n",
       "       '24/11/2023', '30/11/2023', '03/12/2023', '23/11/2023',\n",
       "       '29/11/2023', '28/11/2023', '25/11/2023', '29/11/20230',\n",
       "       '26/11/2023', '21/11/2023', '16/11/2023', '13/11/2023',\n",
       "       '19/11/2023', '12/11/2023', '10/11/2023', '15/11/2023',\n",
       "       '18/11/2023', '17/11/2023', '14/11/2023', '08/11/2023',\n",
       "       '22/11/2023', '09/11/2023', '20/11/2023', '11/11/2023',\n",
       "       '09/12/2023'], dtype=object)"
      ]
     },
     "execution_count": 21,
     "metadata": {},
     "output_type": "execute_result"
    }
   ],
   "source": [
    "final_df['Post date'].unique()"
   ]
  },
  {
   "cell_type": "markdown",
   "metadata": {},
   "source": [
    "We see that's there is 1 mistake in the data. The date should be `29/11/2023` instead of `29/11/20230`. Let's change the value and change the data type for the date."
   ]
  },
  {
   "cell_type": "code",
   "execution_count": 22,
   "metadata": {},
   "outputs": [],
   "source": [
    "final_df['Post date'].loc[final_df['Post date'] == '29/11/20230'] = '29/11/2023'\n",
    "\n",
    "# Format datetime data\n",
    "final_df['Post date'] = pd.to_datetime(final_df['Post date'], format = '%d/%m/%Y')"
   ]
  },
  {
   "cell_type": "code",
   "execution_count": 23,
   "metadata": {},
   "outputs": [
    {
     "name": "stdout",
     "output_type": "stream",
     "text": [
      "<class 'pandas.core.frame.DataFrame'>\n",
      "Index: 38657 entries, 0 to 38686\n",
      "Data columns (total 9 columns):\n",
      " #   Column     Non-Null Count  Dtype         \n",
      "---  ------     --------------  -----         \n",
      " 0   Rent type  38657 non-null  object        \n",
      " 1   Post date  38657 non-null  datetime64[ns]\n",
      " 2   Area       38641 non-null  object        \n",
      " 3   Price      38657 non-null  object        \n",
      " 4   Bedrooms   19240 non-null  object        \n",
      " 5   Toilets    20717 non-null  object        \n",
      " 6   Furniture  15173 non-null  object        \n",
      " 7   Floors     7419 non-null   object        \n",
      " 8   District   38657 non-null  object        \n",
      "dtypes: datetime64[ns](1), object(8)\n",
      "memory usage: 2.9+ MB\n"
     ]
    }
   ],
   "source": [
    "# Check on the column data\n",
    "final_df.info()"
   ]
  },
  {
   "cell_type": "markdown",
   "metadata": {},
   "source": [
    "### 4.3 Furniture \n",
    "\n",
    "Preparing `Furniture` data is going to be more diffifult, because the format is natural text and not standardize. After some consideration, I've decided to use NLP to find keywords that would related the catagories I would sort them in. The catagories are:\n",
    "- Basic furniture: The property has a the basic of a room (lighting, fan), a toilet and a refridgerator but no bed frame. All the furniture are wall mounted.\n",
    "- Full furniture: The property has all furniture in a bedroom (bed frame, drapes...) and fully equiped kitchen.\n",
    "- No furniture: There is no prepared furniture.\n",
    "- Has furniture: Falls in the middle of Basic furniture and No furniture."
   ]
  },
  {
   "cell_type": "markdown",
   "metadata": {},
   "source": [
    "For NLP, I'm using the [Underthesea library](https://underthesea.readthedocs.io/en/latest/readme.html) which is a NLP toolkit lib that process Vietnamese."
   ]
  },
  {
   "cell_type": "code",
   "execution_count": 24,
   "metadata": {},
   "outputs": [],
   "source": [
    "# Preparing keywords for each catagory\n",
    "basic_furniture = {'items': set(['tủ lạnh', 'quạt', 'đèn', 'toilet']), 'tag': set(['cơ bản', 'mới', 'cần thiết', 'căn bản', 'dính'])}\n",
    "full_furniture = {'items' : set(['máy hút mùi', 'máy giặt','hút mùi', 'tủ giày', 'kệ bếp', 'full', '100%']), \n",
    "                  'tag' : set(['đầy đủ', 'full', 'đủ', '%', 'ful', 'full nội thất', 'cao cấp', 'tối đa', 'cao', '100', 'hoàn thiện'])}\n",
    "no_furniture = {'items': set(['fitout', 'nhà thô', 'thô chủ']), 'tag': set(['không', 'k', 'ko', 'trống', 'thô', 'hỗ trợ', 'nhà thô', 'ít'])}"
   ]
  },
  {
   "cell_type": "code",
   "execution_count": 25,
   "metadata": {},
   "outputs": [],
   "source": [
    "def furniture_transform(x):\n",
    "    if pd.isna(x): \n",
    "        return 'không'\n",
    "    \n",
    "    x = x.lower().replace('.', '').strip()\n",
    "    \n",
    "    tag = pos_tag(x)\n",
    "\n",
    "    # Extract key words from tags\n",
    "    noun_tag = pd.Series([x[0] if x[1] == 'N' else None for x in tag]).dropna().unique()\n",
    "    adj_tag = pd.Series([x[0] if x[1] != 'N' else None for x in tag]).dropna().unique()\n",
    "\n",
    "    if set(noun_tag).intersection(no_furniture['items']) or set(adj_tag).intersection(no_furniture['tag']):\n",
    "        return 'không'\n",
    "    elif set(noun_tag).intersection(basic_furniture['items']) or set(adj_tag).intersection(basic_furniture['tag']):\n",
    "        return 'cơ bản'\n",
    "    elif set(noun_tag).intersection(full_furniture['items']) or set(adj_tag).intersection(full_furniture['tag']):\n",
    "        return 'đầy đủ'\n",
    "    else:\n",
    "        return 'có'\n",
    "\n",
    "# Cagatorizing the furniture\n",
    "final_df['Furniture'] = final_df['Furniture'].apply(furniture_transform)"
   ]
  },
  {
   "cell_type": "markdown",
   "metadata": {},
   "source": [
    "## 5. Preprocessing for numerical data\n",
    "\n",
    "### 5.1 Area\n",
    "\n",
    "For the `Area` data, we are going to extract the numerical values in the data. Because the unit is square meter, there's no need to convert between metric."
   ]
  },
  {
   "cell_type": "code",
   "execution_count": 26,
   "metadata": {},
   "outputs": [
    {
     "data": {
      "text/plain": [
       "array(['m²'], dtype=object)"
      ]
     },
     "execution_count": 26,
     "metadata": {},
     "output_type": "execute_result"
    }
   ],
   "source": [
    "def check_metric(x):\n",
    "    return x[1]\n",
    "\n",
    "# Check number of metric used. We will see \n",
    "final_df[final_df['Area'].notnull()]['Area'].str.split(' ').apply(check_metric).unique()"
   ]
  },
  {
   "cell_type": "code",
   "execution_count": 27,
   "metadata": {},
   "outputs": [],
   "source": [
    "# Extract numerical value\n",
    "final_df['Area'] = final_df['Area'].str.replace(' m²', '').str.replace('.', '')\n",
    "final_df['Area'] = final_df['Area'].str.replace(',', '.')"
   ]
  },
  {
   "cell_type": "markdown",
   "metadata": {},
   "source": [
    "We see that there are some null value in the `Area` column. We will drop the missing rows because there are fews misisng values and `Area` is needed for analysis.\n"
   ]
  },
  {
   "cell_type": "code",
   "execution_count": 28,
   "metadata": {},
   "outputs": [],
   "source": [
    "# Drop missing values\n",
    "final_df.dropna(subset=['Area'], inplace=True)\n",
    "\n",
    "# Convert to numerical type\n",
    "final_df['Area'] = final_df['Area'].astype(np.float64)"
   ]
  },
  {
   "cell_type": "markdown",
   "metadata": {},
   "source": [
    "### 5.2 Price\n",
    "\n",
    "#### 5.2.1 Standardize price values\n",
    "\n",
    "For the price data, the comma `,` is used to denote decimal values. We are going to convert that value into float data.\n",
    "\n",
    "Another issue is the diversity of the unit used to determine the monthly rent. Let's see all the unit used in the dataset."
   ]
  },
  {
   "cell_type": "code",
   "execution_count": 29,
   "metadata": {},
   "outputs": [
    {
     "data": {
      "text/plain": [
       "array(['triệu/tháng', 'thuận', 'nghìn/m²', 'tỷ/tháng', 'nghìn/tháng',\n",
       "       'triệu/m²'], dtype=object)"
      ]
     },
     "execution_count": 29,
     "metadata": {},
     "output_type": "execute_result"
    }
   ],
   "source": [
    "final_df['Price'].str.split(' ').apply(lambda x: x[1]).unique()"
   ]
  },
  {
   "cell_type": "markdown",
   "metadata": {},
   "source": [
    "As we can see, there are many units used. We can classify them into 3 types (the third type is not a unit but undetermined value):\n",
    "1. Monthly based unit:\n",
    "- triệu/tháng\n",
    "- nghìn/tháng\n",
    "- tỷ/tháng\n",
    "\n",
    "2. Area based unit:\n",
    "- nghìn/m²\n",
    "- triệu/m²\n",
    "\n",
    "3. Other:\n",
    "- Thỏa thuận\n",
    "\n",
    "For monthly based unit, we will calculate the total money due in a month (in vnđ).\n",
    "For area based unit, we will assume that rent is due every month. With that, we will calculate the month in vnđ and mutiple that with `Area` to get totaly monthly rent.\n",
    "For payment setle by agreement, we will assume unknown and fill witn nan value."
   ]
  },
  {
   "cell_type": "code",
   "execution_count": 30,
   "metadata": {},
   "outputs": [],
   "source": [
    "# Convert keyword dict\n",
    "monthly_rent_trans_dict = {\n",
    "    '/tháng': '',\n",
    "    'nghìn': '000',\n",
    "    'triệu': '000000',\n",
    "    'tỷ': '000000000',\n",
    "    ' ': '',\n",
    "    ',':'.'\n",
    "}\n",
    "\n",
    "# Caculate rent for monthly based and area based unit\n",
    "def monthly_rent_transform(x):\n",
    "    if '/tháng' in x:\n",
    "        x = x.replace('/tháng','')\n",
    "        price = float(x.replace(',','.').split(' ')[0])\n",
    "\n",
    "        if 'nghìn' in x:\n",
    "            price *= 1000\n",
    "        elif 'triệu' in x:\n",
    "            price *= 1000000\n",
    "        elif 'tỷ' in x:\n",
    "            price *= 1000000000\n",
    "        return str(price)\n",
    "    elif 'm' in x:\n",
    "        price = float(x.replace(',','.').split(' ')[0])\n",
    "\n",
    "        if 'nghìn' in x:\n",
    "            price *= 1000\n",
    "        elif 'triệu' in x:\n",
    "            price *= 1000000\n",
    "        elif 'tỷ' in x:\n",
    "            price *= 1000000000\n",
    "        \n",
    "        x = str(price) + '/m²'\n",
    "    return x\n",
    "    \n",
    "final_df['Price'] = final_df['Price'].apply(monthly_rent_transform)"
   ]
  },
  {
   "cell_type": "markdown",
   "metadata": {},
   "source": [
    "Then, we will complete calculating the monthly rent for Area based rent by multiply the value we've calculate above with the area of the property."
   ]
  },
  {
   "cell_type": "code",
   "execution_count": 31,
   "metadata": {},
   "outputs": [],
   "source": [
    "def area_monthly_rent_transform(x):\n",
    "    if 'm' in x['Price']:\n",
    "        x = float(x['Price'].split('/')[0]) * x['Area']\n",
    "    return x\n",
    "\n",
    "final_df['Price'] = final_df.apply(area_monthly_rent_transform, axis=1)['Price']"
   ]
  },
  {
   "cell_type": "markdown",
   "metadata": {},
   "source": [
    "#### 5.2.2 Handling non-numerical values (`Thỏa thuận`)\n",
    "\n",
    "Finally, we will make rent by agreement to nan. But before doing that, we will drop all the missing values in the dataset. The number of missing values isn't a lot, and we want the missing values in this column represent only `Thảo thuận`. This will become handy as we will attempt to guess the price of property for agreement values."
   ]
  },
  {
   "cell_type": "code",
   "execution_count": 32,
   "metadata": {},
   "outputs": [],
   "source": [
    "# Droping missing values\n",
    "final_df.dropna(subset=['Price'], inplace=True)"
   ]
  },
  {
   "cell_type": "code",
   "execution_count": 33,
   "metadata": {},
   "outputs": [],
   "source": [
    "def agreement_rent_transform(x):\n",
    "    if x == 'Thỏa thuận':\n",
    "        x = np.nan\n",
    "    return x\n",
    "\n",
    "# Make rent by agreement into nan\n",
    "final_df['Price'] = final_df['Price'].apply(agreement_rent_transform)"
   ]
  },
  {
   "cell_type": "code",
   "execution_count": 34,
   "metadata": {},
   "outputs": [],
   "source": [
    "# Normalize the datatype to numerical type\n",
    "final_df['Price'] = final_df['Price'].astype(np.float64)"
   ]
  },
  {
   "cell_type": "markdown",
   "metadata": {},
   "source": [
    "### 5.3 Bedroom, Toilet and Floors data\n",
    "\n",
    "For `Bedroom`, `Toilet` and `Floors` data, the process is straightforward. We will extract the numerical values of the string and normalize the column to numerical data type."
   ]
  },
  {
   "cell_type": "code",
   "execution_count": 35,
   "metadata": {},
   "outputs": [],
   "source": [
    "final_df['Bedrooms'] = final_df['Bedrooms'].str.replace('phòng', '').str.strip().astype(np.float64)\n",
    "final_df['Toilets'] = final_df['Toilets'].str.replace('phòng', '').str.strip().astype(np.float64)\n",
    "final_df['Floors'] = final_df['Floors'].str.replace(' tầng', '').str.strip().astype(np.float64)"
   ]
  },
  {
   "cell_type": "markdown",
   "metadata": {},
   "source": [
    "## 6. Save processed data\n",
    "\n",
    "Let's save our processed data in a new file."
   ]
  },
  {
   "cell_type": "code",
   "execution_count": 36,
   "metadata": {},
   "outputs": [],
   "source": [
    "export_file = '../Data/cleaned_real_estate_for_rent.csv'\n",
    "final_df.to_csv(export_file)"
   ]
  },
  {
   "cell_type": "markdown",
   "metadata": {},
   "source": [
    "And we're done with phase 02. Next up, we are going to ask some questions and hopefully answer them the best we can."
   ]
  }
 ],
 "metadata": {
  "kernelspec": {
   "display_name": "min_ds-env",
   "language": "python",
   "name": "python3"
  },
  "language_info": {
   "codemirror_mode": {
    "name": "ipython",
    "version": 3
   },
   "file_extension": ".py",
   "mimetype": "text/x-python",
   "name": "python",
   "nbconvert_exporter": "python",
   "pygments_lexer": "ipython3",
   "version": "3.11.5"
  }
 },
 "nbformat": 4,
 "nbformat_minor": 2
}
