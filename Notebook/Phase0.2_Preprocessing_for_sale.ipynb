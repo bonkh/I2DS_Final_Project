{
 "cells": [
  {
   "cell_type": "markdown",
   "metadata": {},
   "source": [
    "# <div style=\" text-align: center; font-weight: bold\">Phase 02: Preprocessing data</div>\n",
    "\n",
    "This is the preprocessing phase for data of the real estates for sale."
   ]
  },
  {
   "cell_type": "markdown",
   "metadata": {},
   "source": [
    "## Import necessary Python modules"
   ]
  },
  {
   "cell_type": "code",
   "execution_count": 1217,
   "metadata": {},
   "outputs": [],
   "source": [
    "import numpy as np\n",
    "import pandas as pd\n",
    "import matplotlib.pyplot as plt\n",
    "import re\n",
    "import unicodedata\n"
   ]
  },
  {
   "cell_type": "markdown",
   "metadata": {},
   "source": [
    "## **Explore the data**"
   ]
  },
  {
   "cell_type": "markdown",
   "metadata": {},
   "source": [
    "### Read the data from file:"
   ]
  },
  {
   "cell_type": "code",
   "execution_count": 1218,
   "metadata": {},
   "outputs": [
    {
     "data": {
      "text/html": [
       "<div>\n",
       "<style scoped>\n",
       "    .dataframe tbody tr th:only-of-type {\n",
       "        vertical-align: middle;\n",
       "    }\n",
       "\n",
       "    .dataframe tbody tr th {\n",
       "        vertical-align: top;\n",
       "    }\n",
       "\n",
       "    .dataframe thead th {\n",
       "        text-align: right;\n",
       "    }\n",
       "</style>\n",
       "<table border=\"1\" class=\"dataframe\">\n",
       "  <thead>\n",
       "    <tr style=\"text-align: right;\">\n",
       "      <th></th>\n",
       "      <th>Address</th>\n",
       "      <th>Type</th>\n",
       "      <th>Area</th>\n",
       "      <th>Price</th>\n",
       "      <th>Bedroom</th>\n",
       "      <th>Toilet</th>\n",
       "      <th>Floor</th>\n",
       "      <th>Furniture</th>\n",
       "      <th>Direction</th>\n",
       "      <th>Legal</th>\n",
       "      <th>Posting date</th>\n",
       "      <th>Expiry date</th>\n",
       "      <th>Ad type</th>\n",
       "      <th>Ad code</th>\n",
       "    </tr>\n",
       "  </thead>\n",
       "  <tbody>\n",
       "    <tr>\n",
       "      <th>0</th>\n",
       "      <td>Dự án Zenity, Đường Võ Văn Kiệt, Phường Cầu Kh...</td>\n",
       "      <td>Căn hộ chung cư</td>\n",
       "      <td>161,08 m²</td>\n",
       "      <td>17,98 tỷ</td>\n",
       "      <td>3 phòng</td>\n",
       "      <td>3 phòng</td>\n",
       "      <td>NaN</td>\n",
       "      <td>Đầy đủ</td>\n",
       "      <td>Đông - Bắc</td>\n",
       "      <td>Sổ đỏ/ Sổ hồng</td>\n",
       "      <td>06/12/2023</td>\n",
       "      <td>13/12/2023</td>\n",
       "      <td>Tin VIP Kim Cương</td>\n",
       "      <td>38720367</td>\n",
       "    </tr>\n",
       "    <tr>\n",
       "      <th>1</th>\n",
       "      <td>Dự án Zenity, Đường Võ Văn Kiệt, Phường Cầu Kh...</td>\n",
       "      <td>Căn hộ chung cư</td>\n",
       "      <td>116 m²</td>\n",
       "      <td>9,8 tỷ</td>\n",
       "      <td>3 phòng</td>\n",
       "      <td>2 phòng</td>\n",
       "      <td>NaN</td>\n",
       "      <td>Đầy đủ</td>\n",
       "      <td>Đông - Bắc</td>\n",
       "      <td>Sổ đỏ/ Sổ hồng</td>\n",
       "      <td>03/12/2023</td>\n",
       "      <td>10/12/2023</td>\n",
       "      <td>Tin thường</td>\n",
       "      <td>38693652</td>\n",
       "    </tr>\n",
       "    <tr>\n",
       "      <th>2</th>\n",
       "      <td>Dự án Zenity, Đường Võ Văn Kiệt, Phường Cầu Kh...</td>\n",
       "      <td>Căn hộ chung cư</td>\n",
       "      <td>77 m²</td>\n",
       "      <td>6 tỷ</td>\n",
       "      <td>2 phòng</td>\n",
       "      <td>2 phòng</td>\n",
       "      <td>NaN</td>\n",
       "      <td>Đầy đủ.</td>\n",
       "      <td>Đông - Nam</td>\n",
       "      <td>Sổ đỏ/ Sổ hồng</td>\n",
       "      <td>01/12/2023</td>\n",
       "      <td>11/12/2023</td>\n",
       "      <td>Tin VIP Kim Cương</td>\n",
       "      <td>38481731</td>\n",
       "    </tr>\n",
       "    <tr>\n",
       "      <th>3</th>\n",
       "      <td>Dự án Lumiere Riverside, Đường Xa Lộ Hà Nội, P...</td>\n",
       "      <td>Căn hộ chung cư</td>\n",
       "      <td>76 m²</td>\n",
       "      <td>6,2 tỷ</td>\n",
       "      <td>2 phòng</td>\n",
       "      <td>2 phòng</td>\n",
       "      <td>NaN</td>\n",
       "      <td>Đầy đủ</td>\n",
       "      <td>NaN</td>\n",
       "      <td>Hợp đồng mua bán</td>\n",
       "      <td>05/12/2023</td>\n",
       "      <td>12/12/2023</td>\n",
       "      <td>Tin VIP Kim Cương</td>\n",
       "      <td>38393009</td>\n",
       "    </tr>\n",
       "    <tr>\n",
       "      <th>4</th>\n",
       "      <td>Dự án Zenity, Đường Võ Văn Kiệt, Phường Cầu Kh...</td>\n",
       "      <td>Căn hộ chung cư</td>\n",
       "      <td>95 m²</td>\n",
       "      <td>80 triệu/m²</td>\n",
       "      <td>2 phòng</td>\n",
       "      <td>2 phòng</td>\n",
       "      <td>NaN</td>\n",
       "      <td>Đầy đủ.</td>\n",
       "      <td>NaN</td>\n",
       "      <td>Sổ đỏ/ Sổ hồng.</td>\n",
       "      <td>07/12/2023</td>\n",
       "      <td>14/12/2023</td>\n",
       "      <td>Tin VIP Kim Cương</td>\n",
       "      <td>38734339</td>\n",
       "    </tr>\n",
       "  </tbody>\n",
       "</table>\n",
       "</div>"
      ],
      "text/plain": [
       "                                             Address             Type  \\\n",
       "0  Dự án Zenity, Đường Võ Văn Kiệt, Phường Cầu Kh...  Căn hộ chung cư   \n",
       "1  Dự án Zenity, Đường Võ Văn Kiệt, Phường Cầu Kh...  Căn hộ chung cư   \n",
       "2  Dự án Zenity, Đường Võ Văn Kiệt, Phường Cầu Kh...  Căn hộ chung cư   \n",
       "3  Dự án Lumiere Riverside, Đường Xa Lộ Hà Nội, P...  Căn hộ chung cư   \n",
       "4  Dự án Zenity, Đường Võ Văn Kiệt, Phường Cầu Kh...  Căn hộ chung cư   \n",
       "\n",
       "        Area        Price  Bedroom   Toilet Floor Furniture   Direction  \\\n",
       "0  161,08 m²     17,98 tỷ  3 phòng  3 phòng   NaN    Đầy đủ  Đông - Bắc   \n",
       "1     116 m²       9,8 tỷ  3 phòng  2 phòng   NaN    Đầy đủ  Đông - Bắc   \n",
       "2      77 m²         6 tỷ  2 phòng  2 phòng   NaN   Đầy đủ.  Đông - Nam   \n",
       "3      76 m²       6,2 tỷ  2 phòng  2 phòng   NaN    Đầy đủ         NaN   \n",
       "4      95 m²  80 triệu/m²  2 phòng  2 phòng   NaN   Đầy đủ.         NaN   \n",
       "\n",
       "              Legal Posting date Expiry date            Ad type   Ad code  \n",
       "0    Sổ đỏ/ Sổ hồng   06/12/2023  13/12/2023  Tin VIP Kim Cương  38720367  \n",
       "1    Sổ đỏ/ Sổ hồng   03/12/2023  10/12/2023         Tin thường  38693652  \n",
       "2    Sổ đỏ/ Sổ hồng   01/12/2023  11/12/2023  Tin VIP Kim Cương  38481731  \n",
       "3  Hợp đồng mua bán   05/12/2023  12/12/2023  Tin VIP Kim Cương  38393009  \n",
       "4   Sổ đỏ/ Sổ hồng.   07/12/2023  14/12/2023  Tin VIP Kim Cương  38734339  "
      ]
     },
     "execution_count": 1218,
     "metadata": {},
     "output_type": "execute_result"
    }
   ],
   "source": [
    "real_estate_for_sale_df = pd.read_csv('../Data/real_estate_for_sale.csv', encoding='utf-8')\n",
    "real_estate_for_sale_df.head()"
   ]
  },
  {
   "cell_type": "markdown",
   "metadata": {},
   "source": [
    "#### Num of rows and columns:"
   ]
  },
  {
   "cell_type": "code",
   "execution_count": 1219,
   "metadata": {},
   "outputs": [
    {
     "name": "stdout",
     "output_type": "stream",
     "text": [
      "Num of rows:  55312\n",
      "Num of columns:  14\n"
     ]
    }
   ],
   "source": [
    "num_rows, num_cols = real_estate_for_sale_df.shape\n",
    "\n",
    "print(f'Num of rows:  {num_rows}')\n",
    "print (f'Num of columns:  {num_cols}')"
   ]
  },
  {
   "cell_type": "markdown",
   "metadata": {},
   "source": [
    "#### The meaning of each line. Does it matter if a line have different meaning?"
   ]
  },
  {
   "cell_type": "markdown",
   "metadata": {},
   "source": [
    "The data is collected by crawling raw data from the website https://batdongsan.com.vn/    \n",
    "Each line is the record of a advertisement of real estate. So there isn't any line that has different meaning."
   ]
  },
  {
   "cell_type": "markdown",
   "metadata": {},
   "source": [
    "#### Num of duplicated rows:"
   ]
  },
  {
   "cell_type": "code",
   "execution_count": 1220,
   "metadata": {},
   "outputs": [
    {
     "name": "stdout",
     "output_type": "stream",
     "text": [
      " Nums of duplicated rows: 266\n"
     ]
    }
   ],
   "source": [
    "duplicate = real_estate_for_sale_df.duplicated().sum()\n",
    "\n",
    "print (f' Nums of duplicated rows: {duplicate}')"
   ]
  },
  {
   "cell_type": "markdown",
   "metadata": {},
   "source": [
    "we can see there are duplicated rows in the dataset. The reason here is there are some advertisements is reposted in the website, result in the duplicated data.\n",
    "So, we will drop these duplicated rows."
   ]
  },
  {
   "cell_type": "code",
   "execution_count": 1221,
   "metadata": {},
   "outputs": [],
   "source": [
    "real_estate_for_sale_df.drop_duplicates(inplace= True)\n",
    "real_estate_for_sale_df = real_estate_for_sale_df.reset_index(drop=True)"
   ]
  },
  {
   "cell_type": "markdown",
   "metadata": {},
   "source": [
    "#### Ratio of missing values for each column:"
   ]
  },
  {
   "cell_type": "code",
   "execution_count": 1222,
   "metadata": {},
   "outputs": [
    {
     "data": {
      "text/html": [
       "<div>\n",
       "<style scoped>\n",
       "    .dataframe tbody tr th:only-of-type {\n",
       "        vertical-align: middle;\n",
       "    }\n",
       "\n",
       "    .dataframe tbody tr th {\n",
       "        vertical-align: top;\n",
       "    }\n",
       "\n",
       "    .dataframe thead th {\n",
       "        text-align: right;\n",
       "    }\n",
       "</style>\n",
       "<table border=\"1\" class=\"dataframe\">\n",
       "  <thead>\n",
       "    <tr style=\"text-align: right;\">\n",
       "      <th></th>\n",
       "      <th>Missing ratio</th>\n",
       "    </tr>\n",
       "  </thead>\n",
       "  <tbody>\n",
       "    <tr>\n",
       "      <th>Address</th>\n",
       "      <td>0.000000</td>\n",
       "    </tr>\n",
       "    <tr>\n",
       "      <th>Type</th>\n",
       "      <td>0.000000</td>\n",
       "    </tr>\n",
       "    <tr>\n",
       "      <th>Area</th>\n",
       "      <td>0.036333</td>\n",
       "    </tr>\n",
       "    <tr>\n",
       "      <th>Price</th>\n",
       "      <td>0.000000</td>\n",
       "    </tr>\n",
       "    <tr>\n",
       "      <th>Bedroom</th>\n",
       "      <td>38.362460</td>\n",
       "    </tr>\n",
       "    <tr>\n",
       "      <th>Toilet</th>\n",
       "      <td>42.279185</td>\n",
       "    </tr>\n",
       "    <tr>\n",
       "      <th>Floor</th>\n",
       "      <td>54.421756</td>\n",
       "    </tr>\n",
       "    <tr>\n",
       "      <th>Furniture</th>\n",
       "      <td>58.511063</td>\n",
       "    </tr>\n",
       "    <tr>\n",
       "      <th>Direction</th>\n",
       "      <td>78.234567</td>\n",
       "    </tr>\n",
       "    <tr>\n",
       "      <th>Legal</th>\n",
       "      <td>31.195727</td>\n",
       "    </tr>\n",
       "    <tr>\n",
       "      <th>Posting date</th>\n",
       "      <td>0.000000</td>\n",
       "    </tr>\n",
       "    <tr>\n",
       "      <th>Expiry date</th>\n",
       "      <td>0.000000</td>\n",
       "    </tr>\n",
       "    <tr>\n",
       "      <th>Ad type</th>\n",
       "      <td>0.000000</td>\n",
       "    </tr>\n",
       "    <tr>\n",
       "      <th>Ad code</th>\n",
       "      <td>0.000000</td>\n",
       "    </tr>\n",
       "  </tbody>\n",
       "</table>\n",
       "</div>"
      ],
      "text/plain": [
       "              Missing ratio\n",
       "Address            0.000000\n",
       "Type               0.000000\n",
       "Area               0.036333\n",
       "Price              0.000000\n",
       "Bedroom           38.362460\n",
       "Toilet            42.279185\n",
       "Floor             54.421756\n",
       "Furniture         58.511063\n",
       "Direction         78.234567\n",
       "Legal             31.195727\n",
       "Posting date       0.000000\n",
       "Expiry date        0.000000\n",
       "Ad type            0.000000\n",
       "Ad code            0.000000"
      ]
     },
     "execution_count": 1222,
     "metadata": {},
     "output_type": "execute_result"
    }
   ],
   "source": [
    "def missing_ratio(column):\n",
    "    missing_values = column.isnull().sum()\n",
    "    total_values = len(column)\n",
    "    return (missing_values / total_values) * 100\n",
    "\n",
    "missing_ratios_df = real_estate_for_sale_df.agg(missing_ratio).to_frame()\n",
    "missing_ratios_df.columns = ['Missing ratio']\n",
    "\n",
    "missing_ratios_df"
   ]
  },
  {
   "cell_type": "markdown",
   "metadata": {},
   "source": [
    "- We can see that the fields `Address`, `Type`, `Price`, `Posting date`, `Expiry date`, `Ad type`, `Ad code` have no missing values. This is easy to understand the reasons: The `Address`, `Type` and `Price` is the basic data that a post have to contain.\n",
    "-  The other fields like `Bedroom`, `Toilet`, `Floor`, `Furniture` are more special. The dataset contain many types of real easte, some of them are `Đất nền dự án`, `Đất bán`, `Trang trại, khu nghỉ dưỡng`, these types of real easte will not have the information of above fields. So reasonly, the fields will be lacked. We will consider it more clearly in the next part.\n",
    "- All the rests is have a large ratio of missing value. from *31.176588 %* in `Legal` up to *78.23849 %* in `Direction`. So the data preprocessing of data is so necessary before we make the analysis."
   ]
  },
  {
   "cell_type": "markdown",
   "metadata": {},
   "source": [
    "#### **The meaning of each columns**\n",
    "Let's see all the columns of the dataset."
   ]
  },
  {
   "cell_type": "code",
   "execution_count": 1223,
   "metadata": {},
   "outputs": [
    {
     "data": {
      "text/plain": [
       "['Address',\n",
       " 'Type',\n",
       " 'Area',\n",
       " 'Price',\n",
       " 'Bedroom',\n",
       " 'Toilet',\n",
       " 'Floor',\n",
       " 'Furniture',\n",
       " 'Direction',\n",
       " 'Legal',\n",
       " 'Posting date',\n",
       " 'Expiry date',\n",
       " 'Ad type',\n",
       " 'Ad code']"
      ]
     },
     "execution_count": 1223,
     "metadata": {},
     "output_type": "execute_result"
    }
   ],
   "source": [
    "real_estate_for_sale_df.columns.to_list()"
   ]
  },
  {
   "cell_type": "markdown",
   "metadata": {},
   "source": [
    "- `Address`: address of the real estate. With the real estate is apartment, the address can also contain the Project of the real estate.\n",
    "- `Type` : the category of the real estate.\n",
    "- `Area`: the area of the real estate.\n",
    "- `Price`: the price of the real estate. It can be the total price or just the price per m^2.\n",
    "- `Bedroom`: number of bedroom in the real estate.\n",
    "- `Toilet`: number of toilet in the real estate.\n",
    "- `Floor`: number of floor.\n",
    "- `Furniture`: the furniture status of the real estate.\n",
    "- `Direction`: the direction of the real estate.\n",
    "- `Legal`: Some legal policy of the real estate.\n",
    "- `Posting date`: The day that the advertisement was posted.\n",
    "- `Expiry date`: the day the real estate was enable.\n",
    "- `Ad type`: the type of advertisement.\n",
    "- `Ad code`: the code of advertisement."
   ]
  },
  {
   "cell_type": "markdown",
   "metadata": {},
   "source": [
    "#### Data type of each colmuns:"
   ]
  },
  {
   "cell_type": "code",
   "execution_count": 1224,
   "metadata": {},
   "outputs": [
    {
     "data": {
      "text/plain": [
       "Address         object\n",
       "Type            object\n",
       "Area            object\n",
       "Price           object\n",
       "Bedroom         object\n",
       "Toilet          object\n",
       "Floor           object\n",
       "Furniture       object\n",
       "Direction       object\n",
       "Legal           object\n",
       "Posting date    object\n",
       "Expiry date     object\n",
       "Ad type         object\n",
       "Ad code          int64\n",
       "dtype: object"
      ]
     },
     "execution_count": 1224,
     "metadata": {},
     "output_type": "execute_result"
    }
   ],
   "source": [
    "cols_type = real_estate_for_sale_df.dtypes\n",
    "cols_type"
   ]
  },
  {
   "cell_type": "markdown",
   "metadata": {},
   "source": [
    "- Nearly all of the columns is in Object type. These columns will not suitable for the further analysis. So we need to do some preprocessing on the data types."
   ]
  },
  {
   "cell_type": "markdown",
   "metadata": {},
   "source": [
    "### Some preprocessing:\n",
    "\n",
    "- **Some obsevation:**\n",
    "    - `Area`, `Price`, `Bedroom`, `Toilet` and `Floor` should be numerical columns, so we will convert them into numeric data types.\n",
    "\n",
    "### Preprocessing for numeric columns:\n",
    "    "
   ]
  },
  {
   "cell_type": "markdown",
   "metadata": {},
   "source": [
    "#### **1. Area:**\n",
    "First, we will find that if the values is in the same unit."
   ]
  },
  {
   "cell_type": "code",
   "execution_count": 1225,
   "metadata": {},
   "outputs": [
    {
     "data": {
      "text/plain": [
       "{'m²'}"
      ]
     },
     "execution_count": 1225,
     "metadata": {},
     "output_type": "execute_result"
    }
   ],
   "source": [
    "area_values = real_estate_for_sale_df[real_estate_for_sale_df['Area'].notna()]['Area'].to_list()\n",
    "\n",
    "unit_list = []\n",
    "value_list = []\n",
    "for area in area_values:\n",
    "    unit_list.append(area.split(' ')[1])\n",
    "    value_list.append(area.split(' ')[0])\n",
    "\n",
    "set(unit_list)\n"
   ]
  },
  {
   "cell_type": "markdown",
   "metadata": {},
   "source": [
    "So we can see that all the values in columns `Area` is in the `m²` unit. Also. Now we just set the `Area` columns with the new value, change the data type to `float` then rename it for a clearly meaning."
   ]
  },
  {
   "cell_type": "code",
   "execution_count": 1226,
   "metadata": {},
   "outputs": [],
   "source": [
    "\n",
    "def clean_area(area):\n",
    "    \n",
    "    if pd.isna(area):\n",
    "        return area\n",
    "    \n",
    "    area = area.split(' ')[0]\n",
    "    if (',' in area) and ('.' in area):\n",
    "        cleaned_area = area.replace('.', '').replace(',', '.')\n",
    "    elif ',' in area:\n",
    "        cleaned_area = area.replace(',', '.')\n",
    "    else:\n",
    "        cleaned_area = area\n",
    "    \n",
    "    if '.' in area:\n",
    "        count = len(area.split('.')[-1])\n",
    "        if count == 3:\n",
    "            cleaned_area = area.replace('.', '')\n",
    "    \n",
    "    return cleaned_area\n",
    "\n",
    "real_estate_for_sale_df.loc[:,'Area'] = real_estate_for_sale_df.loc[:,'Area'].apply(clean_area)\n",
    "real_estate_for_sale_df['Area'] = real_estate_for_sale_df['Area'].astype('float64')\n",
    "\n",
    "# Drop the area that is nan\n",
    "real_estate_for_sale_df = real_estate_for_sale_df[real_estate_for_sale_df['Area'].notna()]\n",
    "real_estate_for_sale_df.rename(columns={'Area': 'Area(m2)'}, inplace=True)"
   ]
  },
  {
   "cell_type": "markdown",
   "metadata": {},
   "source": [
    "#### **Price:**\n",
    "First, we will find that if the values is in the same unit."
   ]
  },
  {
   "cell_type": "code",
   "execution_count": 1227,
   "metadata": {},
   "outputs": [
    {
     "data": {
      "text/plain": [
       "{'nghìn/m²', 'thuận', 'triệu', 'triệu/m²', 'tỷ', 'tỷ/m²'}"
      ]
     },
     "execution_count": 1227,
     "metadata": {},
     "output_type": "execute_result"
    }
   ],
   "source": [
    "\n",
    "price_values = real_estate_for_sale_df['Price'].to_list()\n",
    "\n",
    "unit_list = []\n",
    "value_list = []\n",
    "for price in price_values:\n",
    "    unit_list.append(price.split(' ')[1])\n",
    "    value_list.append(price.split(' ')[0])\n",
    "\n",
    "set(unit_list)"
   ]
  },
  {
   "cell_type": "markdown",
   "metadata": {},
   "source": [
    "The `Price` column contains various units, so we will convert them to the `VNĐ` unit"
   ]
  },
  {
   "cell_type": "code",
   "execution_count": 1228,
   "metadata": {},
   "outputs": [],
   "source": [
    "# raise ExceptionGroup(\"NotImplemented\")\n",
    "def update_price(price, area):\n",
    "    \n",
    "    new_price = 0\n",
    "    if 'nghìn/m²' in price:\n",
    "        new_price = float(price.split(' ')[0]) * area\n",
    "\n",
    "    elif 'triệu' in price:\n",
    "        new_price, unit = price.split(' ')\n",
    "        if unit.strip() == 'triệu':\n",
    "            new_price = float(new_price.replace(',', '.'))\n",
    "            new_price *= 1000000\n",
    "        elif unit.strip() == 'triệu/m²':\n",
    "            new_price = float(new_price.replace(',', '.'))\n",
    "            new_price *= area * 1000000\n",
    "\n",
    "    elif 'tỷ' in price:\n",
    "        new_price, unit = price.split(' ')\n",
    "        if unit.strip() == 'tỷ/m²':\n",
    "            new_price = float(new_price.replace(',', '.'))\n",
    "            new_price *= area * 1000000000\n",
    "        else:\n",
    "            new_price = float(new_price.replace(',', '.'))\n",
    "            new_price *= 1000000000\n",
    "   \n",
    "    return \"{:0,.2f}\".format(new_price) if new_price != 0 else 'thỏa thuận'\n",
    "\n",
    "\n",
    "real_estate_for_sale_df['Price'] = real_estate_for_sale_df.apply(lambda row: update_price(row['Price'], row['Area(m2)']), axis=1)\n",
    "\n",
    "real_estate_for_sale_df.rename(columns={'Price': 'Price(VNĐ)'}, inplace=True)\n"
   ]
  },
  {
   "cell_type": "markdown",
   "metadata": {},
   "source": [
    "#### **Bedroom, Toilet, Floor:**"
   ]
  },
  {
   "cell_type": "code",
   "execution_count": 1229,
   "metadata": {},
   "outputs": [
    {
     "name": "stdout",
     "output_type": "stream",
     "text": [
      "Bedroom {'phòng'}\n",
      "Toilet {'phòng'}\n",
      "Floor {'tầng'}\n"
     ]
    }
   ],
   "source": [
    "\n",
    "column_list = ['Bedroom', 'Toilet', 'Floor']\n",
    "unit_dict = {}\n",
    "\n",
    "for column in column_list:\n",
    "    column_mask = real_estate_for_sale_df[column].notna()\n",
    "    column_values = real_estate_for_sale_df.loc[column_mask, column]\n",
    "    \n",
    "    unit_list = []\n",
    "    value_list = []\n",
    "    \n",
    "    for value in column_values:\n",
    "        unit_list.append(value.split(' ')[1])\n",
    "        value_list.append(value.split(' ')[0])\n",
    "    \n",
    "    unit_dict[column] = (set(unit_list), column_mask, value_list)\n",
    "\n",
    "for key, value in unit_dict.items():\n",
    "    print(key, value[0])\n"
   ]
  },
  {
   "cell_type": "markdown",
   "metadata": {},
   "source": [
    "We can see that all the values in three columns are in the same unit, and values is just can be the integer, so we just convert them to float, then rename the column"
   ]
  },
  {
   "cell_type": "code",
   "execution_count": 1230,
   "metadata": {},
   "outputs": [],
   "source": [
    "for key, value in unit_dict.items():\n",
    "    real_estate_for_sale_df.loc[value[1], key] = value[2]\n",
    "    real_estate_for_sale_df[key] = real_estate_for_sale_df[key].astype('float64')\n"
   ]
  },
  {
   "cell_type": "code",
   "execution_count": 1231,
   "metadata": {},
   "outputs": [],
   "source": [
    "real_estate_for_sale_df.rename(columns={'Bedroom': 'Bedroom(Phòng)'}, inplace=True)\n",
    "real_estate_for_sale_df.rename(columns={'Toilet': 'Toilet(Phòng)'}, inplace=True)\n",
    "real_estate_for_sale_df.rename(columns={'Floor': 'Floor(Tầng)'}, inplace=True)"
   ]
  },
  {
   "cell_type": "markdown",
   "metadata": {},
   "source": [
    "### Preprocessing for categorical columns:\n",
    "#### **Addresss:**"
   ]
  },
  {
   "cell_type": "markdown",
   "metadata": {},
   "source": [
    "- With the `Address` column, there is some thing we can dicuss here:\n",
    "    - The fully address is does not really meaningfull for my analysis. The base idea is that all the real estate is located in Ho Chi Minh City, so we can extract the district of the real estate.\n",
    "    - In many real estates, the address also contain the project they belong to. So we could also extract the project for further analysis."
   ]
  },
  {
   "cell_type": "markdown",
   "metadata": {},
   "source": [
    "##### Extract the district of real estates:"
   ]
  },
  {
   "cell_type": "code",
   "execution_count": 1232,
   "metadata": {},
   "outputs": [],
   "source": [
    "def extract_district(address):\n",
    "    split = address.split(',')\n",
    "    if 'Hồ Chí Minh' in split[-1] or 'TP.HCM' in split[-1]:\n",
    "        try:\n",
    "            district = split[-2].strip()\n",
    "        except:\n",
    "            split = address.split(' ')\n",
    "            district = split[-5] + \" \" + split[-4]\n",
    "        \n",
    "        prefix_list = ['quận', 'huyện', 'thành phố', 'q.', 'TP.']\n",
    "        for prefix in prefix_list:\n",
    "            if district.lower().strip().startswith(prefix.lower()):\n",
    "                district = district[len(prefix):].strip()\n",
    "                \n",
    "    else:\n",
    "        district = \"Không\"\n",
    "    \n",
    "    if 'Phường' in district or len(district) == 0:\n",
    "        district = \"Không\"\n",
    "    \n",
    "    return district"
   ]
  },
  {
   "cell_type": "markdown",
   "metadata": {},
   "source": [
    "##### Update value of the column"
   ]
  },
  {
   "cell_type": "code",
   "execution_count": 1233,
   "metadata": {},
   "outputs": [
    {
     "data": {
      "text/plain": [
       "District\n",
       "7             5243\n",
       "2             5109\n",
       "Bình Thạnh    4064\n",
       "9             4017\n",
       "Tân Bình      3521\n",
       "Thủ Đức       3129\n",
       "Gò Vấp        2964\n",
       "Tân Phú       2927\n",
       "1             2777\n",
       "Bình Tân      2515\n",
       "Phú Nhuận     2259\n",
       "3             2251\n",
       "12            2230\n",
       "10            2131\n",
       "Bình Chánh    1915\n",
       "Nhà Bè        1707\n",
       "8             1234\n",
       "Củ Chi        1014\n",
       "4              955\n",
       "6              816\n",
       "5              744\n",
       "11             696\n",
       "Hóc Môn        653\n",
       "Cần Giờ        141\n",
       "Name: count, dtype: int64"
      ]
     },
     "execution_count": 1233,
     "metadata": {},
     "output_type": "execute_result"
    }
   ],
   "source": [
    "\n",
    "real_estate_for_sale_df.loc[:,'District'] = real_estate_for_sale_df['Address'].apply(extract_district)\n",
    "\n",
    "real_estate_for_sale_df = real_estate_for_sale_df[real_estate_for_sale_df['District'] != 'Không']\n",
    "\n",
    "real_estate_for_sale_df['District'].value_counts()\n"
   ]
  },
  {
   "cell_type": "markdown",
   "metadata": {},
   "source": [
    "##### Extract the project of real estates:"
   ]
  },
  {
   "cell_type": "code",
   "execution_count": 1234,
   "metadata": {},
   "outputs": [],
   "source": [
    "def extract_project(address):\n",
    "    if 'Dự án' in address:\n",
    "        return address.split(',')[0]\n",
    "    else:\n",
    "        return 'Không'\n"
   ]
  },
  {
   "cell_type": "code",
   "execution_count": 1235,
   "metadata": {},
   "outputs": [
    {
     "data": {
      "text/plain": [
       "Project\n",
       "Không                                     38399\n",
       "Dự án Celadon City                          379\n",
       "Dự án Vinhomes Grand Park                   221\n",
       "Dự án An Phú An Khánh                       214\n",
       "Dự án KĐT Vạn Phúc City                     192\n",
       "                                          ...  \n",
       "Dự án Hồng Quang 13B conic Nam Sài Gòn        1\n",
       "Dự án Bình Mỹ Garden                          1\n",
       "Dự án KDC Tân Thạnh Đông                      1\n",
       "Dự án Thủ Đức Garden Homes                    1\n",
       "Dự án Chung cư Phan Xích Long                 1\n",
       "Name: count, Length: 926, dtype: int64"
      ]
     },
     "execution_count": 1235,
     "metadata": {},
     "output_type": "execute_result"
    }
   ],
   "source": [
    "real_estate_for_sale_df.loc[:, 'Project'] = real_estate_for_sale_df['Address'].apply(extract_project)\n",
    "real_estate_for_sale_df['Project'].value_counts()"
   ]
  },
  {
   "cell_type": "markdown",
   "metadata": {},
   "source": [
    "#### **Furniture:**"
   ]
  },
  {
   "cell_type": "markdown",
   "metadata": {},
   "source": [
    "- With the `Furniture` columns, the furniture status is given and describled by the customers. So there are many type of the furnitures. But we will use some simple status like `Không nội thất`, `Cơ bản`, `Đầy đủ`, `Cao cấp`, `Khác`. We will categorize all the values of this column to these types.        \n",
    "- We got the problem with the natural language, Unicode characters can be represented in different forms, so I use `unicodedata` to normalize all the data to a consistent form"
   ]
  },
  {
   "cell_type": "code",
   "execution_count": 1236,
   "metadata": {},
   "outputs": [],
   "source": [
    "deluxe_furniture_keywords = [\"cao cấp\", \"ntcc\", \"sang\", \"5 sao\", \"nhập khẩu\", \"hiện đại\", \"đạt chuẩn\"]\n",
    "fully_furniture_keywords = [\"đủ\", \"full\", \"tặng\", \"toàn bộ\", \"hoàn chỉnh\", \"hoàn thiện\", \"đẹp\", \"đã làm\", \"mới\"]\n",
    "basic_furniture_keywords = [\"cơ bản\", \"ít\", \"ntcb\", \"có\", \"ok\", \"dính tường\", \"căn bản\"]\n",
    "none_furniture_keywords = [\"thô\", \"trống\", \"không\", \"ko\"]\n",
    "\n",
    "\n",
    "def normalize_text(text):\n",
    "    if pd.isnull(text):\n",
    "        return \"Không có thông tin\"\n",
    "    # Normalize to NFC form\n",
    "    normalized_text = unicodedata.normalize('NFC', text.lower())\n",
    "    return normalized_text\n",
    "\n",
    "\n",
    "def clean_furniture(furniture):\n",
    "    if pd.isnull(furniture):\n",
    "        return \"Không có thông tin\"\n",
    "  \n",
    "    normalized_furniture = unicodedata.normalize('NFC', furniture.lower())\n",
    "\n",
    "    if any(keyword in normalized_furniture for keyword in deluxe_furniture_keywords):\n",
    "        return \"Nội thất sang trọng\"\n",
    "    elif any(keyword in normalized_furniture for keyword in fully_furniture_keywords) or len(normalized_furniture.split(',')) >= 4:\n",
    "        return \"Nội thất đầy đủ\"\n",
    "    elif any(keyword in normalized_furniture for keyword in basic_furniture_keywords) or 2 <= len(normalized_furniture.split(',')) < 4:\n",
    "        return \"Nội thất cơ bản\"\n",
    "    elif any(keyword in normalized_furniture for keyword in none_furniture_keywords):\n",
    "        return \"Không nội thất\"\n",
    "    else:\n",
    "        return \"Khác\"\n",
    "\n",
    "real_estate_for_sale_df['Furniture'] = real_estate_for_sale_df['Furniture'].apply(clean_furniture)\n"
   ]
  },
  {
   "cell_type": "code",
   "execution_count": 1237,
   "metadata": {},
   "outputs": [
    {
     "data": {
      "text/plain": [
       "Furniture\n",
       "Không có thông tin     32182\n",
       "Nội thất đầy đủ        14892\n",
       "Nội thất cơ bản         5642\n",
       "Nội thất sang trọng     1125\n",
       "Không nội thất           974\n",
       "Khác                     197\n",
       "Name: count, dtype: int64"
      ]
     },
     "execution_count": 1237,
     "metadata": {},
     "output_type": "execute_result"
    }
   ],
   "source": [
    "real_estate_for_sale_df['Furniture'].value_counts()"
   ]
  },
  {
   "cell_type": "markdown",
   "metadata": {},
   "source": [
    "#### **Legal:**\n",
    "\n",
    "With the `Legal` column, there will be categories below:\n",
    "- `Sổ đỏ và Sổ hồng`\n",
    "- `Sổ hồng`\n",
    "- `Sổ đỏ`\n",
    "- `Hợp đồng mua bán`\n",
    "- `Đang chờ sổ`\n",
    "- `Khác`\n",
    "\n",
    "For `NaN` values, I will replace by `Không có thông tin`"
   ]
  },
  {
   "cell_type": "code",
   "execution_count": 1238,
   "metadata": {},
   "outputs": [],
   "source": [
    "\n",
    "full_legal_keywords = [ \"sổ đỏ/ sổ hồng\",\"có sổ\", \"đầy đủ\", \"sang\", \"chuẩn\", \"rõ ràng\", \"ok\"]\n",
    "only_land_keywords = [\"sổ đỏ\"]\n",
    "only_house_keywords = [\"sổ hồng\", \"shr\"]\n",
    "contract_keywords = [\"hợp đồng\", \"hđmb\"]\n",
    "waiting_keywords = [\"chờ\"]\n",
    "\n",
    "\n",
    "def clean_legal(legal):\n",
    "    if pd.isnull(legal):\n",
    "        return \"Không có thông tin\"\n",
    "\n",
    "    normalized_legal = unicodedata.normalize('NFC', legal.lower())\n",
    "    \n",
    "    legal = normalized_legal.lower().strip()\n",
    "    if any(keyword in legal for keyword in full_legal_keywords):\n",
    "        return 'Sổ đỏ và sổ hồng'\n",
    "    elif any(keyword in legal for keyword in only_land_keywords):\n",
    "        return 'Sổ đỏ'\n",
    "    elif any(keyword in legal for keyword in only_house_keywords):\n",
    "        return'Sổ hồng'\n",
    "    elif any(keyword in legal for keyword in contract_keywords):\n",
    "        return 'Hợp đồng mua bán'\n",
    "    elif any(keyword in legal for keyword in waiting_keywords):\n",
    "        return 'Đang chờ sổ'\n",
    "    else:\n",
    "        \n",
    "        return 'Khác'"
   ]
  },
  {
   "cell_type": "code",
   "execution_count": 1239,
   "metadata": {},
   "outputs": [
    {
     "data": {
      "text/plain": [
       "Legal\n",
       "Sổ đỏ và sổ hồng      30427\n",
       "Không có thông tin    17156\n",
       "Hợp đồng mua bán       3533\n",
       "Sổ hồng                2730\n",
       "Đang chờ sổ             627\n",
       "Khác                    277\n",
       "Sổ đỏ                   262\n",
       "Name: count, dtype: int64"
      ]
     },
     "execution_count": 1239,
     "metadata": {},
     "output_type": "execute_result"
    }
   ],
   "source": [
    "real_estate_for_sale_df['Legal'] = real_estate_for_sale_df['Legal'].apply(clean_legal)\n",
    "real_estate_for_sale_df['Legal'].value_counts()\n"
   ]
  },
  {
   "cell_type": "markdown",
   "metadata": {},
   "source": [
    "#### **Posting date:**\n",
    "We will convert this column to the `datetime` type"
   ]
  },
  {
   "cell_type": "code",
   "execution_count": 1240,
   "metadata": {},
   "outputs": [],
   "source": [
    "real_estate_for_sale_df['Posting date'] = pd.to_datetime(real_estate_for_sale_df['Posting date'], format = '%d/%m/%Y')"
   ]
  },
  {
   "cell_type": "markdown",
   "metadata": {},
   "source": [
    "### **Fill the missing values**"
   ]
  },
  {
   "cell_type": "markdown",
   "metadata": {},
   "source": [
    "\n",
    "First, check the missing ratio now"
   ]
  },
  {
   "cell_type": "code",
   "execution_count": 1241,
   "metadata": {},
   "outputs": [
    {
     "data": {
      "text/html": [
       "<div>\n",
       "<style scoped>\n",
       "    .dataframe tbody tr th:only-of-type {\n",
       "        vertical-align: middle;\n",
       "    }\n",
       "\n",
       "    .dataframe tbody tr th {\n",
       "        vertical-align: top;\n",
       "    }\n",
       "\n",
       "    .dataframe thead th {\n",
       "        text-align: right;\n",
       "    }\n",
       "</style>\n",
       "<table border=\"1\" class=\"dataframe\">\n",
       "  <thead>\n",
       "    <tr style=\"text-align: right;\">\n",
       "      <th></th>\n",
       "      <th>0</th>\n",
       "    </tr>\n",
       "  </thead>\n",
       "  <tbody>\n",
       "    <tr>\n",
       "      <th>Address</th>\n",
       "      <td>0.000000</td>\n",
       "    </tr>\n",
       "    <tr>\n",
       "      <th>Type</th>\n",
       "      <td>0.000000</td>\n",
       "    </tr>\n",
       "    <tr>\n",
       "      <th>Area(m2)</th>\n",
       "      <td>0.000000</td>\n",
       "    </tr>\n",
       "    <tr>\n",
       "      <th>Price(VNĐ)</th>\n",
       "      <td>0.000000</td>\n",
       "    </tr>\n",
       "    <tr>\n",
       "      <th>Bedroom(Phòng)</th>\n",
       "      <td>38.355268</td>\n",
       "    </tr>\n",
       "    <tr>\n",
       "      <th>Toilet(Phòng)</th>\n",
       "      <td>42.265324</td>\n",
       "    </tr>\n",
       "    <tr>\n",
       "      <th>Floor(Tầng)</th>\n",
       "      <td>54.406311</td>\n",
       "    </tr>\n",
       "    <tr>\n",
       "      <th>Furniture</th>\n",
       "      <td>0.000000</td>\n",
       "    </tr>\n",
       "    <tr>\n",
       "      <th>Direction</th>\n",
       "      <td>78.228387</td>\n",
       "    </tr>\n",
       "    <tr>\n",
       "      <th>Legal</th>\n",
       "      <td>0.000000</td>\n",
       "    </tr>\n",
       "    <tr>\n",
       "      <th>Posting date</th>\n",
       "      <td>0.000000</td>\n",
       "    </tr>\n",
       "    <tr>\n",
       "      <th>Expiry date</th>\n",
       "      <td>0.000000</td>\n",
       "    </tr>\n",
       "    <tr>\n",
       "      <th>Ad type</th>\n",
       "      <td>0.000000</td>\n",
       "    </tr>\n",
       "    <tr>\n",
       "      <th>Ad code</th>\n",
       "      <td>0.000000</td>\n",
       "    </tr>\n",
       "    <tr>\n",
       "      <th>District</th>\n",
       "      <td>0.000000</td>\n",
       "    </tr>\n",
       "    <tr>\n",
       "      <th>Project</th>\n",
       "      <td>0.000000</td>\n",
       "    </tr>\n",
       "  </tbody>\n",
       "</table>\n",
       "</div>"
      ],
      "text/plain": [
       "                        0\n",
       "Address          0.000000\n",
       "Type             0.000000\n",
       "Area(m2)         0.000000\n",
       "Price(VNĐ)       0.000000\n",
       "Bedroom(Phòng)  38.355268\n",
       "Toilet(Phòng)   42.265324\n",
       "Floor(Tầng)     54.406311\n",
       "Furniture        0.000000\n",
       "Direction       78.228387\n",
       "Legal            0.000000\n",
       "Posting date     0.000000\n",
       "Expiry date      0.000000\n",
       "Ad type          0.000000\n",
       "Ad code          0.000000\n",
       "District         0.000000\n",
       "Project          0.000000"
      ]
     },
     "execution_count": 1241,
     "metadata": {},
     "output_type": "execute_result"
    }
   ],
   "source": [
    "missing_ratios_df = real_estate_for_sale_df.agg(missing_ratio).to_frame()\n",
    "missing_ratios_df"
   ]
  },
  {
   "cell_type": "markdown",
   "metadata": {},
   "source": [
    "As we discuss above, with the `Bedroom`, `Toilet`, `Floor` columns are not the attribute of some type of real estate. so with  `Đất nền dự án`, `Đất bán`, `Trang trại, khu nghỉ dưỡng` , the `Nan` will be replaced by `Không`, with the others, I also group it by the category and fill by the mean of each."
   ]
  },
  {
   "cell_type": "code",
   "execution_count": 1242,
   "metadata": {},
   "outputs": [],
   "source": [
    "replace_nan_types = ['Đất nền dự án', 'Đất bán', 'Trang trại, khu nghỉ dưỡng']\n",
    "columns = ['Bedroom(Phòng)', 'Toilet(Phòng)', 'Floor(Tầng)']\n",
    "\n",
    "for col in columns:\n",
    "    mask = real_estate_for_sale_df['Type'].isin(replace_nan_types)\n",
    "    real_estate_for_sale_df.loc[mask, col] = real_estate_for_sale_df.loc[mask, col].fillna('Không')\n",
    "    real_estate_for_sale_df.loc[~mask , col] = real_estate_for_sale_df.loc[ ~mask, col].fillna(round(real_estate_for_sale_df.loc[~mask, col].mean(),0))"
   ]
  },
  {
   "cell_type": "code",
   "execution_count": 1243,
   "metadata": {},
   "outputs": [
    {
     "data": {
      "text/html": [
       "<div>\n",
       "<style scoped>\n",
       "    .dataframe tbody tr th:only-of-type {\n",
       "        vertical-align: middle;\n",
       "    }\n",
       "\n",
       "    .dataframe tbody tr th {\n",
       "        vertical-align: top;\n",
       "    }\n",
       "\n",
       "    .dataframe thead th {\n",
       "        text-align: right;\n",
       "    }\n",
       "</style>\n",
       "<table border=\"1\" class=\"dataframe\">\n",
       "  <thead>\n",
       "    <tr style=\"text-align: right;\">\n",
       "      <th></th>\n",
       "      <th>0</th>\n",
       "    </tr>\n",
       "  </thead>\n",
       "  <tbody>\n",
       "    <tr>\n",
       "      <th>Address</th>\n",
       "      <td>0.000000</td>\n",
       "    </tr>\n",
       "    <tr>\n",
       "      <th>Type</th>\n",
       "      <td>0.000000</td>\n",
       "    </tr>\n",
       "    <tr>\n",
       "      <th>Area(m2)</th>\n",
       "      <td>0.000000</td>\n",
       "    </tr>\n",
       "    <tr>\n",
       "      <th>Price(VNĐ)</th>\n",
       "      <td>0.000000</td>\n",
       "    </tr>\n",
       "    <tr>\n",
       "      <th>Bedroom(Phòng)</th>\n",
       "      <td>0.000000</td>\n",
       "    </tr>\n",
       "    <tr>\n",
       "      <th>Toilet(Phòng)</th>\n",
       "      <td>0.000000</td>\n",
       "    </tr>\n",
       "    <tr>\n",
       "      <th>Floor(Tầng)</th>\n",
       "      <td>0.000000</td>\n",
       "    </tr>\n",
       "    <tr>\n",
       "      <th>Furniture</th>\n",
       "      <td>0.000000</td>\n",
       "    </tr>\n",
       "    <tr>\n",
       "      <th>Direction</th>\n",
       "      <td>78.228387</td>\n",
       "    </tr>\n",
       "    <tr>\n",
       "      <th>Legal</th>\n",
       "      <td>0.000000</td>\n",
       "    </tr>\n",
       "    <tr>\n",
       "      <th>Posting date</th>\n",
       "      <td>0.000000</td>\n",
       "    </tr>\n",
       "    <tr>\n",
       "      <th>Expiry date</th>\n",
       "      <td>0.000000</td>\n",
       "    </tr>\n",
       "    <tr>\n",
       "      <th>Ad type</th>\n",
       "      <td>0.000000</td>\n",
       "    </tr>\n",
       "    <tr>\n",
       "      <th>Ad code</th>\n",
       "      <td>0.000000</td>\n",
       "    </tr>\n",
       "    <tr>\n",
       "      <th>District</th>\n",
       "      <td>0.000000</td>\n",
       "    </tr>\n",
       "    <tr>\n",
       "      <th>Project</th>\n",
       "      <td>0.000000</td>\n",
       "    </tr>\n",
       "  </tbody>\n",
       "</table>\n",
       "</div>"
      ],
      "text/plain": [
       "                        0\n",
       "Address          0.000000\n",
       "Type             0.000000\n",
       "Area(m2)         0.000000\n",
       "Price(VNĐ)       0.000000\n",
       "Bedroom(Phòng)   0.000000\n",
       "Toilet(Phòng)    0.000000\n",
       "Floor(Tầng)      0.000000\n",
       "Furniture        0.000000\n",
       "Direction       78.228387\n",
       "Legal            0.000000\n",
       "Posting date     0.000000\n",
       "Expiry date      0.000000\n",
       "Ad type          0.000000\n",
       "Ad code          0.000000\n",
       "District         0.000000\n",
       "Project          0.000000"
      ]
     },
     "execution_count": 1243,
     "metadata": {},
     "output_type": "execute_result"
    }
   ],
   "source": [
    "missing_ratios_df = real_estate_for_sale_df.agg(missing_ratio).to_frame()\n",
    "missing_ratios_df"
   ]
  },
  {
   "cell_type": "markdown",
   "metadata": {},
   "source": [
    "#### Delete unnecessary columns:\n",
    "We got some observation here:\n",
    "- The `Direction` column, which have above 78 percent of missing data should be removed.\n",
    "- The `Expiry date`, `Ad type`, `Ad code` that not contain meaningful data for analysis, also can be removed.\n",
    "- The `Address` column, after extract all neccessary data, also become meaningless."
   ]
  },
  {
   "cell_type": "code",
   "execution_count": 1244,
   "metadata": {},
   "outputs": [],
   "source": [
    "real_estate_for_sale_df.drop(columns=['Direction', 'Expiry date', 'Ad type', 'Ad code', 'Address'], inplace= True)"
   ]
  },
  {
   "cell_type": "markdown",
   "metadata": {},
   "source": [
    "### Save the processed data"
   ]
  },
  {
   "cell_type": "code",
   "execution_count": 1245,
   "metadata": {},
   "outputs": [],
   "source": [
    "real_estate_for_sale_df.to_csv(\"../Data/cleaned_real_estate_for_sale.csv\", index= False)"
   ]
  },
  {
   "cell_type": "code",
   "execution_count": 1247,
   "metadata": {},
   "outputs": [
    {
     "data": {
      "text/plain": [
       "Legal\n",
       "Sổ đỏ và sổ hồng      30427\n",
       "Không có thông tin    17156\n",
       "Hợp đồng mua bán       3533\n",
       "Sổ hồng                2730\n",
       "Đang chờ sổ             627\n",
       "Khác                    277\n",
       "Sổ đỏ                   262\n",
       "Name: count, dtype: int64"
      ]
     },
     "execution_count": 1247,
     "metadata": {},
     "output_type": "execute_result"
    }
   ],
   "source": [
    "real_estate_for_sale_df['Legal'].value_counts()\n"
   ]
  }
 ],
 "metadata": {
  "kernelspec": {
   "display_name": "Python 3",
   "language": "python",
   "name": "python3"
  },
  "language_info": {
   "codemirror_mode": {
    "name": "ipython",
    "version": 3
   },
   "file_extension": ".py",
   "mimetype": "text/x-python",
   "name": "python",
   "nbconvert_exporter": "python",
   "pygments_lexer": "ipython3",
   "version": "3.11.4"
  }
 },
 "nbformat": 4,
 "nbformat_minor": 2
}
