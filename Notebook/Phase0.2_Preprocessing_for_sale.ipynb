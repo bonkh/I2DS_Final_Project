{
 "cells": [
  {
   "cell_type": "markdown",
   "metadata": {},
   "source": [
    "# <div style=\" text-align: center; font-weight: bold\">Phase 02: Preprocessing data</div>\n",
    "\n",
    "This is the preprocessing phase for data of the real estates for sale."
   ]
  },
  {
   "cell_type": "markdown",
   "metadata": {},
   "source": [
    "## Import necessary Python modules"
   ]
  },
  {
   "cell_type": "code",
   "execution_count": 96,
   "metadata": {},
   "outputs": [],
   "source": [
    "import numpy as np\n",
    "import pandas as pd\n",
    "import matplotlib.pyplot as plt"
   ]
  },
  {
   "cell_type": "markdown",
   "metadata": {},
   "source": [
    "## **Explore the data**"
   ]
  },
  {
   "cell_type": "markdown",
   "metadata": {},
   "source": [
    "### Read the data from file:"
   ]
  },
  {
   "cell_type": "code",
   "execution_count": 97,
   "metadata": {},
   "outputs": [
    {
     "data": {
      "text/html": [
       "<div>\n",
       "<style scoped>\n",
       "    .dataframe tbody tr th:only-of-type {\n",
       "        vertical-align: middle;\n",
       "    }\n",
       "\n",
       "    .dataframe tbody tr th {\n",
       "        vertical-align: top;\n",
       "    }\n",
       "\n",
       "    .dataframe thead th {\n",
       "        text-align: right;\n",
       "    }\n",
       "</style>\n",
       "<table border=\"1\" class=\"dataframe\">\n",
       "  <thead>\n",
       "    <tr style=\"text-align: right;\">\n",
       "      <th></th>\n",
       "      <th>Address</th>\n",
       "      <th>Area</th>\n",
       "      <th>Price</th>\n",
       "      <th>Bedroom</th>\n",
       "      <th>Toilet</th>\n",
       "      <th>Floor</th>\n",
       "      <th>Furniture</th>\n",
       "      <th>Direction</th>\n",
       "      <th>Legal</th>\n",
       "      <th>Posting date</th>\n",
       "      <th>Expiry date</th>\n",
       "      <th>Ad type</th>\n",
       "      <th>Ad code</th>\n",
       "    </tr>\n",
       "  </thead>\n",
       "  <tbody>\n",
       "    <tr>\n",
       "      <th>0</th>\n",
       "      <td>Dự án Zenity, Đường Võ Văn Kiệt, Phường Cầu Kh...</td>\n",
       "      <td>161,08 m²</td>\n",
       "      <td>17,98 tỷ</td>\n",
       "      <td>3 phòng</td>\n",
       "      <td>3 phòng</td>\n",
       "      <td>NaN</td>\n",
       "      <td>Đầy đủ</td>\n",
       "      <td>Đông - Bắc</td>\n",
       "      <td>Sổ đỏ/ Sổ hồng</td>\n",
       "      <td>06/12/2023</td>\n",
       "      <td>13/12/2023</td>\n",
       "      <td>Tin VIP Kim Cương</td>\n",
       "      <td>38720367</td>\n",
       "    </tr>\n",
       "    <tr>\n",
       "      <th>1</th>\n",
       "      <td>Dự án Zenity, Đường Võ Văn Kiệt, Phường Cầu Kh...</td>\n",
       "      <td>116 m²</td>\n",
       "      <td>9,8 tỷ</td>\n",
       "      <td>3 phòng</td>\n",
       "      <td>2 phòng</td>\n",
       "      <td>NaN</td>\n",
       "      <td>Đầy đủ</td>\n",
       "      <td>Đông - Bắc</td>\n",
       "      <td>Sổ đỏ/ Sổ hồng</td>\n",
       "      <td>03/12/2023</td>\n",
       "      <td>10/12/2023</td>\n",
       "      <td>Tin VIP Kim Cương</td>\n",
       "      <td>38693652</td>\n",
       "    </tr>\n",
       "    <tr>\n",
       "      <th>2</th>\n",
       "      <td>Dự án Zenity, Đường Võ Văn Kiệt, Phường Cầu Kh...</td>\n",
       "      <td>108 m²</td>\n",
       "      <td>70 triệu/m²</td>\n",
       "      <td>2 phòng</td>\n",
       "      <td>2 phòng</td>\n",
       "      <td>NaN</td>\n",
       "      <td>Đầy đủ.</td>\n",
       "      <td>Đông - Nam</td>\n",
       "      <td>Sổ đỏ/ Sổ hồng</td>\n",
       "      <td>01/12/2023</td>\n",
       "      <td>11/12/2023</td>\n",
       "      <td>Tin VIP Kim Cương</td>\n",
       "      <td>38481731</td>\n",
       "    </tr>\n",
       "    <tr>\n",
       "      <th>3</th>\n",
       "      <td>Dự án Lumiere Riverside, Đường Xa Lộ Hà Nội, P...</td>\n",
       "      <td>76 m²</td>\n",
       "      <td>6,2 tỷ</td>\n",
       "      <td>2 phòng</td>\n",
       "      <td>2 phòng</td>\n",
       "      <td>NaN</td>\n",
       "      <td>Đầy đủ</td>\n",
       "      <td>NaN</td>\n",
       "      <td>Hợp đồng mua bán</td>\n",
       "      <td>05/12/2023</td>\n",
       "      <td>12/12/2023</td>\n",
       "      <td>Tin VIP Kim Cương</td>\n",
       "      <td>38393009</td>\n",
       "    </tr>\n",
       "    <tr>\n",
       "      <th>4</th>\n",
       "      <td>Dự án Zenity,  Quận 1, Hồ Chí Minh</td>\n",
       "      <td>77 m²</td>\n",
       "      <td>80 triệu/m²</td>\n",
       "      <td>2 phòng</td>\n",
       "      <td>2 phòng</td>\n",
       "      <td>NaN</td>\n",
       "      <td>Đầy đủ</td>\n",
       "      <td>NaN</td>\n",
       "      <td>Sổ đỏ/ Sổ hồng</td>\n",
       "      <td>07/12/2023</td>\n",
       "      <td>14/12/2023</td>\n",
       "      <td>Tin VIP Kim Cương</td>\n",
       "      <td>38734339</td>\n",
       "    </tr>\n",
       "  </tbody>\n",
       "</table>\n",
       "</div>"
      ],
      "text/plain": [
       "                                             Address       Area        Price  \\\n",
       "0  Dự án Zenity, Đường Võ Văn Kiệt, Phường Cầu Kh...  161,08 m²     17,98 tỷ   \n",
       "1  Dự án Zenity, Đường Võ Văn Kiệt, Phường Cầu Kh...     116 m²       9,8 tỷ   \n",
       "2  Dự án Zenity, Đường Võ Văn Kiệt, Phường Cầu Kh...     108 m²  70 triệu/m²   \n",
       "3  Dự án Lumiere Riverside, Đường Xa Lộ Hà Nội, P...      76 m²       6,2 tỷ   \n",
       "4                 Dự án Zenity,  Quận 1, Hồ Chí Minh      77 m²  80 triệu/m²   \n",
       "\n",
       "   Bedroom   Toilet Floor Furniture   Direction             Legal  \\\n",
       "0  3 phòng  3 phòng   NaN    Đầy đủ  Đông - Bắc    Sổ đỏ/ Sổ hồng   \n",
       "1  3 phòng  2 phòng   NaN    Đầy đủ  Đông - Bắc    Sổ đỏ/ Sổ hồng   \n",
       "2  2 phòng  2 phòng   NaN   Đầy đủ.  Đông - Nam    Sổ đỏ/ Sổ hồng   \n",
       "3  2 phòng  2 phòng   NaN    Đầy đủ         NaN  Hợp đồng mua bán   \n",
       "4  2 phòng  2 phòng   NaN    Đầy đủ         NaN    Sổ đỏ/ Sổ hồng   \n",
       "\n",
       "  Posting date Expiry date            Ad type   Ad code  \n",
       "0   06/12/2023  13/12/2023  Tin VIP Kim Cương  38720367  \n",
       "1   03/12/2023  10/12/2023  Tin VIP Kim Cương  38693652  \n",
       "2   01/12/2023  11/12/2023  Tin VIP Kim Cương  38481731  \n",
       "3   05/12/2023  12/12/2023  Tin VIP Kim Cương  38393009  \n",
       "4   07/12/2023  14/12/2023  Tin VIP Kim Cương  38734339  "
      ]
     },
     "execution_count": 97,
     "metadata": {},
     "output_type": "execute_result"
    }
   ],
   "source": [
    "real_estate_for_sale_df = pd.read_csv('../Data/real_estate_for_sale.csv')\n",
    "real_estate_for_sale_df.head()"
   ]
  },
  {
   "cell_type": "markdown",
   "metadata": {},
   "source": [
    "#### Num of rows and columns:"
   ]
  },
  {
   "cell_type": "code",
   "execution_count": 98,
   "metadata": {},
   "outputs": [
    {
     "name": "stdout",
     "output_type": "stream",
     "text": [
      "Num of rows:  55358\n",
      "Num of columns:  13\n"
     ]
    }
   ],
   "source": [
    "num_rows, num_cols = real_estate_for_sale_df.shape\n",
    "\n",
    "print(f'Num of rows:  {num_rows}')\n",
    "print (f'Num of columns:  {num_cols}')"
   ]
  },
  {
   "cell_type": "markdown",
   "metadata": {},
   "source": [
    "#### The meaning of each line. Does it matter if a line have different meaning?"
   ]
  },
  {
   "cell_type": "markdown",
   "metadata": {},
   "source": [
    "The data is collected by crawling raw data from the website https://batdongsan.com.vn/    \n",
    "Each line is the record of a advertisement of real estate. So there isn't any line that has different meaning."
   ]
  },
  {
   "cell_type": "markdown",
   "metadata": {},
   "source": [
    "#### Num of duplicated rows:"
   ]
  },
  {
   "cell_type": "code",
   "execution_count": 99,
   "metadata": {},
   "outputs": [
    {
     "name": "stdout",
     "output_type": "stream",
     "text": [
      " Nums of duplicated rows: 275\n"
     ]
    }
   ],
   "source": [
    "duplicate = real_estate_for_sale_df.duplicated().sum()\n",
    "\n",
    "print (f' Nums of duplicated rows: {duplicate}')"
   ]
  },
  {
   "cell_type": "markdown",
   "metadata": {},
   "source": [
    "we can see there are duplicated rows in the dataset. The reason here is there are some advertisements is reposted in the website, result in the duplicated data.\n",
    "So, we will drop these duplicated rows."
   ]
  },
  {
   "cell_type": "code",
   "execution_count": 100,
   "metadata": {},
   "outputs": [],
   "source": [
    "real_estate_for_sale_df.drop_duplicates(inplace= True)\n",
    "real_estate_for_sale_df = real_estate_for_sale_df.reset_index(drop=True)"
   ]
  },
  {
   "cell_type": "markdown",
   "metadata": {},
   "source": [
    "#### Ratio of missing values for each column:"
   ]
  },
  {
   "cell_type": "code",
   "execution_count": 101,
   "metadata": {},
   "outputs": [
    {
     "data": {
      "text/html": [
       "<div>\n",
       "<style scoped>\n",
       "    .dataframe tbody tr th:only-of-type {\n",
       "        vertical-align: middle;\n",
       "    }\n",
       "\n",
       "    .dataframe tbody tr th {\n",
       "        vertical-align: top;\n",
       "    }\n",
       "\n",
       "    .dataframe thead th {\n",
       "        text-align: right;\n",
       "    }\n",
       "</style>\n",
       "<table border=\"1\" class=\"dataframe\">\n",
       "  <thead>\n",
       "    <tr style=\"text-align: right;\">\n",
       "      <th></th>\n",
       "      <th>Missing ratio</th>\n",
       "    </tr>\n",
       "  </thead>\n",
       "  <tbody>\n",
       "    <tr>\n",
       "      <th>Address</th>\n",
       "      <td>0.000000</td>\n",
       "    </tr>\n",
       "    <tr>\n",
       "      <th>Area</th>\n",
       "      <td>0.036309</td>\n",
       "    </tr>\n",
       "    <tr>\n",
       "      <th>Price</th>\n",
       "      <td>0.000000</td>\n",
       "    </tr>\n",
       "    <tr>\n",
       "      <th>Bedroom</th>\n",
       "      <td>38.367554</td>\n",
       "    </tr>\n",
       "    <tr>\n",
       "      <th>Toilet</th>\n",
       "      <td>42.279832</td>\n",
       "    </tr>\n",
       "    <tr>\n",
       "      <th>Floor</th>\n",
       "      <td>54.434217</td>\n",
       "    </tr>\n",
       "    <tr>\n",
       "      <th>Furniture</th>\n",
       "      <td>58.542563</td>\n",
       "    </tr>\n",
       "    <tr>\n",
       "      <th>Direction</th>\n",
       "      <td>78.232849</td>\n",
       "    </tr>\n",
       "    <tr>\n",
       "      <th>Legal</th>\n",
       "      <td>31.176588</td>\n",
       "    </tr>\n",
       "    <tr>\n",
       "      <th>Posting date</th>\n",
       "      <td>0.000000</td>\n",
       "    </tr>\n",
       "    <tr>\n",
       "      <th>Expiry date</th>\n",
       "      <td>0.000000</td>\n",
       "    </tr>\n",
       "    <tr>\n",
       "      <th>Ad type</th>\n",
       "      <td>0.000000</td>\n",
       "    </tr>\n",
       "    <tr>\n",
       "      <th>Ad code</th>\n",
       "      <td>0.000000</td>\n",
       "    </tr>\n",
       "  </tbody>\n",
       "</table>\n",
       "</div>"
      ],
      "text/plain": [
       "              Missing ratio\n",
       "Address            0.000000\n",
       "Area               0.036309\n",
       "Price              0.000000\n",
       "Bedroom           38.367554\n",
       "Toilet            42.279832\n",
       "Floor             54.434217\n",
       "Furniture         58.542563\n",
       "Direction         78.232849\n",
       "Legal             31.176588\n",
       "Posting date       0.000000\n",
       "Expiry date        0.000000\n",
       "Ad type            0.000000\n",
       "Ad code            0.000000"
      ]
     },
     "execution_count": 101,
     "metadata": {},
     "output_type": "execute_result"
    }
   ],
   "source": [
    "def missing_ratio(column):\n",
    "    missing_values = column.isnull().sum()\n",
    "    total_values = len(column)\n",
    "    return (missing_values / total_values) * 100\n",
    "\n",
    "missing_ratios_df = real_estate_for_sale_df.agg(missing_ratio).to_frame()\n",
    "missing_ratios_df.columns = ['Missing ratio']\n",
    "\n",
    "missing_ratios_df"
   ]
  },
  {
   "cell_type": "markdown",
   "metadata": {},
   "source": [
    "We can see that the fields `Address`, `Price`, `Posting date`, `Expiry date`, `Ad type`, `Ad code` have no missing values. This is easy to understand the reasons: The `Address` and `Price` is the basic data that a post have to contain. The other fields is automatically generated by the website.     \n",
    "All the rests is have a large ratio of missing value. from *31.176588 %* in `Legal` up to *78.23849 %* in `Direction`. So the data preprocessing of data is so necessary before we make the analysis."
   ]
  },
  {
   "cell_type": "markdown",
   "metadata": {},
   "source": [
    "#### **The meaning of each columns**\n",
    "Let's see all the columns of the dataset."
   ]
  },
  {
   "cell_type": "code",
   "execution_count": 102,
   "metadata": {},
   "outputs": [
    {
     "data": {
      "text/plain": [
       "['Address',\n",
       " 'Area',\n",
       " 'Price',\n",
       " 'Bedroom',\n",
       " 'Toilet',\n",
       " 'Floor',\n",
       " 'Furniture',\n",
       " 'Direction',\n",
       " 'Legal',\n",
       " 'Posting date',\n",
       " 'Expiry date',\n",
       " 'Ad type',\n",
       " 'Ad code']"
      ]
     },
     "execution_count": 102,
     "metadata": {},
     "output_type": "execute_result"
    }
   ],
   "source": [
    "real_estate_for_sale_df.columns.to_list()"
   ]
  },
  {
   "cell_type": "markdown",
   "metadata": {},
   "source": [
    "- **Address:** address of the real estate. With the real estate is apartment, the address can also contain the Project of the real estate.\n",
    "- **Area:** the area of the real estate.\n",
    "- **Price:** the price of the real estate. It can be the total price or just the price per m^2.\n",
    "- **Bedroom:** number of bedroom in the real estate.\n",
    "- **Toilet:** number of toilet in the real estate.\n",
    "- **Floor:** number of floor.\n",
    "- **Furniture:** the furniture status of the real estate.\n",
    "- **Direction:** the direction of the real estate.\n",
    "- **Legal:** Some legal policy of the real estate.\n",
    "- **Posting date:** The day that the advertisement was posted.\n",
    "- **Expiry date:** the day the real estate was enable.\n",
    "- **Ad type:** the type of advertisement.\n",
    "- **Ad code:** the code of advertisement."
   ]
  },
  {
   "cell_type": "markdown",
   "metadata": {},
   "source": [
    "#### Data type of each colmuns:"
   ]
  },
  {
   "cell_type": "code",
   "execution_count": 103,
   "metadata": {},
   "outputs": [
    {
     "data": {
      "text/plain": [
       "Address         object\n",
       "Area            object\n",
       "Price           object\n",
       "Bedroom         object\n",
       "Toilet          object\n",
       "Floor           object\n",
       "Furniture       object\n",
       "Direction       object\n",
       "Legal           object\n",
       "Posting date    object\n",
       "Expiry date     object\n",
       "Ad type         object\n",
       "Ad code          int64\n",
       "dtype: object"
      ]
     },
     "execution_count": 103,
     "metadata": {},
     "output_type": "execute_result"
    }
   ],
   "source": [
    "cols_type = real_estate_for_sale_df.dtypes\n",
    "cols_type"
   ]
  },
  {
   "cell_type": "markdown",
   "metadata": {},
   "source": [
    "- Nearly all of the columns is in Object type. These columns will not suitable for the further analysis. So we need to do some preprocessing on the data types."
   ]
  },
  {
   "cell_type": "markdown",
   "metadata": {},
   "source": [
    "### Some preprocessing:\n",
    "\n",
    "- **Some obsevation:**\n",
    "    - `Area`, `Price`, `Bedroom`, `Toilet` and `Floor` should be numerical columns, so we will convert them into numeric data types.\n",
    "\n",
    "### Preprocessing for numeric columns:\n",
    "    "
   ]
  },
  {
   "cell_type": "markdown",
   "metadata": {},
   "source": [
    "#### **1. Area:**\n",
    "First, we will find that if the values is in the same unit."
   ]
  },
  {
   "cell_type": "code",
   "execution_count": 104,
   "metadata": {},
   "outputs": [
    {
     "data": {
      "text/plain": [
       "{'m²'}"
      ]
     },
     "execution_count": 104,
     "metadata": {},
     "output_type": "execute_result"
    }
   ],
   "source": [
    "area_values = real_estate_for_sale_df[real_estate_for_sale_df['Area'].notna()]['Area'].to_list()\n",
    "\n",
    "unit_list = []\n",
    "value_list = []\n",
    "for area in area_values:\n",
    "    unit_list.append(area.split(' ')[1])\n",
    "    value_list.append(area.split(' ')[0])\n",
    "\n",
    "set(unit_list)\n"
   ]
  },
  {
   "cell_type": "markdown",
   "metadata": {},
   "source": [
    "So we can see that all the values in columns `Area` is in the same unit. Now we just set the `Area` columns with the new value, change the data type, then rename it for a clearly meaning."
   ]
  },
  {
   "cell_type": "code",
   "execution_count": 105,
   "metadata": {},
   "outputs": [],
   "source": [
    "#77,5 , 5.629,2\n",
    "\n",
    "nonnan_indices = real_estate_for_sale_df['Area'].notna()\n",
    "real_estate_for_sale_df.loc[nonnan_indices, 'Area'] = value_list\n",
    "area_list = real_estate_for_sale_df['Area'].dropna().to_list()\n",
    "cleaned_area_list = []\n",
    "\n",
    "for area in area_list:\n",
    "    if (',' in area) and ('.' in area):\n",
    "        cleaned_area = area.replace('.', '').replace(',', '.')\n",
    "    elif ',' in area:\n",
    "        cleaned_area = area.replace(',', '.')\n",
    "    else:\n",
    "        cleaned_area = area\n",
    "\n",
    "    if '.' in area:\n",
    "        count = len(area.split('.')[-1])\n",
    "        if count == 3:\n",
    "            cleaned_area = area.replace('.','')\n",
    "        \n",
    "\n",
    "    cleaned_area_list.append(cleaned_area)\n",
    "\n",
    "real_estate_for_sale_df.loc[nonnan_indices, 'Area'] = cleaned_area_list\n",
    "\n",
    "real_estate_for_sale_df['Area'] = real_estate_for_sale_df['Area'].astype('float64')\n",
    "real_estate_for_sale_df.rename(columns={'Area': 'Area(m2)'}, inplace=True)"
   ]
  },
  {
   "cell_type": "markdown",
   "metadata": {},
   "source": [
    "#### **Price:**\n",
    "First, we will find that if the values is in the same unit."
   ]
  },
  {
   "cell_type": "code",
   "execution_count": 106,
   "metadata": {},
   "outputs": [
    {
     "data": {
      "text/plain": [
       "{'nghìn/m²', 'thuận', 'triệu', 'triệu/m²', 'tỷ', 'tỷ/m²'}"
      ]
     },
     "execution_count": 106,
     "metadata": {},
     "output_type": "execute_result"
    }
   ],
   "source": [
    "price_values = real_estate_for_sale_df['Price'].to_list()\n",
    "\n",
    "unit_list = []\n",
    "value_list = []\n",
    "for price in price_values:\n",
    "    unit_list.append(price.split(' ')[1])\n",
    "    value_list.append(price.split(' ')[0])\n",
    "\n",
    "set(unit_list)"
   ]
  },
  {
   "cell_type": "markdown",
   "metadata": {},
   "source": [
    "The `Price` column contains various units, so we will convert them to the *tỷ* unit"
   ]
  },
  {
   "cell_type": "code",
   "execution_count": 107,
   "metadata": {},
   "outputs": [],
   "source": [
    "price_list = real_estate_for_sale_df['Price'].to_list()\n",
    "\n",
    "new_prices = []\n",
    "for index, value in enumerate(price_list):\n",
    "    if 'nghìn/m²' in value:\n",
    "        area = real_estate_for_sale_df.loc[index, 'Area(m2)']\n",
    "        price = str(value).split(' ')[0]\n",
    "\n",
    "        price = (float(price) * area )/1000000\n",
    "        new_prices.append((index, price))\n",
    "\n",
    "    elif 'triệu' in value:\n",
    "        price, unit = value.split(' ')\n",
    "        if unit == 'triệu':\n",
    "            price = price.replace(',', '.')\n",
    "            price = float(price) / 1000\n",
    "            new_prices.append((index, price))\n",
    "        \n",
    "        elif unit == 'triệu/m²':\n",
    "            area = real_estate_for_sale_df.loc[index, 'Area(m2)']\n",
    "            price = price.replace(',', '.')\n",
    "            price = (float(price) * area) / 1000\n",
    "            new_prices.append((index, price))\n",
    "    elif 'tỷ' in value:\n",
    "        price, unit = value.split(' ')\n",
    "        if unit == 'tỷ/m²':\n",
    "            area = real_estate_for_sale_df.loc[index, 'Area(m2)']\n",
    "            price = price.replace(',', '.')\n",
    "            price = (float(price) * area)\n",
    "            new_prices.append((index, price))\n",
    "        else:\n",
    "            price = price.replace(',', '.')\n",
    "            new_prices.append((index, float(price)))\n",
    "\n",
    "price_column = np.array(price_list)\n",
    "for index, price in new_prices:\n",
    "    price_column[index] = price\n",
    "\n",
    "real_estate_for_sale_df['Price'] = price_column\n",
    "\n",
    "real_estate_for_sale_df.rename(columns={'Price': 'Price(tỷ)'}, inplace=True)"
   ]
  },
  {
   "cell_type": "code",
   "execution_count": null,
   "metadata": {},
   "outputs": [],
   "source": []
  },
  {
   "cell_type": "markdown",
   "metadata": {},
   "source": [
    "#### **Bedroom:**"
   ]
  },
  {
   "cell_type": "code",
   "execution_count": 113,
   "metadata": {},
   "outputs": [
    {
     "data": {
      "text/plain": [
       "{'phòng'}"
      ]
     },
     "execution_count": 113,
     "metadata": {},
     "output_type": "execute_result"
    }
   ],
   "source": [
    "\n",
    "bedroom_mask = real_estate_for_sale_df['Bedroom'].notna()\n",
    "bedroom_values = real_estate_for_sale_df.loc[bedroom_mask, 'Bedroom']\n",
    "\n",
    "unit_list = []\n",
    "value_list = []\n",
    "for bedroom in bedroom_values:\n",
    "    unit_list.append(bedroom.split(' ')[1])\n",
    "    value_list.append(bedroom.split(' ')[0])\n",
    "\n",
    "set(unit_list)\n"
   ]
  },
  {
   "cell_type": "code",
   "execution_count": 115,
   "metadata": {},
   "outputs": [],
   "source": [
    "real_estate_for_sale_df.loc[bedroom_mask, 'Bedroom'] = value_list\n",
    "real_estate_for_sale_df['Bedroom'] = real_estate_for_sale_df['Bedroom'].astype('float64')"
   ]
  },
  {
   "cell_type": "markdown",
   "metadata": {},
   "source": [
    "#### **Toilet:**"
   ]
  },
  {
   "cell_type": "code",
   "execution_count": 116,
   "metadata": {},
   "outputs": [
    {
     "data": {
      "text/plain": [
       "{'phòng'}"
      ]
     },
     "execution_count": 116,
     "metadata": {},
     "output_type": "execute_result"
    }
   ],
   "source": [
    "toilet_mask = real_estate_for_sale_df['Toilet'].notna()\n",
    "\n",
    "toilet_values = real_estate_for_sale_df.loc[toilet_mask, 'Toilet']\n",
    "\n",
    "unit_list = []\n",
    "value_list = []\n",
    "for toilet in toilet_values:\n",
    "    unit_list.append(toilet.split(' ')[1])\n",
    "    value_list.append(toilet.split(' ')[0])\n",
    "\n",
    "set(unit_list)"
   ]
  },
  {
   "cell_type": "code",
   "execution_count": 117,
   "metadata": {},
   "outputs": [],
   "source": [
    "real_estate_for_sale_df.loc[toilet_mask, 'Toilet'] = value_list\n",
    "real_estate_for_sale_df['Toilet'] = real_estate_for_sale_df['Toilet'].astype('float64')"
   ]
  },
  {
   "cell_type": "markdown",
   "metadata": {},
   "source": [
    "#### **Floor:**"
   ]
  },
  {
   "cell_type": "code",
   "execution_count": 118,
   "metadata": {},
   "outputs": [
    {
     "data": {
      "text/plain": [
       "{'tầng'}"
      ]
     },
     "execution_count": 118,
     "metadata": {},
     "output_type": "execute_result"
    }
   ],
   "source": [
    "floor_mask = real_estate_for_sale_df['Floor'].notna()\n",
    "\n",
    "floor_values = real_estate_for_sale_df.loc[floor_mask, 'Floor']\n",
    "\n",
    "unit_list = []\n",
    "value_list = []\n",
    "for floor in floor_values:\n",
    "    unit_list.append(floor.split(' ')[1])\n",
    "    value_list.append(floor.split(' ')[0])\n",
    "\n",
    "set(unit_list)"
   ]
  },
  {
   "cell_type": "code",
   "execution_count": 119,
   "metadata": {},
   "outputs": [],
   "source": [
    "real_estate_for_sale_df.loc[floor_mask, 'Floor'] = value_list\n",
    "real_estate_for_sale_df['Floor'] = real_estate_for_sale_df['Floor'].astype('float64')"
   ]
  },
  {
   "cell_type": "markdown",
   "metadata": {},
   "source": [
    "### Preprocessing for categorical columns:"
   ]
  },
  {
   "cell_type": "markdown",
   "metadata": {},
   "source": [
    "- With the **Address** column, there is some thing we can dicuss here:\n",
    "    - The fully address is does not really meaningfull for analysis. The base idea is that all the real estate is located in Ho Chi Minh City, so we can extract the district of the real estate.\n",
    "    - Also, there is many types of real easte like: solid, individual house, apartment. The real estate in apartment type can be regonized by the Project they belong to, so we could also extract the project field to"
   ]
  },
  {
   "cell_type": "markdown",
   "metadata": {},
   "source": [
    "### Extract the district of real estates:"
   ]
  },
  {
   "cell_type": "code",
   "execution_count": 133,
   "metadata": {},
   "outputs": [
    {
     "name": "stdout",
     "output_type": "stream",
     "text": [
      "Đại Học Quốc Gia 245 Đường Gò Cát Phường Phú Hữu Quận 9 Hồ Chí Minh\n",
      "['Đại', 'Học', 'Quốc', 'Gia', '245', 'Đường', 'Gò', 'Cát', 'Phường', 'Phú', 'Hữu', 'Quận', '9', 'Hồ', 'Chí', 'Minh']\n"
     ]
    }
   ],
   "source": [
    "address_df = real_estate_for_sale_df['Address'].values\n",
    "\n",
    "district_list = []\n",
    "for address in address_df:\n",
    "    split = address.split(',')\n",
    "    # print(split)\n",
    "    try:\n",
    "        district = split[-2].strip()\n",
    "    except: \n",
    "        print (address)\n",
    "        split = address.split(' ')\n",
    "        print(split)\n",
    "\n",
    "    district_list.append(district)\n",
    "    # print (district)"
   ]
  },
  {
   "cell_type": "code",
   "execution_count": null,
   "metadata": {},
   "outputs": [
    {
     "data": {
      "text/html": [
       "<div>\n",
       "<style scoped>\n",
       "    .dataframe tbody tr th:only-of-type {\n",
       "        vertical-align: middle;\n",
       "    }\n",
       "\n",
       "    .dataframe tbody tr th {\n",
       "        vertical-align: top;\n",
       "    }\n",
       "\n",
       "    .dataframe thead th {\n",
       "        text-align: right;\n",
       "    }\n",
       "</style>\n",
       "<table border=\"1\" class=\"dataframe\">\n",
       "  <thead>\n",
       "    <tr style=\"text-align: right;\">\n",
       "      <th></th>\n",
       "      <th>Address</th>\n",
       "      <th>Area</th>\n",
       "      <th>Price</th>\n",
       "      <th>Bedroom</th>\n",
       "      <th>Toilet</th>\n",
       "      <th>Floor</th>\n",
       "      <th>Furniture</th>\n",
       "      <th>Direction</th>\n",
       "      <th>Legal</th>\n",
       "      <th>Posting date</th>\n",
       "      <th>Expiry date</th>\n",
       "      <th>Ad type</th>\n",
       "      <th>Ad code</th>\n",
       "      <th>District</th>\n",
       "    </tr>\n",
       "  </thead>\n",
       "  <tbody>\n",
       "    <tr>\n",
       "      <th>0</th>\n",
       "      <td>Dự án Lumiere Riverside, Đường Xa Lộ Hà Nội, P...</td>\n",
       "      <td>77 m²</td>\n",
       "      <td>6,1 tỷ</td>\n",
       "      <td>2 phòng</td>\n",
       "      <td>2 phòng</td>\n",
       "      <td>NaN</td>\n",
       "      <td>NaN</td>\n",
       "      <td>NaN</td>\n",
       "      <td>NaN</td>\n",
       "      <td>27/11/2023</td>\n",
       "      <td>07/12/2023</td>\n",
       "      <td>Tin VIP Kim Cương</td>\n",
       "      <td>38645401</td>\n",
       "      <td>Quận 2</td>\n",
       "    </tr>\n",
       "    <tr>\n",
       "      <th>1</th>\n",
       "      <td>Dự án Lumiere Riverside, Đường Xa Lộ Hà Nội, P...</td>\n",
       "      <td>76 m²</td>\n",
       "      <td>6,2 tỷ</td>\n",
       "      <td>2 phòng</td>\n",
       "      <td>2 phòng</td>\n",
       "      <td>NaN</td>\n",
       "      <td>Đầy đủ</td>\n",
       "      <td>NaN</td>\n",
       "      <td>Hợp đồng mua bán</td>\n",
       "      <td>23/11/2023</td>\n",
       "      <td>30/11/2023</td>\n",
       "      <td>Tin thường</td>\n",
       "      <td>38393009</td>\n",
       "      <td>Quận 2</td>\n",
       "    </tr>\n",
       "    <tr>\n",
       "      <th>2</th>\n",
       "      <td>Dự án Lumiere Riverside, Đường Xa Lộ Hà Nội, P...</td>\n",
       "      <td>72 m²</td>\n",
       "      <td>Thỏa thuận</td>\n",
       "      <td>2 phòng</td>\n",
       "      <td>2 phòng</td>\n",
       "      <td>NaN</td>\n",
       "      <td>NaN</td>\n",
       "      <td>NaN</td>\n",
       "      <td>NaN</td>\n",
       "      <td>28/11/2023</td>\n",
       "      <td>05/12/2023</td>\n",
       "      <td>Tin VIP Kim Cương</td>\n",
       "      <td>38657478</td>\n",
       "      <td>Quận 2</td>\n",
       "    </tr>\n",
       "    <tr>\n",
       "      <th>3</th>\n",
       "      <td>Lumiere Riverside, 628, Đường Xa Lộ Hà Nội, Ph...</td>\n",
       "      <td>77,1 m²</td>\n",
       "      <td>6,6 tỷ</td>\n",
       "      <td>2 phòng</td>\n",
       "      <td>2 phòng</td>\n",
       "      <td>NaN</td>\n",
       "      <td>Cơ bản</td>\n",
       "      <td>NaN</td>\n",
       "      <td>Hợp đồng mua bán</td>\n",
       "      <td>29/11/2023</td>\n",
       "      <td>06/12/2023</td>\n",
       "      <td>Tin VIP Kim Cương</td>\n",
       "      <td>38403632</td>\n",
       "      <td>Quận 2</td>\n",
       "    </tr>\n",
       "    <tr>\n",
       "      <th>4</th>\n",
       "      <td>Dự án The Privia, Đường An Dương Vương, Phường...</td>\n",
       "      <td>67,74 m²</td>\n",
       "      <td>3,5 tỷ</td>\n",
       "      <td>2 phòng</td>\n",
       "      <td>2 phòng</td>\n",
       "      <td>NaN</td>\n",
       "      <td>Bàn giao cơ bản các thiết bị Châu Âu cao cấp, ...</td>\n",
       "      <td>NaN</td>\n",
       "      <td>HĐMB</td>\n",
       "      <td>29/11/2023</td>\n",
       "      <td>06/12/2023</td>\n",
       "      <td>Tin VIP Kim Cương</td>\n",
       "      <td>38654457</td>\n",
       "      <td>Quận Bình Tân</td>\n",
       "    </tr>\n",
       "  </tbody>\n",
       "</table>\n",
       "</div>"
      ],
      "text/plain": [
       "                                             Address      Area       Price  \\\n",
       "0  Dự án Lumiere Riverside, Đường Xa Lộ Hà Nội, P...     77 m²      6,1 tỷ   \n",
       "1  Dự án Lumiere Riverside, Đường Xa Lộ Hà Nội, P...     76 m²      6,2 tỷ   \n",
       "2  Dự án Lumiere Riverside, Đường Xa Lộ Hà Nội, P...     72 m²  Thỏa thuận   \n",
       "3  Lumiere Riverside, 628, Đường Xa Lộ Hà Nội, Ph...   77,1 m²      6,6 tỷ   \n",
       "4  Dự án The Privia, Đường An Dương Vương, Phường...  67,74 m²      3,5 tỷ   \n",
       "\n",
       "   Bedroom   Toilet  Floor                                          Furniture  \\\n",
       "0  2 phòng  2 phòng    NaN                                                NaN   \n",
       "1  2 phòng  2 phòng    NaN                                             Đầy đủ   \n",
       "2  2 phòng  2 phòng    NaN                                                NaN   \n",
       "3  2 phòng  2 phòng    NaN                                             Cơ bản   \n",
       "4  2 phòng  2 phòng    NaN  Bàn giao cơ bản các thiết bị Châu Âu cao cấp, ...   \n",
       "\n",
       "  Direction             Legal Posting date Expiry date            Ad type  \\\n",
       "0       NaN               NaN   27/11/2023  07/12/2023  Tin VIP Kim Cương   \n",
       "1       NaN  Hợp đồng mua bán   23/11/2023  30/11/2023         Tin thường   \n",
       "2       NaN               NaN   28/11/2023  05/12/2023  Tin VIP Kim Cương   \n",
       "3       NaN  Hợp đồng mua bán   29/11/2023  06/12/2023  Tin VIP Kim Cương   \n",
       "4       NaN              HĐMB   29/11/2023  06/12/2023  Tin VIP Kim Cương   \n",
       "\n",
       "    Ad code       District  \n",
       "0  38645401         Quận 2  \n",
       "1  38393009         Quận 2  \n",
       "2  38657478         Quận 2  \n",
       "3  38403632         Quận 2  \n",
       "4  38654457  Quận Bình Tân  "
      ]
     },
     "execution_count": 17,
     "metadata": {},
     "output_type": "execute_result"
    }
   ],
   "source": [
    "real_estate_for_sale_df['District'] = district_list\n",
    "\n",
    "real_estate_for_sale_df.head()"
   ]
  },
  {
   "cell_type": "code",
   "execution_count": null,
   "metadata": {},
   "outputs": [
    {
     "data": {
      "text/plain": [
       "array([nan, 'Nam', 'Tây - Bắc', 'Đông', 'Đông - Nam', 'Tây', 'Tây - Nam',\n",
       "       'Đông - Bắc', 'Bắc'], dtype=object)"
      ]
     },
     "execution_count": 14,
     "metadata": {},
     "output_type": "execute_result"
    }
   ],
   "source": [
    "real_estate_df['Direction'].unique()"
   ]
  }
 ],
 "metadata": {
  "kernelspec": {
   "display_name": "Python 3",
   "language": "python",
   "name": "python3"
  },
  "language_info": {
   "codemirror_mode": {
    "name": "ipython",
    "version": 3
   },
   "file_extension": ".py",
   "mimetype": "text/x-python",
   "name": "python",
   "nbconvert_exporter": "python",
   "pygments_lexer": "ipython3",
   "version": "3.11.4"
  }
 },
 "nbformat": 4,
 "nbformat_minor": 2
}
