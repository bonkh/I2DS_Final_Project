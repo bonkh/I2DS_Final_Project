{
 "cells": [
  {
   "cell_type": "markdown",
   "metadata": {},
   "source": [
    "# <div style=\" text-align: center; font-weight: bold; \">Phase05: Conclusion and reflection</div>"
   ]
  },
  {
   "cell_type": "markdown",
   "metadata": {},
   "source": [
    "## **Conclusion for real estate for sale:**\n",
    "\n",
    "Currently, during all of the process of this project, I can come up with some conclusion about the current real estate for sale market in Ho Chi Minh City:\n",
    "- There is an uneven distribution of properties by districts in Ho Chi Minh City, result in each district will have its signature type of real estate, know this information will help us save more time when find a potential position real estate, while we can take more concern in a heavy density location, and remove uncessary region.\n",
    "\n",
    "- Beside that , the current price of each real estate types are also considerable. There is a very high differences between prices of each types across district. Some can be very cheap, but some can also very expensive. Beside the current location, there are many factors that can affect to the price too.\n",
    "\n",
    "Anyway, by doing this process, I gain more knowledge about the current sale market of real estate in Ho Chi Minh City. At this time, this may be seem meaningless (while I don't have any need and cannot affort to buy a real estate too). But I think they will be helpful in the future."
   ]
  },
  {
   "cell_type": "markdown",
   "metadata": {},
   "source": [
    "\n",
    "## **Self-reflection:**\n",
    "\n",
    "- Student name: Huynh Cao Khoi\n",
    "- Student id: 21120275\n",
    "\n",
    "This is a reflection on my experience during the process of this project.\n",
    "\n",
    "## **Difficulties:**\n",
    "\n",
    "During this process, I have encountered several difficulties below:\n",
    "- Data collection: \n",
    "Firstly, as I have mention in my `Data collecting phase`, I have encountered witht the problem is that the collecting time is so long. I have try various approach to handle it and optimize the times, but the actual result does not better anymore.\n",
    "\n",
    "- Preprocessing and understanding the data:\n",
    "\n",
    "    - First of all, for the numeric columns, the current data is in string format, and was given by the users, result in many different structure of the data, so I have to handle all the possible situation.\n",
    "    - Also, with the categorical columns, the problem here is `Natural language processing`, while most of data is not in a consistent format. Also, there will be missing or errors in some character. So in this process, I have to ignore some specific situation and get more concern to the more popular one. So the result may be not the best, but I think it is good enough for our analysis. And practically, I don't use the data in these columns too much.\n",
    "\n",
    "- Making meaningful questions: \n",
    "    \n",
    "    For me, this is the most challenge steps, a quality question always require us to think more, reseach more, and place ourselves into a scenario to find out a question which have the meaning, and helpful in this context. \n",
    "    - In this part, we end up to some not simple question, I have thought many times that what fields I should get more concern? What I really want from the question? What is the context of it? Also, I have to find find the simplest way to present my ideas to ensure easy access to the information for everyone.\n",
    "- Build Model:\n",
    "    - This field is new for me, while I do not have many experience to build a machine learning model, but it also very interesting to find out some new knowledge.\n",
    "- Some difficulties come from my self: \n",
    "\n",
    "During this project, the lack of skills (consist of time management skill, technical skill and others) all make me so confused and took more time for the problem solving. My teammate , Tu Nhi, also help me a lot in this project, I want to give a special thanks to her.\n",
    "\n",
    "## **What I learn from this project:**\n",
    "Those are what I have learnt while doing this project:\n",
    "\n",
    "- Importance of teamworks: \n",
    "\n",
    "    Yeah, while working together, I know how important of the time-management skill, also how can i present and develop my idea in a effective way. Also how to collaborate with each teammate to come to a final result.\n",
    "- More skills:\n",
    "\n",
    "    I also get more and practice more skill in working with dataset, dataframe, also know how to go more into visualize the data and extract information from the data. Notably, I gained experience in machine learning methods and gained a deeper understanding of how they work.\n",
    "- Knowledge from the data:\n",
    "\n",
    "    While doing this project, I also gain more information about the real estate, different types of it, also some significant pattern about the market in Ho Chi Minh City, I think it is very helpful to me for my future house finding process.\n",
    "\n",
    "## **What I can do next:**\n",
    "- About the collecting of data:\n",
    "\n",
    "    Finally, My primary goals are just complete and overcome all the difficulties, I will explore alternative methods to scrape the data more effectively.\n",
    "- About the questions:\n",
    "\n",
    "    For the answer of my question, I think that there are still lots of thing to do. I will try to get more insights as possible from the data and do more further  analysis on them.\n",
    "- About the skills:\n",
    "\n",
    "    I will continue to practice and enhance my skills, including both soft and technical skills. Also I plan to learn further in the machine learning model. May be I can re implement in my own way to get a deeper understand about them."
   ]
  },
  {
   "cell_type": "markdown",
   "metadata": {},
   "source": [
    "## **A cross-review:**\n",
    "\n",
    "In this section, let's make a cros-review for my teamate, Tu Nhi\n"
   ]
  },
  {
   "cell_type": "markdown",
   "metadata": {},
   "source": [
    "From Cao Khoi:\n",
    "After reading Tu Nh'si process, I noticed the following point:\n",
    "- Interesting point:\n",
    "    - The collecting data process: Overall, the sequence of process is the same as mine. However, what I found interesting is that instead of applying logic to find each specific feature while scraping, she obtains all the data at once, referring it as` metadata` and processes them later. This approach enhances the performance of the scraping process.\n",
    "\n",
    "    - The processing data process: in this process, she also get struggle with the Natural Language, the solution here is creative, with using the `Underthesea` library, to process the noun and adjective  of the current values.\n",
    "    - The asking question process: In this process we also ask the same three questions, but the approach is different.\n",
    "\n",
    "    With Tu Nhi's approach, she get into the problem in many different way, breaks it down into smaller parts to handle one by one, so in a broader view, we can see and access to the problem in many different view, obtain more information, not just the answer to the question. By using this approach, we can have an overview of the entire picture and gain more insights. The answer to the question is just a part of the picture.\n",
    "    \n",
    "    - About the plot:\n",
    "    \n",
    "    Most of plot she use is the heatmap, that present the level of data, or the correalation by the color. In genral, it looks like a stacked bar chart, but instead of present the differences between data by the width or length of the bar, heatmap present them by color. Therefore, the data could be presented more clearly, it will eliminate the situation that there is a super large difference betweem values in data, so one column is so high, and others are just a little (We can see this problem in my stacked bar plot). Also, the tree map is also a good approach when we want to compare many features.\n",
    "\n",
    "- Strength:\n",
    "\n",
    "    - Her skills while working with dataframe are very good, she can take advantage of the power of `apply` function to enhance the performance of the program. This is the thing I should practice more in the future.\n",
    "    - She demonstrates fluency in the Data Science process, and her work follows a logical flow.\n",
    "    - Story telling is also one of her strengths. The process are described like a story, where she acts as an instructor and storyteller. You can see this when reading the notebook.\n",
    "\n",
    "- Weakness:\n",
    "    - Just some thing about the plot, her heatmap currently, have many meanings. We can extract more information from this, but in general, we can see their format is not very good. May be in the first time looking to it, there will be some confused about the insights of the plot. I think that just one thing she could improve in her work.\n",
    "\n"
   ]
  },
  {
   "cell_type": "markdown",
   "metadata": {},
   "source": [
    "## **Reference:**\n",
    "\n",
    "First, I want to give a thanks to ChatGPT for helping me in many problems.\n",
    "\n",
    "Finally, these are some reference for my work during this project:\n",
    "- Anon. n.d.-d. “Plotly.” Retrieved (https://plotly.com/python/).\n",
    "- Anon. n.d.-a. “Deploy Your App - Streamlit Docs.” Retrieved (https://docs.streamlit.io/streamlit-community-cloud/deploy-your-app).\n",
    "- Víquez, Santiago. 2023. “How to Deploy Machine Learning Models with Python & Streamlit.” 365 Data Science. Retrieved (https://365datascience.com/tutorials/machine-learning-tutorials/how-to-deploy-machine-learning-models-with-python-and-streamlit/).\n",
    "- Sharma, Natasha. 2021. “Ways to Detect and Remove the Outliers - towards Data Science.” Medium, August 8.\n",
    "- GeeksforGeeks. 2023. “Hyperparameter Tuning.” GeeksforGeeks. Retrieved (https://www.geeksforgeeks.org/hyperparameter-tuning/)."
   ]
  }
 ],
 "metadata": {
  "language_info": {
   "name": "python"
  }
 },
 "nbformat": 4,
 "nbformat_minor": 2
}
