{
 "cells": [
  {
   "cell_type": "markdown",
   "metadata": {},
   "source": [
    "# <div style=\" text-align: center; font-weight: bold\">Phase 03: Exploratory data analysis</div>\n",
    "\n",
    "\n",
    "## **1. Import necessary Python modules**"
   ]
  },
  {
   "cell_type": "code",
   "execution_count": 27,
   "metadata": {},
   "outputs": [],
   "source": [
    "import numpy as np\n",
    "import pandas as pd\n",
    "import matplotlib.pyplot as plt\n",
    "import seaborn as sns\n",
    "import geopandas as gpd\n",
    "import re\n",
    "import json\n",
    "import plotly.express as px\n",
    "from plotly.subplots import make_subplots\n",
    "from sklearn.preprocessing import LabelEncoder\n",
    "from sklearn.preprocessing import OrdinalEncoder\n"
   ]
  },
  {
   "cell_type": "markdown",
   "metadata": {},
   "source": [
    "## **2. Ask meaningful questions**\n",
    "### **2.1 Read the data from file**\n",
    "First, read the clean data that we cleaned before to a dataframe."
   ]
  },
  {
   "cell_type": "code",
   "execution_count": 28,
   "metadata": {},
   "outputs": [
    {
     "data": {
      "text/html": [
       "<div>\n",
       "<style scoped>\n",
       "    .dataframe tbody tr th:only-of-type {\n",
       "        vertical-align: middle;\n",
       "    }\n",
       "\n",
       "    .dataframe tbody tr th {\n",
       "        vertical-align: top;\n",
       "    }\n",
       "\n",
       "    .dataframe thead th {\n",
       "        text-align: right;\n",
       "    }\n",
       "</style>\n",
       "<table border=\"1\" class=\"dataframe\">\n",
       "  <thead>\n",
       "    <tr style=\"text-align: right;\">\n",
       "      <th></th>\n",
       "      <th>Type</th>\n",
       "      <th>Area(m2)</th>\n",
       "      <th>Price(VNĐ)</th>\n",
       "      <th>Bedroom(Phòng)</th>\n",
       "      <th>Toilet(Phòng)</th>\n",
       "      <th>Floor(Tầng)</th>\n",
       "      <th>Furniture</th>\n",
       "      <th>Legal</th>\n",
       "      <th>Posting date</th>\n",
       "      <th>District</th>\n",
       "      <th>Project</th>\n",
       "    </tr>\n",
       "  </thead>\n",
       "  <tbody>\n",
       "    <tr>\n",
       "      <th>0</th>\n",
       "      <td>Căn hộ chung cư</td>\n",
       "      <td>161.08</td>\n",
       "      <td>1.798000e+10</td>\n",
       "      <td>3.0</td>\n",
       "      <td>3.0</td>\n",
       "      <td>3.0</td>\n",
       "      <td>Nội thất đầy đủ</td>\n",
       "      <td>Sổ đỏ và sổ hồng</td>\n",
       "      <td>2023-12-06</td>\n",
       "      <td>1</td>\n",
       "      <td>Dự án Zenity</td>\n",
       "    </tr>\n",
       "    <tr>\n",
       "      <th>1</th>\n",
       "      <td>Căn hộ chung cư</td>\n",
       "      <td>116.00</td>\n",
       "      <td>9.800000e+09</td>\n",
       "      <td>3.0</td>\n",
       "      <td>2.0</td>\n",
       "      <td>3.0</td>\n",
       "      <td>Nội thất đầy đủ</td>\n",
       "      <td>Sổ đỏ và sổ hồng</td>\n",
       "      <td>2023-12-03</td>\n",
       "      <td>1</td>\n",
       "      <td>Dự án Zenity</td>\n",
       "    </tr>\n",
       "    <tr>\n",
       "      <th>2</th>\n",
       "      <td>Căn hộ chung cư</td>\n",
       "      <td>77.00</td>\n",
       "      <td>6.000000e+09</td>\n",
       "      <td>2.0</td>\n",
       "      <td>2.0</td>\n",
       "      <td>3.0</td>\n",
       "      <td>Nội thất đầy đủ</td>\n",
       "      <td>Sổ đỏ và sổ hồng</td>\n",
       "      <td>2023-12-01</td>\n",
       "      <td>1</td>\n",
       "      <td>Dự án Zenity</td>\n",
       "    </tr>\n",
       "    <tr>\n",
       "      <th>3</th>\n",
       "      <td>Căn hộ chung cư</td>\n",
       "      <td>76.00</td>\n",
       "      <td>6.200000e+09</td>\n",
       "      <td>2.0</td>\n",
       "      <td>2.0</td>\n",
       "      <td>3.0</td>\n",
       "      <td>Nội thất đầy đủ</td>\n",
       "      <td>Hợp đồng mua bán</td>\n",
       "      <td>2023-12-05</td>\n",
       "      <td>2</td>\n",
       "      <td>Dự án Lumiere Riverside</td>\n",
       "    </tr>\n",
       "    <tr>\n",
       "      <th>4</th>\n",
       "      <td>Căn hộ chung cư</td>\n",
       "      <td>95.00</td>\n",
       "      <td>7.600000e+09</td>\n",
       "      <td>2.0</td>\n",
       "      <td>2.0</td>\n",
       "      <td>3.0</td>\n",
       "      <td>Nội thất đầy đủ</td>\n",
       "      <td>Sổ đỏ và sổ hồng</td>\n",
       "      <td>2023-12-07</td>\n",
       "      <td>1</td>\n",
       "      <td>Dự án Zenity</td>\n",
       "    </tr>\n",
       "  </tbody>\n",
       "</table>\n",
       "</div>"
      ],
      "text/plain": [
       "              Type  Area(m2)    Price(VNĐ)  Bedroom(Phòng)  Toilet(Phòng)  \\\n",
       "0  Căn hộ chung cư    161.08  1.798000e+10             3.0            3.0   \n",
       "1  Căn hộ chung cư    116.00  9.800000e+09             3.0            2.0   \n",
       "2  Căn hộ chung cư     77.00  6.000000e+09             2.0            2.0   \n",
       "3  Căn hộ chung cư     76.00  6.200000e+09             2.0            2.0   \n",
       "4  Căn hộ chung cư     95.00  7.600000e+09             2.0            2.0   \n",
       "\n",
       "   Floor(Tầng)        Furniture             Legal Posting date District  \\\n",
       "0          3.0  Nội thất đầy đủ  Sổ đỏ và sổ hồng   2023-12-06        1   \n",
       "1          3.0  Nội thất đầy đủ  Sổ đỏ và sổ hồng   2023-12-03        1   \n",
       "2          3.0  Nội thất đầy đủ  Sổ đỏ và sổ hồng   2023-12-01        1   \n",
       "3          3.0  Nội thất đầy đủ  Hợp đồng mua bán   2023-12-05        2   \n",
       "4          3.0  Nội thất đầy đủ  Sổ đỏ và sổ hồng   2023-12-07        1   \n",
       "\n",
       "                   Project  \n",
       "0             Dự án Zenity  \n",
       "1             Dự án Zenity  \n",
       "2             Dự án Zenity  \n",
       "3  Dự án Lumiere Riverside  \n",
       "4             Dự án Zenity  "
      ]
     },
     "execution_count": 28,
     "metadata": {},
     "output_type": "execute_result"
    }
   ],
   "source": [
    "real_estate_for_sale_df = pd.read_csv('../Data/cleaned_real_estate_for_sale.csv', encoding='utf-8')\n",
    "real_estate_for_sale_df.head()"
   ]
  },
  {
   "cell_type": "markdown",
   "metadata": {},
   "source": [
    "### **2.2 Question 01: How the numbers of real estate is distributed by the district in Ho Chi Minh City? Which district have the most real estate? Which type of real estate is the signature for each district?**\n",
    "\n",
    "- **Meaning of the question:** By answering this question, we will know which district in Ho Chi Minh City will contain many real estate. From that, like a buyer, we can choose the potential and the location of the real estate we want.\n",
    "\n",
    "First, let's extract the column `Type` and `District` of dataframe."
   ]
  },
  {
   "cell_type": "code",
   "execution_count": 29,
   "metadata": {},
   "outputs": [],
   "source": [
    "real_estate_by_district_df = real_estate_for_sale_df[['Type', 'District']]"
   ]
  },
  {
   "cell_type": "markdown",
   "metadata": {},
   "source": [
    "#### **1.1 Number of real estates in each district**\n",
    "Now, we will see how the real estate is distributed by the district. We will use bar chart to show the number of real estates are currently in a district."
   ]
  },
  {
   "cell_type": "code",
   "execution_count": 30,
   "metadata": {},
   "outputs": [],
   "source": [
    "district_count = real_estate_by_district_df['District'].value_counts().reset_index()"
   ]
  },
  {
   "cell_type": "code",
   "execution_count": 31,
   "metadata": {},
   "outputs": [
    {
     "data": {
      "application/vnd.plotly.v1+json": {
       "config": {
        "plotlyServerURL": "https://plot.ly",
        "scrollZoom": false
       },
       "data": [
        {
         "alignmentgroup": "True",
         "hovertemplate": "<b>%{x}</b> real estates are located in <b>district %{y}</b>",
         "legendgroup": "",
         "marker": {
          "color": [
           4415,
           3999,
           3408,
           3264,
           2709,
           2700,
           2593,
           2587,
           2282,
           1883,
           1680,
           1624,
           1603,
           1463,
           1427,
           1302,
           1176,
           904,
           753,
           586,
           516,
           473,
           432,
           57
          ],
          "coloraxis": "coloraxis",
          "line": {
           "color": "black",
           "width": 1
          },
          "pattern": {
           "shape": ""
          }
         },
         "name": "",
         "offsetgroup": "",
         "orientation": "h",
         "showlegend": false,
         "textposition": "auto",
         "type": "bar",
         "x": [
          4415,
          3999,
          3408,
          3264,
          2709,
          2700,
          2593,
          2587,
          2282,
          1883,
          1680,
          1624,
          1603,
          1463,
          1427,
          1302,
          1176,
          904,
          753,
          586,
          516,
          473,
          432,
          57
         ],
         "xaxis": "x",
         "y": [
          "7",
          "2",
          "9",
          "Bình Thạnh",
          "Tân Bình",
          "Thủ Đức",
          "Gò Vấp",
          "Tân Phú",
          "Bình Tân",
          "12",
          "Phú Nhuận",
          "Bình Chánh",
          "10",
          "Nhà Bè",
          "1",
          "3",
          "8",
          "4",
          "6",
          "11",
          "5",
          "Hóc Môn",
          "Củ Chi",
          "Cần Giờ"
         ],
         "yaxis": "y"
        }
       ],
       "layout": {
        "barmode": "relative",
        "coloraxis": {
         "colorbar": {
          "title": {
           "text": "<b>Count</b>"
          }
         },
         "colorscale": [
          [
           0,
           "#fde725"
          ],
          [
           0.1111111111111111,
           "#b5de2b"
          ],
          [
           0.2222222222222222,
           "#6ece58"
          ],
          [
           0.3333333333333333,
           "#35b779"
          ],
          [
           0.4444444444444444,
           "#1f9e89"
          ],
          [
           0.5555555555555556,
           "#26828e"
          ],
          [
           0.6666666666666666,
           "#31688e"
          ],
          [
           0.7777777777777778,
           "#3e4989"
          ],
          [
           0.8888888888888888,
           "#482878"
          ],
          [
           1,
           "#440154"
          ]
         ]
        },
        "height": 800,
        "legend": {
         "tracegroupgap": 0
        },
        "margin": {
         "b": 20,
         "l": 20,
         "r": 30,
         "t": 70
        },
        "paper_bgcolor": "#ffe6cc",
        "template": {
         "data": {
          "bar": [
           {
            "error_x": {
             "color": "#2a3f5f"
            },
            "error_y": {
             "color": "#2a3f5f"
            },
            "marker": {
             "line": {
              "color": "#E5ECF6",
              "width": 0.5
             },
             "pattern": {
              "fillmode": "overlay",
              "size": 10,
              "solidity": 0.2
             }
            },
            "type": "bar"
           }
          ],
          "barpolar": [
           {
            "marker": {
             "line": {
              "color": "#E5ECF6",
              "width": 0.5
             },
             "pattern": {
              "fillmode": "overlay",
              "size": 10,
              "solidity": 0.2
             }
            },
            "type": "barpolar"
           }
          ],
          "carpet": [
           {
            "aaxis": {
             "endlinecolor": "#2a3f5f",
             "gridcolor": "white",
             "linecolor": "white",
             "minorgridcolor": "white",
             "startlinecolor": "#2a3f5f"
            },
            "baxis": {
             "endlinecolor": "#2a3f5f",
             "gridcolor": "white",
             "linecolor": "white",
             "minorgridcolor": "white",
             "startlinecolor": "#2a3f5f"
            },
            "type": "carpet"
           }
          ],
          "choropleth": [
           {
            "colorbar": {
             "outlinewidth": 0,
             "ticks": ""
            },
            "type": "choropleth"
           }
          ],
          "contour": [
           {
            "colorbar": {
             "outlinewidth": 0,
             "ticks": ""
            },
            "colorscale": [
             [
              0,
              "#0d0887"
             ],
             [
              0.1111111111111111,
              "#46039f"
             ],
             [
              0.2222222222222222,
              "#7201a8"
             ],
             [
              0.3333333333333333,
              "#9c179e"
             ],
             [
              0.4444444444444444,
              "#bd3786"
             ],
             [
              0.5555555555555556,
              "#d8576b"
             ],
             [
              0.6666666666666666,
              "#ed7953"
             ],
             [
              0.7777777777777778,
              "#fb9f3a"
             ],
             [
              0.8888888888888888,
              "#fdca26"
             ],
             [
              1,
              "#f0f921"
             ]
            ],
            "type": "contour"
           }
          ],
          "contourcarpet": [
           {
            "colorbar": {
             "outlinewidth": 0,
             "ticks": ""
            },
            "type": "contourcarpet"
           }
          ],
          "heatmap": [
           {
            "colorbar": {
             "outlinewidth": 0,
             "ticks": ""
            },
            "colorscale": [
             [
              0,
              "#0d0887"
             ],
             [
              0.1111111111111111,
              "#46039f"
             ],
             [
              0.2222222222222222,
              "#7201a8"
             ],
             [
              0.3333333333333333,
              "#9c179e"
             ],
             [
              0.4444444444444444,
              "#bd3786"
             ],
             [
              0.5555555555555556,
              "#d8576b"
             ],
             [
              0.6666666666666666,
              "#ed7953"
             ],
             [
              0.7777777777777778,
              "#fb9f3a"
             ],
             [
              0.8888888888888888,
              "#fdca26"
             ],
             [
              1,
              "#f0f921"
             ]
            ],
            "type": "heatmap"
           }
          ],
          "heatmapgl": [
           {
            "colorbar": {
             "outlinewidth": 0,
             "ticks": ""
            },
            "colorscale": [
             [
              0,
              "#0d0887"
             ],
             [
              0.1111111111111111,
              "#46039f"
             ],
             [
              0.2222222222222222,
              "#7201a8"
             ],
             [
              0.3333333333333333,
              "#9c179e"
             ],
             [
              0.4444444444444444,
              "#bd3786"
             ],
             [
              0.5555555555555556,
              "#d8576b"
             ],
             [
              0.6666666666666666,
              "#ed7953"
             ],
             [
              0.7777777777777778,
              "#fb9f3a"
             ],
             [
              0.8888888888888888,
              "#fdca26"
             ],
             [
              1,
              "#f0f921"
             ]
            ],
            "type": "heatmapgl"
           }
          ],
          "histogram": [
           {
            "marker": {
             "pattern": {
              "fillmode": "overlay",
              "size": 10,
              "solidity": 0.2
             }
            },
            "type": "histogram"
           }
          ],
          "histogram2d": [
           {
            "colorbar": {
             "outlinewidth": 0,
             "ticks": ""
            },
            "colorscale": [
             [
              0,
              "#0d0887"
             ],
             [
              0.1111111111111111,
              "#46039f"
             ],
             [
              0.2222222222222222,
              "#7201a8"
             ],
             [
              0.3333333333333333,
              "#9c179e"
             ],
             [
              0.4444444444444444,
              "#bd3786"
             ],
             [
              0.5555555555555556,
              "#d8576b"
             ],
             [
              0.6666666666666666,
              "#ed7953"
             ],
             [
              0.7777777777777778,
              "#fb9f3a"
             ],
             [
              0.8888888888888888,
              "#fdca26"
             ],
             [
              1,
              "#f0f921"
             ]
            ],
            "type": "histogram2d"
           }
          ],
          "histogram2dcontour": [
           {
            "colorbar": {
             "outlinewidth": 0,
             "ticks": ""
            },
            "colorscale": [
             [
              0,
              "#0d0887"
             ],
             [
              0.1111111111111111,
              "#46039f"
             ],
             [
              0.2222222222222222,
              "#7201a8"
             ],
             [
              0.3333333333333333,
              "#9c179e"
             ],
             [
              0.4444444444444444,
              "#bd3786"
             ],
             [
              0.5555555555555556,
              "#d8576b"
             ],
             [
              0.6666666666666666,
              "#ed7953"
             ],
             [
              0.7777777777777778,
              "#fb9f3a"
             ],
             [
              0.8888888888888888,
              "#fdca26"
             ],
             [
              1,
              "#f0f921"
             ]
            ],
            "type": "histogram2dcontour"
           }
          ],
          "mesh3d": [
           {
            "colorbar": {
             "outlinewidth": 0,
             "ticks": ""
            },
            "type": "mesh3d"
           }
          ],
          "parcoords": [
           {
            "line": {
             "colorbar": {
              "outlinewidth": 0,
              "ticks": ""
             }
            },
            "type": "parcoords"
           }
          ],
          "pie": [
           {
            "automargin": true,
            "type": "pie"
           }
          ],
          "scatter": [
           {
            "fillpattern": {
             "fillmode": "overlay",
             "size": 10,
             "solidity": 0.2
            },
            "type": "scatter"
           }
          ],
          "scatter3d": [
           {
            "line": {
             "colorbar": {
              "outlinewidth": 0,
              "ticks": ""
             }
            },
            "marker": {
             "colorbar": {
              "outlinewidth": 0,
              "ticks": ""
             }
            },
            "type": "scatter3d"
           }
          ],
          "scattercarpet": [
           {
            "marker": {
             "colorbar": {
              "outlinewidth": 0,
              "ticks": ""
             }
            },
            "type": "scattercarpet"
           }
          ],
          "scattergeo": [
           {
            "marker": {
             "colorbar": {
              "outlinewidth": 0,
              "ticks": ""
             }
            },
            "type": "scattergeo"
           }
          ],
          "scattergl": [
           {
            "marker": {
             "colorbar": {
              "outlinewidth": 0,
              "ticks": ""
             }
            },
            "type": "scattergl"
           }
          ],
          "scattermapbox": [
           {
            "marker": {
             "colorbar": {
              "outlinewidth": 0,
              "ticks": ""
             }
            },
            "type": "scattermapbox"
           }
          ],
          "scatterpolar": [
           {
            "marker": {
             "colorbar": {
              "outlinewidth": 0,
              "ticks": ""
             }
            },
            "type": "scatterpolar"
           }
          ],
          "scatterpolargl": [
           {
            "marker": {
             "colorbar": {
              "outlinewidth": 0,
              "ticks": ""
             }
            },
            "type": "scatterpolargl"
           }
          ],
          "scatterternary": [
           {
            "marker": {
             "colorbar": {
              "outlinewidth": 0,
              "ticks": ""
             }
            },
            "type": "scatterternary"
           }
          ],
          "surface": [
           {
            "colorbar": {
             "outlinewidth": 0,
             "ticks": ""
            },
            "colorscale": [
             [
              0,
              "#0d0887"
             ],
             [
              0.1111111111111111,
              "#46039f"
             ],
             [
              0.2222222222222222,
              "#7201a8"
             ],
             [
              0.3333333333333333,
              "#9c179e"
             ],
             [
              0.4444444444444444,
              "#bd3786"
             ],
             [
              0.5555555555555556,
              "#d8576b"
             ],
             [
              0.6666666666666666,
              "#ed7953"
             ],
             [
              0.7777777777777778,
              "#fb9f3a"
             ],
             [
              0.8888888888888888,
              "#fdca26"
             ],
             [
              1,
              "#f0f921"
             ]
            ],
            "type": "surface"
           }
          ],
          "table": [
           {
            "cells": {
             "fill": {
              "color": "#EBF0F8"
             },
             "line": {
              "color": "white"
             }
            },
            "header": {
             "fill": {
              "color": "#C8D4E3"
             },
             "line": {
              "color": "white"
             }
            },
            "type": "table"
           }
          ]
         },
         "layout": {
          "annotationdefaults": {
           "arrowcolor": "#2a3f5f",
           "arrowhead": 0,
           "arrowwidth": 1
          },
          "autotypenumbers": "strict",
          "coloraxis": {
           "colorbar": {
            "outlinewidth": 0,
            "ticks": ""
           }
          },
          "colorscale": {
           "diverging": [
            [
             0,
             "#8e0152"
            ],
            [
             0.1,
             "#c51b7d"
            ],
            [
             0.2,
             "#de77ae"
            ],
            [
             0.3,
             "#f1b6da"
            ],
            [
             0.4,
             "#fde0ef"
            ],
            [
             0.5,
             "#f7f7f7"
            ],
            [
             0.6,
             "#e6f5d0"
            ],
            [
             0.7,
             "#b8e186"
            ],
            [
             0.8,
             "#7fbc41"
            ],
            [
             0.9,
             "#4d9221"
            ],
            [
             1,
             "#276419"
            ]
           ],
           "sequential": [
            [
             0,
             "#0d0887"
            ],
            [
             0.1111111111111111,
             "#46039f"
            ],
            [
             0.2222222222222222,
             "#7201a8"
            ],
            [
             0.3333333333333333,
             "#9c179e"
            ],
            [
             0.4444444444444444,
             "#bd3786"
            ],
            [
             0.5555555555555556,
             "#d8576b"
            ],
            [
             0.6666666666666666,
             "#ed7953"
            ],
            [
             0.7777777777777778,
             "#fb9f3a"
            ],
            [
             0.8888888888888888,
             "#fdca26"
            ],
            [
             1,
             "#f0f921"
            ]
           ],
           "sequentialminus": [
            [
             0,
             "#0d0887"
            ],
            [
             0.1111111111111111,
             "#46039f"
            ],
            [
             0.2222222222222222,
             "#7201a8"
            ],
            [
             0.3333333333333333,
             "#9c179e"
            ],
            [
             0.4444444444444444,
             "#bd3786"
            ],
            [
             0.5555555555555556,
             "#d8576b"
            ],
            [
             0.6666666666666666,
             "#ed7953"
            ],
            [
             0.7777777777777778,
             "#fb9f3a"
            ],
            [
             0.8888888888888888,
             "#fdca26"
            ],
            [
             1,
             "#f0f921"
            ]
           ]
          },
          "colorway": [
           "#636efa",
           "#EF553B",
           "#00cc96",
           "#ab63fa",
           "#FFA15A",
           "#19d3f3",
           "#FF6692",
           "#B6E880",
           "#FF97FF",
           "#FECB52"
          ],
          "font": {
           "color": "#2a3f5f"
          },
          "geo": {
           "bgcolor": "white",
           "lakecolor": "white",
           "landcolor": "#E5ECF6",
           "showlakes": true,
           "showland": true,
           "subunitcolor": "white"
          },
          "hoverlabel": {
           "align": "left"
          },
          "hovermode": "closest",
          "mapbox": {
           "style": "light"
          },
          "paper_bgcolor": "white",
          "plot_bgcolor": "#E5ECF6",
          "polar": {
           "angularaxis": {
            "gridcolor": "white",
            "linecolor": "white",
            "ticks": ""
           },
           "bgcolor": "#E5ECF6",
           "radialaxis": {
            "gridcolor": "white",
            "linecolor": "white",
            "ticks": ""
           }
          },
          "scene": {
           "xaxis": {
            "backgroundcolor": "#E5ECF6",
            "gridcolor": "white",
            "gridwidth": 2,
            "linecolor": "white",
            "showbackground": true,
            "ticks": "",
            "zerolinecolor": "white"
           },
           "yaxis": {
            "backgroundcolor": "#E5ECF6",
            "gridcolor": "white",
            "gridwidth": 2,
            "linecolor": "white",
            "showbackground": true,
            "ticks": "",
            "zerolinecolor": "white"
           },
           "zaxis": {
            "backgroundcolor": "#E5ECF6",
            "gridcolor": "white",
            "gridwidth": 2,
            "linecolor": "white",
            "showbackground": true,
            "ticks": "",
            "zerolinecolor": "white"
           }
          },
          "shapedefaults": {
           "line": {
            "color": "#2a3f5f"
           }
          },
          "ternary": {
           "aaxis": {
            "gridcolor": "white",
            "linecolor": "white",
            "ticks": ""
           },
           "baxis": {
            "gridcolor": "white",
            "linecolor": "white",
            "ticks": ""
           },
           "bgcolor": "#E5ECF6",
           "caxis": {
            "gridcolor": "white",
            "linecolor": "white",
            "ticks": ""
           }
          },
          "title": {
           "x": 0.05
          },
          "xaxis": {
           "automargin": true,
           "gridcolor": "white",
           "linecolor": "white",
           "ticks": "",
           "title": {
            "standoff": 15
           },
           "zerolinecolor": "white",
           "zerolinewidth": 2
          },
          "yaxis": {
           "automargin": true,
           "gridcolor": "white",
           "linecolor": "white",
           "ticks": "",
           "title": {
            "standoff": 15
           },
           "zerolinecolor": "white",
           "zerolinewidth": 2
          }
         }
        },
        "title": {
         "font": {
          "size": 30
         },
         "text": "<b>IDE used on a regular basis</b>"
        },
        "width": 1000,
        "xaxis": {
         "anchor": "y",
         "domain": [
          0,
          1
         ],
         "tickfont": {
          "size": 16
         },
         "title": {
          "text": "<b>Count</b>"
         }
        },
        "yaxis": {
         "anchor": "x",
         "domain": [
          0,
          1
         ],
         "tickfont": {
          "size": 16
         },
         "ticksuffix": "  ",
         "title": {
          "text": "<b>District</b>"
         }
        }
       }
      }
     },
     "metadata": {},
     "output_type": "display_data"
    }
   ],
   "source": [
    "\n",
    "district_count.sort_values(ascending = False ,by='count', inplace= True)\n",
    "\n",
    "fig = px.bar(district_count,\n",
    "              x='count',\n",
    "              y='District', orientation='h', color='count',\n",
    "             color_continuous_scale='viridis_r', title='<b>IDE used on a regular basis</b>',\n",
    "             labels={'count': '<b>Count</b>', 'District': '<b>District</b>'})\n",
    "\n",
    "fig.update_layout(\n",
    "               title_font_size = 30,\n",
    "               width = 1000,\n",
    "               height = 800,\n",
    "               margin=dict(l=20, r=30, t=70, b=20),\n",
    "               paper_bgcolor='#ffe6cc',\n",
    "               xaxis=dict(tickfont=dict(size=16)),\n",
    "               yaxis=dict(tickfont=dict(size=16), ticksuffix = \"  \")\n",
    "               )\n",
    "fig.update_traces(marker_line_color='black', marker_line_width=1.0, hovertemplate='<b>%{x}</b> real estates are located in <b>district %{y}</b>')\n",
    "fig.show(config=dict({'scrollZoom':False}))"
   ]
  },
  {
   "cell_type": "markdown",
   "metadata": {},
   "source": [
    "Through the plot, we can see most of the real estate for sale are in `District 7`, `District 2`, `District 9`, `Bình Thạnh`. So these districts contain most of the percentage of the real estate. This indicates that I we want to get more selection of real estate, these districts are potential locations.\n"
   ]
  },
  {
   "cell_type": "markdown",
   "metadata": {},
   "source": [
    "#### **1.2 Distribution of real estates' types in each district**\n",
    "Now, let's see which is the signature type for each district.     \n",
    "For this, we will find the percentage of each type of real estate that located at a district"
   ]
  },
  {
   "cell_type": "code",
   "execution_count": 32,
   "metadata": {},
   "outputs": [],
   "source": [
    "district_type_df = real_estate_for_sale_df[['Type', 'District']]\n",
    "district_type_df = district_type_df.groupby('District')['Type'].value_counts().reset_index(name = 'Count')\n",
    "\n",
    "district_type_df.loc[:, 'Percentage'] = (district_type_df.loc[:,'Count'] / district_type_df.groupby('District')['Count'].transform('sum'))*100\n",
    "district_type_df.loc[:, 'Percentage'] = district_type_df.loc[:, 'Percentage'].round(2)\n"
   ]
  },
  {
   "cell_type": "markdown",
   "metadata": {},
   "source": [
    "\n",
    "Now for each district, we will draw a pie chart to show the percentage of each real estate type in the district."
   ]
  },
  {
   "cell_type": "code",
   "execution_count": 33,
   "metadata": {},
   "outputs": [
    {
     "data": {
      "application/vnd.plotly.v1+json": {
       "config": {
        "plotlyServerURL": "https://plot.ly"
       },
       "data": [
        {
         "customdata": [
          [
           "Nhà riêng"
          ],
          [
           "Nhà mặt phố"
          ],
          [
           "Căn hộ chung cư"
          ],
          [
           "Đất bán"
          ],
          [
           "Nhà biệt thự, liền kề"
          ]
         ],
         "domain": {
          "x": [
           0,
           0.22
          ],
          "y": [
           0.8666666666666667,
           1
          ]
         },
         "hovertemplate": "<b>%{label}</b> has the percentage of <b>%{value}%</b>",
         "insidetextorientation": "radial",
         "labels": [
          "Nhà riêng",
          "Nhà mặt phố",
          "Căn hộ chung cư",
          "Đất bán",
          "Nhà biệt thự, liền kề"
         ],
         "legendgroup": "",
         "marker": {
          "colors": [
           "#F5FCCD",
           "#78D6C6",
           "#4ba775",
           "#088395",
           "#17526e"
          ],
          "line": {
           "color": "black",
           "width": 0.5
          }
         },
         "name": "",
         "showlegend": true,
         "textposition": "inside",
         "type": "pie",
         "values": [
          40.01,
          33.92,
          25.37,
          0.42,
          0.28
         ]
        },
        {
         "customdata": [
          [
           "Nhà riêng"
          ],
          [
           "Nhà mặt phố"
          ],
          [
           "Căn hộ chung cư"
          ],
          [
           "Đất bán"
          ],
          [
           "Nhà biệt thự, liền kề"
          ]
         ],
         "domain": {
          "x": [
           0.26,
           0.48
          ],
          "y": [
           0.8666666666666667,
           1
          ]
         },
         "hovertemplate": "<b>%{label}</b> has the percentage of <b>%{value}%</b>",
         "insidetextorientation": "radial",
         "labels": [
          "Nhà riêng",
          "Nhà mặt phố",
          "Căn hộ chung cư",
          "Đất bán",
          "Nhà biệt thự, liền kề"
         ],
         "legendgroup": "",
         "marker": {
          "colors": [
           "#F5FCCD",
           "#78D6C6",
           "#4ba775",
           "#088395",
           "#17526e"
          ],
          "line": {
           "color": "black",
           "width": 0.5
          }
         },
         "name": "",
         "showlegend": true,
         "textposition": "inside",
         "type": "pie",
         "values": [
          53.59,
          25.89,
          17.84,
          1.81,
          0.87
         ]
        },
        {
         "customdata": [
          [
           "Nhà riêng"
          ],
          [
           "Nhà mặt phố"
          ],
          [
           "Căn hộ chung cư"
          ],
          [
           "Đất bán"
          ]
         ],
         "domain": {
          "x": [
           0.52,
           0.74
          ],
          "y": [
           0.8666666666666667,
           1
          ]
         },
         "hovertemplate": "<b>%{label}</b> has the percentage of <b>%{value}%</b>",
         "insidetextorientation": "radial",
         "labels": [
          "Nhà riêng",
          "Nhà mặt phố",
          "Căn hộ chung cư",
          "Đất bán"
         ],
         "legendgroup": "",
         "marker": {
          "colors": [
           "#F5FCCD",
           "#78D6C6",
           "#4ba775",
           "#088395"
          ],
          "line": {
           "color": "black",
           "width": 0.5
          }
         },
         "name": "",
         "showlegend": true,
         "textposition": "inside",
         "type": "pie",
         "values": [
          53.41,
          31.06,
          14.33,
          1.19
         ]
        },
        {
         "customdata": [
          [
           "Nhà riêng"
          ],
          [
           "Đất bán"
          ],
          [
           "Nhà mặt phố"
          ],
          [
           "Căn hộ chung cư"
          ],
          [
           "Đất nền dự án"
          ],
          [
           "Nhà biệt thự, liền kề"
          ]
         ],
         "domain": {
          "x": [
           0.78,
           1
          ],
          "y": [
           0.8666666666666667,
           1
          ]
         },
         "hovertemplate": "<b>%{label}</b> has the percentage of <b>%{value}%</b>",
         "insidetextorientation": "radial",
         "labels": [
          "Nhà riêng",
          "Đất bán",
          "Nhà mặt phố",
          "Căn hộ chung cư",
          "Đất nền dự án",
          "Nhà biệt thự, liền kề"
         ],
         "legendgroup": "",
         "marker": {
          "colors": [
           "#F5FCCD",
           "#088395",
           "#78D6C6",
           "#4ba775",
           "#071952",
           "#17526e"
          ],
          "line": {
           "color": "black",
           "width": 0.5
          }
         },
         "name": "",
         "showlegend": true,
         "textposition": "inside",
         "type": "pie",
         "values": [
          41.05,
          24.69,
          15.56,
          12.96,
          4.09,
          1.65
         ]
        },
        {
         "customdata": [
          [
           "Căn hộ chung cư"
          ],
          [
           "Nhà mặt phố"
          ],
          [
           "Đất bán"
          ],
          [
           "Đất nền dự án"
          ],
          [
           "Nhà biệt thự, liền kề"
          ],
          [
           "Nhà riêng"
          ]
         ],
         "domain": {
          "x": [
           0,
           0.22
          ],
          "y": [
           0.6933333333333334,
           0.8266666666666667
          ]
         },
         "hovertemplate": "<b>%{label}</b> has the percentage of <b>%{value}%</b>",
         "insidetextorientation": "radial",
         "labels": [
          "Căn hộ chung cư",
          "Nhà mặt phố",
          "Đất bán",
          "Đất nền dự án",
          "Nhà biệt thự, liền kề",
          "Nhà riêng"
         ],
         "legendgroup": "",
         "marker": {
          "colors": [
           "#4ba775",
           "#78D6C6",
           "#088395",
           "#071952",
           "#17526e",
           "#F5FCCD"
          ],
          "line": {
           "color": "black",
           "width": 0.5
          }
         },
         "name": "",
         "showlegend": true,
         "textposition": "inside",
         "type": "pie",
         "values": [
          60.89,
          9.08,
          9,
          8.43,
          6.45,
          6.15
         ]
        },
        {
         "customdata": [
          [
           "Nhà riêng"
          ],
          [
           "Nhà mặt phố"
          ],
          [
           "Căn hộ chung cư"
          ],
          [
           "Đất bán"
          ],
          [
           "Nhà biệt thự, liền kề"
          ]
         ],
         "domain": {
          "x": [
           0.26,
           0.48
          ],
          "y": [
           0.6933333333333334,
           0.8266666666666667
          ]
         },
         "hovertemplate": "<b>%{label}</b> has the percentage of <b>%{value}%</b>",
         "insidetextorientation": "radial",
         "labels": [
          "Nhà riêng",
          "Nhà mặt phố",
          "Căn hộ chung cư",
          "Đất bán",
          "Nhà biệt thự, liền kề"
         ],
         "legendgroup": "",
         "marker": {
          "colors": [
           "#F5FCCD",
           "#78D6C6",
           "#4ba775",
           "#088395",
           "#17526e"
          ],
          "line": {
           "color": "black",
           "width": 0.5
          }
         },
         "name": "",
         "showlegend": true,
         "textposition": "inside",
         "type": "pie",
         "values": [
          59.98,
          29.65,
          8.37,
          1.77,
          0.23
         ]
        },
        {
         "customdata": [
          [
           "Căn hộ chung cư"
          ],
          [
           "Nhà riêng"
          ],
          [
           "Nhà mặt phố"
          ]
         ],
         "domain": {
          "x": [
           0.52,
           0.74
          ],
          "y": [
           0.6933333333333334,
           0.8266666666666667
          ]
         },
         "hovertemplate": "<b>%{label}</b> has the percentage of <b>%{value}%</b>",
         "insidetextorientation": "radial",
         "labels": [
          "Căn hộ chung cư",
          "Nhà riêng",
          "Nhà mặt phố"
         ],
         "legendgroup": "",
         "marker": {
          "colors": [
           "#4ba775",
           "#F5FCCD",
           "#78D6C6"
          ],
          "line": {
           "color": "black",
           "width": 0.5
          }
         },
         "name": "",
         "showlegend": true,
         "textposition": "inside",
         "type": "pie",
         "values": [
          68.03,
          26.11,
          5.86
         ]
        },
        {
         "customdata": [
          [
           "Nhà riêng"
          ],
          [
           "Nhà mặt phố"
          ],
          [
           "Căn hộ chung cư"
          ],
          [
           "Đất bán"
          ]
         ],
         "domain": {
          "x": [
           0.78,
           1
          ],
          "y": [
           0.6933333333333334,
           0.8266666666666667
          ]
         },
         "hovertemplate": "<b>%{label}</b> has the percentage of <b>%{value}%</b>",
         "insidetextorientation": "radial",
         "labels": [
          "Nhà riêng",
          "Nhà mặt phố",
          "Căn hộ chung cư",
          "Đất bán"
         ],
         "legendgroup": "",
         "marker": {
          "colors": [
           "#F5FCCD",
           "#78D6C6",
           "#4ba775",
           "#088395"
          ],
          "line": {
           "color": "black",
           "width": 0.5
          }
         },
         "name": "",
         "showlegend": true,
         "textposition": "inside",
         "type": "pie",
         "values": [
          46.32,
          35.47,
          16.86,
          1.36
         ]
        },
        {
         "customdata": [
          [
           "Căn hộ chung cư"
          ],
          [
           "Nhà mặt phố"
          ],
          [
           "Nhà riêng"
          ],
          [
           "Đất bán"
          ],
          [
           "Nhà biệt thự, liền kề"
          ]
         ],
         "domain": {
          "x": [
           0,
           0.22
          ],
          "y": [
           0.52,
           0.6533333333333333
          ]
         },
         "hovertemplate": "<b>%{label}</b> has the percentage of <b>%{value}%</b>",
         "insidetextorientation": "radial",
         "labels": [
          "Căn hộ chung cư",
          "Nhà mặt phố",
          "Nhà riêng",
          "Đất bán",
          "Nhà biệt thự, liền kề"
         ],
         "legendgroup": "",
         "marker": {
          "colors": [
           "#4ba775",
           "#78D6C6",
           "#F5FCCD",
           "#088395",
           "#17526e"
          ],
          "line": {
           "color": "black",
           "width": 0.5
          }
         },
         "name": "",
         "showlegend": true,
         "textposition": "inside",
         "type": "pie",
         "values": [
          45.82,
          29.75,
          22.58,
          1.33,
          0.53
         ]
        },
        {
         "customdata": [
          [
           "Căn hộ chung cư"
          ],
          [
           "Nhà riêng"
          ],
          [
           "Nhà mặt phố"
          ],
          [
           "Nhà biệt thự, liền kề"
          ],
          [
           "Đất nền dự án"
          ],
          [
           "Đất bán"
          ]
         ],
         "domain": {
          "x": [
           0.26,
           0.48
          ],
          "y": [
           0.52,
           0.6533333333333333
          ]
         },
         "hovertemplate": "<b>%{label}</b> has the percentage of <b>%{value}%</b>",
         "insidetextorientation": "radial",
         "labels": [
          "Căn hộ chung cư",
          "Nhà riêng",
          "Nhà mặt phố",
          "Nhà biệt thự, liền kề",
          "Đất nền dự án",
          "Đất bán"
         ],
         "legendgroup": "",
         "marker": {
          "colors": [
           "#4ba775",
           "#F5FCCD",
           "#78D6C6",
           "#17526e",
           "#071952",
           "#088395"
          ],
          "line": {
           "color": "black",
           "width": 0.5
          }
         },
         "name": "",
         "showlegend": true,
         "textposition": "inside",
         "type": "pie",
         "values": [
          53.52,
          18.37,
          11.89,
          8.58,
          3.85,
          3.78
         ]
        },
        {
         "customdata": [
          [
           "Căn hộ chung cư"
          ],
          [
           "Nhà riêng"
          ],
          [
           "Nhà mặt phố"
          ],
          [
           "Đất bán"
          ],
          [
           "Đất nền dự án"
          ],
          [
           "Nhà biệt thự, liền kề"
          ]
         ],
         "domain": {
          "x": [
           0.52,
           0.74
          ],
          "y": [
           0.52,
           0.6533333333333333
          ]
         },
         "hovertemplate": "<b>%{label}</b> has the percentage of <b>%{value}%</b>",
         "insidetextorientation": "radial",
         "labels": [
          "Căn hộ chung cư",
          "Nhà riêng",
          "Nhà mặt phố",
          "Đất bán",
          "Đất nền dự án",
          "Nhà biệt thự, liền kề"
         ],
         "legendgroup": "",
         "marker": {
          "colors": [
           "#4ba775",
           "#F5FCCD",
           "#78D6C6",
           "#088395",
           "#071952",
           "#17526e"
          ],
          "line": {
           "color": "black",
           "width": 0.5
          }
         },
         "name": "",
         "showlegend": true,
         "textposition": "inside",
         "type": "pie",
         "values": [
          44.3,
          32.23,
          10.97,
          7.74,
          3.91,
          0.85
         ]
        },
        {
         "customdata": [
          [
           "Căn hộ chung cư"
          ],
          [
           "Nhà biệt thự, liền kề"
          ],
          [
           "Đất nền dự án"
          ],
          [
           "Đất bán"
          ],
          [
           "Nhà riêng"
          ],
          [
           "Nhà mặt phố"
          ]
         ],
         "domain": {
          "x": [
           0.78,
           1
          ],
          "y": [
           0.52,
           0.6533333333333333
          ]
         },
         "hovertemplate": "<b>%{label}</b> has the percentage of <b>%{value}%</b>",
         "insidetextorientation": "radial",
         "labels": [
          "Căn hộ chung cư",
          "Nhà biệt thự, liền kề",
          "Đất nền dự án",
          "Đất bán",
          "Nhà riêng",
          "Nhà mặt phố"
         ],
         "legendgroup": "",
         "marker": {
          "colors": [
           "#4ba775",
           "#17526e",
           "#071952",
           "#088395",
           "#F5FCCD",
           "#78D6C6"
          ],
          "line": {
           "color": "black",
           "width": 0.5
          }
         },
         "name": "",
         "showlegend": true,
         "textposition": "inside",
         "type": "pie",
         "values": [
          30.43,
          17.02,
          16.02,
          14.88,
          13.64,
          8.01
         ]
        },
        {
         "customdata": [
          [
           "Căn hộ chung cư"
          ],
          [
           "Đất bán"
          ],
          [
           "Nhà riêng"
          ],
          [
           "Đất nền dự án"
          ],
          [
           "Nhà mặt phố"
          ],
          [
           "Nhà biệt thự, liền kề"
          ]
         ],
         "domain": {
          "x": [
           0,
           0.22
          ],
          "y": [
           0.3466666666666667,
           0.48
          ]
         },
         "hovertemplate": "<b>%{label}</b> has the percentage of <b>%{value}%</b>",
         "insidetextorientation": "radial",
         "labels": [
          "Căn hộ chung cư",
          "Đất bán",
          "Nhà riêng",
          "Đất nền dự án",
          "Nhà mặt phố",
          "Nhà biệt thự, liền kề"
         ],
         "legendgroup": "",
         "marker": {
          "colors": [
           "#4ba775",
           "#088395",
           "#F5FCCD",
           "#071952",
           "#78D6C6",
           "#17526e"
          ],
          "line": {
           "color": "black",
           "width": 0.5
          }
         },
         "name": "",
         "showlegend": true,
         "textposition": "inside",
         "type": "pie",
         "values": [
          29.93,
          26.66,
          12.93,
          12.62,
          9.3,
          8.56
         ]
        },
        {
         "customdata": [
          [
           "Nhà riêng"
          ],
          [
           "Căn hộ chung cư"
          ],
          [
           "Nhà mặt phố"
          ],
          [
           "Đất bán"
          ],
          [
           "Nhà biệt thự, liền kề"
          ],
          [
           "Đất nền dự án"
          ]
         ],
         "domain": {
          "x": [
           0.26,
           0.48
          ],
          "y": [
           0.3466666666666667,
           0.48
          ]
         },
         "hovertemplate": "<b>%{label}</b> has the percentage of <b>%{value}%</b>",
         "insidetextorientation": "radial",
         "labels": [
          "Nhà riêng",
          "Căn hộ chung cư",
          "Nhà mặt phố",
          "Đất bán",
          "Nhà biệt thự, liền kề",
          "Đất nền dự án"
         ],
         "legendgroup": "",
         "marker": {
          "colors": [
           "#F5FCCD",
           "#4ba775",
           "#78D6C6",
           "#088395",
           "#17526e",
           "#071952"
          ],
          "line": {
           "color": "black",
           "width": 0.5
          }
         },
         "name": "",
         "showlegend": true,
         "textposition": "inside",
         "type": "pie",
         "values": [
          49.72,
          23.01,
          18.38,
          6.68,
          1.99,
          0.21
         ]
        },
        {
         "customdata": [
          [
           "Nhà riêng"
          ],
          [
           "Căn hộ chung cư"
          ],
          [
           "Đất bán"
          ],
          [
           "Nhà mặt phố"
          ],
          [
           "Nhà biệt thự, liền kề"
          ],
          [
           "Đất nền dự án"
          ]
         ],
         "domain": {
          "x": [
           0.52,
           0.74
          ],
          "y": [
           0.3466666666666667,
           0.48
          ]
         },
         "hovertemplate": "<b>%{label}</b> has the percentage of <b>%{value}%</b>",
         "insidetextorientation": "radial",
         "labels": [
          "Nhà riêng",
          "Căn hộ chung cư",
          "Đất bán",
          "Nhà mặt phố",
          "Nhà biệt thự, liền kề",
          "Đất nền dự án"
         ],
         "legendgroup": "",
         "marker": {
          "colors": [
           "#F5FCCD",
           "#4ba775",
           "#088395",
           "#78D6C6",
           "#17526e",
           "#071952"
          ],
          "line": {
           "color": "black",
           "width": 0.5
          }
         },
         "name": "",
         "showlegend": true,
         "textposition": "inside",
         "type": "pie",
         "values": [
          44.92,
          24.89,
          15.12,
          13.06,
          1.23,
          0.79
         ]
        },
        {
         "customdata": [
          [
           "Đất bán"
          ],
          [
           "Nhà riêng"
          ],
          [
           "Nhà biệt thự, liền kề"
          ],
          [
           "Nhà mặt phố"
          ],
          [
           "Đất nền dự án"
          ]
         ],
         "domain": {
          "x": [
           0.78,
           1
          ],
          "y": [
           0.3466666666666667,
           0.48
          ]
         },
         "hovertemplate": "<b>%{label}</b> has the percentage of <b>%{value}%</b>",
         "insidetextorientation": "radial",
         "labels": [
          "Đất bán",
          "Nhà riêng",
          "Nhà biệt thự, liền kề",
          "Nhà mặt phố",
          "Đất nền dự án"
         ],
         "legendgroup": "",
         "marker": {
          "colors": [
           "#088395",
           "#F5FCCD",
           "#17526e",
           "#78D6C6",
           "#071952"
          ],
          "line": {
           "color": "black",
           "width": 0.5
          }
         },
         "name": "",
         "showlegend": true,
         "textposition": "inside",
         "type": "pie",
         "values": [
          77.19,
          7.02,
          7.02,
          5.26,
          3.51
         ]
        },
        {
         "customdata": [
          [
           "Đất bán"
          ],
          [
           "Nhà riêng"
          ],
          [
           "Đất nền dự án"
          ],
          [
           "Nhà mặt phố"
          ]
         ],
         "domain": {
          "x": [
           0,
           0.22
          ],
          "y": [
           0.17333333333333334,
           0.30666666666666664
          ]
         },
         "hovertemplate": "<b>%{label}</b> has the percentage of <b>%{value}%</b>",
         "insidetextorientation": "radial",
         "labels": [
          "Đất bán",
          "Nhà riêng",
          "Đất nền dự án",
          "Nhà mặt phố"
         ],
         "legendgroup": "",
         "marker": {
          "colors": [
           "#088395",
           "#F5FCCD",
           "#071952",
           "#78D6C6"
          ],
          "line": {
           "color": "black",
           "width": 0.5
          }
         },
         "name": "",
         "showlegend": true,
         "textposition": "inside",
         "type": "pie",
         "values": [
          87.27,
          8.33,
          2.31,
          2.08
         ]
        },
        {
         "customdata": [
          [
           "Nhà riêng"
          ],
          [
           "Nhà mặt phố"
          ],
          [
           "Căn hộ chung cư"
          ],
          [
           "Đất bán"
          ],
          [
           "Nhà biệt thự, liền kề"
          ],
          [
           "Đất nền dự án"
          ]
         ],
         "domain": {
          "x": [
           0.26,
           0.48
          ],
          "y": [
           0.17333333333333334,
           0.30666666666666664
          ]
         },
         "hovertemplate": "<b>%{label}</b> has the percentage of <b>%{value}%</b>",
         "insidetextorientation": "radial",
         "labels": [
          "Nhà riêng",
          "Nhà mặt phố",
          "Căn hộ chung cư",
          "Đất bán",
          "Nhà biệt thự, liền kề",
          "Đất nền dự án"
         ],
         "legendgroup": "",
         "marker": {
          "colors": [
           "#F5FCCD",
           "#78D6C6",
           "#4ba775",
           "#088395",
           "#17526e",
           "#071952"
          ],
          "line": {
           "color": "black",
           "width": 0.5
          }
         },
         "name": "",
         "showlegend": true,
         "textposition": "inside",
         "type": "pie",
         "values": [
          63.29,
          18.7,
          7.71,
          5.78,
          4.36,
          0.15
         ]
        },
        {
         "customdata": [
          [
           "Đất bán"
          ],
          [
           "Nhà riêng"
          ],
          [
           "Nhà mặt phố"
          ],
          [
           "Nhà biệt thự, liền kề"
          ],
          [
           "Đất nền dự án"
          ],
          [
           "Căn hộ chung cư"
          ]
         ],
         "domain": {
          "x": [
           0.52,
           0.74
          ],
          "y": [
           0.17333333333333334,
           0.30666666666666664
          ]
         },
         "hovertemplate": "<b>%{label}</b> has the percentage of <b>%{value}%</b>",
         "insidetextorientation": "radial",
         "labels": [
          "Đất bán",
          "Nhà riêng",
          "Nhà mặt phố",
          "Nhà biệt thự, liền kề",
          "Đất nền dự án",
          "Căn hộ chung cư"
         ],
         "legendgroup": "",
         "marker": {
          "colors": [
           "#088395",
           "#F5FCCD",
           "#78D6C6",
           "#17526e",
           "#071952",
           "#4ba775"
          ],
          "line": {
           "color": "black",
           "width": 0.5
          }
         },
         "name": "",
         "showlegend": true,
         "textposition": "inside",
         "type": "pie",
         "values": [
          48.63,
          33.83,
          11.42,
          3.17,
          1.48,
          1.48
         ]
        },
        {
         "customdata": [
          [
           "Căn hộ chung cư"
          ],
          [
           "Nhà riêng"
          ],
          [
           "Đất bán"
          ],
          [
           "Đất nền dự án"
          ],
          [
           "Nhà biệt thự, liền kề"
          ],
          [
           "Nhà mặt phố"
          ]
         ],
         "domain": {
          "x": [
           0.78,
           1
          ],
          "y": [
           0.17333333333333334,
           0.30666666666666664
          ]
         },
         "hovertemplate": "<b>%{label}</b> has the percentage of <b>%{value}%</b>",
         "insidetextorientation": "radial",
         "labels": [
          "Căn hộ chung cư",
          "Nhà riêng",
          "Đất bán",
          "Đất nền dự án",
          "Nhà biệt thự, liền kề",
          "Nhà mặt phố"
         ],
         "legendgroup": "",
         "marker": {
          "colors": [
           "#4ba775",
           "#F5FCCD",
           "#088395",
           "#071952",
           "#17526e",
           "#78D6C6"
          ],
          "line": {
           "color": "black",
           "width": 0.5
          }
         },
         "name": "",
         "showlegend": true,
         "textposition": "inside",
         "type": "pie",
         "values": [
          26.52,
          18.8,
          16.61,
          16.47,
          16.4,
          5.19
         ]
        },
        {
         "customdata": [
          [
           "Nhà riêng"
          ],
          [
           "Nhà mặt phố"
          ],
          [
           "Căn hộ chung cư"
          ],
          [
           "Nhà biệt thự, liền kề"
          ],
          [
           "Đất bán"
          ]
         ],
         "domain": {
          "x": [
           0,
           0.22
          ],
          "y": [
           0,
           0.13333333333333333
          ]
         },
         "hovertemplate": "<b>%{label}</b> has the percentage of <b>%{value}%</b>",
         "insidetextorientation": "radial",
         "labels": [
          "Nhà riêng",
          "Nhà mặt phố",
          "Căn hộ chung cư",
          "Nhà biệt thự, liền kề",
          "Đất bán"
         ],
         "legendgroup": "",
         "marker": {
          "colors": [
           "#F5FCCD",
           "#78D6C6",
           "#4ba775",
           "#17526e",
           "#088395"
          ],
          "line": {
           "color": "black",
           "width": 0.5
          }
         },
         "name": "",
         "showlegend": true,
         "textposition": "inside",
         "type": "pie",
         "values": [
          58.21,
          25.54,
          12.92,
          2.2,
          1.13
         ]
        },
        {
         "customdata": [
          [
           "Nhà riêng"
          ],
          [
           "Đất bán"
          ],
          [
           "Căn hộ chung cư"
          ],
          [
           "Nhà mặt phố"
          ],
          [
           "Nhà biệt thự, liền kề"
          ],
          [
           "Đất nền dự án"
          ]
         ],
         "domain": {
          "x": [
           0.26,
           0.48
          ],
          "y": [
           0,
           0.13333333333333333
          ]
         },
         "hovertemplate": "<b>%{label}</b> has the percentage of <b>%{value}%</b>",
         "insidetextorientation": "radial",
         "labels": [
          "Nhà riêng",
          "Đất bán",
          "Căn hộ chung cư",
          "Nhà mặt phố",
          "Nhà biệt thự, liền kề",
          "Đất nền dự án"
         ],
         "legendgroup": "",
         "marker": {
          "colors": [
           "#F5FCCD",
           "#088395",
           "#4ba775",
           "#78D6C6",
           "#17526e",
           "#071952"
          ],
          "line": {
           "color": "black",
           "width": 0.5
          }
         },
         "name": "",
         "showlegend": true,
         "textposition": "inside",
         "type": "pie",
         "values": [
          37.7,
          23.67,
          17.74,
          12.41,
          7.44,
          1.04
         ]
        },
        {
         "customdata": [
          [
           "Nhà riêng"
          ],
          [
           "Nhà mặt phố"
          ],
          [
           "Căn hộ chung cư"
          ],
          [
           "Nhà biệt thự, liền kề"
          ],
          [
           "Đất bán"
          ]
         ],
         "domain": {
          "x": [
           0.52,
           0.74
          ],
          "y": [
           0,
           0.13333333333333333
          ]
         },
         "hovertemplate": "<b>%{label}</b> has the percentage of <b>%{value}%</b>",
         "insidetextorientation": "radial",
         "labels": [
          "Nhà riêng",
          "Nhà mặt phố",
          "Căn hộ chung cư",
          "Nhà biệt thự, liền kề",
          "Đất bán"
         ],
         "legendgroup": "",
         "marker": {
          "colors": [
           "#F5FCCD",
           "#78D6C6",
           "#4ba775",
           "#17526e",
           "#088395"
          ],
          "line": {
           "color": "black",
           "width": 0.5
          }
         },
         "name": "",
         "showlegend": true,
         "textposition": "inside",
         "type": "pie",
         "values": [
          56.22,
          27.43,
          13.22,
          1.88,
          1.26
         ]
        },
        {
         "customdata": [
          [
           "Căn hộ chung cư"
          ],
          [
           "Nhà riêng"
          ],
          [
           "Nhà mặt phố"
          ],
          [
           "Đất bán"
          ],
          [
           "Nhà biệt thự, liền kề"
          ]
         ],
         "domain": {
          "x": [
           0.78,
           1
          ],
          "y": [
           0,
           0.13333333333333333
          ]
         },
         "hovertemplate": "<b>%{label}</b> has the percentage of <b>%{value}%</b>",
         "insidetextorientation": "radial",
         "labels": [
          "Căn hộ chung cư",
          "Nhà riêng",
          "Nhà mặt phố",
          "Đất bán",
          "Nhà biệt thự, liền kề"
         ],
         "legendgroup": "",
         "marker": {
          "colors": [
           "#4ba775",
           "#F5FCCD",
           "#78D6C6",
           "#088395",
           "#17526e"
          ],
          "line": {
           "color": "black",
           "width": 0.5
          }
         },
         "name": "",
         "showlegend": true,
         "textposition": "inside",
         "type": "pie",
         "values": [
          38.11,
          34.63,
          24,
          2.78,
          0.46
         ]
        }
       ],
       "layout": {
        "annotations": [
         {
          "font": {},
          "showarrow": false,
          "text": "<b>Quận</b>=Phú Nhuận",
          "x": 0.11,
          "xanchor": "center",
          "xref": "paper",
          "y": 0.13333333333333333,
          "yanchor": "bottom",
          "yref": "paper"
         },
         {
          "font": {},
          "showarrow": false,
          "text": "<b>Quận</b>=Thủ Đức",
          "x": 0.37,
          "xanchor": "center",
          "xref": "paper",
          "y": 0.13333333333333333,
          "yanchor": "bottom",
          "yref": "paper"
         },
         {
          "font": {},
          "showarrow": false,
          "text": "<b>Quận</b>=Tân Bình",
          "x": 0.63,
          "xanchor": "center",
          "xref": "paper",
          "y": 0.13333333333333333,
          "yanchor": "bottom",
          "yref": "paper"
         },
         {
          "font": {},
          "showarrow": false,
          "text": "<b>Quận</b>=Tân Phú",
          "x": 0.89,
          "xanchor": "center",
          "xref": "paper",
          "y": 0.13333333333333333,
          "yanchor": "bottom",
          "yref": "paper"
         },
         {
          "font": {},
          "showarrow": false,
          "text": "<b>Quận</b>=Củ Chi",
          "x": 0.11,
          "xanchor": "center",
          "xref": "paper",
          "y": 0.30666666666666664,
          "yanchor": "bottom",
          "yref": "paper"
         },
         {
          "font": {},
          "showarrow": false,
          "text": "<b>Quận</b>=Gò Vấp",
          "x": 0.37,
          "xanchor": "center",
          "xref": "paper",
          "y": 0.30666666666666664,
          "yanchor": "bottom",
          "yref": "paper"
         },
         {
          "font": {},
          "showarrow": false,
          "text": "<b>Quận</b>=Hóc Môn",
          "x": 0.63,
          "xanchor": "center",
          "xref": "paper",
          "y": 0.30666666666666664,
          "yanchor": "bottom",
          "yref": "paper"
         },
         {
          "font": {},
          "showarrow": false,
          "text": "<b>Quận</b>=Nhà Bè",
          "x": 0.89,
          "xanchor": "center",
          "xref": "paper",
          "y": 0.30666666666666664,
          "yanchor": "bottom",
          "yref": "paper"
         },
         {
          "font": {},
          "showarrow": false,
          "text": "<b>Quận</b>=Bình Chánh",
          "x": 0.11,
          "xanchor": "center",
          "xref": "paper",
          "y": 0.48,
          "yanchor": "bottom",
          "yref": "paper"
         },
         {
          "font": {},
          "showarrow": false,
          "text": "<b>Quận</b>=Bình Thạnh",
          "x": 0.37,
          "xanchor": "center",
          "xref": "paper",
          "y": 0.48,
          "yanchor": "bottom",
          "yref": "paper"
         },
         {
          "font": {},
          "showarrow": false,
          "text": "<b>Quận</b>=Bình Tân",
          "x": 0.63,
          "xanchor": "center",
          "xref": "paper",
          "y": 0.48,
          "yanchor": "bottom",
          "yref": "paper"
         },
         {
          "font": {},
          "showarrow": false,
          "text": "<b>Quận</b>=Cần Giờ",
          "x": 0.89,
          "xanchor": "center",
          "xref": "paper",
          "y": 0.48,
          "yanchor": "bottom",
          "yref": "paper"
         },
         {
          "font": {},
          "showarrow": false,
          "text": "<b>Quận</b>=6",
          "x": 0.11,
          "xanchor": "center",
          "xref": "paper",
          "y": 0.6533333333333333,
          "yanchor": "bottom",
          "yref": "paper"
         },
         {
          "font": {},
          "showarrow": false,
          "text": "<b>Quận</b>=7",
          "x": 0.37,
          "xanchor": "center",
          "xref": "paper",
          "y": 0.6533333333333333,
          "yanchor": "bottom",
          "yref": "paper"
         },
         {
          "font": {},
          "showarrow": false,
          "text": "<b>Quận</b>=8",
          "x": 0.63,
          "xanchor": "center",
          "xref": "paper",
          "y": 0.6533333333333333,
          "yanchor": "bottom",
          "yref": "paper"
         },
         {
          "font": {},
          "showarrow": false,
          "text": "<b>Quận</b>=9",
          "x": 0.89,
          "xanchor": "center",
          "xref": "paper",
          "y": 0.6533333333333333,
          "yanchor": "bottom",
          "yref": "paper"
         },
         {
          "font": {},
          "showarrow": false,
          "text": "<b>Quận</b>=2",
          "x": 0.11,
          "xanchor": "center",
          "xref": "paper",
          "y": 0.8266666666666667,
          "yanchor": "bottom",
          "yref": "paper"
         },
         {
          "font": {},
          "showarrow": false,
          "text": "<b>Quận</b>=3",
          "x": 0.37,
          "xanchor": "center",
          "xref": "paper",
          "y": 0.8266666666666667,
          "yanchor": "bottom",
          "yref": "paper"
         },
         {
          "font": {},
          "showarrow": false,
          "text": "<b>Quận</b>=4",
          "x": 0.63,
          "xanchor": "center",
          "xref": "paper",
          "y": 0.8266666666666667,
          "yanchor": "bottom",
          "yref": "paper"
         },
         {
          "font": {},
          "showarrow": false,
          "text": "<b>Quận</b>=5",
          "x": 0.89,
          "xanchor": "center",
          "xref": "paper",
          "y": 0.8266666666666667,
          "yanchor": "bottom",
          "yref": "paper"
         },
         {
          "font": {},
          "showarrow": false,
          "text": "<b>Quận</b>=1",
          "x": 0.11,
          "xanchor": "center",
          "xref": "paper",
          "y": 1,
          "yanchor": "bottom",
          "yref": "paper"
         },
         {
          "font": {},
          "showarrow": false,
          "text": "<b>Quận</b>=10",
          "x": 0.37,
          "xanchor": "center",
          "xref": "paper",
          "y": 1,
          "yanchor": "bottom",
          "yref": "paper"
         },
         {
          "font": {},
          "showarrow": false,
          "text": "<b>Quận</b>=11",
          "x": 0.63,
          "xanchor": "center",
          "xref": "paper",
          "y": 1,
          "yanchor": "bottom",
          "yref": "paper"
         },
         {
          "font": {},
          "showarrow": false,
          "text": "<b>Quận</b>=12",
          "x": 0.89,
          "xanchor": "center",
          "xref": "paper",
          "y": 1,
          "yanchor": "bottom",
          "yref": "paper"
         }
        ],
        "height": 1500,
        "legend": {
         "tracegroupgap": 0
        },
        "margin": {
         "b": 20,
         "l": 20,
         "r": 20,
         "t": 90
        },
        "paper_bgcolor": "#ffe6cc",
        "template": {
         "data": {
          "bar": [
           {
            "error_x": {
             "color": "#2a3f5f"
            },
            "error_y": {
             "color": "#2a3f5f"
            },
            "marker": {
             "line": {
              "color": "#E5ECF6",
              "width": 0.5
             },
             "pattern": {
              "fillmode": "overlay",
              "size": 10,
              "solidity": 0.2
             }
            },
            "type": "bar"
           }
          ],
          "barpolar": [
           {
            "marker": {
             "line": {
              "color": "#E5ECF6",
              "width": 0.5
             },
             "pattern": {
              "fillmode": "overlay",
              "size": 10,
              "solidity": 0.2
             }
            },
            "type": "barpolar"
           }
          ],
          "carpet": [
           {
            "aaxis": {
             "endlinecolor": "#2a3f5f",
             "gridcolor": "white",
             "linecolor": "white",
             "minorgridcolor": "white",
             "startlinecolor": "#2a3f5f"
            },
            "baxis": {
             "endlinecolor": "#2a3f5f",
             "gridcolor": "white",
             "linecolor": "white",
             "minorgridcolor": "white",
             "startlinecolor": "#2a3f5f"
            },
            "type": "carpet"
           }
          ],
          "choropleth": [
           {
            "colorbar": {
             "outlinewidth": 0,
             "ticks": ""
            },
            "type": "choropleth"
           }
          ],
          "contour": [
           {
            "colorbar": {
             "outlinewidth": 0,
             "ticks": ""
            },
            "colorscale": [
             [
              0,
              "#0d0887"
             ],
             [
              0.1111111111111111,
              "#46039f"
             ],
             [
              0.2222222222222222,
              "#7201a8"
             ],
             [
              0.3333333333333333,
              "#9c179e"
             ],
             [
              0.4444444444444444,
              "#bd3786"
             ],
             [
              0.5555555555555556,
              "#d8576b"
             ],
             [
              0.6666666666666666,
              "#ed7953"
             ],
             [
              0.7777777777777778,
              "#fb9f3a"
             ],
             [
              0.8888888888888888,
              "#fdca26"
             ],
             [
              1,
              "#f0f921"
             ]
            ],
            "type": "contour"
           }
          ],
          "contourcarpet": [
           {
            "colorbar": {
             "outlinewidth": 0,
             "ticks": ""
            },
            "type": "contourcarpet"
           }
          ],
          "heatmap": [
           {
            "colorbar": {
             "outlinewidth": 0,
             "ticks": ""
            },
            "colorscale": [
             [
              0,
              "#0d0887"
             ],
             [
              0.1111111111111111,
              "#46039f"
             ],
             [
              0.2222222222222222,
              "#7201a8"
             ],
             [
              0.3333333333333333,
              "#9c179e"
             ],
             [
              0.4444444444444444,
              "#bd3786"
             ],
             [
              0.5555555555555556,
              "#d8576b"
             ],
             [
              0.6666666666666666,
              "#ed7953"
             ],
             [
              0.7777777777777778,
              "#fb9f3a"
             ],
             [
              0.8888888888888888,
              "#fdca26"
             ],
             [
              1,
              "#f0f921"
             ]
            ],
            "type": "heatmap"
           }
          ],
          "heatmapgl": [
           {
            "colorbar": {
             "outlinewidth": 0,
             "ticks": ""
            },
            "colorscale": [
             [
              0,
              "#0d0887"
             ],
             [
              0.1111111111111111,
              "#46039f"
             ],
             [
              0.2222222222222222,
              "#7201a8"
             ],
             [
              0.3333333333333333,
              "#9c179e"
             ],
             [
              0.4444444444444444,
              "#bd3786"
             ],
             [
              0.5555555555555556,
              "#d8576b"
             ],
             [
              0.6666666666666666,
              "#ed7953"
             ],
             [
              0.7777777777777778,
              "#fb9f3a"
             ],
             [
              0.8888888888888888,
              "#fdca26"
             ],
             [
              1,
              "#f0f921"
             ]
            ],
            "type": "heatmapgl"
           }
          ],
          "histogram": [
           {
            "marker": {
             "pattern": {
              "fillmode": "overlay",
              "size": 10,
              "solidity": 0.2
             }
            },
            "type": "histogram"
           }
          ],
          "histogram2d": [
           {
            "colorbar": {
             "outlinewidth": 0,
             "ticks": ""
            },
            "colorscale": [
             [
              0,
              "#0d0887"
             ],
             [
              0.1111111111111111,
              "#46039f"
             ],
             [
              0.2222222222222222,
              "#7201a8"
             ],
             [
              0.3333333333333333,
              "#9c179e"
             ],
             [
              0.4444444444444444,
              "#bd3786"
             ],
             [
              0.5555555555555556,
              "#d8576b"
             ],
             [
              0.6666666666666666,
              "#ed7953"
             ],
             [
              0.7777777777777778,
              "#fb9f3a"
             ],
             [
              0.8888888888888888,
              "#fdca26"
             ],
             [
              1,
              "#f0f921"
             ]
            ],
            "type": "histogram2d"
           }
          ],
          "histogram2dcontour": [
           {
            "colorbar": {
             "outlinewidth": 0,
             "ticks": ""
            },
            "colorscale": [
             [
              0,
              "#0d0887"
             ],
             [
              0.1111111111111111,
              "#46039f"
             ],
             [
              0.2222222222222222,
              "#7201a8"
             ],
             [
              0.3333333333333333,
              "#9c179e"
             ],
             [
              0.4444444444444444,
              "#bd3786"
             ],
             [
              0.5555555555555556,
              "#d8576b"
             ],
             [
              0.6666666666666666,
              "#ed7953"
             ],
             [
              0.7777777777777778,
              "#fb9f3a"
             ],
             [
              0.8888888888888888,
              "#fdca26"
             ],
             [
              1,
              "#f0f921"
             ]
            ],
            "type": "histogram2dcontour"
           }
          ],
          "mesh3d": [
           {
            "colorbar": {
             "outlinewidth": 0,
             "ticks": ""
            },
            "type": "mesh3d"
           }
          ],
          "parcoords": [
           {
            "line": {
             "colorbar": {
              "outlinewidth": 0,
              "ticks": ""
             }
            },
            "type": "parcoords"
           }
          ],
          "pie": [
           {
            "automargin": true,
            "type": "pie"
           }
          ],
          "scatter": [
           {
            "fillpattern": {
             "fillmode": "overlay",
             "size": 10,
             "solidity": 0.2
            },
            "type": "scatter"
           }
          ],
          "scatter3d": [
           {
            "line": {
             "colorbar": {
              "outlinewidth": 0,
              "ticks": ""
             }
            },
            "marker": {
             "colorbar": {
              "outlinewidth": 0,
              "ticks": ""
             }
            },
            "type": "scatter3d"
           }
          ],
          "scattercarpet": [
           {
            "marker": {
             "colorbar": {
              "outlinewidth": 0,
              "ticks": ""
             }
            },
            "type": "scattercarpet"
           }
          ],
          "scattergeo": [
           {
            "marker": {
             "colorbar": {
              "outlinewidth": 0,
              "ticks": ""
             }
            },
            "type": "scattergeo"
           }
          ],
          "scattergl": [
           {
            "marker": {
             "colorbar": {
              "outlinewidth": 0,
              "ticks": ""
             }
            },
            "type": "scattergl"
           }
          ],
          "scattermapbox": [
           {
            "marker": {
             "colorbar": {
              "outlinewidth": 0,
              "ticks": ""
             }
            },
            "type": "scattermapbox"
           }
          ],
          "scatterpolar": [
           {
            "marker": {
             "colorbar": {
              "outlinewidth": 0,
              "ticks": ""
             }
            },
            "type": "scatterpolar"
           }
          ],
          "scatterpolargl": [
           {
            "marker": {
             "colorbar": {
              "outlinewidth": 0,
              "ticks": ""
             }
            },
            "type": "scatterpolargl"
           }
          ],
          "scatterternary": [
           {
            "marker": {
             "colorbar": {
              "outlinewidth": 0,
              "ticks": ""
             }
            },
            "type": "scatterternary"
           }
          ],
          "surface": [
           {
            "colorbar": {
             "outlinewidth": 0,
             "ticks": ""
            },
            "colorscale": [
             [
              0,
              "#0d0887"
             ],
             [
              0.1111111111111111,
              "#46039f"
             ],
             [
              0.2222222222222222,
              "#7201a8"
             ],
             [
              0.3333333333333333,
              "#9c179e"
             ],
             [
              0.4444444444444444,
              "#bd3786"
             ],
             [
              0.5555555555555556,
              "#d8576b"
             ],
             [
              0.6666666666666666,
              "#ed7953"
             ],
             [
              0.7777777777777778,
              "#fb9f3a"
             ],
             [
              0.8888888888888888,
              "#fdca26"
             ],
             [
              1,
              "#f0f921"
             ]
            ],
            "type": "surface"
           }
          ],
          "table": [
           {
            "cells": {
             "fill": {
              "color": "#EBF0F8"
             },
             "line": {
              "color": "white"
             }
            },
            "header": {
             "fill": {
              "color": "#C8D4E3"
             },
             "line": {
              "color": "white"
             }
            },
            "type": "table"
           }
          ]
         },
         "layout": {
          "annotationdefaults": {
           "arrowcolor": "#2a3f5f",
           "arrowhead": 0,
           "arrowwidth": 1
          },
          "autotypenumbers": "strict",
          "coloraxis": {
           "colorbar": {
            "outlinewidth": 0,
            "ticks": ""
           }
          },
          "colorscale": {
           "diverging": [
            [
             0,
             "#8e0152"
            ],
            [
             0.1,
             "#c51b7d"
            ],
            [
             0.2,
             "#de77ae"
            ],
            [
             0.3,
             "#f1b6da"
            ],
            [
             0.4,
             "#fde0ef"
            ],
            [
             0.5,
             "#f7f7f7"
            ],
            [
             0.6,
             "#e6f5d0"
            ],
            [
             0.7,
             "#b8e186"
            ],
            [
             0.8,
             "#7fbc41"
            ],
            [
             0.9,
             "#4d9221"
            ],
            [
             1,
             "#276419"
            ]
           ],
           "sequential": [
            [
             0,
             "#0d0887"
            ],
            [
             0.1111111111111111,
             "#46039f"
            ],
            [
             0.2222222222222222,
             "#7201a8"
            ],
            [
             0.3333333333333333,
             "#9c179e"
            ],
            [
             0.4444444444444444,
             "#bd3786"
            ],
            [
             0.5555555555555556,
             "#d8576b"
            ],
            [
             0.6666666666666666,
             "#ed7953"
            ],
            [
             0.7777777777777778,
             "#fb9f3a"
            ],
            [
             0.8888888888888888,
             "#fdca26"
            ],
            [
             1,
             "#f0f921"
            ]
           ],
           "sequentialminus": [
            [
             0,
             "#0d0887"
            ],
            [
             0.1111111111111111,
             "#46039f"
            ],
            [
             0.2222222222222222,
             "#7201a8"
            ],
            [
             0.3333333333333333,
             "#9c179e"
            ],
            [
             0.4444444444444444,
             "#bd3786"
            ],
            [
             0.5555555555555556,
             "#d8576b"
            ],
            [
             0.6666666666666666,
             "#ed7953"
            ],
            [
             0.7777777777777778,
             "#fb9f3a"
            ],
            [
             0.8888888888888888,
             "#fdca26"
            ],
            [
             1,
             "#f0f921"
            ]
           ]
          },
          "colorway": [
           "#636efa",
           "#EF553B",
           "#00cc96",
           "#ab63fa",
           "#FFA15A",
           "#19d3f3",
           "#FF6692",
           "#B6E880",
           "#FF97FF",
           "#FECB52"
          ],
          "font": {
           "color": "#2a3f5f"
          },
          "geo": {
           "bgcolor": "white",
           "lakecolor": "white",
           "landcolor": "#E5ECF6",
           "showlakes": true,
           "showland": true,
           "subunitcolor": "white"
          },
          "hoverlabel": {
           "align": "left"
          },
          "hovermode": "closest",
          "mapbox": {
           "style": "light"
          },
          "paper_bgcolor": "white",
          "plot_bgcolor": "#E5ECF6",
          "polar": {
           "angularaxis": {
            "gridcolor": "white",
            "linecolor": "white",
            "ticks": ""
           },
           "bgcolor": "#E5ECF6",
           "radialaxis": {
            "gridcolor": "white",
            "linecolor": "white",
            "ticks": ""
           }
          },
          "scene": {
           "xaxis": {
            "backgroundcolor": "#E5ECF6",
            "gridcolor": "white",
            "gridwidth": 2,
            "linecolor": "white",
            "showbackground": true,
            "ticks": "",
            "zerolinecolor": "white"
           },
           "yaxis": {
            "backgroundcolor": "#E5ECF6",
            "gridcolor": "white",
            "gridwidth": 2,
            "linecolor": "white",
            "showbackground": true,
            "ticks": "",
            "zerolinecolor": "white"
           },
           "zaxis": {
            "backgroundcolor": "#E5ECF6",
            "gridcolor": "white",
            "gridwidth": 2,
            "linecolor": "white",
            "showbackground": true,
            "ticks": "",
            "zerolinecolor": "white"
           }
          },
          "shapedefaults": {
           "line": {
            "color": "#2a3f5f"
           }
          },
          "ternary": {
           "aaxis": {
            "gridcolor": "white",
            "linecolor": "white",
            "ticks": ""
           },
           "baxis": {
            "gridcolor": "white",
            "linecolor": "white",
            "ticks": ""
           },
           "bgcolor": "#E5ECF6",
           "caxis": {
            "gridcolor": "white",
            "linecolor": "white",
            "ticks": ""
           }
          },
          "title": {
           "x": 0.05
          },
          "xaxis": {
           "automargin": true,
           "gridcolor": "white",
           "linecolor": "white",
           "ticks": "",
           "title": {
            "standoff": 15
           },
           "zerolinecolor": "white",
           "zerolinewidth": 2
          },
          "yaxis": {
           "automargin": true,
           "gridcolor": "white",
           "linecolor": "white",
           "ticks": "",
           "title": {
            "standoff": 15
           },
           "zerolinecolor": "white",
           "zerolinewidth": 2
          }
         }
        },
        "title": {
         "font": {
          "size": 25
         },
         "text": "<b>Percentage Distribution of Real Estate Types by District</b>"
        },
        "width": 1100
       }
      }
     },
     "metadata": {},
     "output_type": "display_data"
    }
   ],
   "source": [
    "fig = px.pie(\n",
    "            district_type_df,\n",
    "            names ='Type',\n",
    "            values = 'Percentage',\n",
    "            color = 'Type',\n",
    "            labels={ 'District': '<b>Quận</b>'},\n",
    "            facet_col='District',\n",
    "            facet_col_wrap = 4,\n",
    "            facet_col_spacing=0.04,\n",
    "            facet_row_spacing= 0.04, \n",
    "            color_discrete_map= {\n",
    "                                'Nhà mặt phố': '#78D6C6',\n",
    "                                'Nhà riêng' : '#F5FCCD',\n",
    "                                'Căn hộ chung cư': '#4ba775',\n",
    "                                'Nhà biệt thự, liền kề' : '#17526e',\n",
    "                                'Đất bán': '#088395',\n",
    "                                'Đất nền dự án': '#071952'\n",
    "                                }\n",
    "            )\n",
    "\n",
    "fig.update_layout(\n",
    "    width=1100,\n",
    "    height=1500,\n",
    "    margin=dict(l=20, r=20, t=90, b=20),\n",
    "    paper_bgcolor='#ffe6cc',\n",
    "    title='<b>Percentage Distribution of Real Estate Types by District</b>',\n",
    "    title_font_size=25,\n",
    ")\n",
    "fig.update_traces(\n",
    "    marker_line_color='black',\n",
    "    marker_line_width=0.5,\n",
    "    hovertemplate='<b>%{label}</b> has the percentage of <b>%{value}%</b>',\n",
    "    textposition='inside', insidetextorientation='radial',\n",
    ")\n",
    "\n",
    "\n",
    "fig.show()\n"
   ]
  },
  {
   "cell_type": "markdown",
   "metadata": {},
   "source": [
    "Which the percentage of the real estate type in each district, we get some observation about the distribution of real estate type in each district below:\n",
    "\n",
    "- `District 01` : The majority of real estate consists of `Nhà riêng`(40.1%), `Nhà mặt phố` also make up a significant portion as well (33.92%), followed by `Căn hộ chung cư`(25.37%%).\n",
    "\n",
    "- `District 10` : In district 10, the two most significant types are `Nhà riêng` and `Nhà mặt phố`. `Nhà riêng` represents 53.37%, while `Nhà mặt phố` accounts for 25.89%%.\n",
    "\n",
    "- `District 11`: Similar to `District 10`, the major types in `district 11` are `Nhà riêng`( 53.41%) and `Nhà mặt phố` (31.1%)\n",
    "\n",
    "- `District 12`: The most prominent real estate types are `Nhà riêng`(41%) and `Đất bán`(24.7%). `Nhà mặt phố` and `Căn hộ chung cư` are also popular options.\n",
    "\n",
    "- `District 02`: District 2 is characterized by the high percentage of `Căn hộ chung cư`(up to 60.9%). `Nhà mặt phố`, `Đất bán`, `Nhà biệt thự, liền kề` also have a notable percentage in this district (around 8%).\n",
    "\n",
    "- `District 03`: In district 3, two types that we can get more concern are `Nhà mặt phố`(60%) and ` Nhà riêng`(29.6%).\n",
    "\n",
    "- `District 04`: In District 4, the majority of real estate are `Căn hộ chung cư`(68%), followed by `Nhà riêng`(26.1%).\n",
    "\n",
    "- `District 05`: In District 5, two major types of real estate are `Nhà riêng`(46.3%) and `Nhà mặt phố`(35.5%) \n",
    "\n",
    "- `District 06`: The majority of real estate is `Căn hộ chung cư`(45.8%), `Nhà mặt phố` also make up a significant proportion at 29.7%, followed by `Nhà riêng` with 22.6%.\n",
    "\n",
    "- `District 07`: In District 7, the majority of real estate consist of `Căn hộ chung cư`(53.5%),`Nhà riêng` (18.37%).\n",
    "\n",
    "- `District 08`: In District 8, the major types are `Căn hộ chung cư`(44.3%), `Nhà riêng`(33.2%), followed by `Nhà mặt phố`(11%).\n",
    "\n",
    "- `District 09`: In District 9, there is an equal percentage for each type, with `Căn hộ chung cư`(30.4%), `Nhà biệt thự, liền kề`(17%) are the notable types.\n",
    "\n",
    "- `District Bình Chánh`: The highest percentage is `Căn hộ chung cư` (29.9%) , followed by `Đất bán`(26.7%), `Nhà riêng` (12.9%) and `Đất nền dự án` (11.12%).\n",
    "\n",
    "- `District Bình Thạnh`: In Bình Thạnh, `Nhà riêng` (49.7%) is the most significant real estat type, followed by `Căn hộ chung cư`(23%) and `Nhà mặt phố`(18.4%)\n",
    "\n",
    "- `District Bình Tân`: In Bình Tân, `Nhà riêng`(44.9%), `Căn hộ chung cư`(24.9%) have the highest percentage.\n",
    "\n",
    "- `District Cần Giờ`:In Cần Giờ, the majority of real estate is `Đất bán` (77.2%), while the other types contribute a very small percentage.\n",
    "\n",
    "- `District Củ Chi`: Similar to `Cần Giờ`, the majority is also `Đất bán`, accounting for 87.3% of the total.\n",
    "\n",
    "- `District Gò Vấp`: In Gò Vấp, the majority of real estate are `Nhà riêng` (63.3%), `Nhà mặt phố` (18.7%).\n",
    "\n",
    "- `District Hóc Môn`: In Hóc Môn, the prominent real estate types are `Đất bán` (48.6%) and `Nhà riêng` (33.8%).\n",
    "\n",
    "- `District Nhà Bè`: In Nhà Bè, there is a equaly distribution for all types, with the largest portion consists of `Căn hộ chung cư` (26.5%)\n",
    "\n",
    "- `District Phú Nhuận`: In Phú Nhuận, the majority are `Nhà riêng` (58.2%), `Nhà mặt phố` (25.5%).\n",
    "\n",
    "- `District Thủ Đức`: In Thủ Đức, the largest portion of real estate consists of `Nhà riêng` (33.7%), `Đất bán` (23.7)%, `Căn hộ chung cư` (15.34%), and `Nhà mặt phố` (17.7%).\n",
    "\n",
    "- `District Tân Bình`: In Tân Bình, `Nhà riêng` (56.2%), `Nhà mặt phố` (27.43%) are two most significant types of the real estate.\n",
    "\n",
    "- `District Tân Phú`: In Tân Phú, `Căn hộ chung cư` (38.1%), `Nhà riêng` (34.6%) and `Nhà mặt phố` (24%) are types with highest percentage.\n",
    "\n",
    "These are all the real estate types that is most significant for each district. We can see that, by the different of development conditions, the geographical position, and other factor, the significant types of real estate for sale in each district are also have differences.\n"
   ]
  },
  {
   "cell_type": "markdown",
   "metadata": {},
   "source": [
    "**Overall:**\n",
    "\n",
    "Let's make an overall view in this question again:\n",
    "\n",
    "For **the number of real estate in each district**, we can see `District 7` and `District 2` are two district with highest number of real estate (4415 for `District 7` and 3999 for `District 2`).\n",
    "\n",
    "For **the signature type of real estate of each district**, we can have the conclusion below:\n",
    "\n",
    "- Districts which have the signature type is `Nhà riêng`:`Quận 1` ,`Quận 10`, `Quận 11`, `Quận 12`,`Quận 3`, `Quận 5`, `Bình Thạnh`, `Bình Tân`, `Gò Vấp`, `Phú Nhuận`, `Tân Bình`, with over 50% percent.\n",
    "\n",
    "- Disticts have the signature type is `Căn hộ chung cư`: `Quận 2`, `Quận 4`, `Quận 6`, `Quận 7`, `Quận 8`, `Quận 9`, `Bình Chánh`, `Nhà Bè`, `Tân Phú`.\n",
    "\n",
    "- Districts have the signature type is `Nhà mặt phố`: `Nhà mặt phố` have an important percentage in  `Quận 1`, `Quận 11`, `Quận 3`, `Quận 5`, `Quận 6`, `Phú Nhuận`, `Tân Bình`, `Tân Phú`\n",
    "\n",
    "- Districts have the signature type is `Đất bán`: `Cần Giờ`, `Củ Chi`, `Hóc Môn`. \n",
    "\n",
    "- All other types just have a little percentage in each district. This indicates that the demand to sell these types of real estate are not very high, also not very popular in Ho Chi Minh City."
   ]
  },
  {
   "cell_type": "markdown",
   "metadata": {},
   "source": [
    "### **2.3 Question 02: Which each type of real estate, how is the price distributed across districts? Based on this informaton, give the comment about which district will have a better (cheaper) price compared to others for each type of real estate?**\n",
    "\n",
    "When searching for real estate as a buyer, we want to have a good choice between the location and the price, so this question aims to give us information about the price of each real estate type in each district.\n",
    "\n",
    "In the previous question (`Question 01`), we have found that which district that each type of real estate mainly located, so with the result above, for each type of real estate, we will focus on these districts and exclude those where this type is not prominent."
   ]
  },
  {
   "cell_type": "code",
   "execution_count": 34,
   "metadata": {},
   "outputs": [],
   "source": [
    "types = real_estate_for_sale_df['Type'].unique()\n",
    "\n",
    "type_and_most_occur_district = {}\n",
    "\n",
    "for type in types:\n",
    "    if type in ['Đất nền dự án', 'Nhà biệt thự, liền kề']:\n",
    "         df = district_type_df[(district_type_df['Type'] == type ) & (district_type_df['Percentage'] >= 10)]\n",
    "    elif type == 'Nhà mặt phố':\n",
    "         df = district_type_df[(district_type_df['Type'] == type ) & (district_type_df['Percentage'] >= 30)]\n",
    "    else:\n",
    "        df = district_type_df[(district_type_df['Type'] == type ) & (district_type_df['Percentage'] >= 10)]\n",
    "    type_and_most_occur_district[type] = df['District'].to_list()\n"
   ]
  },
  {
   "cell_type": "code",
   "execution_count": 35,
   "metadata": {},
   "outputs": [],
   "source": [
    "type_and_district_dict = {}\n",
    "\n",
    "for type, districts in type_and_most_occur_district.items():\n",
    "    \n",
    "    df = real_estate_for_sale_df[(real_estate_for_sale_df['Type'] == type) & (real_estate_for_sale_df['District'].isin(districts))].dropna()\n",
    "\n",
    "    type_and_district_dict[type] = df\n"
   ]
  },
  {
   "cell_type": "markdown",
   "metadata": {},
   "source": [
    "Now, we can see the `Price` have many difference values, so we will divide them in to bins. Now, let's define the bins"
   ]
  },
  {
   "cell_type": "code",
   "execution_count": 36,
   "metadata": {},
   "outputs": [],
   "source": [
    "price_bins = {\n",
    "    '< 1 billion' : (0, 1000000000),\n",
    "    '1 billion - 5 billion' : (1000000000, 5000000000),\n",
    "    '5 billion - 10 billion' : (5000000000, 10000000000),\n",
    "    '10 billion - 30 billion' : (10000000000, 30000000000),\n",
    "    '> 30 billion' : (30000000000, float(np.inf)),  \n",
    "}"
   ]
  },
  {
   "cell_type": "code",
   "execution_count": 37,
   "metadata": {},
   "outputs": [],
   "source": [
    "\n",
    "def map_price_range(price):\n",
    "    for label, (lower, upper) in price_bins.items():\n",
    "        if lower <= price < upper:\n",
    "            return label\n",
    "    return None"
   ]
  },
  {
   "cell_type": "code",
   "execution_count": 38,
   "metadata": {},
   "outputs": [],
   "source": [
    "for type, value  in type_and_district_dict.items():\n",
    "    modified_df = value.copy()\n",
    "\n",
    "    modified_df['Price Range'] = modified_df['Price(VNĐ)'].apply(map_price_range)\n",
    "\n",
    "    modified_df = modified_df[['District', 'Price(VNĐ)', 'Price Range']]\n",
    "\n",
    "    type_and_district_dict[type] = modified_df\n"
   ]
  },
  {
   "cell_type": "code",
   "execution_count": 39,
   "metadata": {},
   "outputs": [],
   "source": [
    "for type, value in type_and_district_dict.items():\n",
    "\n",
    "    value = value.groupby('District')['Price Range'].value_counts().reset_index(name = 'Count')\n",
    "    value.loc[:,'Percentage'] = ((value['Count'] / value.groupby('District')['Count'].transform('sum'))*100)\n",
    "    value['Percentage'] = value['Percentage'].round(2)\n",
    "    value = value.sort_values(by=['District','Percentage'], ascending=[True, False])\n",
    "    type_and_district_dict[type] = value"
   ]
  },
  {
   "cell_type": "code",
   "execution_count": 40,
   "metadata": {},
   "outputs": [],
   "source": [
    "def Price_distribution_of_type(type):\n",
    "    value = type_and_district_dict[type]\n",
    "    num_of_district = len(value['District'].unique())\n",
    "    fig = px.bar(value ,\n",
    "                y = 'District', \n",
    "                x = 'Percentage',\n",
    "                color='Price Range',\n",
    "                text='Percentage',\n",
    "                labels={'Percentage': '<b>Percentage</b>', 'Price Range': '<b>Price Range</b>'},\n",
    "                category_orders={'Price Range':  ['< 1 billion', '1 billion - 5 billion', '5 billion - 10 billion', '10 billion - 30 billion','> 30 billon'],},\n",
    "                barmode='stack',\n",
    "                )\n",
    "\n",
    "    fig.update_layout(\n",
    "        title_text= f'<b>Price distribution of {type} by district</b>',\n",
    "        title_font_size=15,\n",
    "        width=1000,\n",
    "        height= 50 * num_of_district,\n",
    "        margin=dict(l=20, r=30, t=70, b=0),\n",
    "        paper_bgcolor='#ffe6cc',\n",
    "        xaxis=dict(tickfont=dict(size=14)),\n",
    "        yaxis=dict(tickfont=dict(size=14), ticksuffix = \" \"),\n",
    "    )\n",
    "\n",
    "    if num_of_district < 4:\n",
    "        fig.update_layout(legend=dict(\n",
    "            orientation=\"h\", yanchor=\"bottom\", y=1, xanchor=\"right\", x = 1\n",
    "        ))\n",
    "            \n",
    "        fig.update_layout(\n",
    "            height= 100 * num_of_district,\n",
    "            margin=dict(l=20, r=30, t=90, b=0),\n",
    "            paper_bgcolor='#ffe6cc',\n",
    "            xaxis=dict(tickfont=dict(size=14)),\n",
    "            yaxis=dict(tickfont=dict(size=14), ticksuffix = \" \"),\n",
    "        )\n",
    "    fig.update_traces(marker_line_color='black', marker_line_width=1, hovertemplate='%{text} (%) of '+f'<b>{type}</b>'+ ' in %{y} have price in range %{fullData.name}')\n",
    "\n",
    "    fig.show()\n"
   ]
  },
  {
   "cell_type": "markdown",
   "metadata": {},
   "source": [
    "#### **Nhà riêng:**"
   ]
  },
  {
   "cell_type": "code",
   "execution_count": 41,
   "metadata": {},
   "outputs": [
    {
     "data": {
      "application/vnd.plotly.v1+json": {
       "config": {
        "plotlyServerURL": "https://plot.ly"
       },
       "data": [
        {
         "alignmentgroup": "True",
         "hovertemplate": "%{text} (%) of <b>Nhà riêng</b> in %{y} have price in range %{fullData.name}",
         "legendgroup": "< 1 billion",
         "marker": {
          "color": "#636efa",
          "line": {
           "color": "black",
           "width": 1
          },
          "pattern": {
           "shape": ""
          }
         },
         "name": "< 1 billion",
         "offsetgroup": "< 1 billion",
         "orientation": "h",
         "showlegend": true,
         "text": [
          0.14,
          2.04,
          0.16,
          0.54,
          0.97,
          0.99,
          0.24,
          17.76,
          0.07,
          0.11,
          0.07,
          7.04,
          2.72,
          0.23,
          0.08
         ],
         "textposition": "auto",
         "type": "bar",
         "x": [
          0.14,
          2.04,
          0.16,
          0.54,
          0.97,
          0.99,
          0.24,
          17.76,
          0.07,
          0.11,
          0.07,
          7.04,
          2.72,
          0.23,
          0.08
         ],
         "xaxis": "x",
         "y": [
          "10",
          "12",
          "3",
          "4",
          "7",
          "8",
          "9",
          "Bình Chánh",
          "Bình Thạnh",
          "Bình Tân",
          "Gò Vấp",
          "Hóc Môn",
          "Nhà Bè",
          "Thủ Đức",
          "Tân Bình"
         ],
         "yaxis": "y"
        },
        {
         "alignmentgroup": "True",
         "hovertemplate": "%{text} (%) of <b>Nhà riêng</b> in %{y} have price in range %{fullData.name}",
         "legendgroup": "1 billion - 5 billion",
         "marker": {
          "color": "#EF553B",
          "line": {
           "color": "black",
           "width": 1
          },
          "pattern": {
           "shape": ""
          }
         },
         "name": "1 billion - 5 billion",
         "offsetgroup": "1 billion - 5 billion",
         "orientation": "h",
         "showlegend": true,
         "text": [
          10.82,
          14.82,
          21.59,
          64.9,
          15.53,
          52.97,
          18.52,
          41.86,
          22.5,
          59.41,
          40.19,
          56.58,
          19.99,
          49.62,
          31.71,
          62.68,
          26.85,
          16.69,
          34.74,
          14.16,
          25.4
         ],
         "textposition": "auto",
         "type": "bar",
         "x": [
          10.82,
          14.82,
          21.59,
          64.9,
          15.53,
          52.97,
          18.52,
          41.86,
          22.5,
          59.41,
          40.19,
          56.58,
          19.99,
          49.62,
          31.71,
          62.68,
          26.85,
          16.69,
          34.74,
          14.16,
          25.4
         ],
         "xaxis": "x",
         "y": [
          "1",
          "10",
          "11",
          "12",
          "3",
          "4",
          "5",
          "6",
          "7",
          "8",
          "9",
          "Bình Chánh",
          "Bình Thạnh",
          "Bình Tân",
          "Gò Vấp",
          "Hóc Môn",
          "Nhà Bè",
          "Phú Nhuận",
          "Thủ Đức",
          "Tân Bình",
          "Tân Phú"
         ],
         "yaxis": "y"
        },
        {
         "alignmentgroup": "True",
         "hovertemplate": "%{text} (%) of <b>Nhà riêng</b> in %{y} have price in range %{fullData.name}",
         "legendgroup": "5 billion - 10 billion",
         "marker": {
          "color": "#00cc96",
          "line": {
           "color": "black",
           "width": 1
          },
          "pattern": {
           "shape": ""
          }
         },
         "name": "5 billion - 10 billion",
         "offsetgroup": "5 billion - 10 billion",
         "orientation": "h",
         "showlegend": true,
         "text": [
          17.03,
          33.38,
          63.88,
          29.8,
          29.79,
          39.46,
          35.19,
          43.41,
          52.64,
          32.34,
          46.97,
          14.47,
          42.67,
          44.25,
          50.72,
          24.65,
          62.26,
          32.52,
          54.78,
          42.24,
          57.21
         ],
         "textposition": "auto",
         "type": "bar",
         "x": [
          17.03,
          33.38,
          63.88,
          29.8,
          29.79,
          39.46,
          35.19,
          43.41,
          52.64,
          32.34,
          46.97,
          14.47,
          42.67,
          44.25,
          50.72,
          24.65,
          62.26,
          32.52,
          54.78,
          42.24,
          57.21
         ],
         "xaxis": "x",
         "y": [
          "1",
          "10",
          "11",
          "12",
          "3",
          "4",
          "5",
          "6",
          "7",
          "8",
          "9",
          "Bình Chánh",
          "Bình Thạnh",
          "Bình Tân",
          "Gò Vấp",
          "Hóc Môn",
          "Nhà Bè",
          "Phú Nhuận",
          "Thủ Đức",
          "Tân Bình",
          "Tân Phú"
         ],
         "yaxis": "y"
        },
        {
         "alignmentgroup": "True",
         "hovertemplate": "%{text} (%) of <b>Nhà riêng</b> in %{y} have price in range %{fullData.name}",
         "legendgroup": "10 billion - 30 billion",
         "marker": {
          "color": "#ab63fa",
          "line": {
           "color": "black",
           "width": 1
          },
          "pattern": {
           "shape": ""
          }
         },
         "name": "10 billion - 30 billion",
         "offsetgroup": "10 billion - 30 billion",
         "orientation": "h",
         "showlegend": true,
         "text": [
          68.54,
          48.49,
          14.54,
          3.27,
          52.46,
          7.03,
          43.21,
          14.73,
          23.47,
          6.93,
          12.59,
          10.53,
          36.11,
          5.91,
          17.36,
          5.63,
          8.17,
          46.63,
          9.91,
          40.12,
          17.39
         ],
         "textposition": "auto",
         "type": "bar",
         "x": [
          68.54,
          48.49,
          14.54,
          3.27,
          52.46,
          7.03,
          43.21,
          14.73,
          23.47,
          6.93,
          12.59,
          10.53,
          36.11,
          5.91,
          17.36,
          5.63,
          8.17,
          46.63,
          9.91,
          40.12,
          17.39
         ],
         "xaxis": "x",
         "y": [
          "1",
          "10",
          "11",
          "12",
          "3",
          "4",
          "5",
          "6",
          "7",
          "8",
          "9",
          "Bình Chánh",
          "Bình Thạnh",
          "Bình Tân",
          "Gò Vấp",
          "Hóc Môn",
          "Nhà Bè",
          "Phú Nhuận",
          "Thủ Đức",
          "Tân Bình",
          "Tân Phú"
         ],
         "yaxis": "y"
        },
        {
         "alignmentgroup": "True",
         "hovertemplate": "%{text} (%) of <b>Nhà riêng</b> in %{y} have price in range %{fullData.name}",
         "legendgroup": "> 30 billion",
         "marker": {
          "color": "#19d3f3",
          "line": {
           "color": "black",
           "width": 1
          },
          "pattern": {
           "shape": ""
          }
         },
         "name": "> 30 billion",
         "offsetgroup": "> 30 billion",
         "orientation": "h",
         "showlegend": true,
         "text": [
          3.61,
          3.17,
          2.06,
          3.09,
          0.42,
          0.33,
          0.66,
          1.17,
          0.11,
          0.14,
          4.17,
          0.34,
          3.41
         ],
         "textposition": "auto",
         "type": "bar",
         "x": [
          3.61,
          3.17,
          2.06,
          3.09,
          0.42,
          0.33,
          0.66,
          1.17,
          0.11,
          0.14,
          4.17,
          0.34,
          3.41
         ],
         "xaxis": "x",
         "y": [
          "1",
          "10",
          "3",
          "5",
          "7",
          "8",
          "Bình Chánh",
          "Bình Thạnh",
          "Bình Tân",
          "Gò Vấp",
          "Phú Nhuận",
          "Thủ Đức",
          "Tân Bình"
         ],
         "yaxis": "y"
        }
       ],
       "layout": {
        "barmode": "stack",
        "height": 1050,
        "legend": {
         "title": {
          "text": "<b>Price Range</b>"
         },
         "tracegroupgap": 0
        },
        "margin": {
         "b": 0,
         "l": 20,
         "r": 30,
         "t": 70
        },
        "paper_bgcolor": "#ffe6cc",
        "template": {
         "data": {
          "bar": [
           {
            "error_x": {
             "color": "#2a3f5f"
            },
            "error_y": {
             "color": "#2a3f5f"
            },
            "marker": {
             "line": {
              "color": "#E5ECF6",
              "width": 0.5
             },
             "pattern": {
              "fillmode": "overlay",
              "size": 10,
              "solidity": 0.2
             }
            },
            "type": "bar"
           }
          ],
          "barpolar": [
           {
            "marker": {
             "line": {
              "color": "#E5ECF6",
              "width": 0.5
             },
             "pattern": {
              "fillmode": "overlay",
              "size": 10,
              "solidity": 0.2
             }
            },
            "type": "barpolar"
           }
          ],
          "carpet": [
           {
            "aaxis": {
             "endlinecolor": "#2a3f5f",
             "gridcolor": "white",
             "linecolor": "white",
             "minorgridcolor": "white",
             "startlinecolor": "#2a3f5f"
            },
            "baxis": {
             "endlinecolor": "#2a3f5f",
             "gridcolor": "white",
             "linecolor": "white",
             "minorgridcolor": "white",
             "startlinecolor": "#2a3f5f"
            },
            "type": "carpet"
           }
          ],
          "choropleth": [
           {
            "colorbar": {
             "outlinewidth": 0,
             "ticks": ""
            },
            "type": "choropleth"
           }
          ],
          "contour": [
           {
            "colorbar": {
             "outlinewidth": 0,
             "ticks": ""
            },
            "colorscale": [
             [
              0,
              "#0d0887"
             ],
             [
              0.1111111111111111,
              "#46039f"
             ],
             [
              0.2222222222222222,
              "#7201a8"
             ],
             [
              0.3333333333333333,
              "#9c179e"
             ],
             [
              0.4444444444444444,
              "#bd3786"
             ],
             [
              0.5555555555555556,
              "#d8576b"
             ],
             [
              0.6666666666666666,
              "#ed7953"
             ],
             [
              0.7777777777777778,
              "#fb9f3a"
             ],
             [
              0.8888888888888888,
              "#fdca26"
             ],
             [
              1,
              "#f0f921"
             ]
            ],
            "type": "contour"
           }
          ],
          "contourcarpet": [
           {
            "colorbar": {
             "outlinewidth": 0,
             "ticks": ""
            },
            "type": "contourcarpet"
           }
          ],
          "heatmap": [
           {
            "colorbar": {
             "outlinewidth": 0,
             "ticks": ""
            },
            "colorscale": [
             [
              0,
              "#0d0887"
             ],
             [
              0.1111111111111111,
              "#46039f"
             ],
             [
              0.2222222222222222,
              "#7201a8"
             ],
             [
              0.3333333333333333,
              "#9c179e"
             ],
             [
              0.4444444444444444,
              "#bd3786"
             ],
             [
              0.5555555555555556,
              "#d8576b"
             ],
             [
              0.6666666666666666,
              "#ed7953"
             ],
             [
              0.7777777777777778,
              "#fb9f3a"
             ],
             [
              0.8888888888888888,
              "#fdca26"
             ],
             [
              1,
              "#f0f921"
             ]
            ],
            "type": "heatmap"
           }
          ],
          "heatmapgl": [
           {
            "colorbar": {
             "outlinewidth": 0,
             "ticks": ""
            },
            "colorscale": [
             [
              0,
              "#0d0887"
             ],
             [
              0.1111111111111111,
              "#46039f"
             ],
             [
              0.2222222222222222,
              "#7201a8"
             ],
             [
              0.3333333333333333,
              "#9c179e"
             ],
             [
              0.4444444444444444,
              "#bd3786"
             ],
             [
              0.5555555555555556,
              "#d8576b"
             ],
             [
              0.6666666666666666,
              "#ed7953"
             ],
             [
              0.7777777777777778,
              "#fb9f3a"
             ],
             [
              0.8888888888888888,
              "#fdca26"
             ],
             [
              1,
              "#f0f921"
             ]
            ],
            "type": "heatmapgl"
           }
          ],
          "histogram": [
           {
            "marker": {
             "pattern": {
              "fillmode": "overlay",
              "size": 10,
              "solidity": 0.2
             }
            },
            "type": "histogram"
           }
          ],
          "histogram2d": [
           {
            "colorbar": {
             "outlinewidth": 0,
             "ticks": ""
            },
            "colorscale": [
             [
              0,
              "#0d0887"
             ],
             [
              0.1111111111111111,
              "#46039f"
             ],
             [
              0.2222222222222222,
              "#7201a8"
             ],
             [
              0.3333333333333333,
              "#9c179e"
             ],
             [
              0.4444444444444444,
              "#bd3786"
             ],
             [
              0.5555555555555556,
              "#d8576b"
             ],
             [
              0.6666666666666666,
              "#ed7953"
             ],
             [
              0.7777777777777778,
              "#fb9f3a"
             ],
             [
              0.8888888888888888,
              "#fdca26"
             ],
             [
              1,
              "#f0f921"
             ]
            ],
            "type": "histogram2d"
           }
          ],
          "histogram2dcontour": [
           {
            "colorbar": {
             "outlinewidth": 0,
             "ticks": ""
            },
            "colorscale": [
             [
              0,
              "#0d0887"
             ],
             [
              0.1111111111111111,
              "#46039f"
             ],
             [
              0.2222222222222222,
              "#7201a8"
             ],
             [
              0.3333333333333333,
              "#9c179e"
             ],
             [
              0.4444444444444444,
              "#bd3786"
             ],
             [
              0.5555555555555556,
              "#d8576b"
             ],
             [
              0.6666666666666666,
              "#ed7953"
             ],
             [
              0.7777777777777778,
              "#fb9f3a"
             ],
             [
              0.8888888888888888,
              "#fdca26"
             ],
             [
              1,
              "#f0f921"
             ]
            ],
            "type": "histogram2dcontour"
           }
          ],
          "mesh3d": [
           {
            "colorbar": {
             "outlinewidth": 0,
             "ticks": ""
            },
            "type": "mesh3d"
           }
          ],
          "parcoords": [
           {
            "line": {
             "colorbar": {
              "outlinewidth": 0,
              "ticks": ""
             }
            },
            "type": "parcoords"
           }
          ],
          "pie": [
           {
            "automargin": true,
            "type": "pie"
           }
          ],
          "scatter": [
           {
            "fillpattern": {
             "fillmode": "overlay",
             "size": 10,
             "solidity": 0.2
            },
            "type": "scatter"
           }
          ],
          "scatter3d": [
           {
            "line": {
             "colorbar": {
              "outlinewidth": 0,
              "ticks": ""
             }
            },
            "marker": {
             "colorbar": {
              "outlinewidth": 0,
              "ticks": ""
             }
            },
            "type": "scatter3d"
           }
          ],
          "scattercarpet": [
           {
            "marker": {
             "colorbar": {
              "outlinewidth": 0,
              "ticks": ""
             }
            },
            "type": "scattercarpet"
           }
          ],
          "scattergeo": [
           {
            "marker": {
             "colorbar": {
              "outlinewidth": 0,
              "ticks": ""
             }
            },
            "type": "scattergeo"
           }
          ],
          "scattergl": [
           {
            "marker": {
             "colorbar": {
              "outlinewidth": 0,
              "ticks": ""
             }
            },
            "type": "scattergl"
           }
          ],
          "scattermapbox": [
           {
            "marker": {
             "colorbar": {
              "outlinewidth": 0,
              "ticks": ""
             }
            },
            "type": "scattermapbox"
           }
          ],
          "scatterpolar": [
           {
            "marker": {
             "colorbar": {
              "outlinewidth": 0,
              "ticks": ""
             }
            },
            "type": "scatterpolar"
           }
          ],
          "scatterpolargl": [
           {
            "marker": {
             "colorbar": {
              "outlinewidth": 0,
              "ticks": ""
             }
            },
            "type": "scatterpolargl"
           }
          ],
          "scatterternary": [
           {
            "marker": {
             "colorbar": {
              "outlinewidth": 0,
              "ticks": ""
             }
            },
            "type": "scatterternary"
           }
          ],
          "surface": [
           {
            "colorbar": {
             "outlinewidth": 0,
             "ticks": ""
            },
            "colorscale": [
             [
              0,
              "#0d0887"
             ],
             [
              0.1111111111111111,
              "#46039f"
             ],
             [
              0.2222222222222222,
              "#7201a8"
             ],
             [
              0.3333333333333333,
              "#9c179e"
             ],
             [
              0.4444444444444444,
              "#bd3786"
             ],
             [
              0.5555555555555556,
              "#d8576b"
             ],
             [
              0.6666666666666666,
              "#ed7953"
             ],
             [
              0.7777777777777778,
              "#fb9f3a"
             ],
             [
              0.8888888888888888,
              "#fdca26"
             ],
             [
              1,
              "#f0f921"
             ]
            ],
            "type": "surface"
           }
          ],
          "table": [
           {
            "cells": {
             "fill": {
              "color": "#EBF0F8"
             },
             "line": {
              "color": "white"
             }
            },
            "header": {
             "fill": {
              "color": "#C8D4E3"
             },
             "line": {
              "color": "white"
             }
            },
            "type": "table"
           }
          ]
         },
         "layout": {
          "annotationdefaults": {
           "arrowcolor": "#2a3f5f",
           "arrowhead": 0,
           "arrowwidth": 1
          },
          "autotypenumbers": "strict",
          "coloraxis": {
           "colorbar": {
            "outlinewidth": 0,
            "ticks": ""
           }
          },
          "colorscale": {
           "diverging": [
            [
             0,
             "#8e0152"
            ],
            [
             0.1,
             "#c51b7d"
            ],
            [
             0.2,
             "#de77ae"
            ],
            [
             0.3,
             "#f1b6da"
            ],
            [
             0.4,
             "#fde0ef"
            ],
            [
             0.5,
             "#f7f7f7"
            ],
            [
             0.6,
             "#e6f5d0"
            ],
            [
             0.7,
             "#b8e186"
            ],
            [
             0.8,
             "#7fbc41"
            ],
            [
             0.9,
             "#4d9221"
            ],
            [
             1,
             "#276419"
            ]
           ],
           "sequential": [
            [
             0,
             "#0d0887"
            ],
            [
             0.1111111111111111,
             "#46039f"
            ],
            [
             0.2222222222222222,
             "#7201a8"
            ],
            [
             0.3333333333333333,
             "#9c179e"
            ],
            [
             0.4444444444444444,
             "#bd3786"
            ],
            [
             0.5555555555555556,
             "#d8576b"
            ],
            [
             0.6666666666666666,
             "#ed7953"
            ],
            [
             0.7777777777777778,
             "#fb9f3a"
            ],
            [
             0.8888888888888888,
             "#fdca26"
            ],
            [
             1,
             "#f0f921"
            ]
           ],
           "sequentialminus": [
            [
             0,
             "#0d0887"
            ],
            [
             0.1111111111111111,
             "#46039f"
            ],
            [
             0.2222222222222222,
             "#7201a8"
            ],
            [
             0.3333333333333333,
             "#9c179e"
            ],
            [
             0.4444444444444444,
             "#bd3786"
            ],
            [
             0.5555555555555556,
             "#d8576b"
            ],
            [
             0.6666666666666666,
             "#ed7953"
            ],
            [
             0.7777777777777778,
             "#fb9f3a"
            ],
            [
             0.8888888888888888,
             "#fdca26"
            ],
            [
             1,
             "#f0f921"
            ]
           ]
          },
          "colorway": [
           "#636efa",
           "#EF553B",
           "#00cc96",
           "#ab63fa",
           "#FFA15A",
           "#19d3f3",
           "#FF6692",
           "#B6E880",
           "#FF97FF",
           "#FECB52"
          ],
          "font": {
           "color": "#2a3f5f"
          },
          "geo": {
           "bgcolor": "white",
           "lakecolor": "white",
           "landcolor": "#E5ECF6",
           "showlakes": true,
           "showland": true,
           "subunitcolor": "white"
          },
          "hoverlabel": {
           "align": "left"
          },
          "hovermode": "closest",
          "mapbox": {
           "style": "light"
          },
          "paper_bgcolor": "white",
          "plot_bgcolor": "#E5ECF6",
          "polar": {
           "angularaxis": {
            "gridcolor": "white",
            "linecolor": "white",
            "ticks": ""
           },
           "bgcolor": "#E5ECF6",
           "radialaxis": {
            "gridcolor": "white",
            "linecolor": "white",
            "ticks": ""
           }
          },
          "scene": {
           "xaxis": {
            "backgroundcolor": "#E5ECF6",
            "gridcolor": "white",
            "gridwidth": 2,
            "linecolor": "white",
            "showbackground": true,
            "ticks": "",
            "zerolinecolor": "white"
           },
           "yaxis": {
            "backgroundcolor": "#E5ECF6",
            "gridcolor": "white",
            "gridwidth": 2,
            "linecolor": "white",
            "showbackground": true,
            "ticks": "",
            "zerolinecolor": "white"
           },
           "zaxis": {
            "backgroundcolor": "#E5ECF6",
            "gridcolor": "white",
            "gridwidth": 2,
            "linecolor": "white",
            "showbackground": true,
            "ticks": "",
            "zerolinecolor": "white"
           }
          },
          "shapedefaults": {
           "line": {
            "color": "#2a3f5f"
           }
          },
          "ternary": {
           "aaxis": {
            "gridcolor": "white",
            "linecolor": "white",
            "ticks": ""
           },
           "baxis": {
            "gridcolor": "white",
            "linecolor": "white",
            "ticks": ""
           },
           "bgcolor": "#E5ECF6",
           "caxis": {
            "gridcolor": "white",
            "linecolor": "white",
            "ticks": ""
           }
          },
          "title": {
           "x": 0.05
          },
          "xaxis": {
           "automargin": true,
           "gridcolor": "white",
           "linecolor": "white",
           "ticks": "",
           "title": {
            "standoff": 15
           },
           "zerolinecolor": "white",
           "zerolinewidth": 2
          },
          "yaxis": {
           "automargin": true,
           "gridcolor": "white",
           "linecolor": "white",
           "ticks": "",
           "title": {
            "standoff": 15
           },
           "zerolinecolor": "white",
           "zerolinewidth": 2
          }
         }
        },
        "title": {
         "font": {
          "size": 15
         },
         "text": "<b>Price distribution of Nhà riêng by district</b>"
        },
        "width": 1000,
        "xaxis": {
         "anchor": "y",
         "domain": [
          0,
          1
         ],
         "tickfont": {
          "size": 14
         },
         "title": {
          "text": "<b>Percentage</b>"
         }
        },
        "yaxis": {
         "anchor": "x",
         "domain": [
          0,
          1
         ],
         "tickfont": {
          "size": 14
         },
         "ticksuffix": " ",
         "title": {
          "text": "District"
         }
        }
       }
      }
     },
     "metadata": {},
     "output_type": "display_data"
    }
   ],
   "source": [
    "Price_distribution_of_type('Nhà riêng')"
   ]
  },
  {
   "cell_type": "markdown",
   "metadata": {},
   "source": [
    "With type `Nhà riêng`, we can have some observations bellow:\n",
    "- Among all districts, only `District 12` has 2.04% of `Nhà riêng` that have price `< 1 million`, and the `Price` also have most percentage in the low price range (`< 5 billion`). So we can consider that `District 12` have the cheapest price for `Nhà riêng`. Another district also have cheaper price than others is `Bình Tân`\n",
    "- In contrast, for all other districts, the `Price` concentrate in range `5 million - 10 billion` and `10 - 30 million`. This indicates that these are common price for `Nhà riêng` in `Ho Chi Minh City`"
   ]
  },
  {
   "cell_type": "markdown",
   "metadata": {},
   "source": [
    "#### **Căn hộ chung cư:**"
   ]
  },
  {
   "cell_type": "code",
   "execution_count": 42,
   "metadata": {},
   "outputs": [
    {
     "data": {
      "application/vnd.plotly.v1+json": {
       "config": {
        "plotlyServerURL": "https://plot.ly"
       },
       "data": [
        {
         "alignmentgroup": "True",
         "hovertemplate": "%{text} (%) of <b>Căn hộ chung cư</b> in %{y} have price in range %{fullData.name}",
         "legendgroup": "< 1 billion",
         "marker": {
          "color": "#636efa",
          "line": {
           "color": "black",
           "width": 1
          },
          "pattern": {
           "shape": ""
          }
         },
         "name": "< 1 billion",
         "offsetgroup": "< 1 billion",
         "orientation": "h",
         "showlegend": true,
         "text": [
          0.84,
          0.26,
          0.35,
          0.41,
          1.42,
          4.28,
          1.22,
          1.4,
          4.48
         ],
         "textposition": "auto",
         "type": "bar",
         "x": [
          0.84,
          0.26,
          0.35,
          0.41,
          1.42,
          4.28,
          1.22,
          1.4,
          4.48
         ],
         "xaxis": "x",
         "y": [
          "12",
          "2",
          "7",
          "8",
          "9",
          "Bình Chánh",
          "Bình Tân",
          "Thủ Đức",
          "Tân Bình"
         ],
         "yaxis": "y"
        },
        {
         "alignmentgroup": "True",
         "hovertemplate": "%{text} (%) of <b>Căn hộ chung cư</b> in %{y} have price in range %{fullData.name}",
         "legendgroup": "1 billion - 5 billion",
         "marker": {
          "color": "#EF553B",
          "line": {
           "color": "black",
           "width": 1
          },
          "pattern": {
           "shape": ""
          }
         },
         "name": "1 billion - 5 billion",
         "offsetgroup": "1 billion - 5 billion",
         "orientation": "h",
         "showlegend": true,
         "text": [
          12.02,
          53.21,
          67.07,
          97.05,
          38.05,
          57.46,
          45.12,
          98.79,
          57.67,
          98.98,
          93.82,
          95.5,
          44.57,
          98.37,
          97,
          50.48,
          96.51,
          82.99,
          93.85
         ],
         "textposition": "auto",
         "type": "bar",
         "x": [
          12.02,
          53.21,
          67.07,
          97.05,
          38.05,
          57.46,
          45.12,
          98.79,
          57.67,
          98.98,
          93.82,
          95.5,
          44.57,
          98.37,
          97,
          50.48,
          96.51,
          82.99,
          93.85
         ],
         "xaxis": "x",
         "y": [
          "1",
          "10",
          "11",
          "12",
          "2",
          "4",
          "5",
          "6",
          "7",
          "8",
          "9",
          "Bình Chánh",
          "Bình Thạnh",
          "Bình Tân",
          "Nhà Bè",
          "Phú Nhuận",
          "Thủ Đức",
          "Tân Bình",
          "Tân Phú"
         ],
         "yaxis": "y"
        },
        {
         "alignmentgroup": "True",
         "hovertemplate": "%{text} (%) of <b>Căn hộ chung cư</b> in %{y} have price in range %{fullData.name}",
         "legendgroup": "5 billion - 10 billion",
         "marker": {
          "color": "#00cc96",
          "line": {
           "color": "black",
           "width": 1
          },
          "pattern": {
           "shape": ""
          }
         },
         "name": "5 billion - 10 billion",
         "offsetgroup": "5 billion - 10 billion",
         "orientation": "h",
         "showlegend": true,
         "text": [
          44.57,
          43.02,
          26.83,
          1.69,
          35.53,
          36.44,
          54.88,
          1.21,
          33.52,
          0.61,
          3.95,
          0.21,
          33.15,
          0.41,
          2.18,
          49.04,
          2.09,
          12.54,
          5.52
         ],
         "textposition": "auto",
         "type": "bar",
         "x": [
          44.57,
          43.02,
          26.83,
          1.69,
          35.53,
          36.44,
          54.88,
          1.21,
          33.52,
          0.61,
          3.95,
          0.21,
          33.15,
          0.41,
          2.18,
          49.04,
          2.09,
          12.54,
          5.52
         ],
         "xaxis": "x",
         "y": [
          "1",
          "10",
          "11",
          "12",
          "2",
          "4",
          "5",
          "6",
          "7",
          "8",
          "9",
          "Bình Chánh",
          "Bình Thạnh",
          "Bình Tân",
          "Nhà Bè",
          "Phú Nhuận",
          "Thủ Đức",
          "Tân Bình",
          "Tân Phú"
         ],
         "yaxis": "y"
        },
        {
         "alignmentgroup": "True",
         "hovertemplate": "%{text} (%) of <b>Căn hộ chung cư</b> in %{y} have price in range %{fullData.name}",
         "legendgroup": "10 billion - 30 billion",
         "marker": {
          "color": "#ab63fa",
          "line": {
           "color": "black",
           "width": 1
          },
          "pattern": {
           "shape": ""
          }
         },
         "name": "10 billion - 30 billion",
         "offsetgroup": "10 billion - 30 billion",
         "orientation": "h",
         "showlegend": true,
         "text": [
          39.59,
          3.77,
          6.1,
          0.42,
          24.5,
          6.1,
          8.33,
          0.81,
          22.14,
          0.82,
          0.48,
          0.62
         ],
         "textposition": "auto",
         "type": "bar",
         "x": [
          39.59,
          3.77,
          6.1,
          0.42,
          24.5,
          6.1,
          8.33,
          0.81,
          22.14,
          0.82,
          0.48,
          0.62
         ],
         "xaxis": "x",
         "y": [
          "1",
          "10",
          "11",
          "12",
          "2",
          "4",
          "7",
          "9",
          "Bình Thạnh",
          "Nhà Bè",
          "Phú Nhuận",
          "Tân Phú"
         ],
         "yaxis": "y"
        },
        {
         "alignmentgroup": "True",
         "hovertemplate": "%{text} (%) of <b>Căn hộ chung cư</b> in %{y} have price in range %{fullData.name}",
         "legendgroup": "> 30 billion",
         "marker": {
          "color": "#19d3f3",
          "line": {
           "color": "black",
           "width": 1
          },
          "pattern": {
           "shape": ""
          }
         },
         "name": "> 30 billion",
         "offsetgroup": "> 30 billion",
         "orientation": "h",
         "showlegend": true,
         "text": [
          3.81,
          1.66,
          0.13,
          0.14
         ],
         "textposition": "auto",
         "type": "bar",
         "x": [
          3.81,
          1.66,
          0.13,
          0.14
         ],
         "xaxis": "x",
         "y": [
          "1",
          "2",
          "7",
          "Bình Thạnh"
         ],
         "yaxis": "y"
        }
       ],
       "layout": {
        "barmode": "stack",
        "height": 950,
        "legend": {
         "title": {
          "text": "<b>Price Range</b>"
         },
         "tracegroupgap": 0
        },
        "margin": {
         "b": 0,
         "l": 20,
         "r": 30,
         "t": 70
        },
        "paper_bgcolor": "#ffe6cc",
        "template": {
         "data": {
          "bar": [
           {
            "error_x": {
             "color": "#2a3f5f"
            },
            "error_y": {
             "color": "#2a3f5f"
            },
            "marker": {
             "line": {
              "color": "#E5ECF6",
              "width": 0.5
             },
             "pattern": {
              "fillmode": "overlay",
              "size": 10,
              "solidity": 0.2
             }
            },
            "type": "bar"
           }
          ],
          "barpolar": [
           {
            "marker": {
             "line": {
              "color": "#E5ECF6",
              "width": 0.5
             },
             "pattern": {
              "fillmode": "overlay",
              "size": 10,
              "solidity": 0.2
             }
            },
            "type": "barpolar"
           }
          ],
          "carpet": [
           {
            "aaxis": {
             "endlinecolor": "#2a3f5f",
             "gridcolor": "white",
             "linecolor": "white",
             "minorgridcolor": "white",
             "startlinecolor": "#2a3f5f"
            },
            "baxis": {
             "endlinecolor": "#2a3f5f",
             "gridcolor": "white",
             "linecolor": "white",
             "minorgridcolor": "white",
             "startlinecolor": "#2a3f5f"
            },
            "type": "carpet"
           }
          ],
          "choropleth": [
           {
            "colorbar": {
             "outlinewidth": 0,
             "ticks": ""
            },
            "type": "choropleth"
           }
          ],
          "contour": [
           {
            "colorbar": {
             "outlinewidth": 0,
             "ticks": ""
            },
            "colorscale": [
             [
              0,
              "#0d0887"
             ],
             [
              0.1111111111111111,
              "#46039f"
             ],
             [
              0.2222222222222222,
              "#7201a8"
             ],
             [
              0.3333333333333333,
              "#9c179e"
             ],
             [
              0.4444444444444444,
              "#bd3786"
             ],
             [
              0.5555555555555556,
              "#d8576b"
             ],
             [
              0.6666666666666666,
              "#ed7953"
             ],
             [
              0.7777777777777778,
              "#fb9f3a"
             ],
             [
              0.8888888888888888,
              "#fdca26"
             ],
             [
              1,
              "#f0f921"
             ]
            ],
            "type": "contour"
           }
          ],
          "contourcarpet": [
           {
            "colorbar": {
             "outlinewidth": 0,
             "ticks": ""
            },
            "type": "contourcarpet"
           }
          ],
          "heatmap": [
           {
            "colorbar": {
             "outlinewidth": 0,
             "ticks": ""
            },
            "colorscale": [
             [
              0,
              "#0d0887"
             ],
             [
              0.1111111111111111,
              "#46039f"
             ],
             [
              0.2222222222222222,
              "#7201a8"
             ],
             [
              0.3333333333333333,
              "#9c179e"
             ],
             [
              0.4444444444444444,
              "#bd3786"
             ],
             [
              0.5555555555555556,
              "#d8576b"
             ],
             [
              0.6666666666666666,
              "#ed7953"
             ],
             [
              0.7777777777777778,
              "#fb9f3a"
             ],
             [
              0.8888888888888888,
              "#fdca26"
             ],
             [
              1,
              "#f0f921"
             ]
            ],
            "type": "heatmap"
           }
          ],
          "heatmapgl": [
           {
            "colorbar": {
             "outlinewidth": 0,
             "ticks": ""
            },
            "colorscale": [
             [
              0,
              "#0d0887"
             ],
             [
              0.1111111111111111,
              "#46039f"
             ],
             [
              0.2222222222222222,
              "#7201a8"
             ],
             [
              0.3333333333333333,
              "#9c179e"
             ],
             [
              0.4444444444444444,
              "#bd3786"
             ],
             [
              0.5555555555555556,
              "#d8576b"
             ],
             [
              0.6666666666666666,
              "#ed7953"
             ],
             [
              0.7777777777777778,
              "#fb9f3a"
             ],
             [
              0.8888888888888888,
              "#fdca26"
             ],
             [
              1,
              "#f0f921"
             ]
            ],
            "type": "heatmapgl"
           }
          ],
          "histogram": [
           {
            "marker": {
             "pattern": {
              "fillmode": "overlay",
              "size": 10,
              "solidity": 0.2
             }
            },
            "type": "histogram"
           }
          ],
          "histogram2d": [
           {
            "colorbar": {
             "outlinewidth": 0,
             "ticks": ""
            },
            "colorscale": [
             [
              0,
              "#0d0887"
             ],
             [
              0.1111111111111111,
              "#46039f"
             ],
             [
              0.2222222222222222,
              "#7201a8"
             ],
             [
              0.3333333333333333,
              "#9c179e"
             ],
             [
              0.4444444444444444,
              "#bd3786"
             ],
             [
              0.5555555555555556,
              "#d8576b"
             ],
             [
              0.6666666666666666,
              "#ed7953"
             ],
             [
              0.7777777777777778,
              "#fb9f3a"
             ],
             [
              0.8888888888888888,
              "#fdca26"
             ],
             [
              1,
              "#f0f921"
             ]
            ],
            "type": "histogram2d"
           }
          ],
          "histogram2dcontour": [
           {
            "colorbar": {
             "outlinewidth": 0,
             "ticks": ""
            },
            "colorscale": [
             [
              0,
              "#0d0887"
             ],
             [
              0.1111111111111111,
              "#46039f"
             ],
             [
              0.2222222222222222,
              "#7201a8"
             ],
             [
              0.3333333333333333,
              "#9c179e"
             ],
             [
              0.4444444444444444,
              "#bd3786"
             ],
             [
              0.5555555555555556,
              "#d8576b"
             ],
             [
              0.6666666666666666,
              "#ed7953"
             ],
             [
              0.7777777777777778,
              "#fb9f3a"
             ],
             [
              0.8888888888888888,
              "#fdca26"
             ],
             [
              1,
              "#f0f921"
             ]
            ],
            "type": "histogram2dcontour"
           }
          ],
          "mesh3d": [
           {
            "colorbar": {
             "outlinewidth": 0,
             "ticks": ""
            },
            "type": "mesh3d"
           }
          ],
          "parcoords": [
           {
            "line": {
             "colorbar": {
              "outlinewidth": 0,
              "ticks": ""
             }
            },
            "type": "parcoords"
           }
          ],
          "pie": [
           {
            "automargin": true,
            "type": "pie"
           }
          ],
          "scatter": [
           {
            "fillpattern": {
             "fillmode": "overlay",
             "size": 10,
             "solidity": 0.2
            },
            "type": "scatter"
           }
          ],
          "scatter3d": [
           {
            "line": {
             "colorbar": {
              "outlinewidth": 0,
              "ticks": ""
             }
            },
            "marker": {
             "colorbar": {
              "outlinewidth": 0,
              "ticks": ""
             }
            },
            "type": "scatter3d"
           }
          ],
          "scattercarpet": [
           {
            "marker": {
             "colorbar": {
              "outlinewidth": 0,
              "ticks": ""
             }
            },
            "type": "scattercarpet"
           }
          ],
          "scattergeo": [
           {
            "marker": {
             "colorbar": {
              "outlinewidth": 0,
              "ticks": ""
             }
            },
            "type": "scattergeo"
           }
          ],
          "scattergl": [
           {
            "marker": {
             "colorbar": {
              "outlinewidth": 0,
              "ticks": ""
             }
            },
            "type": "scattergl"
           }
          ],
          "scattermapbox": [
           {
            "marker": {
             "colorbar": {
              "outlinewidth": 0,
              "ticks": ""
             }
            },
            "type": "scattermapbox"
           }
          ],
          "scatterpolar": [
           {
            "marker": {
             "colorbar": {
              "outlinewidth": 0,
              "ticks": ""
             }
            },
            "type": "scatterpolar"
           }
          ],
          "scatterpolargl": [
           {
            "marker": {
             "colorbar": {
              "outlinewidth": 0,
              "ticks": ""
             }
            },
            "type": "scatterpolargl"
           }
          ],
          "scatterternary": [
           {
            "marker": {
             "colorbar": {
              "outlinewidth": 0,
              "ticks": ""
             }
            },
            "type": "scatterternary"
           }
          ],
          "surface": [
           {
            "colorbar": {
             "outlinewidth": 0,
             "ticks": ""
            },
            "colorscale": [
             [
              0,
              "#0d0887"
             ],
             [
              0.1111111111111111,
              "#46039f"
             ],
             [
              0.2222222222222222,
              "#7201a8"
             ],
             [
              0.3333333333333333,
              "#9c179e"
             ],
             [
              0.4444444444444444,
              "#bd3786"
             ],
             [
              0.5555555555555556,
              "#d8576b"
             ],
             [
              0.6666666666666666,
              "#ed7953"
             ],
             [
              0.7777777777777778,
              "#fb9f3a"
             ],
             [
              0.8888888888888888,
              "#fdca26"
             ],
             [
              1,
              "#f0f921"
             ]
            ],
            "type": "surface"
           }
          ],
          "table": [
           {
            "cells": {
             "fill": {
              "color": "#EBF0F8"
             },
             "line": {
              "color": "white"
             }
            },
            "header": {
             "fill": {
              "color": "#C8D4E3"
             },
             "line": {
              "color": "white"
             }
            },
            "type": "table"
           }
          ]
         },
         "layout": {
          "annotationdefaults": {
           "arrowcolor": "#2a3f5f",
           "arrowhead": 0,
           "arrowwidth": 1
          },
          "autotypenumbers": "strict",
          "coloraxis": {
           "colorbar": {
            "outlinewidth": 0,
            "ticks": ""
           }
          },
          "colorscale": {
           "diverging": [
            [
             0,
             "#8e0152"
            ],
            [
             0.1,
             "#c51b7d"
            ],
            [
             0.2,
             "#de77ae"
            ],
            [
             0.3,
             "#f1b6da"
            ],
            [
             0.4,
             "#fde0ef"
            ],
            [
             0.5,
             "#f7f7f7"
            ],
            [
             0.6,
             "#e6f5d0"
            ],
            [
             0.7,
             "#b8e186"
            ],
            [
             0.8,
             "#7fbc41"
            ],
            [
             0.9,
             "#4d9221"
            ],
            [
             1,
             "#276419"
            ]
           ],
           "sequential": [
            [
             0,
             "#0d0887"
            ],
            [
             0.1111111111111111,
             "#46039f"
            ],
            [
             0.2222222222222222,
             "#7201a8"
            ],
            [
             0.3333333333333333,
             "#9c179e"
            ],
            [
             0.4444444444444444,
             "#bd3786"
            ],
            [
             0.5555555555555556,
             "#d8576b"
            ],
            [
             0.6666666666666666,
             "#ed7953"
            ],
            [
             0.7777777777777778,
             "#fb9f3a"
            ],
            [
             0.8888888888888888,
             "#fdca26"
            ],
            [
             1,
             "#f0f921"
            ]
           ],
           "sequentialminus": [
            [
             0,
             "#0d0887"
            ],
            [
             0.1111111111111111,
             "#46039f"
            ],
            [
             0.2222222222222222,
             "#7201a8"
            ],
            [
             0.3333333333333333,
             "#9c179e"
            ],
            [
             0.4444444444444444,
             "#bd3786"
            ],
            [
             0.5555555555555556,
             "#d8576b"
            ],
            [
             0.6666666666666666,
             "#ed7953"
            ],
            [
             0.7777777777777778,
             "#fb9f3a"
            ],
            [
             0.8888888888888888,
             "#fdca26"
            ],
            [
             1,
             "#f0f921"
            ]
           ]
          },
          "colorway": [
           "#636efa",
           "#EF553B",
           "#00cc96",
           "#ab63fa",
           "#FFA15A",
           "#19d3f3",
           "#FF6692",
           "#B6E880",
           "#FF97FF",
           "#FECB52"
          ],
          "font": {
           "color": "#2a3f5f"
          },
          "geo": {
           "bgcolor": "white",
           "lakecolor": "white",
           "landcolor": "#E5ECF6",
           "showlakes": true,
           "showland": true,
           "subunitcolor": "white"
          },
          "hoverlabel": {
           "align": "left"
          },
          "hovermode": "closest",
          "mapbox": {
           "style": "light"
          },
          "paper_bgcolor": "white",
          "plot_bgcolor": "#E5ECF6",
          "polar": {
           "angularaxis": {
            "gridcolor": "white",
            "linecolor": "white",
            "ticks": ""
           },
           "bgcolor": "#E5ECF6",
           "radialaxis": {
            "gridcolor": "white",
            "linecolor": "white",
            "ticks": ""
           }
          },
          "scene": {
           "xaxis": {
            "backgroundcolor": "#E5ECF6",
            "gridcolor": "white",
            "gridwidth": 2,
            "linecolor": "white",
            "showbackground": true,
            "ticks": "",
            "zerolinecolor": "white"
           },
           "yaxis": {
            "backgroundcolor": "#E5ECF6",
            "gridcolor": "white",
            "gridwidth": 2,
            "linecolor": "white",
            "showbackground": true,
            "ticks": "",
            "zerolinecolor": "white"
           },
           "zaxis": {
            "backgroundcolor": "#E5ECF6",
            "gridcolor": "white",
            "gridwidth": 2,
            "linecolor": "white",
            "showbackground": true,
            "ticks": "",
            "zerolinecolor": "white"
           }
          },
          "shapedefaults": {
           "line": {
            "color": "#2a3f5f"
           }
          },
          "ternary": {
           "aaxis": {
            "gridcolor": "white",
            "linecolor": "white",
            "ticks": ""
           },
           "baxis": {
            "gridcolor": "white",
            "linecolor": "white",
            "ticks": ""
           },
           "bgcolor": "#E5ECF6",
           "caxis": {
            "gridcolor": "white",
            "linecolor": "white",
            "ticks": ""
           }
          },
          "title": {
           "x": 0.05
          },
          "xaxis": {
           "automargin": true,
           "gridcolor": "white",
           "linecolor": "white",
           "ticks": "",
           "title": {
            "standoff": 15
           },
           "zerolinecolor": "white",
           "zerolinewidth": 2
          },
          "yaxis": {
           "automargin": true,
           "gridcolor": "white",
           "linecolor": "white",
           "ticks": "",
           "title": {
            "standoff": 15
           },
           "zerolinecolor": "white",
           "zerolinewidth": 2
          }
         }
        },
        "title": {
         "font": {
          "size": 15
         },
         "text": "<b>Price distribution of Căn hộ chung cư by district</b>"
        },
        "width": 1000,
        "xaxis": {
         "anchor": "y",
         "domain": [
          0,
          1
         ],
         "tickfont": {
          "size": 14
         },
         "title": {
          "text": "<b>Percentage</b>"
         }
        },
        "yaxis": {
         "anchor": "x",
         "domain": [
          0,
          1
         ],
         "tickfont": {
          "size": 14
         },
         "ticksuffix": " ",
         "title": {
          "text": "District"
         }
        }
       }
      }
     },
     "metadata": {},
     "output_type": "display_data"
    }
   ],
   "source": [
    "Price_distribution_of_type('Căn hộ chung cư')"
   ]
  },
  {
   "cell_type": "markdown",
   "metadata": {},
   "source": [
    "- As `Nhà riêng`, we can find that price `< 1 billion` just take a very small percentage of the total. Overall, with the super high percentage in range `1 billion - 5 billion`, `District 6` and `District 8` can easily recognized as districts that have the cheapest price for `Căn hộ chung cư`.\n",
    "- Beside that, `District 2` is the distict that contain most of appartments which have highest price. So we can indicate that `District 2` may contain many appartments that is much more luxury or high-end than others district. With that, `District 2` can be an interesting place to explore."
   ]
  },
  {
   "cell_type": "markdown",
   "metadata": {},
   "source": [
    "#### **Nhà mặt phố:**"
   ]
  },
  {
   "cell_type": "code",
   "execution_count": 43,
   "metadata": {},
   "outputs": [
    {
     "data": {
      "application/vnd.plotly.v1+json": {
       "config": {
        "plotlyServerURL": "https://plot.ly"
       },
       "data": [
        {
         "alignmentgroup": "True",
         "hovertemplate": "%{text} (%) of <b>Nhà mặt phố</b> in %{y} have price in range %{fullData.name}",
         "legendgroup": "1 billion - 5 billion",
         "marker": {
          "color": "#EF553B",
          "line": {
           "color": "black",
           "width": 1
          },
          "pattern": {
           "shape": ""
          }
         },
         "name": "1 billion - 5 billion",
         "offsetgroup": "1 billion - 5 billion",
         "orientation": "h",
         "showlegend": true,
         "text": [
          0.67,
          1.13,
          0.56
         ],
         "textposition": "auto",
         "type": "bar",
         "x": [
          0.67,
          1.13,
          0.56
         ],
         "xaxis": "x",
         "y": [
          "1",
          "11",
          "5"
         ],
         "yaxis": "y"
        },
        {
         "alignmentgroup": "True",
         "hovertemplate": "%{text} (%) of <b>Nhà mặt phố</b> in %{y} have price in range %{fullData.name}",
         "legendgroup": "5 billion - 10 billion",
         "marker": {
          "color": "#00cc96",
          "line": {
           "color": "black",
           "width": 1
          },
          "pattern": {
           "shape": ""
          }
         },
         "name": "5 billion - 10 billion",
         "offsetgroup": "5 billion - 10 billion",
         "orientation": "h",
         "showlegend": true,
         "text": [
          2,
          10.17,
          1.68
         ],
         "textposition": "auto",
         "type": "bar",
         "x": [
          2,
          10.17,
          1.68
         ],
         "xaxis": "x",
         "y": [
          "1",
          "11",
          "5"
         ],
         "yaxis": "y"
        },
        {
         "alignmentgroup": "True",
         "hovertemplate": "%{text} (%) of <b>Nhà mặt phố</b> in %{y} have price in range %{fullData.name}",
         "legendgroup": "10 billion - 30 billion",
         "marker": {
          "color": "#ab63fa",
          "line": {
           "color": "black",
           "width": 1
          },
          "pattern": {
           "shape": ""
          }
         },
         "name": "10 billion - 30 billion",
         "offsetgroup": "10 billion - 30 billion",
         "orientation": "h",
         "showlegend": true,
         "text": [
          58.31,
          70.06,
          65.92
         ],
         "textposition": "auto",
         "type": "bar",
         "x": [
          58.31,
          70.06,
          65.92
         ],
         "xaxis": "x",
         "y": [
          "1",
          "11",
          "5"
         ],
         "yaxis": "y"
        },
        {
         "alignmentgroup": "True",
         "hovertemplate": "%{text} (%) of <b>Nhà mặt phố</b> in %{y} have price in range %{fullData.name}",
         "legendgroup": "> 30 billion",
         "marker": {
          "color": "#19d3f3",
          "line": {
           "color": "black",
           "width": 1
          },
          "pattern": {
           "shape": ""
          }
         },
         "name": "> 30 billion",
         "offsetgroup": "> 30 billion",
         "orientation": "h",
         "showlegend": true,
         "text": [
          39.02,
          18.64,
          31.84
         ],
         "textposition": "auto",
         "type": "bar",
         "x": [
          39.02,
          18.64,
          31.84
         ],
         "xaxis": "x",
         "y": [
          "1",
          "11",
          "5"
         ],
         "yaxis": "y"
        }
       ],
       "layout": {
        "barmode": "stack",
        "height": 300,
        "legend": {
         "orientation": "h",
         "title": {
          "text": "<b>Price Range</b>"
         },
         "tracegroupgap": 0,
         "x": 1,
         "xanchor": "right",
         "y": 1,
         "yanchor": "bottom"
        },
        "margin": {
         "b": 0,
         "l": 20,
         "r": 30,
         "t": 90
        },
        "paper_bgcolor": "#ffe6cc",
        "template": {
         "data": {
          "bar": [
           {
            "error_x": {
             "color": "#2a3f5f"
            },
            "error_y": {
             "color": "#2a3f5f"
            },
            "marker": {
             "line": {
              "color": "#E5ECF6",
              "width": 0.5
             },
             "pattern": {
              "fillmode": "overlay",
              "size": 10,
              "solidity": 0.2
             }
            },
            "type": "bar"
           }
          ],
          "barpolar": [
           {
            "marker": {
             "line": {
              "color": "#E5ECF6",
              "width": 0.5
             },
             "pattern": {
              "fillmode": "overlay",
              "size": 10,
              "solidity": 0.2
             }
            },
            "type": "barpolar"
           }
          ],
          "carpet": [
           {
            "aaxis": {
             "endlinecolor": "#2a3f5f",
             "gridcolor": "white",
             "linecolor": "white",
             "minorgridcolor": "white",
             "startlinecolor": "#2a3f5f"
            },
            "baxis": {
             "endlinecolor": "#2a3f5f",
             "gridcolor": "white",
             "linecolor": "white",
             "minorgridcolor": "white",
             "startlinecolor": "#2a3f5f"
            },
            "type": "carpet"
           }
          ],
          "choropleth": [
           {
            "colorbar": {
             "outlinewidth": 0,
             "ticks": ""
            },
            "type": "choropleth"
           }
          ],
          "contour": [
           {
            "colorbar": {
             "outlinewidth": 0,
             "ticks": ""
            },
            "colorscale": [
             [
              0,
              "#0d0887"
             ],
             [
              0.1111111111111111,
              "#46039f"
             ],
             [
              0.2222222222222222,
              "#7201a8"
             ],
             [
              0.3333333333333333,
              "#9c179e"
             ],
             [
              0.4444444444444444,
              "#bd3786"
             ],
             [
              0.5555555555555556,
              "#d8576b"
             ],
             [
              0.6666666666666666,
              "#ed7953"
             ],
             [
              0.7777777777777778,
              "#fb9f3a"
             ],
             [
              0.8888888888888888,
              "#fdca26"
             ],
             [
              1,
              "#f0f921"
             ]
            ],
            "type": "contour"
           }
          ],
          "contourcarpet": [
           {
            "colorbar": {
             "outlinewidth": 0,
             "ticks": ""
            },
            "type": "contourcarpet"
           }
          ],
          "heatmap": [
           {
            "colorbar": {
             "outlinewidth": 0,
             "ticks": ""
            },
            "colorscale": [
             [
              0,
              "#0d0887"
             ],
             [
              0.1111111111111111,
              "#46039f"
             ],
             [
              0.2222222222222222,
              "#7201a8"
             ],
             [
              0.3333333333333333,
              "#9c179e"
             ],
             [
              0.4444444444444444,
              "#bd3786"
             ],
             [
              0.5555555555555556,
              "#d8576b"
             ],
             [
              0.6666666666666666,
              "#ed7953"
             ],
             [
              0.7777777777777778,
              "#fb9f3a"
             ],
             [
              0.8888888888888888,
              "#fdca26"
             ],
             [
              1,
              "#f0f921"
             ]
            ],
            "type": "heatmap"
           }
          ],
          "heatmapgl": [
           {
            "colorbar": {
             "outlinewidth": 0,
             "ticks": ""
            },
            "colorscale": [
             [
              0,
              "#0d0887"
             ],
             [
              0.1111111111111111,
              "#46039f"
             ],
             [
              0.2222222222222222,
              "#7201a8"
             ],
             [
              0.3333333333333333,
              "#9c179e"
             ],
             [
              0.4444444444444444,
              "#bd3786"
             ],
             [
              0.5555555555555556,
              "#d8576b"
             ],
             [
              0.6666666666666666,
              "#ed7953"
             ],
             [
              0.7777777777777778,
              "#fb9f3a"
             ],
             [
              0.8888888888888888,
              "#fdca26"
             ],
             [
              1,
              "#f0f921"
             ]
            ],
            "type": "heatmapgl"
           }
          ],
          "histogram": [
           {
            "marker": {
             "pattern": {
              "fillmode": "overlay",
              "size": 10,
              "solidity": 0.2
             }
            },
            "type": "histogram"
           }
          ],
          "histogram2d": [
           {
            "colorbar": {
             "outlinewidth": 0,
             "ticks": ""
            },
            "colorscale": [
             [
              0,
              "#0d0887"
             ],
             [
              0.1111111111111111,
              "#46039f"
             ],
             [
              0.2222222222222222,
              "#7201a8"
             ],
             [
              0.3333333333333333,
              "#9c179e"
             ],
             [
              0.4444444444444444,
              "#bd3786"
             ],
             [
              0.5555555555555556,
              "#d8576b"
             ],
             [
              0.6666666666666666,
              "#ed7953"
             ],
             [
              0.7777777777777778,
              "#fb9f3a"
             ],
             [
              0.8888888888888888,
              "#fdca26"
             ],
             [
              1,
              "#f0f921"
             ]
            ],
            "type": "histogram2d"
           }
          ],
          "histogram2dcontour": [
           {
            "colorbar": {
             "outlinewidth": 0,
             "ticks": ""
            },
            "colorscale": [
             [
              0,
              "#0d0887"
             ],
             [
              0.1111111111111111,
              "#46039f"
             ],
             [
              0.2222222222222222,
              "#7201a8"
             ],
             [
              0.3333333333333333,
              "#9c179e"
             ],
             [
              0.4444444444444444,
              "#bd3786"
             ],
             [
              0.5555555555555556,
              "#d8576b"
             ],
             [
              0.6666666666666666,
              "#ed7953"
             ],
             [
              0.7777777777777778,
              "#fb9f3a"
             ],
             [
              0.8888888888888888,
              "#fdca26"
             ],
             [
              1,
              "#f0f921"
             ]
            ],
            "type": "histogram2dcontour"
           }
          ],
          "mesh3d": [
           {
            "colorbar": {
             "outlinewidth": 0,
             "ticks": ""
            },
            "type": "mesh3d"
           }
          ],
          "parcoords": [
           {
            "line": {
             "colorbar": {
              "outlinewidth": 0,
              "ticks": ""
             }
            },
            "type": "parcoords"
           }
          ],
          "pie": [
           {
            "automargin": true,
            "type": "pie"
           }
          ],
          "scatter": [
           {
            "fillpattern": {
             "fillmode": "overlay",
             "size": 10,
             "solidity": 0.2
            },
            "type": "scatter"
           }
          ],
          "scatter3d": [
           {
            "line": {
             "colorbar": {
              "outlinewidth": 0,
              "ticks": ""
             }
            },
            "marker": {
             "colorbar": {
              "outlinewidth": 0,
              "ticks": ""
             }
            },
            "type": "scatter3d"
           }
          ],
          "scattercarpet": [
           {
            "marker": {
             "colorbar": {
              "outlinewidth": 0,
              "ticks": ""
             }
            },
            "type": "scattercarpet"
           }
          ],
          "scattergeo": [
           {
            "marker": {
             "colorbar": {
              "outlinewidth": 0,
              "ticks": ""
             }
            },
            "type": "scattergeo"
           }
          ],
          "scattergl": [
           {
            "marker": {
             "colorbar": {
              "outlinewidth": 0,
              "ticks": ""
             }
            },
            "type": "scattergl"
           }
          ],
          "scattermapbox": [
           {
            "marker": {
             "colorbar": {
              "outlinewidth": 0,
              "ticks": ""
             }
            },
            "type": "scattermapbox"
           }
          ],
          "scatterpolar": [
           {
            "marker": {
             "colorbar": {
              "outlinewidth": 0,
              "ticks": ""
             }
            },
            "type": "scatterpolar"
           }
          ],
          "scatterpolargl": [
           {
            "marker": {
             "colorbar": {
              "outlinewidth": 0,
              "ticks": ""
             }
            },
            "type": "scatterpolargl"
           }
          ],
          "scatterternary": [
           {
            "marker": {
             "colorbar": {
              "outlinewidth": 0,
              "ticks": ""
             }
            },
            "type": "scatterternary"
           }
          ],
          "surface": [
           {
            "colorbar": {
             "outlinewidth": 0,
             "ticks": ""
            },
            "colorscale": [
             [
              0,
              "#0d0887"
             ],
             [
              0.1111111111111111,
              "#46039f"
             ],
             [
              0.2222222222222222,
              "#7201a8"
             ],
             [
              0.3333333333333333,
              "#9c179e"
             ],
             [
              0.4444444444444444,
              "#bd3786"
             ],
             [
              0.5555555555555556,
              "#d8576b"
             ],
             [
              0.6666666666666666,
              "#ed7953"
             ],
             [
              0.7777777777777778,
              "#fb9f3a"
             ],
             [
              0.8888888888888888,
              "#fdca26"
             ],
             [
              1,
              "#f0f921"
             ]
            ],
            "type": "surface"
           }
          ],
          "table": [
           {
            "cells": {
             "fill": {
              "color": "#EBF0F8"
             },
             "line": {
              "color": "white"
             }
            },
            "header": {
             "fill": {
              "color": "#C8D4E3"
             },
             "line": {
              "color": "white"
             }
            },
            "type": "table"
           }
          ]
         },
         "layout": {
          "annotationdefaults": {
           "arrowcolor": "#2a3f5f",
           "arrowhead": 0,
           "arrowwidth": 1
          },
          "autotypenumbers": "strict",
          "coloraxis": {
           "colorbar": {
            "outlinewidth": 0,
            "ticks": ""
           }
          },
          "colorscale": {
           "diverging": [
            [
             0,
             "#8e0152"
            ],
            [
             0.1,
             "#c51b7d"
            ],
            [
             0.2,
             "#de77ae"
            ],
            [
             0.3,
             "#f1b6da"
            ],
            [
             0.4,
             "#fde0ef"
            ],
            [
             0.5,
             "#f7f7f7"
            ],
            [
             0.6,
             "#e6f5d0"
            ],
            [
             0.7,
             "#b8e186"
            ],
            [
             0.8,
             "#7fbc41"
            ],
            [
             0.9,
             "#4d9221"
            ],
            [
             1,
             "#276419"
            ]
           ],
           "sequential": [
            [
             0,
             "#0d0887"
            ],
            [
             0.1111111111111111,
             "#46039f"
            ],
            [
             0.2222222222222222,
             "#7201a8"
            ],
            [
             0.3333333333333333,
             "#9c179e"
            ],
            [
             0.4444444444444444,
             "#bd3786"
            ],
            [
             0.5555555555555556,
             "#d8576b"
            ],
            [
             0.6666666666666666,
             "#ed7953"
            ],
            [
             0.7777777777777778,
             "#fb9f3a"
            ],
            [
             0.8888888888888888,
             "#fdca26"
            ],
            [
             1,
             "#f0f921"
            ]
           ],
           "sequentialminus": [
            [
             0,
             "#0d0887"
            ],
            [
             0.1111111111111111,
             "#46039f"
            ],
            [
             0.2222222222222222,
             "#7201a8"
            ],
            [
             0.3333333333333333,
             "#9c179e"
            ],
            [
             0.4444444444444444,
             "#bd3786"
            ],
            [
             0.5555555555555556,
             "#d8576b"
            ],
            [
             0.6666666666666666,
             "#ed7953"
            ],
            [
             0.7777777777777778,
             "#fb9f3a"
            ],
            [
             0.8888888888888888,
             "#fdca26"
            ],
            [
             1,
             "#f0f921"
            ]
           ]
          },
          "colorway": [
           "#636efa",
           "#EF553B",
           "#00cc96",
           "#ab63fa",
           "#FFA15A",
           "#19d3f3",
           "#FF6692",
           "#B6E880",
           "#FF97FF",
           "#FECB52"
          ],
          "font": {
           "color": "#2a3f5f"
          },
          "geo": {
           "bgcolor": "white",
           "lakecolor": "white",
           "landcolor": "#E5ECF6",
           "showlakes": true,
           "showland": true,
           "subunitcolor": "white"
          },
          "hoverlabel": {
           "align": "left"
          },
          "hovermode": "closest",
          "mapbox": {
           "style": "light"
          },
          "paper_bgcolor": "white",
          "plot_bgcolor": "#E5ECF6",
          "polar": {
           "angularaxis": {
            "gridcolor": "white",
            "linecolor": "white",
            "ticks": ""
           },
           "bgcolor": "#E5ECF6",
           "radialaxis": {
            "gridcolor": "white",
            "linecolor": "white",
            "ticks": ""
           }
          },
          "scene": {
           "xaxis": {
            "backgroundcolor": "#E5ECF6",
            "gridcolor": "white",
            "gridwidth": 2,
            "linecolor": "white",
            "showbackground": true,
            "ticks": "",
            "zerolinecolor": "white"
           },
           "yaxis": {
            "backgroundcolor": "#E5ECF6",
            "gridcolor": "white",
            "gridwidth": 2,
            "linecolor": "white",
            "showbackground": true,
            "ticks": "",
            "zerolinecolor": "white"
           },
           "zaxis": {
            "backgroundcolor": "#E5ECF6",
            "gridcolor": "white",
            "gridwidth": 2,
            "linecolor": "white",
            "showbackground": true,
            "ticks": "",
            "zerolinecolor": "white"
           }
          },
          "shapedefaults": {
           "line": {
            "color": "#2a3f5f"
           }
          },
          "ternary": {
           "aaxis": {
            "gridcolor": "white",
            "linecolor": "white",
            "ticks": ""
           },
           "baxis": {
            "gridcolor": "white",
            "linecolor": "white",
            "ticks": ""
           },
           "bgcolor": "#E5ECF6",
           "caxis": {
            "gridcolor": "white",
            "linecolor": "white",
            "ticks": ""
           }
          },
          "title": {
           "x": 0.05
          },
          "xaxis": {
           "automargin": true,
           "gridcolor": "white",
           "linecolor": "white",
           "ticks": "",
           "title": {
            "standoff": 15
           },
           "zerolinecolor": "white",
           "zerolinewidth": 2
          },
          "yaxis": {
           "automargin": true,
           "gridcolor": "white",
           "linecolor": "white",
           "ticks": "",
           "title": {
            "standoff": 15
           },
           "zerolinecolor": "white",
           "zerolinewidth": 2
          }
         }
        },
        "title": {
         "font": {
          "size": 15
         },
         "text": "<b>Price distribution of Nhà mặt phố by district</b>"
        },
        "width": 1000,
        "xaxis": {
         "anchor": "y",
         "domain": [
          0,
          1
         ],
         "tickfont": {
          "size": 14
         },
         "title": {
          "text": "<b>Percentage</b>"
         }
        },
        "yaxis": {
         "anchor": "x",
         "domain": [
          0,
          1
         ],
         "tickfont": {
          "size": 14
         },
         "ticksuffix": " ",
         "title": {
          "text": "District"
         }
        }
       }
      }
     },
     "metadata": {},
     "output_type": "display_data"
    }
   ],
   "source": [
    "Price_distribution_of_type('Nhà mặt phố')"
   ]
  },
  {
   "cell_type": "markdown",
   "metadata": {},
   "source": [
    "With `Nhà mặt phố`, we can see that the overall price is considerably high, mostly concerntrate in ranges `10 million - 30 billion` and `> 30 million`. We can easily explain the reason by the nature of `Nhà mặt phố` type. These are the real estates that located in mostly located in major streets. These locations provide various advantages, such as convenient transportation, business areas, and more other advantage for medical or education. Due to these favorable attributes, the prices of \"Nhà mặt phố\" properties tend to be significantly higher compared to other types of real estate in Ho Chi Minh City."
   ]
  },
  {
   "cell_type": "markdown",
   "metadata": {},
   "source": [
    "#### **Nhà biệt thự, liền kề:**"
   ]
  },
  {
   "cell_type": "code",
   "execution_count": 44,
   "metadata": {},
   "outputs": [
    {
     "data": {
      "application/vnd.plotly.v1+json": {
       "config": {
        "plotlyServerURL": "https://plot.ly"
       },
       "data": [
        {
         "alignmentgroup": "True",
         "hovertemplate": "%{text} (%) of <b>Nhà biệt thự, liền kề</b> in %{y} have price in range %{fullData.name}",
         "legendgroup": "1 billion - 5 billion",
         "marker": {
          "color": "#EF553B",
          "line": {
           "color": "black",
           "width": 1
          },
          "pattern": {
           "shape": ""
          }
         },
         "name": "1 billion - 5 billion",
         "offsetgroup": "1 billion - 5 billion",
         "orientation": "h",
         "showlegend": true,
         "text": [
          0.18
         ],
         "textposition": "auto",
         "type": "bar",
         "x": [
          0.18
         ],
         "xaxis": "x",
         "y": [
          "9"
         ],
         "yaxis": "y"
        },
        {
         "alignmentgroup": "True",
         "hovertemplate": "%{text} (%) of <b>Nhà biệt thự, liền kề</b> in %{y} have price in range %{fullData.name}",
         "legendgroup": "5 billion - 10 billion",
         "marker": {
          "color": "#00cc96",
          "line": {
           "color": "black",
           "width": 1
          },
          "pattern": {
           "shape": ""
          }
         },
         "name": "5 billion - 10 billion",
         "offsetgroup": "5 billion - 10 billion",
         "orientation": "h",
         "showlegend": true,
         "text": [
          29.78,
          19.83
         ],
         "textposition": "auto",
         "type": "bar",
         "x": [
          29.78,
          19.83
         ],
         "xaxis": "x",
         "y": [
          "9",
          "Nhà Bè"
         ],
         "yaxis": "y"
        },
        {
         "alignmentgroup": "True",
         "hovertemplate": "%{text} (%) of <b>Nhà biệt thự, liền kề</b> in %{y} have price in range %{fullData.name}",
         "legendgroup": "10 billion - 30 billion",
         "marker": {
          "color": "#ab63fa",
          "line": {
           "color": "black",
           "width": 1
          },
          "pattern": {
           "shape": ""
          }
         },
         "name": "10 billion - 30 billion",
         "offsetgroup": "10 billion - 30 billion",
         "orientation": "h",
         "showlegend": true,
         "text": [
          67.1,
          78.88
         ],
         "textposition": "auto",
         "type": "bar",
         "x": [
          67.1,
          78.88
         ],
         "xaxis": "x",
         "y": [
          "9",
          "Nhà Bè"
         ],
         "yaxis": "y"
        },
        {
         "alignmentgroup": "True",
         "hovertemplate": "%{text} (%) of <b>Nhà biệt thự, liền kề</b> in %{y} have price in range %{fullData.name}",
         "legendgroup": "> 30 billion",
         "marker": {
          "color": "#19d3f3",
          "line": {
           "color": "black",
           "width": 1
          },
          "pattern": {
           "shape": ""
          }
         },
         "name": "> 30 billion",
         "offsetgroup": "> 30 billion",
         "orientation": "h",
         "showlegend": true,
         "text": [
          2.94,
          1.29
         ],
         "textposition": "auto",
         "type": "bar",
         "x": [
          2.94,
          1.29
         ],
         "xaxis": "x",
         "y": [
          "9",
          "Nhà Bè"
         ],
         "yaxis": "y"
        }
       ],
       "layout": {
        "barmode": "stack",
        "height": 200,
        "legend": {
         "orientation": "h",
         "title": {
          "text": "<b>Price Range</b>"
         },
         "tracegroupgap": 0,
         "x": 1,
         "xanchor": "right",
         "y": 1,
         "yanchor": "bottom"
        },
        "margin": {
         "b": 0,
         "l": 20,
         "r": 30,
         "t": 90
        },
        "paper_bgcolor": "#ffe6cc",
        "template": {
         "data": {
          "bar": [
           {
            "error_x": {
             "color": "#2a3f5f"
            },
            "error_y": {
             "color": "#2a3f5f"
            },
            "marker": {
             "line": {
              "color": "#E5ECF6",
              "width": 0.5
             },
             "pattern": {
              "fillmode": "overlay",
              "size": 10,
              "solidity": 0.2
             }
            },
            "type": "bar"
           }
          ],
          "barpolar": [
           {
            "marker": {
             "line": {
              "color": "#E5ECF6",
              "width": 0.5
             },
             "pattern": {
              "fillmode": "overlay",
              "size": 10,
              "solidity": 0.2
             }
            },
            "type": "barpolar"
           }
          ],
          "carpet": [
           {
            "aaxis": {
             "endlinecolor": "#2a3f5f",
             "gridcolor": "white",
             "linecolor": "white",
             "minorgridcolor": "white",
             "startlinecolor": "#2a3f5f"
            },
            "baxis": {
             "endlinecolor": "#2a3f5f",
             "gridcolor": "white",
             "linecolor": "white",
             "minorgridcolor": "white",
             "startlinecolor": "#2a3f5f"
            },
            "type": "carpet"
           }
          ],
          "choropleth": [
           {
            "colorbar": {
             "outlinewidth": 0,
             "ticks": ""
            },
            "type": "choropleth"
           }
          ],
          "contour": [
           {
            "colorbar": {
             "outlinewidth": 0,
             "ticks": ""
            },
            "colorscale": [
             [
              0,
              "#0d0887"
             ],
             [
              0.1111111111111111,
              "#46039f"
             ],
             [
              0.2222222222222222,
              "#7201a8"
             ],
             [
              0.3333333333333333,
              "#9c179e"
             ],
             [
              0.4444444444444444,
              "#bd3786"
             ],
             [
              0.5555555555555556,
              "#d8576b"
             ],
             [
              0.6666666666666666,
              "#ed7953"
             ],
             [
              0.7777777777777778,
              "#fb9f3a"
             ],
             [
              0.8888888888888888,
              "#fdca26"
             ],
             [
              1,
              "#f0f921"
             ]
            ],
            "type": "contour"
           }
          ],
          "contourcarpet": [
           {
            "colorbar": {
             "outlinewidth": 0,
             "ticks": ""
            },
            "type": "contourcarpet"
           }
          ],
          "heatmap": [
           {
            "colorbar": {
             "outlinewidth": 0,
             "ticks": ""
            },
            "colorscale": [
             [
              0,
              "#0d0887"
             ],
             [
              0.1111111111111111,
              "#46039f"
             ],
             [
              0.2222222222222222,
              "#7201a8"
             ],
             [
              0.3333333333333333,
              "#9c179e"
             ],
             [
              0.4444444444444444,
              "#bd3786"
             ],
             [
              0.5555555555555556,
              "#d8576b"
             ],
             [
              0.6666666666666666,
              "#ed7953"
             ],
             [
              0.7777777777777778,
              "#fb9f3a"
             ],
             [
              0.8888888888888888,
              "#fdca26"
             ],
             [
              1,
              "#f0f921"
             ]
            ],
            "type": "heatmap"
           }
          ],
          "heatmapgl": [
           {
            "colorbar": {
             "outlinewidth": 0,
             "ticks": ""
            },
            "colorscale": [
             [
              0,
              "#0d0887"
             ],
             [
              0.1111111111111111,
              "#46039f"
             ],
             [
              0.2222222222222222,
              "#7201a8"
             ],
             [
              0.3333333333333333,
              "#9c179e"
             ],
             [
              0.4444444444444444,
              "#bd3786"
             ],
             [
              0.5555555555555556,
              "#d8576b"
             ],
             [
              0.6666666666666666,
              "#ed7953"
             ],
             [
              0.7777777777777778,
              "#fb9f3a"
             ],
             [
              0.8888888888888888,
              "#fdca26"
             ],
             [
              1,
              "#f0f921"
             ]
            ],
            "type": "heatmapgl"
           }
          ],
          "histogram": [
           {
            "marker": {
             "pattern": {
              "fillmode": "overlay",
              "size": 10,
              "solidity": 0.2
             }
            },
            "type": "histogram"
           }
          ],
          "histogram2d": [
           {
            "colorbar": {
             "outlinewidth": 0,
             "ticks": ""
            },
            "colorscale": [
             [
              0,
              "#0d0887"
             ],
             [
              0.1111111111111111,
              "#46039f"
             ],
             [
              0.2222222222222222,
              "#7201a8"
             ],
             [
              0.3333333333333333,
              "#9c179e"
             ],
             [
              0.4444444444444444,
              "#bd3786"
             ],
             [
              0.5555555555555556,
              "#d8576b"
             ],
             [
              0.6666666666666666,
              "#ed7953"
             ],
             [
              0.7777777777777778,
              "#fb9f3a"
             ],
             [
              0.8888888888888888,
              "#fdca26"
             ],
             [
              1,
              "#f0f921"
             ]
            ],
            "type": "histogram2d"
           }
          ],
          "histogram2dcontour": [
           {
            "colorbar": {
             "outlinewidth": 0,
             "ticks": ""
            },
            "colorscale": [
             [
              0,
              "#0d0887"
             ],
             [
              0.1111111111111111,
              "#46039f"
             ],
             [
              0.2222222222222222,
              "#7201a8"
             ],
             [
              0.3333333333333333,
              "#9c179e"
             ],
             [
              0.4444444444444444,
              "#bd3786"
             ],
             [
              0.5555555555555556,
              "#d8576b"
             ],
             [
              0.6666666666666666,
              "#ed7953"
             ],
             [
              0.7777777777777778,
              "#fb9f3a"
             ],
             [
              0.8888888888888888,
              "#fdca26"
             ],
             [
              1,
              "#f0f921"
             ]
            ],
            "type": "histogram2dcontour"
           }
          ],
          "mesh3d": [
           {
            "colorbar": {
             "outlinewidth": 0,
             "ticks": ""
            },
            "type": "mesh3d"
           }
          ],
          "parcoords": [
           {
            "line": {
             "colorbar": {
              "outlinewidth": 0,
              "ticks": ""
             }
            },
            "type": "parcoords"
           }
          ],
          "pie": [
           {
            "automargin": true,
            "type": "pie"
           }
          ],
          "scatter": [
           {
            "fillpattern": {
             "fillmode": "overlay",
             "size": 10,
             "solidity": 0.2
            },
            "type": "scatter"
           }
          ],
          "scatter3d": [
           {
            "line": {
             "colorbar": {
              "outlinewidth": 0,
              "ticks": ""
             }
            },
            "marker": {
             "colorbar": {
              "outlinewidth": 0,
              "ticks": ""
             }
            },
            "type": "scatter3d"
           }
          ],
          "scattercarpet": [
           {
            "marker": {
             "colorbar": {
              "outlinewidth": 0,
              "ticks": ""
             }
            },
            "type": "scattercarpet"
           }
          ],
          "scattergeo": [
           {
            "marker": {
             "colorbar": {
              "outlinewidth": 0,
              "ticks": ""
             }
            },
            "type": "scattergeo"
           }
          ],
          "scattergl": [
           {
            "marker": {
             "colorbar": {
              "outlinewidth": 0,
              "ticks": ""
             }
            },
            "type": "scattergl"
           }
          ],
          "scattermapbox": [
           {
            "marker": {
             "colorbar": {
              "outlinewidth": 0,
              "ticks": ""
             }
            },
            "type": "scattermapbox"
           }
          ],
          "scatterpolar": [
           {
            "marker": {
             "colorbar": {
              "outlinewidth": 0,
              "ticks": ""
             }
            },
            "type": "scatterpolar"
           }
          ],
          "scatterpolargl": [
           {
            "marker": {
             "colorbar": {
              "outlinewidth": 0,
              "ticks": ""
             }
            },
            "type": "scatterpolargl"
           }
          ],
          "scatterternary": [
           {
            "marker": {
             "colorbar": {
              "outlinewidth": 0,
              "ticks": ""
             }
            },
            "type": "scatterternary"
           }
          ],
          "surface": [
           {
            "colorbar": {
             "outlinewidth": 0,
             "ticks": ""
            },
            "colorscale": [
             [
              0,
              "#0d0887"
             ],
             [
              0.1111111111111111,
              "#46039f"
             ],
             [
              0.2222222222222222,
              "#7201a8"
             ],
             [
              0.3333333333333333,
              "#9c179e"
             ],
             [
              0.4444444444444444,
              "#bd3786"
             ],
             [
              0.5555555555555556,
              "#d8576b"
             ],
             [
              0.6666666666666666,
              "#ed7953"
             ],
             [
              0.7777777777777778,
              "#fb9f3a"
             ],
             [
              0.8888888888888888,
              "#fdca26"
             ],
             [
              1,
              "#f0f921"
             ]
            ],
            "type": "surface"
           }
          ],
          "table": [
           {
            "cells": {
             "fill": {
              "color": "#EBF0F8"
             },
             "line": {
              "color": "white"
             }
            },
            "header": {
             "fill": {
              "color": "#C8D4E3"
             },
             "line": {
              "color": "white"
             }
            },
            "type": "table"
           }
          ]
         },
         "layout": {
          "annotationdefaults": {
           "arrowcolor": "#2a3f5f",
           "arrowhead": 0,
           "arrowwidth": 1
          },
          "autotypenumbers": "strict",
          "coloraxis": {
           "colorbar": {
            "outlinewidth": 0,
            "ticks": ""
           }
          },
          "colorscale": {
           "diverging": [
            [
             0,
             "#8e0152"
            ],
            [
             0.1,
             "#c51b7d"
            ],
            [
             0.2,
             "#de77ae"
            ],
            [
             0.3,
             "#f1b6da"
            ],
            [
             0.4,
             "#fde0ef"
            ],
            [
             0.5,
             "#f7f7f7"
            ],
            [
             0.6,
             "#e6f5d0"
            ],
            [
             0.7,
             "#b8e186"
            ],
            [
             0.8,
             "#7fbc41"
            ],
            [
             0.9,
             "#4d9221"
            ],
            [
             1,
             "#276419"
            ]
           ],
           "sequential": [
            [
             0,
             "#0d0887"
            ],
            [
             0.1111111111111111,
             "#46039f"
            ],
            [
             0.2222222222222222,
             "#7201a8"
            ],
            [
             0.3333333333333333,
             "#9c179e"
            ],
            [
             0.4444444444444444,
             "#bd3786"
            ],
            [
             0.5555555555555556,
             "#d8576b"
            ],
            [
             0.6666666666666666,
             "#ed7953"
            ],
            [
             0.7777777777777778,
             "#fb9f3a"
            ],
            [
             0.8888888888888888,
             "#fdca26"
            ],
            [
             1,
             "#f0f921"
            ]
           ],
           "sequentialminus": [
            [
             0,
             "#0d0887"
            ],
            [
             0.1111111111111111,
             "#46039f"
            ],
            [
             0.2222222222222222,
             "#7201a8"
            ],
            [
             0.3333333333333333,
             "#9c179e"
            ],
            [
             0.4444444444444444,
             "#bd3786"
            ],
            [
             0.5555555555555556,
             "#d8576b"
            ],
            [
             0.6666666666666666,
             "#ed7953"
            ],
            [
             0.7777777777777778,
             "#fb9f3a"
            ],
            [
             0.8888888888888888,
             "#fdca26"
            ],
            [
             1,
             "#f0f921"
            ]
           ]
          },
          "colorway": [
           "#636efa",
           "#EF553B",
           "#00cc96",
           "#ab63fa",
           "#FFA15A",
           "#19d3f3",
           "#FF6692",
           "#B6E880",
           "#FF97FF",
           "#FECB52"
          ],
          "font": {
           "color": "#2a3f5f"
          },
          "geo": {
           "bgcolor": "white",
           "lakecolor": "white",
           "landcolor": "#E5ECF6",
           "showlakes": true,
           "showland": true,
           "subunitcolor": "white"
          },
          "hoverlabel": {
           "align": "left"
          },
          "hovermode": "closest",
          "mapbox": {
           "style": "light"
          },
          "paper_bgcolor": "white",
          "plot_bgcolor": "#E5ECF6",
          "polar": {
           "angularaxis": {
            "gridcolor": "white",
            "linecolor": "white",
            "ticks": ""
           },
           "bgcolor": "#E5ECF6",
           "radialaxis": {
            "gridcolor": "white",
            "linecolor": "white",
            "ticks": ""
           }
          },
          "scene": {
           "xaxis": {
            "backgroundcolor": "#E5ECF6",
            "gridcolor": "white",
            "gridwidth": 2,
            "linecolor": "white",
            "showbackground": true,
            "ticks": "",
            "zerolinecolor": "white"
           },
           "yaxis": {
            "backgroundcolor": "#E5ECF6",
            "gridcolor": "white",
            "gridwidth": 2,
            "linecolor": "white",
            "showbackground": true,
            "ticks": "",
            "zerolinecolor": "white"
           },
           "zaxis": {
            "backgroundcolor": "#E5ECF6",
            "gridcolor": "white",
            "gridwidth": 2,
            "linecolor": "white",
            "showbackground": true,
            "ticks": "",
            "zerolinecolor": "white"
           }
          },
          "shapedefaults": {
           "line": {
            "color": "#2a3f5f"
           }
          },
          "ternary": {
           "aaxis": {
            "gridcolor": "white",
            "linecolor": "white",
            "ticks": ""
           },
           "baxis": {
            "gridcolor": "white",
            "linecolor": "white",
            "ticks": ""
           },
           "bgcolor": "#E5ECF6",
           "caxis": {
            "gridcolor": "white",
            "linecolor": "white",
            "ticks": ""
           }
          },
          "title": {
           "x": 0.05
          },
          "xaxis": {
           "automargin": true,
           "gridcolor": "white",
           "linecolor": "white",
           "ticks": "",
           "title": {
            "standoff": 15
           },
           "zerolinecolor": "white",
           "zerolinewidth": 2
          },
          "yaxis": {
           "automargin": true,
           "gridcolor": "white",
           "linecolor": "white",
           "ticks": "",
           "title": {
            "standoff": 15
           },
           "zerolinecolor": "white",
           "zerolinewidth": 2
          }
         }
        },
        "title": {
         "font": {
          "size": 15
         },
         "text": "<b>Price distribution of Nhà biệt thự, liền kề by district</b>"
        },
        "width": 1000,
        "xaxis": {
         "anchor": "y",
         "domain": [
          0,
          1
         ],
         "tickfont": {
          "size": 14
         },
         "title": {
          "text": "<b>Percentage</b>"
         }
        },
        "yaxis": {
         "anchor": "x",
         "domain": [
          0,
          1
         ],
         "tickfont": {
          "size": 14
         },
         "ticksuffix": " ",
         "title": {
          "text": "District"
         }
        }
       }
      }
     },
     "metadata": {},
     "output_type": "display_data"
    }
   ],
   "source": [
    "Price_distribution_of_type('Nhà biệt thự, liền kề')"
   ]
  },
  {
   "cell_type": "markdown",
   "metadata": {},
   "source": [
    "In the case of `Nhà mặt phố`, also fall within a high price range, typically `> 5 billion`. This type are considered as high-level, luxury real estate options just for some specific individuals or families seeking premium housing. The elevated prices of these property types have the strong correlation with their exclusivity, unique features. So this is not suprise for the super high price in this type."
   ]
  },
  {
   "cell_type": "markdown",
   "metadata": {},
   "source": [
    "#### **Đất bán:**"
   ]
  },
  {
   "cell_type": "code",
   "execution_count": 45,
   "metadata": {},
   "outputs": [
    {
     "data": {
      "application/vnd.plotly.v1+json": {
       "config": {
        "plotlyServerURL": "https://plot.ly"
       },
       "data": [
        {
         "alignmentgroup": "True",
         "hovertemplate": "%{text} (%) of <b>Đất bán</b> in %{y} have price in range %{fullData.name}",
         "legendgroup": "< 1 billion",
         "marker": {
          "color": "#636efa",
          "line": {
           "color": "black",
           "width": 1
          },
          "pattern": {
           "shape": ""
          }
         },
         "name": "< 1 billion",
         "offsetgroup": "< 1 billion",
         "orientation": "h",
         "showlegend": true,
         "text": [
          4.13,
          0.63,
          22.63,
          2.81,
          9.38,
          21.51,
          25.37,
          15.93,
          0.49
         ],
         "textposition": "auto",
         "type": "bar",
         "x": [
          4.13,
          0.63,
          22.63,
          2.81,
          9.38,
          21.51,
          25.37,
          15.93,
          0.49
         ],
         "xaxis": "x",
         "y": [
          "12",
          "9",
          "Bình Chánh",
          "Bình Tân",
          "Cần Giờ",
          "Củ Chi",
          "Hóc Môn",
          "Nhà Bè",
          "Thủ Đức"
         ],
         "yaxis": "y"
        },
        {
         "alignmentgroup": "True",
         "hovertemplate": "%{text} (%) of <b>Đất bán</b> in %{y} have price in range %{fullData.name}",
         "legendgroup": "1 billion - 5 billion",
         "marker": {
          "color": "#EF553B",
          "line": {
           "color": "black",
           "width": 1
          },
          "pattern": {
           "shape": ""
          }
         },
         "name": "1 billion - 5 billion",
         "offsetgroup": "1 billion - 5 billion",
         "orientation": "h",
         "showlegend": true,
         "text": [
          60.77,
          42.95,
          67.88,
          60.7,
          75,
          76.89,
          53.73,
          52.21,
          42.58
         ],
         "textposition": "auto",
         "type": "bar",
         "x": [
          60.77,
          42.95,
          67.88,
          60.7,
          75,
          76.89,
          53.73,
          52.21,
          42.58
         ],
         "xaxis": "x",
         "y": [
          "12",
          "9",
          "Bình Chánh",
          "Bình Tân",
          "Cần Giờ",
          "Củ Chi",
          "Hóc Môn",
          "Nhà Bè",
          "Thủ Đức"
         ],
         "yaxis": "y"
        },
        {
         "alignmentgroup": "True",
         "hovertemplate": "%{text} (%) of <b>Đất bán</b> in %{y} have price in range %{fullData.name}",
         "legendgroup": "5 billion - 10 billion",
         "marker": {
          "color": "#00cc96",
          "line": {
           "color": "black",
           "width": 1
          },
          "pattern": {
           "shape": ""
          }
         },
         "name": "5 billion - 10 billion",
         "offsetgroup": "5 billion - 10 billion",
         "orientation": "h",
         "showlegend": true,
         "text": [
          27.73,
          37.62,
          9.49,
          27.37,
          15.62,
          1.59,
          19.4,
          24.78,
          39.42
         ],
         "textposition": "auto",
         "type": "bar",
         "x": [
          27.73,
          37.62,
          9.49,
          27.37,
          15.62,
          1.59,
          19.4,
          24.78,
          39.42
         ],
         "xaxis": "x",
         "y": [
          "12",
          "9",
          "Bình Chánh",
          "Bình Tân",
          "Cần Giờ",
          "Củ Chi",
          "Hóc Môn",
          "Nhà Bè",
          "Thủ Đức"
         ],
         "yaxis": "y"
        },
        {
         "alignmentgroup": "True",
         "hovertemplate": "%{text} (%) of <b>Đất bán</b> in %{y} have price in range %{fullData.name}",
         "legendgroup": "10 billion - 30 billion",
         "marker": {
          "color": "#ab63fa",
          "line": {
           "color": "black",
           "width": 1
          },
          "pattern": {
           "shape": ""
          }
         },
         "name": "10 billion - 30 billion",
         "offsetgroup": "10 billion - 30 billion",
         "orientation": "h",
         "showlegend": true,
         "text": [
          7.37,
          18.81,
          8.77,
          1.49,
          7.08,
          17.03
         ],
         "textposition": "auto",
         "type": "bar",
         "x": [
          7.37,
          18.81,
          8.77,
          1.49,
          7.08,
          17.03
         ],
         "xaxis": "x",
         "y": [
          "12",
          "9",
          "Bình Tân",
          "Hóc Môn",
          "Nhà Bè",
          "Thủ Đức"
         ],
         "yaxis": "y"
        },
        {
         "alignmentgroup": "True",
         "hovertemplate": "%{text} (%) of <b>Đất bán</b> in %{y} have price in range %{fullData.name}",
         "legendgroup": "> 30 billion",
         "marker": {
          "color": "#19d3f3",
          "line": {
           "color": "black",
           "width": 1
          },
          "pattern": {
           "shape": ""
          }
         },
         "name": "> 30 billion",
         "offsetgroup": "> 30 billion",
         "orientation": "h",
         "showlegend": true,
         "text": [
          0.35,
          0.49
         ],
         "textposition": "auto",
         "type": "bar",
         "x": [
          0.35,
          0.49
         ],
         "xaxis": "x",
         "y": [
          "Bình Tân",
          "Thủ Đức"
         ],
         "yaxis": "y"
        }
       ],
       "layout": {
        "barmode": "stack",
        "height": 450,
        "legend": {
         "title": {
          "text": "<b>Price Range</b>"
         },
         "tracegroupgap": 0
        },
        "margin": {
         "b": 0,
         "l": 20,
         "r": 30,
         "t": 70
        },
        "paper_bgcolor": "#ffe6cc",
        "template": {
         "data": {
          "bar": [
           {
            "error_x": {
             "color": "#2a3f5f"
            },
            "error_y": {
             "color": "#2a3f5f"
            },
            "marker": {
             "line": {
              "color": "#E5ECF6",
              "width": 0.5
             },
             "pattern": {
              "fillmode": "overlay",
              "size": 10,
              "solidity": 0.2
             }
            },
            "type": "bar"
           }
          ],
          "barpolar": [
           {
            "marker": {
             "line": {
              "color": "#E5ECF6",
              "width": 0.5
             },
             "pattern": {
              "fillmode": "overlay",
              "size": 10,
              "solidity": 0.2
             }
            },
            "type": "barpolar"
           }
          ],
          "carpet": [
           {
            "aaxis": {
             "endlinecolor": "#2a3f5f",
             "gridcolor": "white",
             "linecolor": "white",
             "minorgridcolor": "white",
             "startlinecolor": "#2a3f5f"
            },
            "baxis": {
             "endlinecolor": "#2a3f5f",
             "gridcolor": "white",
             "linecolor": "white",
             "minorgridcolor": "white",
             "startlinecolor": "#2a3f5f"
            },
            "type": "carpet"
           }
          ],
          "choropleth": [
           {
            "colorbar": {
             "outlinewidth": 0,
             "ticks": ""
            },
            "type": "choropleth"
           }
          ],
          "contour": [
           {
            "colorbar": {
             "outlinewidth": 0,
             "ticks": ""
            },
            "colorscale": [
             [
              0,
              "#0d0887"
             ],
             [
              0.1111111111111111,
              "#46039f"
             ],
             [
              0.2222222222222222,
              "#7201a8"
             ],
             [
              0.3333333333333333,
              "#9c179e"
             ],
             [
              0.4444444444444444,
              "#bd3786"
             ],
             [
              0.5555555555555556,
              "#d8576b"
             ],
             [
              0.6666666666666666,
              "#ed7953"
             ],
             [
              0.7777777777777778,
              "#fb9f3a"
             ],
             [
              0.8888888888888888,
              "#fdca26"
             ],
             [
              1,
              "#f0f921"
             ]
            ],
            "type": "contour"
           }
          ],
          "contourcarpet": [
           {
            "colorbar": {
             "outlinewidth": 0,
             "ticks": ""
            },
            "type": "contourcarpet"
           }
          ],
          "heatmap": [
           {
            "colorbar": {
             "outlinewidth": 0,
             "ticks": ""
            },
            "colorscale": [
             [
              0,
              "#0d0887"
             ],
             [
              0.1111111111111111,
              "#46039f"
             ],
             [
              0.2222222222222222,
              "#7201a8"
             ],
             [
              0.3333333333333333,
              "#9c179e"
             ],
             [
              0.4444444444444444,
              "#bd3786"
             ],
             [
              0.5555555555555556,
              "#d8576b"
             ],
             [
              0.6666666666666666,
              "#ed7953"
             ],
             [
              0.7777777777777778,
              "#fb9f3a"
             ],
             [
              0.8888888888888888,
              "#fdca26"
             ],
             [
              1,
              "#f0f921"
             ]
            ],
            "type": "heatmap"
           }
          ],
          "heatmapgl": [
           {
            "colorbar": {
             "outlinewidth": 0,
             "ticks": ""
            },
            "colorscale": [
             [
              0,
              "#0d0887"
             ],
             [
              0.1111111111111111,
              "#46039f"
             ],
             [
              0.2222222222222222,
              "#7201a8"
             ],
             [
              0.3333333333333333,
              "#9c179e"
             ],
             [
              0.4444444444444444,
              "#bd3786"
             ],
             [
              0.5555555555555556,
              "#d8576b"
             ],
             [
              0.6666666666666666,
              "#ed7953"
             ],
             [
              0.7777777777777778,
              "#fb9f3a"
             ],
             [
              0.8888888888888888,
              "#fdca26"
             ],
             [
              1,
              "#f0f921"
             ]
            ],
            "type": "heatmapgl"
           }
          ],
          "histogram": [
           {
            "marker": {
             "pattern": {
              "fillmode": "overlay",
              "size": 10,
              "solidity": 0.2
             }
            },
            "type": "histogram"
           }
          ],
          "histogram2d": [
           {
            "colorbar": {
             "outlinewidth": 0,
             "ticks": ""
            },
            "colorscale": [
             [
              0,
              "#0d0887"
             ],
             [
              0.1111111111111111,
              "#46039f"
             ],
             [
              0.2222222222222222,
              "#7201a8"
             ],
             [
              0.3333333333333333,
              "#9c179e"
             ],
             [
              0.4444444444444444,
              "#bd3786"
             ],
             [
              0.5555555555555556,
              "#d8576b"
             ],
             [
              0.6666666666666666,
              "#ed7953"
             ],
             [
              0.7777777777777778,
              "#fb9f3a"
             ],
             [
              0.8888888888888888,
              "#fdca26"
             ],
             [
              1,
              "#f0f921"
             ]
            ],
            "type": "histogram2d"
           }
          ],
          "histogram2dcontour": [
           {
            "colorbar": {
             "outlinewidth": 0,
             "ticks": ""
            },
            "colorscale": [
             [
              0,
              "#0d0887"
             ],
             [
              0.1111111111111111,
              "#46039f"
             ],
             [
              0.2222222222222222,
              "#7201a8"
             ],
             [
              0.3333333333333333,
              "#9c179e"
             ],
             [
              0.4444444444444444,
              "#bd3786"
             ],
             [
              0.5555555555555556,
              "#d8576b"
             ],
             [
              0.6666666666666666,
              "#ed7953"
             ],
             [
              0.7777777777777778,
              "#fb9f3a"
             ],
             [
              0.8888888888888888,
              "#fdca26"
             ],
             [
              1,
              "#f0f921"
             ]
            ],
            "type": "histogram2dcontour"
           }
          ],
          "mesh3d": [
           {
            "colorbar": {
             "outlinewidth": 0,
             "ticks": ""
            },
            "type": "mesh3d"
           }
          ],
          "parcoords": [
           {
            "line": {
             "colorbar": {
              "outlinewidth": 0,
              "ticks": ""
             }
            },
            "type": "parcoords"
           }
          ],
          "pie": [
           {
            "automargin": true,
            "type": "pie"
           }
          ],
          "scatter": [
           {
            "fillpattern": {
             "fillmode": "overlay",
             "size": 10,
             "solidity": 0.2
            },
            "type": "scatter"
           }
          ],
          "scatter3d": [
           {
            "line": {
             "colorbar": {
              "outlinewidth": 0,
              "ticks": ""
             }
            },
            "marker": {
             "colorbar": {
              "outlinewidth": 0,
              "ticks": ""
             }
            },
            "type": "scatter3d"
           }
          ],
          "scattercarpet": [
           {
            "marker": {
             "colorbar": {
              "outlinewidth": 0,
              "ticks": ""
             }
            },
            "type": "scattercarpet"
           }
          ],
          "scattergeo": [
           {
            "marker": {
             "colorbar": {
              "outlinewidth": 0,
              "ticks": ""
             }
            },
            "type": "scattergeo"
           }
          ],
          "scattergl": [
           {
            "marker": {
             "colorbar": {
              "outlinewidth": 0,
              "ticks": ""
             }
            },
            "type": "scattergl"
           }
          ],
          "scattermapbox": [
           {
            "marker": {
             "colorbar": {
              "outlinewidth": 0,
              "ticks": ""
             }
            },
            "type": "scattermapbox"
           }
          ],
          "scatterpolar": [
           {
            "marker": {
             "colorbar": {
              "outlinewidth": 0,
              "ticks": ""
             }
            },
            "type": "scatterpolar"
           }
          ],
          "scatterpolargl": [
           {
            "marker": {
             "colorbar": {
              "outlinewidth": 0,
              "ticks": ""
             }
            },
            "type": "scatterpolargl"
           }
          ],
          "scatterternary": [
           {
            "marker": {
             "colorbar": {
              "outlinewidth": 0,
              "ticks": ""
             }
            },
            "type": "scatterternary"
           }
          ],
          "surface": [
           {
            "colorbar": {
             "outlinewidth": 0,
             "ticks": ""
            },
            "colorscale": [
             [
              0,
              "#0d0887"
             ],
             [
              0.1111111111111111,
              "#46039f"
             ],
             [
              0.2222222222222222,
              "#7201a8"
             ],
             [
              0.3333333333333333,
              "#9c179e"
             ],
             [
              0.4444444444444444,
              "#bd3786"
             ],
             [
              0.5555555555555556,
              "#d8576b"
             ],
             [
              0.6666666666666666,
              "#ed7953"
             ],
             [
              0.7777777777777778,
              "#fb9f3a"
             ],
             [
              0.8888888888888888,
              "#fdca26"
             ],
             [
              1,
              "#f0f921"
             ]
            ],
            "type": "surface"
           }
          ],
          "table": [
           {
            "cells": {
             "fill": {
              "color": "#EBF0F8"
             },
             "line": {
              "color": "white"
             }
            },
            "header": {
             "fill": {
              "color": "#C8D4E3"
             },
             "line": {
              "color": "white"
             }
            },
            "type": "table"
           }
          ]
         },
         "layout": {
          "annotationdefaults": {
           "arrowcolor": "#2a3f5f",
           "arrowhead": 0,
           "arrowwidth": 1
          },
          "autotypenumbers": "strict",
          "coloraxis": {
           "colorbar": {
            "outlinewidth": 0,
            "ticks": ""
           }
          },
          "colorscale": {
           "diverging": [
            [
             0,
             "#8e0152"
            ],
            [
             0.1,
             "#c51b7d"
            ],
            [
             0.2,
             "#de77ae"
            ],
            [
             0.3,
             "#f1b6da"
            ],
            [
             0.4,
             "#fde0ef"
            ],
            [
             0.5,
             "#f7f7f7"
            ],
            [
             0.6,
             "#e6f5d0"
            ],
            [
             0.7,
             "#b8e186"
            ],
            [
             0.8,
             "#7fbc41"
            ],
            [
             0.9,
             "#4d9221"
            ],
            [
             1,
             "#276419"
            ]
           ],
           "sequential": [
            [
             0,
             "#0d0887"
            ],
            [
             0.1111111111111111,
             "#46039f"
            ],
            [
             0.2222222222222222,
             "#7201a8"
            ],
            [
             0.3333333333333333,
             "#9c179e"
            ],
            [
             0.4444444444444444,
             "#bd3786"
            ],
            [
             0.5555555555555556,
             "#d8576b"
            ],
            [
             0.6666666666666666,
             "#ed7953"
            ],
            [
             0.7777777777777778,
             "#fb9f3a"
            ],
            [
             0.8888888888888888,
             "#fdca26"
            ],
            [
             1,
             "#f0f921"
            ]
           ],
           "sequentialminus": [
            [
             0,
             "#0d0887"
            ],
            [
             0.1111111111111111,
             "#46039f"
            ],
            [
             0.2222222222222222,
             "#7201a8"
            ],
            [
             0.3333333333333333,
             "#9c179e"
            ],
            [
             0.4444444444444444,
             "#bd3786"
            ],
            [
             0.5555555555555556,
             "#d8576b"
            ],
            [
             0.6666666666666666,
             "#ed7953"
            ],
            [
             0.7777777777777778,
             "#fb9f3a"
            ],
            [
             0.8888888888888888,
             "#fdca26"
            ],
            [
             1,
             "#f0f921"
            ]
           ]
          },
          "colorway": [
           "#636efa",
           "#EF553B",
           "#00cc96",
           "#ab63fa",
           "#FFA15A",
           "#19d3f3",
           "#FF6692",
           "#B6E880",
           "#FF97FF",
           "#FECB52"
          ],
          "font": {
           "color": "#2a3f5f"
          },
          "geo": {
           "bgcolor": "white",
           "lakecolor": "white",
           "landcolor": "#E5ECF6",
           "showlakes": true,
           "showland": true,
           "subunitcolor": "white"
          },
          "hoverlabel": {
           "align": "left"
          },
          "hovermode": "closest",
          "mapbox": {
           "style": "light"
          },
          "paper_bgcolor": "white",
          "plot_bgcolor": "#E5ECF6",
          "polar": {
           "angularaxis": {
            "gridcolor": "white",
            "linecolor": "white",
            "ticks": ""
           },
           "bgcolor": "#E5ECF6",
           "radialaxis": {
            "gridcolor": "white",
            "linecolor": "white",
            "ticks": ""
           }
          },
          "scene": {
           "xaxis": {
            "backgroundcolor": "#E5ECF6",
            "gridcolor": "white",
            "gridwidth": 2,
            "linecolor": "white",
            "showbackground": true,
            "ticks": "",
            "zerolinecolor": "white"
           },
           "yaxis": {
            "backgroundcolor": "#E5ECF6",
            "gridcolor": "white",
            "gridwidth": 2,
            "linecolor": "white",
            "showbackground": true,
            "ticks": "",
            "zerolinecolor": "white"
           },
           "zaxis": {
            "backgroundcolor": "#E5ECF6",
            "gridcolor": "white",
            "gridwidth": 2,
            "linecolor": "white",
            "showbackground": true,
            "ticks": "",
            "zerolinecolor": "white"
           }
          },
          "shapedefaults": {
           "line": {
            "color": "#2a3f5f"
           }
          },
          "ternary": {
           "aaxis": {
            "gridcolor": "white",
            "linecolor": "white",
            "ticks": ""
           },
           "baxis": {
            "gridcolor": "white",
            "linecolor": "white",
            "ticks": ""
           },
           "bgcolor": "#E5ECF6",
           "caxis": {
            "gridcolor": "white",
            "linecolor": "white",
            "ticks": ""
           }
          },
          "title": {
           "x": 0.05
          },
          "xaxis": {
           "automargin": true,
           "gridcolor": "white",
           "linecolor": "white",
           "ticks": "",
           "title": {
            "standoff": 15
           },
           "zerolinecolor": "white",
           "zerolinewidth": 2
          },
          "yaxis": {
           "automargin": true,
           "gridcolor": "white",
           "linecolor": "white",
           "ticks": "",
           "title": {
            "standoff": 15
           },
           "zerolinecolor": "white",
           "zerolinewidth": 2
          }
         }
        },
        "title": {
         "font": {
          "size": 15
         },
         "text": "<b>Price distribution of Đất bán by district</b>"
        },
        "width": 1000,
        "xaxis": {
         "anchor": "y",
         "domain": [
          0,
          1
         ],
         "tickfont": {
          "size": 14
         },
         "title": {
          "text": "<b>Percentage</b>"
         }
        },
        "yaxis": {
         "anchor": "x",
         "domain": [
          0,
          1
         ],
         "tickfont": {
          "size": 14
         },
         "ticksuffix": " ",
         "title": {
          "text": "District"
         }
        }
       }
      }
     },
     "metadata": {},
     "output_type": "display_data"
    }
   ],
   "source": [
    "Price_distribution_of_type('Đất bán')"
   ]
  },
  {
   "cell_type": "markdown",
   "metadata": {},
   "source": [
    "With `Đất bán`, we can easily recognize that `Củ Chi` can be the district that have better price than others."
   ]
  },
  {
   "cell_type": "markdown",
   "metadata": {},
   "source": [
    "#### **Đất nền dự án:**"
   ]
  },
  {
   "cell_type": "code",
   "execution_count": 46,
   "metadata": {},
   "outputs": [
    {
     "data": {
      "application/vnd.plotly.v1+json": {
       "config": {
        "plotlyServerURL": "https://plot.ly"
       },
       "data": [
        {
         "alignmentgroup": "True",
         "hovertemplate": "%{text} (%) of <b>Đất nền dự án</b> in %{y} have price in range %{fullData.name}",
         "legendgroup": "< 1 billion",
         "marker": {
          "color": "#636efa",
          "line": {
           "color": "black",
           "width": 1
          },
          "pattern": {
           "shape": ""
          }
         },
         "name": "< 1 billion",
         "offsetgroup": "< 1 billion",
         "orientation": "h",
         "showlegend": true,
         "text": [
          0.48
         ],
         "textposition": "auto",
         "type": "bar",
         "x": [
          0.48
         ],
         "xaxis": "x",
         "y": [
          "9"
         ],
         "yaxis": "y"
        },
        {
         "alignmentgroup": "True",
         "hovertemplate": "%{text} (%) of <b>Đất nền dự án</b> in %{y} have price in range %{fullData.name}",
         "legendgroup": "1 billion - 5 billion",
         "marker": {
          "color": "#EF553B",
          "line": {
           "color": "black",
           "width": 1
          },
          "pattern": {
           "shape": ""
          }
         },
         "name": "1 billion - 5 billion",
         "offsetgroup": "1 billion - 5 billion",
         "orientation": "h",
         "showlegend": true,
         "text": [
          23.28,
          33.33,
          42.19
         ],
         "textposition": "auto",
         "type": "bar",
         "x": [
          23.28,
          33.33,
          42.19
         ],
         "xaxis": "x",
         "y": [
          "9",
          "Bình Chánh",
          "Nhà Bè"
         ],
         "yaxis": "y"
        },
        {
         "alignmentgroup": "True",
         "hovertemplate": "%{text} (%) of <b>Đất nền dự án</b> in %{y} have price in range %{fullData.name}",
         "legendgroup": "5 billion - 10 billion",
         "marker": {
          "color": "#00cc96",
          "line": {
           "color": "black",
           "width": 1
          },
          "pattern": {
           "shape": ""
          }
         },
         "name": "5 billion - 10 billion",
         "offsetgroup": "5 billion - 10 billion",
         "orientation": "h",
         "showlegend": true,
         "text": [
          46.79,
          51.72,
          44.27
         ],
         "textposition": "auto",
         "type": "bar",
         "x": [
          46.79,
          51.72,
          44.27
         ],
         "xaxis": "x",
         "y": [
          "9",
          "Bình Chánh",
          "Nhà Bè"
         ],
         "yaxis": "y"
        },
        {
         "alignmentgroup": "True",
         "hovertemplate": "%{text} (%) of <b>Đất nền dự án</b> in %{y} have price in range %{fullData.name}",
         "legendgroup": "10 billion - 30 billion",
         "marker": {
          "color": "#ab63fa",
          "line": {
           "color": "black",
           "width": 1
          },
          "pattern": {
           "shape": ""
          }
         },
         "name": "10 billion - 30 billion",
         "offsetgroup": "10 billion - 30 billion",
         "orientation": "h",
         "showlegend": true,
         "text": [
          29.45,
          14.94,
          13.54
         ],
         "textposition": "auto",
         "type": "bar",
         "x": [
          29.45,
          14.94,
          13.54
         ],
         "xaxis": "x",
         "y": [
          "9",
          "Bình Chánh",
          "Nhà Bè"
         ],
         "yaxis": "y"
        }
       ],
       "layout": {
        "barmode": "stack",
        "height": 300,
        "legend": {
         "orientation": "h",
         "title": {
          "text": "<b>Price Range</b>"
         },
         "tracegroupgap": 0,
         "x": 1,
         "xanchor": "right",
         "y": 1,
         "yanchor": "bottom"
        },
        "margin": {
         "b": 0,
         "l": 20,
         "r": 30,
         "t": 90
        },
        "paper_bgcolor": "#ffe6cc",
        "template": {
         "data": {
          "bar": [
           {
            "error_x": {
             "color": "#2a3f5f"
            },
            "error_y": {
             "color": "#2a3f5f"
            },
            "marker": {
             "line": {
              "color": "#E5ECF6",
              "width": 0.5
             },
             "pattern": {
              "fillmode": "overlay",
              "size": 10,
              "solidity": 0.2
             }
            },
            "type": "bar"
           }
          ],
          "barpolar": [
           {
            "marker": {
             "line": {
              "color": "#E5ECF6",
              "width": 0.5
             },
             "pattern": {
              "fillmode": "overlay",
              "size": 10,
              "solidity": 0.2
             }
            },
            "type": "barpolar"
           }
          ],
          "carpet": [
           {
            "aaxis": {
             "endlinecolor": "#2a3f5f",
             "gridcolor": "white",
             "linecolor": "white",
             "minorgridcolor": "white",
             "startlinecolor": "#2a3f5f"
            },
            "baxis": {
             "endlinecolor": "#2a3f5f",
             "gridcolor": "white",
             "linecolor": "white",
             "minorgridcolor": "white",
             "startlinecolor": "#2a3f5f"
            },
            "type": "carpet"
           }
          ],
          "choropleth": [
           {
            "colorbar": {
             "outlinewidth": 0,
             "ticks": ""
            },
            "type": "choropleth"
           }
          ],
          "contour": [
           {
            "colorbar": {
             "outlinewidth": 0,
             "ticks": ""
            },
            "colorscale": [
             [
              0,
              "#0d0887"
             ],
             [
              0.1111111111111111,
              "#46039f"
             ],
             [
              0.2222222222222222,
              "#7201a8"
             ],
             [
              0.3333333333333333,
              "#9c179e"
             ],
             [
              0.4444444444444444,
              "#bd3786"
             ],
             [
              0.5555555555555556,
              "#d8576b"
             ],
             [
              0.6666666666666666,
              "#ed7953"
             ],
             [
              0.7777777777777778,
              "#fb9f3a"
             ],
             [
              0.8888888888888888,
              "#fdca26"
             ],
             [
              1,
              "#f0f921"
             ]
            ],
            "type": "contour"
           }
          ],
          "contourcarpet": [
           {
            "colorbar": {
             "outlinewidth": 0,
             "ticks": ""
            },
            "type": "contourcarpet"
           }
          ],
          "heatmap": [
           {
            "colorbar": {
             "outlinewidth": 0,
             "ticks": ""
            },
            "colorscale": [
             [
              0,
              "#0d0887"
             ],
             [
              0.1111111111111111,
              "#46039f"
             ],
             [
              0.2222222222222222,
              "#7201a8"
             ],
             [
              0.3333333333333333,
              "#9c179e"
             ],
             [
              0.4444444444444444,
              "#bd3786"
             ],
             [
              0.5555555555555556,
              "#d8576b"
             ],
             [
              0.6666666666666666,
              "#ed7953"
             ],
             [
              0.7777777777777778,
              "#fb9f3a"
             ],
             [
              0.8888888888888888,
              "#fdca26"
             ],
             [
              1,
              "#f0f921"
             ]
            ],
            "type": "heatmap"
           }
          ],
          "heatmapgl": [
           {
            "colorbar": {
             "outlinewidth": 0,
             "ticks": ""
            },
            "colorscale": [
             [
              0,
              "#0d0887"
             ],
             [
              0.1111111111111111,
              "#46039f"
             ],
             [
              0.2222222222222222,
              "#7201a8"
             ],
             [
              0.3333333333333333,
              "#9c179e"
             ],
             [
              0.4444444444444444,
              "#bd3786"
             ],
             [
              0.5555555555555556,
              "#d8576b"
             ],
             [
              0.6666666666666666,
              "#ed7953"
             ],
             [
              0.7777777777777778,
              "#fb9f3a"
             ],
             [
              0.8888888888888888,
              "#fdca26"
             ],
             [
              1,
              "#f0f921"
             ]
            ],
            "type": "heatmapgl"
           }
          ],
          "histogram": [
           {
            "marker": {
             "pattern": {
              "fillmode": "overlay",
              "size": 10,
              "solidity": 0.2
             }
            },
            "type": "histogram"
           }
          ],
          "histogram2d": [
           {
            "colorbar": {
             "outlinewidth": 0,
             "ticks": ""
            },
            "colorscale": [
             [
              0,
              "#0d0887"
             ],
             [
              0.1111111111111111,
              "#46039f"
             ],
             [
              0.2222222222222222,
              "#7201a8"
             ],
             [
              0.3333333333333333,
              "#9c179e"
             ],
             [
              0.4444444444444444,
              "#bd3786"
             ],
             [
              0.5555555555555556,
              "#d8576b"
             ],
             [
              0.6666666666666666,
              "#ed7953"
             ],
             [
              0.7777777777777778,
              "#fb9f3a"
             ],
             [
              0.8888888888888888,
              "#fdca26"
             ],
             [
              1,
              "#f0f921"
             ]
            ],
            "type": "histogram2d"
           }
          ],
          "histogram2dcontour": [
           {
            "colorbar": {
             "outlinewidth": 0,
             "ticks": ""
            },
            "colorscale": [
             [
              0,
              "#0d0887"
             ],
             [
              0.1111111111111111,
              "#46039f"
             ],
             [
              0.2222222222222222,
              "#7201a8"
             ],
             [
              0.3333333333333333,
              "#9c179e"
             ],
             [
              0.4444444444444444,
              "#bd3786"
             ],
             [
              0.5555555555555556,
              "#d8576b"
             ],
             [
              0.6666666666666666,
              "#ed7953"
             ],
             [
              0.7777777777777778,
              "#fb9f3a"
             ],
             [
              0.8888888888888888,
              "#fdca26"
             ],
             [
              1,
              "#f0f921"
             ]
            ],
            "type": "histogram2dcontour"
           }
          ],
          "mesh3d": [
           {
            "colorbar": {
             "outlinewidth": 0,
             "ticks": ""
            },
            "type": "mesh3d"
           }
          ],
          "parcoords": [
           {
            "line": {
             "colorbar": {
              "outlinewidth": 0,
              "ticks": ""
             }
            },
            "type": "parcoords"
           }
          ],
          "pie": [
           {
            "automargin": true,
            "type": "pie"
           }
          ],
          "scatter": [
           {
            "fillpattern": {
             "fillmode": "overlay",
             "size": 10,
             "solidity": 0.2
            },
            "type": "scatter"
           }
          ],
          "scatter3d": [
           {
            "line": {
             "colorbar": {
              "outlinewidth": 0,
              "ticks": ""
             }
            },
            "marker": {
             "colorbar": {
              "outlinewidth": 0,
              "ticks": ""
             }
            },
            "type": "scatter3d"
           }
          ],
          "scattercarpet": [
           {
            "marker": {
             "colorbar": {
              "outlinewidth": 0,
              "ticks": ""
             }
            },
            "type": "scattercarpet"
           }
          ],
          "scattergeo": [
           {
            "marker": {
             "colorbar": {
              "outlinewidth": 0,
              "ticks": ""
             }
            },
            "type": "scattergeo"
           }
          ],
          "scattergl": [
           {
            "marker": {
             "colorbar": {
              "outlinewidth": 0,
              "ticks": ""
             }
            },
            "type": "scattergl"
           }
          ],
          "scattermapbox": [
           {
            "marker": {
             "colorbar": {
              "outlinewidth": 0,
              "ticks": ""
             }
            },
            "type": "scattermapbox"
           }
          ],
          "scatterpolar": [
           {
            "marker": {
             "colorbar": {
              "outlinewidth": 0,
              "ticks": ""
             }
            },
            "type": "scatterpolar"
           }
          ],
          "scatterpolargl": [
           {
            "marker": {
             "colorbar": {
              "outlinewidth": 0,
              "ticks": ""
             }
            },
            "type": "scatterpolargl"
           }
          ],
          "scatterternary": [
           {
            "marker": {
             "colorbar": {
              "outlinewidth": 0,
              "ticks": ""
             }
            },
            "type": "scatterternary"
           }
          ],
          "surface": [
           {
            "colorbar": {
             "outlinewidth": 0,
             "ticks": ""
            },
            "colorscale": [
             [
              0,
              "#0d0887"
             ],
             [
              0.1111111111111111,
              "#46039f"
             ],
             [
              0.2222222222222222,
              "#7201a8"
             ],
             [
              0.3333333333333333,
              "#9c179e"
             ],
             [
              0.4444444444444444,
              "#bd3786"
             ],
             [
              0.5555555555555556,
              "#d8576b"
             ],
             [
              0.6666666666666666,
              "#ed7953"
             ],
             [
              0.7777777777777778,
              "#fb9f3a"
             ],
             [
              0.8888888888888888,
              "#fdca26"
             ],
             [
              1,
              "#f0f921"
             ]
            ],
            "type": "surface"
           }
          ],
          "table": [
           {
            "cells": {
             "fill": {
              "color": "#EBF0F8"
             },
             "line": {
              "color": "white"
             }
            },
            "header": {
             "fill": {
              "color": "#C8D4E3"
             },
             "line": {
              "color": "white"
             }
            },
            "type": "table"
           }
          ]
         },
         "layout": {
          "annotationdefaults": {
           "arrowcolor": "#2a3f5f",
           "arrowhead": 0,
           "arrowwidth": 1
          },
          "autotypenumbers": "strict",
          "coloraxis": {
           "colorbar": {
            "outlinewidth": 0,
            "ticks": ""
           }
          },
          "colorscale": {
           "diverging": [
            [
             0,
             "#8e0152"
            ],
            [
             0.1,
             "#c51b7d"
            ],
            [
             0.2,
             "#de77ae"
            ],
            [
             0.3,
             "#f1b6da"
            ],
            [
             0.4,
             "#fde0ef"
            ],
            [
             0.5,
             "#f7f7f7"
            ],
            [
             0.6,
             "#e6f5d0"
            ],
            [
             0.7,
             "#b8e186"
            ],
            [
             0.8,
             "#7fbc41"
            ],
            [
             0.9,
             "#4d9221"
            ],
            [
             1,
             "#276419"
            ]
           ],
           "sequential": [
            [
             0,
             "#0d0887"
            ],
            [
             0.1111111111111111,
             "#46039f"
            ],
            [
             0.2222222222222222,
             "#7201a8"
            ],
            [
             0.3333333333333333,
             "#9c179e"
            ],
            [
             0.4444444444444444,
             "#bd3786"
            ],
            [
             0.5555555555555556,
             "#d8576b"
            ],
            [
             0.6666666666666666,
             "#ed7953"
            ],
            [
             0.7777777777777778,
             "#fb9f3a"
            ],
            [
             0.8888888888888888,
             "#fdca26"
            ],
            [
             1,
             "#f0f921"
            ]
           ],
           "sequentialminus": [
            [
             0,
             "#0d0887"
            ],
            [
             0.1111111111111111,
             "#46039f"
            ],
            [
             0.2222222222222222,
             "#7201a8"
            ],
            [
             0.3333333333333333,
             "#9c179e"
            ],
            [
             0.4444444444444444,
             "#bd3786"
            ],
            [
             0.5555555555555556,
             "#d8576b"
            ],
            [
             0.6666666666666666,
             "#ed7953"
            ],
            [
             0.7777777777777778,
             "#fb9f3a"
            ],
            [
             0.8888888888888888,
             "#fdca26"
            ],
            [
             1,
             "#f0f921"
            ]
           ]
          },
          "colorway": [
           "#636efa",
           "#EF553B",
           "#00cc96",
           "#ab63fa",
           "#FFA15A",
           "#19d3f3",
           "#FF6692",
           "#B6E880",
           "#FF97FF",
           "#FECB52"
          ],
          "font": {
           "color": "#2a3f5f"
          },
          "geo": {
           "bgcolor": "white",
           "lakecolor": "white",
           "landcolor": "#E5ECF6",
           "showlakes": true,
           "showland": true,
           "subunitcolor": "white"
          },
          "hoverlabel": {
           "align": "left"
          },
          "hovermode": "closest",
          "mapbox": {
           "style": "light"
          },
          "paper_bgcolor": "white",
          "plot_bgcolor": "#E5ECF6",
          "polar": {
           "angularaxis": {
            "gridcolor": "white",
            "linecolor": "white",
            "ticks": ""
           },
           "bgcolor": "#E5ECF6",
           "radialaxis": {
            "gridcolor": "white",
            "linecolor": "white",
            "ticks": ""
           }
          },
          "scene": {
           "xaxis": {
            "backgroundcolor": "#E5ECF6",
            "gridcolor": "white",
            "gridwidth": 2,
            "linecolor": "white",
            "showbackground": true,
            "ticks": "",
            "zerolinecolor": "white"
           },
           "yaxis": {
            "backgroundcolor": "#E5ECF6",
            "gridcolor": "white",
            "gridwidth": 2,
            "linecolor": "white",
            "showbackground": true,
            "ticks": "",
            "zerolinecolor": "white"
           },
           "zaxis": {
            "backgroundcolor": "#E5ECF6",
            "gridcolor": "white",
            "gridwidth": 2,
            "linecolor": "white",
            "showbackground": true,
            "ticks": "",
            "zerolinecolor": "white"
           }
          },
          "shapedefaults": {
           "line": {
            "color": "#2a3f5f"
           }
          },
          "ternary": {
           "aaxis": {
            "gridcolor": "white",
            "linecolor": "white",
            "ticks": ""
           },
           "baxis": {
            "gridcolor": "white",
            "linecolor": "white",
            "ticks": ""
           },
           "bgcolor": "#E5ECF6",
           "caxis": {
            "gridcolor": "white",
            "linecolor": "white",
            "ticks": ""
           }
          },
          "title": {
           "x": 0.05
          },
          "xaxis": {
           "automargin": true,
           "gridcolor": "white",
           "linecolor": "white",
           "ticks": "",
           "title": {
            "standoff": 15
           },
           "zerolinecolor": "white",
           "zerolinewidth": 2
          },
          "yaxis": {
           "automargin": true,
           "gridcolor": "white",
           "linecolor": "white",
           "ticks": "",
           "title": {
            "standoff": 15
           },
           "zerolinecolor": "white",
           "zerolinewidth": 2
          }
         }
        },
        "title": {
         "font": {
          "size": 15
         },
         "text": "<b>Price distribution of Đất nền dự án by district</b>"
        },
        "width": 1000,
        "xaxis": {
         "anchor": "y",
         "domain": [
          0,
          1
         ],
         "tickfont": {
          "size": 14
         },
         "title": {
          "text": "<b>Percentage</b>"
         }
        },
        "yaxis": {
         "anchor": "x",
         "domain": [
          0,
          1
         ],
         "tickfont": {
          "size": 14
         },
         "ticksuffix": " ",
         "title": {
          "text": "District"
         }
        }
       }
      }
     },
     "metadata": {},
     "output_type": "display_data"
    }
   ],
   "source": [
    "Price_distribution_of_type('Đất nền dự án')"
   ]
  },
  {
   "cell_type": "markdown",
   "metadata": {},
   "source": [
    "`Nhà Bè` is the district that have good price than others."
   ]
  },
  {
   "cell_type": "markdown",
   "metadata": {},
   "source": [
    "**Conclusion:**\n",
    "Overall, there is differences between the price's distribution for each type of real estate:\n",
    "\n",
    "- While there are more diffrences of price among districts in `Nhà riêng` and `Căn hộ chung cư`, the others types share the same trend in the `Price`. The reason here is the total number of `Nhà riêng` and `Căn hộ chung cư` sample that we collected is much more than other types, and account for most of samples in the dataset. Because of that, there will be a wider range of the features and attributes that can be found in the dataset. As a result, the price distribution within these types shows greater variability and abundance of options among different districts.\n"
   ]
  },
  {
   "cell_type": "markdown",
   "metadata": {},
   "source": [
    "### **2.4 Question 03: Which factors will affect to the the price of each real estate type, which is the relationship between the price and other factors?**\n",
    "\n",
    "Now, we will take a look about the relationship of price of each real estate type with other columns. But before that, in the price column have many price is `Thỏa thuận`. In this analysis, we just consider the real estate that have speccific price. Therefore, we will extract all the price which is not `Thỏa thuận` first."
   ]
  },
  {
   "cell_type": "code",
   "execution_count": 47,
   "metadata": {},
   "outputs": [],
   "source": [
    "real_estate_price = real_estate_for_sale_df.copy()"
   ]
  },
  {
   "cell_type": "markdown",
   "metadata": {},
   "source": [
    "Now, let's group the `real_estate_price` by the type, then extract the each type to a new dataframe."
   ]
  },
  {
   "cell_type": "code",
   "execution_count": 48,
   "metadata": {},
   "outputs": [
    {
     "data": {
      "text/plain": [
       "Type\n",
       "Nhà riêng                15232\n",
       "Căn hộ chung cư          12928\n",
       "Nhà mặt phố               7314\n",
       "Đất bán                   4476\n",
       "Nhà biệt thự, liền kề     2188\n",
       "Đất nền dự án             1698\n",
       "Name: count, dtype: int64"
      ]
     },
     "execution_count": 48,
     "metadata": {},
     "output_type": "execute_result"
    }
   ],
   "source": [
    "real_estate_price['Type'].value_counts()"
   ]
  },
  {
   "cell_type": "markdown",
   "metadata": {},
   "source": [
    "\n",
    "Now, let's consider the correlation between each factor to the price.\n",
    "- To get the correlation between columns in the dataframe, we will use the correlation matrix. But before that we have to normalize the dataframe.:\n",
    "    - With numerical column, we can use it directly\n",
    "    - But with categorical columns like `Furniture`, `Legal`, `District`, we have to convert them into numerical datatype."
   ]
  },
  {
   "cell_type": "markdown",
   "metadata": {},
   "source": [
    "First, for each type of real estate, create a new dataframe for each type."
   ]
  },
  {
   "cell_type": "code",
   "execution_count": 49,
   "metadata": {},
   "outputs": [],
   "source": [
    "unique_types = ['Nhà riêng', 'Nhà mặt phố', 'Căn hộ chung cư', 'Nhà biệt thự, liền kề', 'Đất bán', 'Đất nền dự án']\n",
    "real_estate_df_by_type = {}\n",
    "\n",
    "for house_type in unique_types:\n",
    "\n",
    "    current_type_df = real_estate_price[real_estate_price['Type'] == house_type].copy().reset_index()\n",
    "    current_type_df = current_type_df.drop(columns=['index'])\n",
    "    \n",
    "    real_estate_df_by_type[house_type] = current_type_df\n"
   ]
  },
  {
   "cell_type": "markdown",
   "metadata": {},
   "source": [
    "Now, for each type, let's see some statistical values of them. \n",
    "\n",
    "As we discuss before, the type `Đất bán`, `Đất nền dự án` will not have the column `Bedroom(Phòng)`, `Toilet(Phòng)`, `Floor(Tầng)`, `Furniture`, so let's drop them first"
   ]
  },
  {
   "cell_type": "code",
   "execution_count": 50,
   "metadata": {},
   "outputs": [
    {
     "data": {
      "text/plain": [
       "Legal\n",
       "Sổ đỏ và sổ hồng      10528\n",
       "Không có thông tin     3604\n",
       "Sổ hồng                 857\n",
       "Khác                    100\n",
       "Hợp đồng mua bán         78\n",
       "Sổ đỏ                    50\n",
       "Đang chờ sổ              15\n",
       "Name: count, dtype: int64"
      ]
     },
     "execution_count": 50,
     "metadata": {},
     "output_type": "execute_result"
    }
   ],
   "source": [
    "real_estate_df_by_type['Đất bán'].drop(columns = ['Bedroom(Phòng)', 'Toilet(Phòng)', 'Floor(Tầng)', 'Furniture'], inplace = True)\n",
    "real_estate_df_by_type['Đất nền dự án'].drop(columns = ['Bedroom(Phòng)', 'Toilet(Phòng)', 'Floor(Tầng)', 'Furniture'], inplace = True)\n",
    "\n",
    "real_estate_df_by_type['Nhà riêng']['Legal'].value_counts()"
   ]
  },
  {
   "cell_type": "markdown",
   "metadata": {},
   "source": [
    "Okay, now with each type, let's convert the categorical column to numerical column. I will use `Scikit learn` library for this convert"
   ]
  },
  {
   "cell_type": "code",
   "execution_count": 51,
   "metadata": {},
   "outputs": [],
   "source": [
    "ordinal_encoder = OrdinalEncoder()\n",
    "\n",
    "columns_to_encode1 = ['District', 'Furniture', 'Legal']\n",
    "columns_to_encode2 = ['District', 'Legal']\n",
    "\n",
    "furniture_order = ['Không có thông tin', 'Khác', 'Không nội thất', 'Nội thất cơ bản', 'Nội thất đầy đủ', 'Nội thất sang trọng']\n",
    "legal_order = ['Không có thông tin', 'Khác', 'Đang chờ sổ', 'Hợp đồng mua bán', 'Sổ hồng', 'Sổ đỏ', 'Sổ đỏ và sổ hồng']\n",
    "\n",
    "ordinal_encoder.categories_ = [None, furniture_order, legal_order]\n",
    "\n",
    "for house_type, df in real_estate_df_by_type.items():\n",
    "    if house_type in ('Đất bán', 'Đất nền dự án'):\n",
    "        for column in columns_to_encode2:\n",
    "            encoded_column = ordinal_encoder.fit_transform(df[[column]])\n",
    "            df[column] = encoded_column\n",
    "    else:\n",
    "        for column in columns_to_encode1:\n",
    "            encoded_column = ordinal_encoder.fit_transform(df[[column]])\n",
    "            df[column] = encoded_column\n",
    "    real_estate_df_by_type[house_type] = df\n"
   ]
  },
  {
   "cell_type": "markdown",
   "metadata": {},
   "source": [
    "Now, we can find the correlation between each factor for each type of real estate. We will use heat map to visualize the result."
   ]
  },
  {
   "cell_type": "code",
   "execution_count": 52,
   "metadata": {},
   "outputs": [
    {
     "data": {
      "image/png": "[encoded data removed]",
      "text/plain": [
       "<Figure size 3000x1500 with 12 Axes>"
      ]
     },
     "metadata": {},
     "output_type": "display_data"
    }
   ],
   "source": [
    "columns_to_correlate1 = ['Price(VNĐ)', 'Area(m2)', 'Bedroom(Phòng)', 'Toilet(Phòng)', 'Floor(Tầng)', 'District', 'Furniture', 'Legal']\n",
    "columns_to_correlate2 = ['Price(VNĐ)', 'Area(m2)', 'District', 'Legal']\n",
    "\n",
    "fig, axes = plt.subplots(nrows=2, ncols=3, figsize=(30, 15))\n",
    "\n",
    "sns.set()\n",
    "i = 0\n",
    "for type in real_estate_df_by_type:\n",
    "    if type in ('Đất bán', 'Đất nền dự án'):\n",
    "        correlation_matrix = real_estate_df_by_type[type][columns_to_correlate2].corr()\n",
    "    else:\n",
    "        correlation_matrix = real_estate_df_by_type[type][columns_to_correlate1].corr()\n",
    "    ax = axes[i//3, i%3]\n",
    "    \n",
    "    mask = np.triu(np.ones_like(correlation_matrix, dtype=bool))\n",
    "    sns.heatmap(correlation_matrix, annot=True, cmap='coolwarm', square=True, vmin=-1, vmax=1, ax= ax, mask= mask)\n",
    "    ax.set_title(f'Correlation Heatmap of {type}', fontsize = '14', fontweight = 'bold', pad = 10)\n",
    "    i += 1\n",
    "\n",
    "plt.subplots_adjust(wspace=0.15, hspace=0.4)\n",
    "fig = plt.gcf()\n",
    "fig.set_facecolor('#ffe6cc')\n",
    "plt.show()"
   ]
  },
  {
   "cell_type": "markdown",
   "metadata": {},
   "source": [
    "By these heat map, we can see that: \n",
    "\n",
    "- With type `Nhà riêng`, `Căn hộ chung cư`:\n",
    "\n",
    "    - The correlation is quite similar, with a strong correlation between the `Price` with `Area`, `Bedroom`,` Toilet`. That indicates that the these factors is the important criterian for a person to determine the price of the real estate.\n",
    "\n",
    "    - The difference here is the `Floor`, while there is a high correlation with `Price` of `Nhà riêng`, the correlation in `Căn hộ chung cư` is quite low. The reason here is that the meaning of `Floor` in `Chung cư` have the different meaning with other. The floor here is the floor that this apartment located, not number of floor like other types.\n",
    "\n",
    "    - There is the low correlation between the `Price` with `District`, `Legal`, `Furniture`. It means `District`, `Legal`, `Furniture` are not affect the `Price` much.\n",
    "\n",
    "- Beside that, with `Nhà mặt phố`, just show that the correlation between `Price` with other factors is not very high. Some notable factors are `Area` and `Floor`.\n",
    "\n",
    "- With `Đất bán ` and `Đất nền dự án`, both of them have the strong correlation between the `Price` with `Area`, negative correlation between `Price` and `District`\n",
    "\n",
    "Overall, we can see that for all types of real eastate, there are a good correlation between the `Price` with `Area`, `Bedroom`, `Toilet`, `Floor` for just types that is not `Căn hộ chung cư`. Also, there is a low relationship with `District`, `Furniture` and `Legal`, show that these factor not affect so much to the `Price` of a real estate.\n",
    "\n",
    "Anyway, The realationship between `Price` with other factors are different between each type of real estate."
   ]
  }
 ],
 "metadata": {
  "kernelspec": {
   "display_name": "Python 3",
   "language": "python",
   "name": "python3"
  },
  "language_info": {
   "codemirror_mode": {
    "name": "ipython",
    "version": 3
   },
   "file_extension": ".py",
   "mimetype": "text/x-python",
   "name": "python",
   "nbconvert_exporter": "python",
   "pygments_lexer": "ipython3",
   "version": "3.11.4"
  }
 },
 "nbformat": 4,
 "nbformat_minor": 2
}
