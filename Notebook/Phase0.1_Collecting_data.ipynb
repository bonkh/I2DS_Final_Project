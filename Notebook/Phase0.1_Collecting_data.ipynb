{
 "cells": [
  {
   "cell_type": "markdown",
   "metadata": {},
   "source": [
    "<div style = \"text_algin: center; font-size: 40px; font-weight: bold\">\n",
    "Phase 01: Collecting data\n",
    "</div>"
   ]
  },
  {
   "cell_type": "markdown",
   "metadata": {},
   "source": [
    "## Import necessary Python modules"
   ]
  },
  {
   "cell_type": "code",
   "execution_count": 1,
   "metadata": {},
   "outputs": [],
   "source": [
    "import requests\n",
    "import numpy as np\n",
    "import pandas as pd \n",
    "from bs4 import BeautifulSoup\n",
    "from selenium import webdriver\n",
    "\n",
    "from selenium.webdriver.chrome.options import Options\n",
    "import re"
   ]
  },
  {
   "cell_type": "markdown",
   "metadata": {},
   "source": [
    "We will collect to type of data: The real estate for sale and the real eastate for rent"
   ]
  },
  {
   "cell_type": "markdown",
   "metadata": {},
   "source": [
    "## Part 01: Collect real estate for sale data:"
   ]
  },
  {
   "cell_type": "markdown",
   "metadata": {},
   "source": [
    "### 1. Initials:"
   ]
  },
  {
   "cell_type": "markdown",
   "metadata": {},
   "source": [
    "Create an empty dataframe to store the data of the real estate. The dataframe will contain some features like: Address, Area, Price, Bedroom, Toilet, Floor, Furniture, Direction, Legal, Posting date, Expiry date, Ad type, Ad code"
   ]
  },
  {
   "cell_type": "code",
   "execution_count": 2,
   "metadata": {},
   "outputs": [
    {
     "name": "stdout",
     "output_type": "stream",
     "text": [
      "(0, 13)\n"
     ]
    }
   ],
   "source": [
    "fields = [ 'Address', 'Area', 'Price', 'Bedroom', 'Toilet', 'Floor', 'Furniture', 'Direction','Legal', 'Posting date', 'Expiry date', 'Ad type', 'Ad code']\n",
    "\n",
    "df = pd.DataFrame(columns = fields)"
   ]
  },
  {
   "cell_type": "markdown",
   "metadata": {},
   "source": [
    "### 2. Collect the links to each real estate page:"
   ]
  },
  {
   "cell_type": "markdown",
   "metadata": {},
   "source": [
    "The links are collected from multiple pages, with each page containing numerous links to apartments. These links have been stored in a file named \"real_estate_for_sale_links.txt\".     \n",
    "The link to the homepage and the file name are provided below:"
   ]
  },
  {
   "cell_type": "code",
   "execution_count": 3,
   "metadata": {},
   "outputs": [],
   "source": [
    "file_name = \"real_estate_for_sale_links.txt\"\n",
    "url = 'https://batdongsan.com.vn/nha-dat-ban-tp-hcm'"
   ]
  },
  {
   "cell_type": "markdown",
   "metadata": {},
   "source": [
    "We will move from the first page to the last page to collect the links, so the first thing should do is get the final page of the website."
   ]
  },
  {
   "cell_type": "code",
   "execution_count": 4,
   "metadata": {},
   "outputs": [
    {
     "ename": "NameError",
     "evalue": "name 'url' is not defined",
     "output_type": "error",
     "traceback": [
      "\u001b[1;31m---------------------------------------------------------------------------\u001b[0m",
      "\u001b[1;31mNameError\u001b[0m                                 Traceback (most recent call last)",
      "\u001b[1;32md:\\Nam_3\\HK1\\I2DS\\Final_Project\\I2DS_Final_Project\\Collecting_data.ipynb Cell 10\u001b[0m line \u001b[0;36m3\n\u001b[0;32m      <a href='vscode-notebook-cell:/d%3A/Nam_3/HK1/I2DS/Final_Project/I2DS_Final_Project/Collecting_data.ipynb#X12sZmlsZQ%3D%3D?line=0'>1</a>\u001b[0m Path \u001b[39m=\u001b[39m \u001b[39m'\u001b[39m\u001b[39mD:/chromedriver_win32/chromedriver.exe\u001b[39m\u001b[39m'\u001b[39m\n\u001b[0;32m      <a href='vscode-notebook-cell:/d%3A/Nam_3/HK1/I2DS/Final_Project/I2DS_Final_Project/Collecting_data.ipynb#X12sZmlsZQ%3D%3D?line=1'>2</a>\u001b[0m driver \u001b[39m=\u001b[39m webdriver\u001b[39m.\u001b[39mChrome()\n\u001b[1;32m----> <a href='vscode-notebook-cell:/d%3A/Nam_3/HK1/I2DS/Final_Project/I2DS_Final_Project/Collecting_data.ipynb#X12sZmlsZQ%3D%3D?line=2'>3</a>\u001b[0m driver\u001b[39m.\u001b[39mget(url)\n\u001b[0;32m      <a href='vscode-notebook-cell:/d%3A/Nam_3/HK1/I2DS/Final_Project/I2DS_Final_Project/Collecting_data.ipynb#X12sZmlsZQ%3D%3D?line=3'>4</a>\u001b[0m soup \u001b[39m=\u001b[39m BeautifulSoup(driver\u001b[39m.\u001b[39mpage_source, \u001b[39m'\u001b[39m\u001b[39mhtml.parser\u001b[39m\u001b[39m'\u001b[39m)\n\u001b[0;32m      <a href='vscode-notebook-cell:/d%3A/Nam_3/HK1/I2DS/Final_Project/I2DS_Final_Project/Collecting_data.ipynb#X12sZmlsZQ%3D%3D?line=4'>5</a>\u001b[0m unprocessed_num_page \u001b[39m=\u001b[39m soup\u001b[39m.\u001b[39mfind(class_ \u001b[39m=\u001b[39m \u001b[39m'\u001b[39m\u001b[39mre__pagination-group\u001b[39m\u001b[39m'\u001b[39m)\n",
      "\u001b[1;31mNameError\u001b[0m: name 'url' is not defined"
     ]
    }
   ],
   "source": [
    "driver = webdriver.Chrome()\n",
    "driver.get(url)\n",
    "soup = BeautifulSoup(driver.page_source, 'html.parser')\n",
    "\n",
    "unprocessed_num_page = soup.find(class_ = 're__pagination-group')\n",
    "driver.quit()"
   ]
  },
  {
   "cell_type": "markdown",
   "metadata": {},
   "source": [
    "Process the result to get the last page."
   ]
  },
  {
   "cell_type": "code",
   "execution_count": null,
   "metadata": {},
   "outputs": [],
   "source": [
    "\n",
    "regex = r'[^\\s]+'\n",
    "matchs = re.findall(regex, unprocessed_num_page.text)\n",
    "new_array = []\n",
    "for match in matchs:\n",
    "    new_array.append(int(match.replace('.', '')))\n",
    "\n",
    "total_page = max(new_array)"
   ]
  },
  {
   "cell_type": "markdown",
   "metadata": {},
   "source": [
    "Function to collect the links to each real estate:"
   ]
  },
  {
   "cell_type": "code",
   "execution_count": null,
   "metadata": {},
   "outputs": [],
   "source": [
    "def CollectRealEstateForSaleLink (url, page):\n",
    "    with open (file_name, 'w') as file:\n",
    "\n",
    "        for i in range(1, page + 1):\n",
    "            driver = webdriver.Chrome()\n",
    "            driver.get(url+'/p'+ str(i))\n",
    "            soup = BeautifulSoup(driver.page_source, 'html.parser')\n",
    "            apartment_list = soup.find_all(\"a\", class_= \"js__product-link-for-product-id\")\n",
    "\n",
    "            for apartment in apartment_list:\n",
    "                link = 'https://batdongsan.com.vn/'+ apartment['href']\n",
    "                file.write(link)\n",
    "                file.write('\\n')\n",
    "\n",
    "            driver.quit()"
   ]
  },
  {
   "cell_type": "code",
   "execution_count": null,
   "metadata": {},
   "outputs": [],
   "source": [
    "CollectRealEstateForSaleLink (url, total_page)"
   ]
  },
  {
   "cell_type": "markdown",
   "metadata": {},
   "source": [
    "Read the \"real_estate_for_sale_links.txt\" file and store all the links to a lists"
   ]
  },
  {
   "cell_type": "code",
   "execution_count": null,
   "metadata": {},
   "outputs": [],
   "source": [
    "urls = []\n",
    "with open(file_name, 'r') as file:\n",
    "    for line in file.readlines():\n",
    "            urls.append(line)"
   ]
  },
  {
   "cell_type": "markdown",
   "metadata": {},
   "source": [
    "### 3. Access to each link and colllect the data:"
   ]
  },
  {
   "cell_type": "markdown",
   "metadata": {},
   "source": [
    "- A dictionary to rename the features collected from the webiste:"
   ]
  },
  {
   "cell_type": "code",
   "execution_count": 4,
   "metadata": {},
   "outputs": [],
   "source": [
    "key_map = {\n",
    "    'Địa chỉ:' : 'Address',\n",
    "    'Diện tích': 'Area',\n",
    "    'Mức giá': 'Price',\n",
    "    'Hướng nhà': 'Direction',\n",
    "    'Số tầng': 'Floor',\n",
    "    'Số phòng ngủ': 'Bedroom',\n",
    "    'Số toilet': 'Toilet',\n",
    "    'Pháp lý': 'Legal',\n",
    "    'Nội thất': 'Furniture',\n",
    "    'Ngày đăng': 'Posting date',\n",
    "    'Ngày hết hạn': 'Expiry date',\n",
    "    'Loại tin': 'Ad type',\n",
    "    'Mã tin': 'Ad code'\n",
    "}"
   ]
  },
  {
   "cell_type": "markdown",
   "metadata": {},
   "source": [
    "- Function to extract the features from a link:"
   ]
  },
  {
   "cell_type": "code",
   "execution_count": 5,
   "metadata": {},
   "outputs": [],
   "source": [
    "def ExtractDataFromLink(url):\n",
    "    driver = webdriver.Chrome()\n",
    "    try:\n",
    "        driver.get(url)\n",
    "\n",
    "        soup = BeautifulSoup(driver.page_source, 'html.parser')\n",
    "\n",
    "        #Create a dicitonary to store the feature\n",
    "        features = {}\n",
    "\n",
    "        # real_estate_list = soup.find_all(\"a\", class_= \"js__product-link-for-product-id\")\n",
    "        # if real_estate_list:\n",
    "        #     for item in real_estate_list:\n",
    "        #         link = 'https://batdongsan.com.vn/'+ apartment['href']\n",
    "        #         features = ExtractDataFromLink(link)\n",
    "        # else:\n",
    "\n",
    "        # get the address\n",
    "        address = soup.find(class_ = \"re__pr-short-description js__pr-address\")\n",
    "\n",
    "        if address == None:\n",
    "            return features\n",
    "        else:\n",
    "            features['Address'] = address.text\n",
    "\n",
    "        # Get all the features\n",
    "        feature_items = soup.find_all('div', class_ = 're__pr-specs-content-item')\n",
    "        for item in feature_items:\n",
    "            title = item.find(class_ = 're__pr-specs-content-item-title').text.strip()\n",
    "            value = item.find(class_ = 're__pr-specs-content-item-value').text.strip()\n",
    "            features[title] = value\n",
    "\n",
    "        date_items = soup.find_all( 'div', class_ = \"re__pr-short-info-item js__pr-config-item\")\n",
    "        for item in date_items:\n",
    "            title = item.find('span', class_ = 'title').text.strip()\n",
    "            value = item.find('span',class_ = 'value').text.strip()\n",
    "            features[title] = value\n",
    "    \n",
    "        keys_to_change = list(features.keys())\n",
    "        for key in keys_to_change:\n",
    "            if key in key_map:\n",
    "                features[key_map[key]] = features[key]\n",
    "    finally:\n",
    "        driver.quit()\n",
    "\n",
    "    return features"
   ]
  },
  {
   "cell_type": "markdown",
   "metadata": {},
   "source": [
    "Iterate over the urls list and extract the data, which is stored in the previously defined DataFrame"
   ]
  },
  {
   "cell_type": "code",
   "execution_count": 15,
   "metadata": {},
   "outputs": [],
   "source": [
    "for url in urls[ 564 : 1000]:\n",
    "        features = ExtractDataFromLink(url)\n",
    "        if features:\n",
    "                new_row = pd.Series(features, index = fields)\n",
    "                new_row_df = pd.DataFrame([new_row])\n",
    "                df = pd.concat([df, new_row_df], ignore_index = True)\n",
    "                \n",
    "                new_row_df.to_csv('real_estate_for_sale.csv', mode='a', header=False, index=False, encoding='utf-8')\n",
    "        else:\n",
    "                print (\"hihi\")\n"
   ]
  },
  {
   "cell_type": "code",
   "execution_count": 5,
   "metadata": {},
   "outputs": [],
   "source": [
    "with open (file_name, 'a') as file:\n",
    "    for i in range(1301, 1400 + 1):\n",
    "        driver = webdriver.Chrome()\n",
    "        driver.get(url+'/p'+ str(i))\n",
    "        soup = BeautifulSoup(driver.page_source, 'html.parser')\n",
    "        apartment_list = soup.find_all(\"a\", class_= \"js__product-link-for-product-id\")\n",
    "\n",
    "        for apartment in apartment_list:\n",
    "            link = 'https://batdongsan.com.vn/'+ apartment['href']\n",
    "            file.write(link)\n",
    "            file.write('\\n')\n",
    "\n",
    "        driver.quit()"
   ]
  },
  {
   "cell_type": "markdown",
   "metadata": {},
   "source": [
    "### 4. Store the collected data to csv file:"
   ]
  },
  {
   "cell_type": "code",
   "execution_count": 21,
   "metadata": {},
   "outputs": [],
   "source": [
    "df.to_csv('real_estate_for_sale.csv', index = False)"
   ]
  },
  {
   "cell_type": "code",
   "execution_count": 10,
   "metadata": {},
   "outputs": [],
   "source": [
    "real_estate_df = pd.read_csv('real_estate_for_sale.csv')"
   ]
  },
  {
   "cell_type": "code",
   "execution_count": 12,
   "metadata": {},
   "outputs": [
    {
     "data": {
      "text/html": [
       "<div>\n",
       "<style scoped>\n",
       "    .dataframe tbody tr th:only-of-type {\n",
       "        vertical-align: middle;\n",
       "    }\n",
       "\n",
       "    .dataframe tbody tr th {\n",
       "        vertical-align: top;\n",
       "    }\n",
       "\n",
       "    .dataframe thead th {\n",
       "        text-align: right;\n",
       "    }\n",
       "</style>\n",
       "<table border=\"1\" class=\"dataframe\">\n",
       "  <thead>\n",
       "    <tr style=\"text-align: right;\">\n",
       "      <th></th>\n",
       "      <th>Address</th>\n",
       "      <th>Area</th>\n",
       "      <th>Price</th>\n",
       "      <th>Bedroom</th>\n",
       "      <th>Toilet</th>\n",
       "      <th>Floor</th>\n",
       "      <th>Furniture</th>\n",
       "      <th>Direction</th>\n",
       "      <th>Legal</th>\n",
       "      <th>Posting date</th>\n",
       "      <th>Expiry date</th>\n",
       "      <th>Ad type</th>\n",
       "      <th>Ad code</th>\n",
       "    </tr>\n",
       "  </thead>\n",
       "  <tbody>\n",
       "    <tr>\n",
       "      <th>0</th>\n",
       "      <td>Dự án Lumiere Riverside, Đường Xa Lộ Hà Nội, P...</td>\n",
       "      <td>77 m²</td>\n",
       "      <td>6,1 tỷ</td>\n",
       "      <td>2 phòng</td>\n",
       "      <td>2 phòng</td>\n",
       "      <td>NaN</td>\n",
       "      <td>NaN</td>\n",
       "      <td>NaN</td>\n",
       "      <td>NaN</td>\n",
       "      <td>27/11/2023</td>\n",
       "      <td>07/12/2023</td>\n",
       "      <td>Tin VIP Kim Cương</td>\n",
       "      <td>38645401</td>\n",
       "    </tr>\n",
       "    <tr>\n",
       "      <th>1</th>\n",
       "      <td>Dự án Lumiere Riverside, Đường Xa Lộ Hà Nội, P...</td>\n",
       "      <td>76 m²</td>\n",
       "      <td>6,2 tỷ</td>\n",
       "      <td>2 phòng</td>\n",
       "      <td>2 phòng</td>\n",
       "      <td>NaN</td>\n",
       "      <td>Đầy đủ</td>\n",
       "      <td>NaN</td>\n",
       "      <td>Hợp đồng mua bán</td>\n",
       "      <td>23/11/2023</td>\n",
       "      <td>30/11/2023</td>\n",
       "      <td>Tin thường</td>\n",
       "      <td>38393009</td>\n",
       "    </tr>\n",
       "    <tr>\n",
       "      <th>2</th>\n",
       "      <td>Dự án Lumiere Riverside, Đường Xa Lộ Hà Nội, P...</td>\n",
       "      <td>72 m²</td>\n",
       "      <td>Thỏa thuận</td>\n",
       "      <td>2 phòng</td>\n",
       "      <td>2 phòng</td>\n",
       "      <td>NaN</td>\n",
       "      <td>NaN</td>\n",
       "      <td>NaN</td>\n",
       "      <td>NaN</td>\n",
       "      <td>28/11/2023</td>\n",
       "      <td>05/12/2023</td>\n",
       "      <td>Tin VIP Kim Cương</td>\n",
       "      <td>38657478</td>\n",
       "    </tr>\n",
       "    <tr>\n",
       "      <th>3</th>\n",
       "      <td>Lumiere Riverside, 628, Đường Xa Lộ Hà Nội, Ph...</td>\n",
       "      <td>77,1 m²</td>\n",
       "      <td>6,6 tỷ</td>\n",
       "      <td>2 phòng</td>\n",
       "      <td>2 phòng</td>\n",
       "      <td>NaN</td>\n",
       "      <td>Cơ bản</td>\n",
       "      <td>NaN</td>\n",
       "      <td>Hợp đồng mua bán</td>\n",
       "      <td>29/11/2023</td>\n",
       "      <td>06/12/2023</td>\n",
       "      <td>Tin VIP Kim Cương</td>\n",
       "      <td>38403632</td>\n",
       "    </tr>\n",
       "    <tr>\n",
       "      <th>4</th>\n",
       "      <td>Dự án The Privia, Đường An Dương Vương, Phường...</td>\n",
       "      <td>67,74 m²</td>\n",
       "      <td>3,5 tỷ</td>\n",
       "      <td>2 phòng</td>\n",
       "      <td>2 phòng</td>\n",
       "      <td>NaN</td>\n",
       "      <td>Bàn giao cơ bản các thiết bị Châu Âu cao cấp, ...</td>\n",
       "      <td>NaN</td>\n",
       "      <td>HĐMB</td>\n",
       "      <td>29/11/2023</td>\n",
       "      <td>06/12/2023</td>\n",
       "      <td>Tin VIP Kim Cương</td>\n",
       "      <td>38654457</td>\n",
       "    </tr>\n",
       "    <tr>\n",
       "      <th>...</th>\n",
       "      <td>...</td>\n",
       "      <td>...</td>\n",
       "      <td>...</td>\n",
       "      <td>...</td>\n",
       "      <td>...</td>\n",
       "      <td>...</td>\n",
       "      <td>...</td>\n",
       "      <td>...</td>\n",
       "      <td>...</td>\n",
       "      <td>...</td>\n",
       "      <td>...</td>\n",
       "      <td>...</td>\n",
       "      <td>...</td>\n",
       "    </tr>\n",
       "    <tr>\n",
       "      <th>93</th>\n",
       "      <td>Đường Nhuận Đức, Xã Nhuận Đức, Củ Chi, Hồ Chí ...</td>\n",
       "      <td>4.250 m²</td>\n",
       "      <td>6,3 triệu/m²</td>\n",
       "      <td>NaN</td>\n",
       "      <td>NaN</td>\n",
       "      <td>NaN</td>\n",
       "      <td>NaN</td>\n",
       "      <td>NaN</td>\n",
       "      <td>Sổ hồng riêng</td>\n",
       "      <td>28/11/2023</td>\n",
       "      <td>13/12/2023</td>\n",
       "      <td>Tin VIP Vàng</td>\n",
       "      <td>38451882</td>\n",
       "    </tr>\n",
       "    <tr>\n",
       "      <th>94</th>\n",
       "      <td>Dự án Akari City Nam Long, Đường Võ Văn Kiệt, ...</td>\n",
       "      <td>60 m²</td>\n",
       "      <td>Thỏa thuận</td>\n",
       "      <td>2 phòng</td>\n",
       "      <td>1 phòng</td>\n",
       "      <td>NaN</td>\n",
       "      <td>Cơ bản</td>\n",
       "      <td>NaN</td>\n",
       "      <td>Sổ đỏ/ Sổ hồng</td>\n",
       "      <td>28/11/2023</td>\n",
       "      <td>05/12/2023</td>\n",
       "      <td>Tin VIP Vàng</td>\n",
       "      <td>38653484</td>\n",
       "    </tr>\n",
       "    <tr>\n",
       "      <th>95</th>\n",
       "      <td>Dự án HaDo Centrosa Garden, Đường 3/2, Phường ...</td>\n",
       "      <td>86 m²</td>\n",
       "      <td>6,6 tỷ</td>\n",
       "      <td>2 phòng</td>\n",
       "      <td>2 phòng</td>\n",
       "      <td>NaN</td>\n",
       "      <td>NaN</td>\n",
       "      <td>NaN</td>\n",
       "      <td>NaN</td>\n",
       "      <td>23/11/2023</td>\n",
       "      <td>08/12/2023</td>\n",
       "      <td>Tin VIP Vàng</td>\n",
       "      <td>35489279</td>\n",
       "    </tr>\n",
       "    <tr>\n",
       "      <th>96</th>\n",
       "      <td>Dự án KDC Phú Mỹ, Đường Hoàng Quốc Việt, Phườn...</td>\n",
       "      <td>126 m²</td>\n",
       "      <td>20,7 tỷ</td>\n",
       "      <td>4 phòng</td>\n",
       "      <td>5 phòng</td>\n",
       "      <td>3 tầng</td>\n",
       "      <td>NaN</td>\n",
       "      <td>NaN</td>\n",
       "      <td>Có sổ</td>\n",
       "      <td>28/11/2023</td>\n",
       "      <td>08/12/2023</td>\n",
       "      <td>Tin VIP Vàng</td>\n",
       "      <td>38526845</td>\n",
       "    </tr>\n",
       "    <tr>\n",
       "      <th>97</th>\n",
       "      <td>Dự án Celadon City, Đường N1, Phường Sơn Kỳ, T...</td>\n",
       "      <td>50 m²</td>\n",
       "      <td>1,7 tỷ</td>\n",
       "      <td>1 phòng</td>\n",
       "      <td>1 phòng</td>\n",
       "      <td>NaN</td>\n",
       "      <td>Đầy đủ</td>\n",
       "      <td>NaN</td>\n",
       "      <td>Hợp đồng mua bán</td>\n",
       "      <td>28/11/2023</td>\n",
       "      <td>05/12/2023</td>\n",
       "      <td>Tin VIP Vàng</td>\n",
       "      <td>38431885</td>\n",
       "    </tr>\n",
       "  </tbody>\n",
       "</table>\n",
       "<p>98 rows × 13 columns</p>\n",
       "</div>"
      ],
      "text/plain": [
       "                                              Address      Area         Price  \\\n",
       "0   Dự án Lumiere Riverside, Đường Xa Lộ Hà Nội, P...     77 m²        6,1 tỷ   \n",
       "1   Dự án Lumiere Riverside, Đường Xa Lộ Hà Nội, P...     76 m²        6,2 tỷ   \n",
       "2   Dự án Lumiere Riverside, Đường Xa Lộ Hà Nội, P...     72 m²    Thỏa thuận   \n",
       "3   Lumiere Riverside, 628, Đường Xa Lộ Hà Nội, Ph...   77,1 m²        6,6 tỷ   \n",
       "4   Dự án The Privia, Đường An Dương Vương, Phường...  67,74 m²        3,5 tỷ   \n",
       "..                                                ...       ...           ...   \n",
       "93  Đường Nhuận Đức, Xã Nhuận Đức, Củ Chi, Hồ Chí ...  4.250 m²  6,3 triệu/m²   \n",
       "94  Dự án Akari City Nam Long, Đường Võ Văn Kiệt, ...     60 m²    Thỏa thuận   \n",
       "95  Dự án HaDo Centrosa Garden, Đường 3/2, Phường ...     86 m²        6,6 tỷ   \n",
       "96  Dự án KDC Phú Mỹ, Đường Hoàng Quốc Việt, Phườn...    126 m²       20,7 tỷ   \n",
       "97  Dự án Celadon City, Đường N1, Phường Sơn Kỳ, T...     50 m²        1,7 tỷ   \n",
       "\n",
       "    Bedroom   Toilet   Floor  \\\n",
       "0   2 phòng  2 phòng     NaN   \n",
       "1   2 phòng  2 phòng     NaN   \n",
       "2   2 phòng  2 phòng     NaN   \n",
       "3   2 phòng  2 phòng     NaN   \n",
       "4   2 phòng  2 phòng     NaN   \n",
       "..      ...      ...     ...   \n",
       "93      NaN      NaN     NaN   \n",
       "94  2 phòng  1 phòng     NaN   \n",
       "95  2 phòng  2 phòng     NaN   \n",
       "96  4 phòng  5 phòng  3 tầng   \n",
       "97  1 phòng  1 phòng     NaN   \n",
       "\n",
       "                                            Furniture Direction  \\\n",
       "0                                                 NaN       NaN   \n",
       "1                                              Đầy đủ       NaN   \n",
       "2                                                 NaN       NaN   \n",
       "3                                              Cơ bản       NaN   \n",
       "4   Bàn giao cơ bản các thiết bị Châu Âu cao cấp, ...       NaN   \n",
       "..                                                ...       ...   \n",
       "93                                                NaN       NaN   \n",
       "94                                             Cơ bản       NaN   \n",
       "95                                                NaN       NaN   \n",
       "96                                                NaN       NaN   \n",
       "97                                             Đầy đủ       NaN   \n",
       "\n",
       "               Legal Posting date Expiry date            Ad type   Ad code  \n",
       "0                NaN   27/11/2023  07/12/2023  Tin VIP Kim Cương  38645401  \n",
       "1   Hợp đồng mua bán   23/11/2023  30/11/2023         Tin thường  38393009  \n",
       "2                NaN   28/11/2023  05/12/2023  Tin VIP Kim Cương  38657478  \n",
       "3   Hợp đồng mua bán   29/11/2023  06/12/2023  Tin VIP Kim Cương  38403632  \n",
       "4               HĐMB   29/11/2023  06/12/2023  Tin VIP Kim Cương  38654457  \n",
       "..               ...          ...         ...                ...       ...  \n",
       "93     Sổ hồng riêng   28/11/2023  13/12/2023      Tin VIP Vàng  38451882  \n",
       "94    Sổ đỏ/ Sổ hồng   28/11/2023  05/12/2023      Tin VIP Vàng  38653484  \n",
       "95               NaN   23/11/2023  08/12/2023      Tin VIP Vàng  35489279  \n",
       "96             Có sổ   28/11/2023  08/12/2023      Tin VIP Vàng  38526845  \n",
       "97  Hợp đồng mua bán   28/11/2023  05/12/2023      Tin VIP Vàng  38431885  \n",
       "\n",
       "[98 rows x 13 columns]"
      ]
     },
     "execution_count": 12,
     "metadata": {},
     "output_type": "execute_result"
    }
   ],
   "source": [
    "real_estate_df.shape()"
   ]
  },
  {
   "cell_type": "markdown",
   "metadata": {},
   "source": [
    "## Part 02: Collect real estate for rent data:\n"
   ]
  },
  {
   "cell_type": "markdown",
   "metadata": {},
   "source": [
    "# Finish collecting data"
   ]
  }
 ],
 "metadata": {
  "kernelspec": {
   "display_name": "Python 3",
   "language": "python",
   "name": "python3"
  },
  "language_info": {
   "codemirror_mode": {
    "name": "ipython",
    "version": 3
   },
   "file_extension": ".py",
   "mimetype": "text/x-python",
   "name": "python",
   "nbconvert_exporter": "python",
   "pygments_lexer": "ipython3",
   "version": "3.11.4"
  }
 },
 "nbformat": 4,
 "nbformat_minor": 2
}
